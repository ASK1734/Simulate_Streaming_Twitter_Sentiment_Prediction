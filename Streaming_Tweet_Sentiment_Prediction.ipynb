{
 "cells": [
  {
   "cell_type": "markdown",
   "metadata": {
    "application/vnd.databricks.v1+cell": {
     "cellMetadata": {},
     "inputWidgets": {},
     "nuid": "7a5c96ee-f273-4575-a975-4f7a168d3da5",
     "showTitle": false,
     "title": ""
    }
   },
   "source": [
    "## Step 1: write a streaming application\n",
    "\n",
    "- load the saved data transformation Pipeline as `fitted_target_pipeline`\n",
    "- load the saved Pipeline Model as `pipelineModel`\n",
    "\n",
    "as part of the streaming processing:\n",
    "- load streaming data from directory `file:/databricks/driver/tmp/`\n",
    "- use the `fitted_target_pipeline` to transform the streaming dataframe to the correct format for prediction.\n",
    "- use the `pipelineModel` to transform the streaming dataframe.\n",
    "- drop the unwanted intermediarely columns in the output, keeping only `text`, `time`, and `prediction`\n",
    "- output to a `memory` sink (`scored_tweets`) using the append mode.\n",
    "- trigger output in `2 seconds` intervals."
   ]
  },
  {
   "cell_type": "code",
   "execution_count": 0,
   "metadata": {
    "application/vnd.databricks.v1+cell": {
     "cellMetadata": {
      "byteLimit": 2048000,
      "rowLimit": 10000
     },
     "inputWidgets": {},
     "nuid": "8786f5ea-f737-489d-8836-f0ef5b632912",
     "showTitle": false,
     "title": ""
    }
   },
   "outputs": [
    {
     "output_type": "stream",
     "name": "stdout",
     "output_type": "stream",
     "text": [
      "review1.txt    review172.txt  review245.txt  review318.txt  review391.txt\r\nreview10.txt   review173.txt  review246.txt  review319.txt  review392.txt\r\nreview100.txt  review174.txt  review247.txt  review32.txt   review393.txt\r\nreview101.txt  review175.txt  review248.txt  review320.txt  review394.txt\r\nreview102.txt  review176.txt  review249.txt  review321.txt  review395.txt\r\nreview103.txt  review177.txt  review25.txt   review322.txt  review396.txt\r\nreview104.txt  review178.txt  review250.txt  review323.txt  review397.txt\r\nreview105.txt  review179.txt  review251.txt  review324.txt  review398.txt\r\nreview106.txt  review18.txt   review252.txt  review325.txt  review399.txt\r\nreview107.txt  review180.txt  review253.txt  review326.txt  review4.txt\r\nreview108.txt  review181.txt  review254.txt  review327.txt  review40.txt\r\nreview109.txt  review182.txt  review255.txt  review328.txt  review400.txt\r\nreview11.txt   review183.txt  review256.txt  review329.txt  review401.txt\r\nreview110.txt  review184.txt  review257.txt  review33.txt   review402.txt\r\nreview111.txt  review185.txt  review258.txt  review330.txt  review403.txt\r\nreview112.txt  review186.txt  review259.txt  review331.txt  review404.txt\r\nreview113.txt  review187.txt  review26.txt   review332.txt  review405.txt\r\nreview114.txt  review188.txt  review260.txt  review333.txt  review41.txt\r\nreview115.txt  review189.txt  review261.txt  review334.txt  review42.txt\r\nreview116.txt  review19.txt   review262.txt  review335.txt  review43.txt\r\nreview117.txt  review190.txt  review263.txt  review336.txt  review44.txt\r\nreview118.txt  review191.txt  review264.txt  review337.txt  review45.txt\r\nreview119.txt  review192.txt  review265.txt  review338.txt  review46.txt\r\nreview12.txt   review193.txt  review266.txt  review339.txt  review47.txt\r\nreview120.txt  review194.txt  review267.txt  review34.txt   review48.txt\r\nreview121.txt  review195.txt  review268.txt  review340.txt  review49.txt\r\nreview122.txt  review196.txt  review269.txt  review341.txt  review5.txt\r\nreview123.txt  review197.txt  review27.txt   review342.txt  review50.txt\r\nreview124.txt  review198.txt  review270.txt  review343.txt  review51.txt\r\nreview125.txt  review199.txt  review271.txt  review344.txt  review52.txt\r\nreview126.txt  review2.txt    review272.txt  review345.txt  review53.txt\r\nreview127.txt  review20.txt   review273.txt  review346.txt  review54.txt\r\nreview128.txt  review200.txt  review274.txt  review347.txt  review55.txt\r\nreview129.txt  review201.txt  review275.txt  review348.txt  review56.txt\r\nreview13.txt   review202.txt  review276.txt  review349.txt  review57.txt\r\nreview130.txt  review203.txt  review277.txt  review35.txt   review58.txt\r\nreview131.txt  review204.txt  review278.txt  review350.txt  review59.txt\r\nreview132.txt  review205.txt  review279.txt  review351.txt  review6.txt\r\nreview133.txt  review206.txt  review28.txt   review352.txt  review60.txt\r\nreview134.txt  review207.txt  review280.txt  review353.txt  review61.txt\r\nreview135.txt  review208.txt  review281.txt  review354.txt  review62.txt\r\nreview136.txt  review209.txt  review282.txt  review355.txt  review63.txt\r\nreview137.txt  review21.txt   review283.txt  review356.txt  review64.txt\r\nreview138.txt  review210.txt  review284.txt  review357.txt  review65.txt\r\nreview139.txt  review211.txt  review285.txt  review358.txt  review66.txt\r\nreview14.txt   review212.txt  review286.txt  review359.txt  review67.txt\r\nreview140.txt  review213.txt  review287.txt  review36.txt   review68.txt\r\nreview141.txt  review214.txt  review288.txt  review360.txt  review69.txt\r\nreview142.txt  review215.txt  review289.txt  review361.txt  review7.txt\r\nreview143.txt  review216.txt  review29.txt   review362.txt  review70.txt\r\nreview144.txt  review217.txt  review290.txt  review363.txt  review71.txt\r\nreview145.txt  review218.txt  review291.txt  review364.txt  review72.txt\r\nreview146.txt  review219.txt  review292.txt  review365.txt  review73.txt\r\nreview147.txt  review22.txt   review293.txt  review366.txt  review74.txt\r\nreview148.txt  review220.txt  review294.txt  review367.txt  review75.txt\r\nreview149.txt  review221.txt  review295.txt  review368.txt  review76.txt\r\nreview15.txt   review222.txt  review296.txt  review369.txt  review77.txt\r\nreview150.txt  review223.txt  review297.txt  review37.txt   review78.txt\r\nreview151.txt  review224.txt  review298.txt  review370.txt  review79.txt\r\nreview152.txt  review225.txt  review299.txt  review371.txt  review8.txt\r\nreview153.txt  review226.txt  review3.txt    review372.txt  review80.txt\r\nreview154.txt  review227.txt  review30.txt   review373.txt  review81.txt\r\nreview155.txt  review228.txt  review300.txt  review374.txt  review82.txt\r\nreview156.txt  review229.txt  review301.txt  review375.txt  review83.txt\r\nreview157.txt  review23.txt   review302.txt  review376.txt  review84.txt\r\nreview158.txt  review230.txt  review303.txt  review377.txt  review85.txt\r\nreview159.txt  review231.txt  review304.txt  review378.txt  review86.txt\r\nreview16.txt   review232.txt  review305.txt  review379.txt  review87.txt\r\nreview160.txt  review233.txt  review306.txt  review38.txt   review88.txt\r\nreview161.txt  review234.txt  review307.txt  review380.txt  review89.txt\r\nreview162.txt  review235.txt  review308.txt  review381.txt  review9.txt\r\nreview163.txt  review236.txt  review309.txt  review382.txt  review90.txt\r\nreview164.txt  review237.txt  review31.txt   review383.txt  review91.txt\r\nreview165.txt  review238.txt  review310.txt  review384.txt  review92.txt\r\nreview166.txt  review239.txt  review311.txt  review385.txt  review93.txt\r\nreview167.txt  review24.txt   review312.txt  review386.txt  review94.txt\r\nreview168.txt  review240.txt  review313.txt  review387.txt  review95.txt\r\nreview169.txt  review241.txt  review314.txt  review388.txt  review96.txt\r\nreview17.txt   review242.txt  review315.txt  review389.txt  review97.txt\r\nreview170.txt  review243.txt  review316.txt  review39.txt   review98.txt\r\nreview171.txt  review244.txt  review317.txt  review390.txt  review99.txt\r\n"
     ]
    }
   ],
   "source": [
    "!ls /databricks/driver/tmp/"
   ]
  },
  {
   "cell_type": "code",
   "execution_count": 0,
   "metadata": {
    "application/vnd.databricks.v1+cell": {
     "cellMetadata": {
      "byteLimit": 2048000,
      "rowLimit": 10000
     },
     "inputWidgets": {},
     "nuid": "4cb1e981-be59-413d-ab07-f75955ef9496",
     "showTitle": false,
     "title": ""
    }
   },
   "outputs": [],
   "source": [
    "from pyspark.sql.functions import to_timestamp, substring, col\n",
    "from pyspark.ml import PipelineModel"
   ]
  },
  {
   "cell_type": "code",
   "execution_count": 0,
   "metadata": {
    "application/vnd.databricks.v1+cell": {
     "cellMetadata": {
      "byteLimit": 2048000,
      "rowLimit": 10000
     },
     "inputWidgets": {},
     "nuid": "1f88ee57-bc15-474d-824b-0ae936754999",
     "showTitle": false,
     "title": ""
    }
   },
   "outputs": [
    {
     "output_type": "display_data",
     "data": {
      "text/html": [
       "<style scoped>\n",
       "  .table-result-container {\n",
       "    max-height: 300px;\n",
       "    overflow: auto;\n",
       "  }\n",
       "  table, th, td {\n",
       "    border: 1px solid black;\n",
       "    border-collapse: collapse;\n",
       "  }\n",
       "  th, td {\n",
       "    padding: 5px;\n",
       "  }\n",
       "  th {\n",
       "    text-align: left;\n",
       "  }\n",
       "</style><div class='table-result-container'><table class='table-result'><thead style='background-color: white'><tr><th>text</th><th>time</th><th>label</th></tr></thead><tbody><tr><td>@switchfoot http://twitpic.com/2y1zl - Awww, that's a bummer.  You shoulda got David Carr of Third Day to do it. ;D</td><td>2009-04-07T05:19:45.000+0000</td><td>0.0</td></tr><tr><td>is upset that he can't update his Facebook by texting it... and might cry as a result  School today also. Blah!</td><td>2009-04-07T05:19:49.000+0000</td><td>0.0</td></tr><tr><td>@Kenichan I dived many times for the ball. Managed to save 50%  The rest go out of bounds</td><td>2009-04-07T05:19:53.000+0000</td><td>0.0</td></tr><tr><td>my whole body feels itchy and like its on fire </td><td>2009-04-07T05:19:57.000+0000</td><td>0.0</td></tr><tr><td>@nationwideclass no, it's not behaving at all. i'm mad. why am i here? because I can't see you all over there. </td><td>2009-04-07T05:19:57.000+0000</td><td>0.0</td></tr><tr><td>@Kwesidei not the whole crew </td><td>2009-04-07T05:20:00.000+0000</td><td>0.0</td></tr><tr><td>Need a hug </td><td>2009-04-07T05:20:03.000+0000</td><td>0.0</td></tr><tr><td>@LOLTrish hey  long time no see! Yes.. Rains a bit ,only a bit  LOL , I'm fine thanks , how's you ?</td><td>2009-04-07T05:20:03.000+0000</td><td>0.0</td></tr><tr><td>@Tatiana_K nope they didn't have it </td><td>2009-04-07T05:20:05.000+0000</td><td>0.0</td></tr><tr><td>@twittera que me muera ? </td><td>2009-04-07T05:20:09.000+0000</td><td>0.0</td></tr><tr><td>spring break in plain city... it's snowing </td><td>2009-04-07T05:20:16.000+0000</td><td>0.0</td></tr><tr><td>I just re-pierced my ears </td><td>2009-04-07T05:20:17.000+0000</td><td>0.0</td></tr><tr><td>@caregiving I couldn't bear to watch it.  And I thought the UA loss was embarrassing . . . . .</td><td>2009-04-07T05:20:19.000+0000</td><td>0.0</td></tr><tr><td>@octolinz16 It it counts, idk why I did either. you never talk to me anymore </td><td>2009-04-07T05:20:19.000+0000</td><td>0.0</td></tr><tr><td>@smarrison i would've been the first, but i didn't have a gun.    not really though, zac snyder's just a doucheclown.</td><td>2009-04-07T05:20:20.000+0000</td><td>0.0</td></tr><tr><td>@iamjazzyfizzle I wish I got to watch it with you!! I miss you and @iamlilnicki  how was the premiere?!</td><td>2009-04-07T05:20:20.000+0000</td><td>0.0</td></tr><tr><td>Hollis' death scene will hurt me severely to watch on film  wry is directors cut not out now?</td><td>2009-04-07T05:20:22.000+0000</td><td>0.0</td></tr><tr><td>about to file taxes </td><td>2009-04-07T05:20:25.000+0000</td><td>0.0</td></tr><tr><td>@LettyA ahh ive always wanted to see rent  love the soundtrack!!</td><td>2009-04-07T05:20:31.000+0000</td><td>0.0</td></tr><tr><td>@FakerPattyPattz Oh dear. Were you drinking out of the forgotten table drinks? </td><td>2009-04-07T05:20:34.000+0000</td><td>0.0</td></tr><tr><td>@alydesigns i was out most of the day so didn't get much done </td><td>2009-04-07T05:20:37.000+0000</td><td>0.0</td></tr><tr><td>one of my friend called me, and asked to meet with her at Mid Valley today...but i've no time *sigh* </td><td>2009-04-07T05:20:38.000+0000</td><td>0.0</td></tr><tr><td>@angry_barista I baked you a cake but I ated it </td><td>2009-04-07T05:20:40.000+0000</td><td>0.0</td></tr><tr><td>this week is not going as i had hoped </td><td>2009-04-07T05:20:40.000+0000</td><td>0.0</td></tr><tr><td>blagh class at 8 tomorrow </td><td>2009-04-07T05:20:41.000+0000</td><td>0.0</td></tr><tr><td>I hate when I have to call and wake people up </td><td>2009-04-07T05:20:44.000+0000</td><td>0.0</td></tr><tr><td>Just going to cry myself to sleep after watching Marley and Me.  </td><td>2009-04-07T05:20:50.000+0000</td><td>0.0</td></tr><tr><td>im sad now  Miss.Lilly</td><td>2009-04-07T05:20:52.000+0000</td><td>0.0</td></tr><tr><td>ooooh.... LOL  that leslie.... and ok I won't do it again so leslie won't  get mad again </td><td>2009-04-07T05:20:56.000+0000</td><td>0.0</td></tr><tr><td>Meh... Almost Lover is the exception... this track gets me depressed every time. </td><td>2009-04-07T05:21:04.000+0000</td><td>0.0</td></tr><tr><td>some1 hacked my account on aim  now i have to make a new one</td><td>2009-04-07T05:21:07.000+0000</td><td>0.0</td></tr><tr><td>@alielayus I want to go to promote GEAR AND GROOVE but unfornately no ride there  I may b going to the one in Anaheim in May though</td><td>2009-04-07T05:21:07.000+0000</td><td>0.0</td></tr><tr><td>thought sleeping in was an option tomorrow but realizing that it now is not. evaluations in the morning and work in the afternoon! </td><td>2009-04-07T05:21:09.000+0000</td><td>0.0</td></tr><tr><td>@julieebaby awe i love you too!!!! 1 am here  i miss you</td><td>2009-04-07T05:21:11.000+0000</td><td>0.0</td></tr><tr><td>@HumpNinja I cry my asian eyes to sleep at night </td><td>2009-04-07T05:21:21.000+0000</td><td>0.0</td></tr><tr><td>ok I'm sick and spent an hour sitting in the shower cause I was too sick to stand and held back the puke like a champ. BED now </td><td>2009-04-07T05:21:20.000+0000</td><td>0.0</td></tr><tr><td>@cocomix04 ill tell ya the story later  not a good day and ill be workin for like three more hours...</td><td>2009-04-07T05:21:27.000+0000</td><td>0.0</td></tr><tr><td>@MissXu sorry! bed time came here (GMT+1)   http://is.gd/fNge</td><td>2009-04-07T05:21:30.000+0000</td><td>0.0</td></tr><tr><td>@fleurylis I don't either. Its depressing. I don't think I even want to know about the kids in suitcases. </td><td>2009-04-07T05:21:32.000+0000</td><td>0.0</td></tr><tr><td>Bed. Class 8-12. Work 12-3. Gym 3-5 or 6. Then class 6-10. Another day that's gonna fly by. I miss my girlfriend </td><td>2009-04-07T05:21:39.000+0000</td><td>0.0</td></tr><tr><td>really don't feel like getting up today... but got to study to for tomorrows practical exam... </td><td>2009-04-07T05:21:39.000+0000</td><td>0.0</td></tr><tr><td>He's the reason for the teardrops on my guitar the only one who has enough of me to break my heart </td><td>2009-04-07T05:21:46.000+0000</td><td>0.0</td></tr><tr><td>Sad, sad, sad. I don't know why but I hate this feeling  I wanna sleep and I still can't!</td><td>2009-04-07T05:21:49.000+0000</td><td>0.0</td></tr><tr><td>@JonathanRKnight Awww I soo wish I was there to see you finally comfortable! Im sad that I missed it </td><td>2009-04-07T05:21:53.000+0000</td><td>0.0</td></tr><tr><td>Falling asleep. Just heard about that Tracy girl's body being found. How sad  My heart breaks for that family.</td><td>2009-04-07T05:21:56.000+0000</td><td>0.0</td></tr><tr><td>@Viennah Yay! I'm happy for you with your job! But that also means less time for me and you... </td><td>2009-04-07T05:22:05.000+0000</td><td>0.0</td></tr><tr><td>Just checked my user timeline on my blackberry, it looks like the twanking is still happening  Are ppl still having probs w/ BGs and UIDs?</td><td>2009-04-07T05:22:06.000+0000</td><td>0.0</td></tr><tr><td>Oh man...was ironing @jeancjumbe's fave top to wear to a meeting. Burnt it </td><td>2009-04-07T05:22:07.000+0000</td><td>0.0</td></tr><tr><td>is strangely sad about LiLo and SamRo breaking up. </td><td>2009-04-07T05:22:13.000+0000</td><td>0.0</td></tr><tr><td>@tea oh! i'm so sorry  i didn't think about that before retweeting.</td><td>2009-04-07T05:22:25.000+0000</td><td>0.0</td></tr><tr><td>Broadband plan 'a massive broken promise' http://tinyurl.com/dcuc33 via www.diigo.com/~tautao Still waiting for broadband we are </td><td>2009-04-07T05:22:23.000+0000</td><td>0.0</td></tr><tr><td>@localtweeps Wow, tons of replies from you, may have to unfollow so I can see my friends' tweets, you're scrolling the feed a lot. </td><td>2009-04-07T05:22:24.000+0000</td><td>0.0</td></tr><tr><td>our duck and chicken are taking wayyy too long to hatch </td><td>2009-04-07T05:22:26.000+0000</td><td>0.0</td></tr><tr><td>Put vacation photos online a few yrs ago. PC crashed, and now I forget the name of the site. </td><td>2009-04-07T05:22:30.000+0000</td><td>0.0</td></tr><tr><td>I need a hug </td><td>2009-04-07T05:22:32.000+0000</td><td>0.0</td></tr><tr><td>@andywana Not sure what they are, only that they are PoS! As much as I want to, I dont think can trade away company assets sorry andy! </td><td>2009-04-07T05:22:37.000+0000</td><td>0.0</td></tr><tr><td>@oanhLove I hate when that happens... </td><td>2009-04-07T05:22:47.000+0000</td><td>0.0</td></tr><tr><td>I have a sad feeling that Dallas is not going to show up  I gotta say though, you'd think more shows would use music from the game. mmm</td><td>2009-04-07T05:22:47.000+0000</td><td>0.0</td></tr><tr><td>Ugh....92 degrees tomorrow </td><td>2009-04-07T05:22:49.000+0000</td><td>0.0</td></tr><tr><td>Where did u move to?  I thought u were already in sd. ?? Hmmm. Random u found me. Glad to hear yer doing well.</td><td>2009-04-07T05:22:49.000+0000</td><td>0.0</td></tr><tr><td>@BatManYNG I miss my ps3, it's out of commission  Wutcha playing? Have you copped 'Blood On The Sand'?</td><td>2009-04-07T05:22:52.000+0000</td><td>0.0</td></tr><tr><td>just leaving the parking lot of work! </td><td>2009-04-07T05:22:55.000+0000</td><td>0.0</td></tr><tr><td>The Life is cool. But not for Me. </td><td>2009-04-07T05:23:03.000+0000</td><td>0.0</td></tr><tr><td>Sadly though, I've never gotten to experience the post coitus cigarette before, and now I never will. </td><td>2009-04-07T05:23:08.000+0000</td><td>0.0</td></tr><tr><td>I had such a nice day. Too bad the rain comes in tomorrow at 5am </td><td>2009-04-07T05:23:09.000+0000</td><td>0.0</td></tr><tr><td>@Starrbby too bad I won't be around I lost my job and can't even pay my phone bill lmao aw shucks </td><td>2009-04-07T05:23:15.000+0000</td><td>0.0</td></tr><tr><td>Damm back to school tomorrow </td><td>2009-04-07T05:23:23.000+0000</td><td>0.0</td></tr><tr><td>Mo jobs, no money.  how in the hell is min wage here 4 f'n clams an hour?</td><td>2009-04-07T05:23:28.000+0000</td><td>0.0</td></tr><tr><td>@katortiz  Not forever... See you soon!</td><td>2009-04-07T05:23:28.000+0000</td><td>0.0</td></tr><tr><td>@Lt_Algonquin agreed, I saw the failwhale allllll day today. </td><td>2009-04-07T05:23:30.000+0000</td><td>0.0</td></tr><tr><td>@jdarter Oh! Haha... dude I dont really look at em unless someone says HEY I ADDED YOU. Sorry  I'm so terrible at that. I need a pop up!</td><td>2009-04-07T05:23:35.000+0000</td><td>0.0</td></tr><tr><td>@ninjen I'm sure you're right...    I need to start working out with you and the Nikster... Or Jared at least!</td><td>2009-04-07T05:23:39.000+0000</td><td>0.0</td></tr><tr><td>i really hate how people diss my bands!  Trace is clearly NOT ugly!</td><td>2009-04-07T05:23:43.000+0000</td><td>0.0</td></tr><tr><td>Gym attire today was: Puma singlet, Adidas shorts.......and black business socks and leather shoes  Lucky did not run into any cute girls.</td><td>2009-04-07T05:23:43.000+0000</td><td>0.0</td></tr><tr><td>Why won't you show my location?!   http://twitpic.com/2y2es</td><td>2009-04-07T05:23:45.000+0000</td><td>0.0</td></tr><tr><td>No picnic  my phone smells like citrus.</td><td>2009-04-07T05:25:44.000+0000</td><td>0.0</td></tr><tr><td>@ashleyac My donkey is sensitive about such comments. Nevertheless, he'd (and me'd) be glad to see your mug asap. Charger is still awol. </td><td>2009-04-07T05:25:44.000+0000</td><td>0.0</td></tr><tr><td>No new csi tonight.  FML</td><td>2009-04-07T05:25:45.000+0000</td><td>0.0</td></tr><tr><td>i think my arms are sore from tennis </td><td>2009-04-07T05:25:46.000+0000</td><td>0.0</td></tr><tr><td>wonders why someone that u like so much can make you so unhappy in a split seccond . depressed . </td><td>2009-04-07T05:25:49.000+0000</td><td>0.0</td></tr><tr><td>sleep soon... i just hate saying bye and see you tomorrow for the night. </td><td>2009-04-07T05:25:52.000+0000</td><td>0.0</td></tr><tr><td>@statravelAU just got ur newsletter, those fares really are unbelievable, shame I already booked and paid for mine </td><td>2009-04-07T05:25:53.000+0000</td><td>0.0</td></tr><tr><td>missin' the boo </td><td>2009-04-07T05:25:53.000+0000</td><td>0.0</td></tr><tr><td>@markhardy1974 Me too  #itm</td><td>2009-04-07T05:25:54.000+0000</td><td>0.0</td></tr><tr><td>Damn... I don't have any chalk! MY CHALKBOARD IS USELESS </td><td>2009-04-07T05:25:54.000+0000</td><td>0.0</td></tr><tr><td>had a blast at the Getty Villa, but hates that she's had a sore throat all day. It's just getting worse too </td><td>2009-04-07T05:25:56.000+0000</td><td>0.0</td></tr><tr><td>@msdrama hey missed ya at the meeting  sup mama</td><td>2009-04-07T05:26:02.000+0000</td><td>0.0</td></tr><tr><td>My tummy hurts.  I wonder if the hypnosis has anything to do with it? If so, it's working, I get it, STOP SMOKING!!!</td><td>2009-04-07T05:26:06.000+0000</td><td>0.0</td></tr><tr><td>why is it always the fat ones?! </td><td>2009-04-07T05:26:08.000+0000</td><td>0.0</td></tr><tr><td>@januarycrimson Sorry, babe!!  My fam annoys me too. Thankfully, they're asleep right now. Muahaha. *evil laugh*</td><td>2009-04-07T05:26:10.000+0000</td><td>0.0</td></tr><tr><td>@Hollywoodheat I should have paid more attention when we covered photoshop in my webpage design class in undergrad </td><td>2009-04-07T05:26:10.000+0000</td><td>0.0</td></tr><tr><td>wednesday my b-day! don't know what 2 do!! </td><td>2009-04-07T05:26:14.000+0000</td><td>0.0</td></tr><tr><td>Poor cameron (the hills) </td><td>2009-04-07T05:26:18.000+0000</td><td>0.0</td></tr><tr><td>pray for me please, the ex is threatening to start sh** at my/our babies 1st Birthday party. what a jerk. and I still have a headache </td><td>2009-04-07T05:26:21.000+0000</td><td>0.0</td></tr><tr><td>@makeherfamous hmm  , do u really enjoy being with him ? if the problems are too constants u should think things more , find someone ulike</td><td>2009-04-07T05:26:22.000+0000</td><td>0.0</td></tr><tr><td>Strider is a sick little puppy  http://apps.facebook.com/dogbook/profile/view/5248435</td><td>2009-04-07T05:26:27.000+0000</td><td>0.0</td></tr><tr><td>so rylee,grace...wana go steve's party or not?? SADLY SINCE ITS EASTER I WNT B ABLE 2 DO MUCH  BUT OHH WELL.....</td><td>2009-04-07T05:26:28.000+0000</td><td>0.0</td></tr><tr><td>hey, I actually won one of my bracket pools! Too bad it wasn't the one for money </td><td>2009-04-07T05:26:29.000+0000</td><td>0.0</td></tr><tr><td>@stark YOU don't follow me, either  and i work for you!</td><td>2009-04-07T05:26:29.000+0000</td><td>0.0</td></tr><tr><td>A bad nite for the favorite teams: Astros and Spartans lose.  The nite out with T.W. was good.</td><td>2009-04-07T05:26:33.000+0000</td><td>0.0</td></tr><tr><td> Body Of Missing Northern Calif. Girl Found: Police have found the remains of a missing Northern California girl .. http://tr.im/imji</td><td>2009-04-07T05:26:33.000+0000</td><td>0.0</td></tr><tr><td>@mangaaa I hope they will increase the capacity fast, yesterday was such a pain. Got the fail whale +15 times in 2 hours.... </td><td>2009-04-07T05:26:38.000+0000</td><td>0.0</td></tr><tr><td>Behind on my classes for work </td><td>2009-04-07T05:26:42.000+0000</td><td>0.0</td></tr><tr><td>watching &quot;House&quot; </td><td>2009-04-07T05:26:43.000+0000</td><td>0.0</td></tr><tr><td>@kpreyes Remember my bum leg? Strikes back this time its serious </td><td>2009-04-07T05:26:45.000+0000</td><td>0.0</td></tr><tr><td>@paradisej cool, i will. their are all kinds of complaints about this laptop online about overheating, but no recalls </td><td>2009-04-07T05:26:45.000+0000</td><td>0.0</td></tr><tr><td>Emily will be glad when Mommy is done training at her new job. She misses her.  http://apps.facebook.com/dogbook/profile/view/6176014</td><td>2009-04-07T05:26:48.000+0000</td><td>0.0</td></tr><tr><td>would rather the first party send bad messages than the 3rd party send mixed ones  Sophmore year all over again?</td><td>2009-04-07T05:26:49.000+0000</td><td>0.0</td></tr><tr><td>@Henkuyinepu it's overrated </td><td>2009-04-07T05:26:52.000+0000</td><td>0.0</td></tr><tr><td>@marykatherine_q i know! I heard it this afternoon and wondered the same thing. Moscow is so behind the times </td><td>2009-04-07T05:26:54.000+0000</td><td>0.0</td></tr><tr><td>laying in bed with no voice.. </td><td>2009-04-07T05:26:54.000+0000</td><td>0.0</td></tr><tr><td>I'm sooo sad!!! they killed off Kutner on House  whyyyyyyyy</td><td>2009-04-07T05:26:57.000+0000</td><td>0.0</td></tr><tr><td>@jacobsummers Sorry  tell them mea culpa from me and that I really am sorry.</td><td>2009-04-07T05:27:00.000+0000</td><td>0.0</td></tr><tr><td>@Alliana07 it didn't make any sense to me, the suicide thing. I refuse to believe that that is actually what happened. </td><td>2009-04-07T05:26:58.000+0000</td><td>0.0</td></tr><tr><td>@salancaster  hope your ok.</td><td>2009-04-07T05:27:02.000+0000</td><td>0.0</td></tr><tr><td>@mercedesashley Damn! The grind is inspirational and saddening at the same time.  Don't want you to stop cuz I like what u do! Much love</td><td>2009-04-07T05:27:08.000+0000</td><td>0.0</td></tr><tr><td>@HibaNick yeah aw but i know i wudnt stand a chance </td><td>2009-04-07T05:27:15.000+0000</td><td>0.0</td></tr><tr><td>ugh. cant sleep. its 1:30am. </td><td>2009-04-07T05:27:16.000+0000</td><td>0.0</td></tr><tr><td>Hanging in Crooners. Wanna sing. Can't. Sucks. </td><td>2009-04-07T05:27:16.000+0000</td><td>0.0</td></tr><tr><td>@eRRe_sC aaw i miss ya all too.. im leaving to BH tomorrow &quot;morning&quot; i think.. aww i wanna go to the beach w u girls!! </td><td>2009-04-07T05:27:18.000+0000</td><td>0.0</td></tr><tr><td>Is pissed off that there's no ASBA's for a radio station. </td><td>2009-04-07T05:27:21.000+0000</td><td>0.0</td></tr><tr><td>wednesday my b-day n don't know what 2 do!  </td><td>2009-04-07T05:27:22.000+0000</td><td>0.0</td></tr><tr><td>I know my life has been flipped upside down when I just thought in my head that some Ramen sounds good. </td><td>2009-04-07T05:27:25.000+0000</td><td>0.0</td></tr><tr><td>I am in pain. My back and sides hurt. Not to mention crying is made of fail. </td><td>2009-04-07T05:27:31.000+0000</td><td>0.0</td></tr><tr><td>Late night snack, glass of OJ b/c I'm &quot;down with the sickness&quot;, then back to sleep...ugh I hate getting sick... </td><td>2009-04-07T05:27:34.000+0000</td><td>0.0</td></tr><tr><td>@allyheman but.. but.. but.. I'm not a big fan on camilla belle </td><td>2009-04-07T05:27:35.000+0000</td><td>0.0</td></tr><tr><td>@grum WAH I can't see clip, must be el-stupido work filters. Can't wait 'till I get a 'puter. Something else 2 blame ex 4. He broke mine </td><td>2009-04-07T05:27:45.000+0000</td><td>0.0</td></tr><tr><td>This week just seems to get longer and longer in terms of how much I need to do.. and how much I'm actually going to get done </td><td>2009-04-07T05:27:45.000+0000</td><td>0.0</td></tr><tr><td>I'm so cold </td><td>2009-04-07T05:27:55.000+0000</td><td>0.0</td></tr><tr><td>@thecoolestout Ehhh don't. Weather's gonna take a turn for the ugly tomorrow </td><td>2009-04-07T05:27:56.000+0000</td><td>0.0</td></tr><tr><td>@chelserlynn haha its so cooooold in the d! and no  but you should still go to the show. they do some incredible stuff</td><td>2009-04-07T05:27:56.000+0000</td><td>0.0</td></tr><tr><td>Hoping the tummy rumbles go away soon </td><td>2009-04-07T05:27:57.000+0000</td><td>0.0</td></tr><tr><td>@Knights_ No, no notice. They told me I'd be working tomorrow, and then I called the agency to follow up and they said it was over. </td><td>2009-04-07T05:28:02.000+0000</td><td>0.0</td></tr><tr><td>almost bedtime </td><td>2009-04-07T05:28:03.000+0000</td><td>0.0</td></tr><tr><td>I'm missing you babe..  but as long as your alive I'm happy.. Yawwwnn.. I'm tired my love imma try to sleep hopefully you had a headstart</td><td>2009-04-07T05:28:04.000+0000</td><td>0.0</td></tr><tr><td>Agh...snow!!! </td><td>2009-04-07T05:28:05.000+0000</td><td>0.0</td></tr><tr><td>i miss kenny powers </td><td>2009-04-07T05:28:07.000+0000</td><td>0.0</td></tr><tr><td>@BridgetsBeaches Thank you for letting people know, but now I'm sad that the direct message I got wasn't actually from Bridget </td><td>2009-04-07T05:28:09.000+0000</td><td>0.0</td></tr><tr><td>...and, India missed out its 100th Test victory n 10th consecutive win without a loss. </td><td>2009-04-07T05:28:11.000+0000</td><td>0.0</td></tr><tr><td>@JonathanRKnight I guess that's a no then. </td><td>2009-04-07T05:28:11.000+0000</td><td>0.0</td></tr><tr><td>sadly is going to bed. </td><td>2009-04-07T05:28:15.000+0000</td><td>0.0</td></tr><tr><td>@ozesteph1992 Shame to hear this Stephan </td><td>2009-04-07T05:28:18.000+0000</td><td>0.0</td></tr><tr><td>@mrsaintnick hey! i'm leavin in the morning... </td><td>2009-04-07T05:28:21.000+0000</td><td>0.0</td></tr><tr><td>Was intending to finish editing my 536-page novel manuscript tonight, but that will probably not happen. And only 12 pages are left </td><td>2009-04-07T05:28:23.000+0000</td><td>0.0</td></tr><tr><td>laid around too much today... now my head hurts </td><td>2009-04-07T05:28:24.000+0000</td><td>0.0</td></tr><tr><td>@twista202 I still haven't read the 9th&amp;10th Princess diaries  Saving Francesca made me cry at the end. Hmm those are easy books.</td><td>2009-04-07T05:28:24.000+0000</td><td>0.0</td></tr><tr><td>my nokia 1110 died..  </td><td>2009-04-07T05:28:26.000+0000</td><td>0.0</td></tr><tr><td>My mom might have breast cancer won't find out anything for. Like a week I'm so worried! </td><td>2009-04-07T05:28:26.000+0000</td><td>0.0</td></tr><tr><td>Going to sleep. Hoping tomorrow is a better day. </td><td>2009-04-07T05:28:33.000+0000</td><td>0.0</td></tr><tr><td>@rumblepurr lol.. wish they understood daylight savings has ended though and breakfast is an hour later  They keep waking the kids up too</td><td>2009-04-07T05:28:32.000+0000</td><td>0.0</td></tr><tr><td>@onemoreproject that is lame </td><td>2009-04-07T05:28:32.000+0000</td><td>0.0</td></tr><tr><td>I don't understand... I really don't </td><td>2009-04-07T05:28:38.000+0000</td><td>0.0</td></tr><tr><td>HEROES just isn't doing it for me this season... </td><td>2009-04-07T05:28:38.000+0000</td><td>0.0</td></tr><tr><td>Living not downtown sure isn't much fun.  </td><td>2009-04-07T05:28:45.000+0000</td><td>0.0</td></tr><tr><td>@jonathanchard Not calorie wise   I wish junk food was calorie free! I ate a thing of sour skittles and a big ass cherry coke!</td><td>2009-04-07T05:28:48.000+0000</td><td>0.0</td></tr><tr><td>Man Work is Hard </td><td>2009-04-07T05:28:51.000+0000</td><td>0.0</td></tr><tr><td>getting sick  time for some hot tea, studying, and then sleeeep</td><td>2009-04-07T05:30:34.000+0000</td><td>0.0</td></tr><tr><td>Getting eyebrows waxed. More pain </td><td>2009-04-07T05:30:34.000+0000</td><td>0.0</td></tr><tr><td>No phantasy star yesterday  going to work...</td><td>2009-04-07T05:30:45.000+0000</td><td>0.0</td></tr><tr><td>Oh - Just got all my MacHeist 3.0 apps - sweet. Didn't get the Espresso serial no though although they said they sent it - oh well </td><td>2009-04-07T05:30:50.000+0000</td><td>0.0</td></tr><tr><td>Picked Mich St to win it all from the get go.  Was feeling pretty good about that pick all the way up until......tonight.  A's lost too </td><td>2009-04-07T05:30:54.000+0000</td><td>0.0</td></tr><tr><td>is alone downstairs...working </td><td>2009-04-07T05:30:55.000+0000</td><td>0.0</td></tr><tr><td>I feel bad for doing it </td><td>2009-04-07T05:30:56.000+0000</td><td>0.0</td></tr><tr><td>@RyanSeacrest is it just me, or she hates anoop. i mean seriously, she's kinda mean to him. </td><td>2009-04-07T05:31:05.000+0000</td><td>0.0</td></tr><tr><td>@pinkserendipity yes sprint has 4g only in baltimore and chicago so far </td><td>2009-04-07T05:31:09.000+0000</td><td>0.0</td></tr><tr><td>I'm stuck awake in the middle of the night for the second day in a row. And I felt terrible yesterday. </td><td>2009-04-07T05:31:15.000+0000</td><td>0.0</td></tr><tr><td>Thanks for bursting my bubble </td><td>2009-04-07T05:31:18.000+0000</td><td>0.0</td></tr><tr><td>Going to school soon... can't find anything to wear!! gosh it's so hard </td><td>2009-04-07T05:31:29.000+0000</td><td>0.0</td></tr><tr><td>@marieclr I was serious  LOL</td><td>2009-04-07T05:31:31.000+0000</td><td>0.0</td></tr><tr><td>@naughtyhaughty I had on my page for sooooo long!!! Until it got deleted  Sad day in history</td><td>2009-04-07T05:31:37.000+0000</td><td>0.0</td></tr><tr><td>Crazy wind today = no birding  http://ff.im/1XTTi</td><td>2009-04-07T05:31:35.000+0000</td><td>0.0</td></tr><tr><td>currently at work.. </td><td>2009-04-07T05:31:40.000+0000</td><td>0.0</td></tr><tr><td>Grrr.. my ipods acting weird too! Jai ho and thinking of you aren't playing the full songs.. ughh. </td><td>2009-04-07T05:31:41.000+0000</td><td>0.0</td></tr><tr><td>@penndbad send me the DVD cos I have missed out on heaps  NOT happy about that!</td><td>2009-04-07T05:31:43.000+0000</td><td>0.0</td></tr><tr><td>i don't see the big deal with this website </td><td>2009-04-07T05:31:45.000+0000</td><td>0.0</td></tr><tr><td>@machineplay I'm so sorry you're having to go through this. Again.  #therapyfail</td><td>2009-04-07T05:31:48.000+0000</td><td>0.0</td></tr><tr><td>@ColinDeMar Far too out of the way for rail.  any other tips?</td><td>2009-04-07T05:31:50.000+0000</td><td>0.0</td></tr><tr><td>I'm not still up I swear. Why do I keep losing. gaining. losing. gaining. tweeps?  So heart wrenching.</td><td>2009-04-07T05:31:54.000+0000</td><td>0.0</td></tr><tr><td>Today I realized I am too good at hiding things, even I can't find it </td><td>2009-04-07T05:31:56.000+0000</td><td>0.0</td></tr><tr><td>Staying at a friends house...house sitting, neighbors are SO loud-having a party </td><td>2009-04-07T05:31:57.000+0000</td><td>0.0</td></tr><tr><td>@dannyvegasbaby danny im upset that i wasnt here to watch the live chat  i was in a car. for 3 hours on a trip im soooo upset!!</td><td>2009-04-07T05:31:59.000+0000</td><td>0.0</td></tr><tr><td>Check out my mug  http://www.erika-obscura.blogspot.com</td><td>2009-04-07T05:32:02.000+0000</td><td>0.0</td></tr><tr><td>Borders closed at 10 </td><td>2009-04-07T05:32:06.000+0000</td><td>0.0</td></tr><tr><td>Downloading NIN's new album &quot;the slip&quot; - when the hell did this come out? I'm so behind the times these days </td><td>2009-04-07T05:32:12.000+0000</td><td>0.0</td></tr><tr><td>Just woke up an already have written some e-mail... I've to go early at University today as I have to teach at 8:30 AM! </td><td>2009-04-07T05:32:16.000+0000</td><td>0.0</td></tr><tr><td>is watching the hill . . .and its making me sad </td><td>2009-04-07T05:32:20.000+0000</td><td>0.0</td></tr><tr><td>So many channels.... yet so so boring... lazy day again  may have to find a hobby</td><td>2009-04-07T05:32:22.000+0000</td><td>0.0</td></tr><tr><td>@supersport I miss my buddy  ill be in NY on the 25th</td><td>2009-04-07T05:32:23.000+0000</td><td>0.0</td></tr><tr><td>@robluketic  love the french. I tell people here in the south i'm qtr. french and they snarl at me.  french are beautiful people</td><td>2009-04-07T05:32:28.000+0000</td><td>0.0</td></tr><tr><td>Opps.. As I said.. I still got one day remain and now problem come </td><td>2009-04-07T05:32:28.000+0000</td><td>0.0</td></tr><tr><td>I activated my Selfcontrol block early, meaning I can't check out the new QC.  Regularizing my internal clock is might be difficult. #fb</td><td>2009-04-07T05:32:30.000+0000</td><td>0.0</td></tr><tr><td>@HillyDoP  oH NO</td><td>2009-04-07T05:32:31.000+0000</td><td>0.0</td></tr><tr><td>spencer is not a good guy. </td><td>2009-04-07T05:32:36.000+0000</td><td>0.0</td></tr><tr><td>@goodlaura What about Reese dying on #TTSC? And season finale next week.  #24 boring, Madame President is a crazy woman.</td><td>2009-04-07T05:32:35.000+0000</td><td>0.0</td></tr><tr><td>@JonathanRKnight I hate the limited letters,too.Hope you and the guys are fine?I pray for my dog,she�s not well </td><td>2009-04-07T05:32:38.000+0000</td><td>0.0</td></tr><tr><td>didn't get shit done today ~ i'm so screwed </td><td>2009-04-07T05:32:40.000+0000</td><td>0.0</td></tr><tr><td>wanttss to go out </td><td>2009-04-07T05:32:50.000+0000</td><td>0.0</td></tr><tr><td>Is not going to sleep tonite. </td><td>2009-04-07T05:32:51.000+0000</td><td>0.0</td></tr><tr><td>too worried and tired to post tonight </td><td>2009-04-07T05:32:54.000+0000</td><td>0.0</td></tr><tr><td>couldn't get shit done today ~ i'm so screwed </td><td>2009-04-07T05:32:58.000+0000</td><td>0.0</td></tr><tr><td>Job Interview in Cardiff today, wish me luck! Got about 3 hours sleep </td><td>2009-04-07T05:33:00.000+0000</td><td>0.0</td></tr><tr><td>@stustone Your show is whack. Way worse than whack, it's wiggety-whack.    :*(:*(:*(</td><td>2009-04-07T05:33:01.000+0000</td><td>0.0</td></tr><tr><td>@DjAlizay I really don't think people choose to be that way. But I think he chose not to accept my family's help   He might be dead by now</td><td>2009-04-07T05:33:11.000+0000</td><td>0.0</td></tr><tr><td>@eloquentembrace You're going to kill me, but I've not seen DS9. I've been waiting till I can do it in one solid week sitting. </td><td>2009-04-07T05:33:13.000+0000</td><td>0.0</td></tr><tr><td>@cheechbud i think ur right!! hahaha!! 4.5 hrs now!! </td><td>2009-04-07T05:33:13.000+0000</td><td>0.0</td></tr><tr><td>i hate to see the spartans so sad </td><td>2009-04-07T05:33:16.000+0000</td><td>0.0</td></tr><tr><td>My mind and body are severely protesting this &quot;getting up&quot;  thing. Had nightmares to boot </td><td>2009-04-07T05:33:20.000+0000</td><td>0.0</td></tr><tr><td>@MySteezRadio I'm goin' to follow u, since u didn't  LOL  GO ANGELS!</td><td>2009-04-07T05:33:21.000+0000</td><td>0.0</td></tr><tr><td>@mandayyy </td><td>2009-04-07T05:33:25.000+0000</td><td>0.0</td></tr><tr><td>@twista202 I think I want to read some books but the library doesn't have them </td><td>2009-04-07T05:33:31.000+0000</td><td>0.0</td></tr><tr><td>My nap was interrupted so many times today  Going out for Japanese with the 'rents again...</td><td>2009-04-07T05:33:32.000+0000</td><td>0.0</td></tr><tr><td>Kind of longs for the bus that shows up at the end of Ghost World right now. Ugh. </td><td>2009-04-07T05:33:32.000+0000</td><td>0.0</td></tr><tr><td>@GuruMN but this is canada  canada is weird. we're supposed to get snow through wednesday. ugh.</td><td>2009-04-07T05:33:34.000+0000</td><td>0.0</td></tr><tr><td>Awwh babs... you look so sad underneith that shop entrance of &quot;Yesterday's Musik&quot;  O-: I like the look of the new transformer movie </td><td>2009-04-07T05:33:35.000+0000</td><td>0.0</td></tr><tr><td>sad that the 'feet' of my macbook just fell off </td><td>2009-04-07T05:33:35.000+0000</td><td>0.0</td></tr><tr><td>I'm gonna get up late tomorrow and it's 132am here. I gonna get tipsy by my lonesome. That's...that's just sad </td><td>2009-04-07T05:33:44.000+0000</td><td>0.0</td></tr><tr><td>I'm sweating my forthcoming trip to E3.  If I can't find someone to crash with while I'm out there, I may be screwed.  </td><td>2009-04-07T05:35:29.000+0000</td><td>0.0</td></tr><tr><td>Has now gotten somebody to read his tweets, but cant get them to make an account. </td><td>2009-04-07T05:35:29.000+0000</td><td>0.0</td></tr><tr><td>@infinitydefines  omgawd i couldnt handle my cat being in heat all the time D: D:</td><td>2009-04-07T05:35:31.000+0000</td><td>0.0</td></tr><tr><td>@DonnieWahlberg I hope i can make it to the auburn show. but its not looking good for me </td><td>2009-04-07T05:35:31.000+0000</td><td>0.0</td></tr><tr><td>@David_Henrie *thats people mag haha i couldnt fit it all in.. i dont think those pictures ever made it in the magazine tho!  haha</td><td>2009-04-07T05:35:35.000+0000</td><td>0.0</td></tr><tr><td>@breadandbadger Congrats!!  i totally forgot to submit photos </td><td>2009-04-07T05:35:36.000+0000</td><td>0.0</td></tr><tr><td>@PaulaAbdul awww, Good luck Paula!! Please don't work too hard  but I hope you have fun  Your new album is gonna be amazing!  xxx</td><td>2009-04-07T05:35:40.000+0000</td><td>0.0</td></tr><tr><td>@imaginarypeach now your leaving me  .... -gets sad-</td><td>2009-04-07T05:35:40.000+0000</td><td>0.0</td></tr><tr><td>I miss you twitter. My phone broke, now I'm using a stupid Nokia phone. Ughhh, I miss my advance phone. </td><td>2009-04-07T05:35:41.000+0000</td><td>0.0</td></tr><tr><td>SHOOTING OUTSIDE MY HOUSE :O NOT KIDDING! So SCARED </td><td>2009-04-07T05:35:43.000+0000</td><td>0.0</td></tr><tr><td>Tuesday�ll start with reflection �n then a lecture in Stress reducing techniques. That sure might become very useful for us accompaniers </td><td>2009-04-07T05:35:44.000+0000</td><td>0.0</td></tr><tr><td>What tragedy and disaster in the news this week </td><td>2009-04-07T05:35:46.000+0000</td><td>0.0</td></tr><tr><td>yes yes still trying to find a picture that will upload correclty.. </td><td>2009-04-07T05:35:46.000+0000</td><td>0.0</td></tr><tr><td>Why oh why was the Red Sox game rained out? I was so looking forward to opening day </td><td>2009-04-07T05:35:51.000+0000</td><td>0.0</td></tr><tr><td>I still can't find my keys. </td><td>2009-04-07T05:35:50.000+0000</td><td>0.0</td></tr><tr><td>@charlietm I know right. I dunno what is going on with twitter. </td><td>2009-04-07T05:35:50.000+0000</td><td>0.0</td></tr><tr><td>might be getting a sore throat again </td><td>2009-04-07T05:35:50.000+0000</td><td>0.0</td></tr><tr><td>@labelsnotlove   my home town. My mammy called all depressd.  Pls explain y a parent let their 8yr old child walk alone? Hello? Its 2009!</td><td>2009-04-07T05:35:51.000+0000</td><td>0.0</td></tr><tr><td>@ircmaxell - I think I need to find better anti-depressants.  I think this Paxil/Wellbutrin combo is losing its efficacy.  </td><td>2009-04-07T05:35:51.000+0000</td><td>0.0</td></tr><tr><td>@MyConnecticut Restaurant called WoodNTap has competitive eating tourney round tourney time. We place 2nd </td><td>2009-04-07T05:35:52.000+0000</td><td>0.0</td></tr><tr><td>is in the bathroom... wake up lakin. </td><td>2009-04-07T05:35:56.000+0000</td><td>0.0</td></tr><tr><td>@CaitlinOConnor i want tacos and margarhitas  telll gay i say hello&lt;3</td><td>2009-04-07T05:35:59.000+0000</td><td>0.0</td></tr><tr><td>im lonely  keep me company! 22 female, california</td><td>2009-04-07T05:35:59.000+0000</td><td>0.0</td></tr><tr><td>bad day at the betfair office </td><td>2009-04-07T05:36:02.000+0000</td><td>0.0</td></tr><tr><td>I miss him.  Can't wait to celebrate the Tar Heel win this weekend though!!</td><td>2009-04-07T05:36:03.000+0000</td><td>0.0</td></tr><tr><td>I'm really cold. I don't want to go to sleep yet but there's nothing to do </td><td>2009-04-07T05:36:06.000+0000</td><td>0.0</td></tr><tr><td>@kristencampisi is this it 4 u? Its ' officially over ' 4 me this go round! </td><td>2009-04-07T05:36:06.000+0000</td><td>0.0</td></tr><tr><td>monkeys??? i just found out you my twin and you wont even write back.  i'm heartbroken</td><td>2009-04-07T05:36:10.000+0000</td><td>0.0</td></tr><tr><td>@miss_om Aww  I know I felt like that yesterday at work </td><td>2009-04-07T05:36:15.000+0000</td><td>0.0</td></tr><tr><td>@SarahReedSC treaty isn't defined </td><td>2009-04-07T05:36:16.000+0000</td><td>0.0</td></tr><tr><td>missed Brent at praise band.   No fun to not have the your lead guitarist.  &lt;pout&gt;</td><td>2009-04-07T05:36:19.000+0000</td><td>0.0</td></tr><tr><td>@jpfurry poor john  this is what happens when you play with fruit and a microwave! Seriously though HAVE you seen a doctor?? Xxx</td><td>2009-04-07T05:36:20.000+0000</td><td>0.0</td></tr><tr><td>Missing My BFF  watching home and away it reminds me of her and me  we &lt;3 It. shout out to u courts</td><td>2009-04-07T05:36:26.000+0000</td><td>0.0</td></tr><tr><td>@mandayyy   </td><td>2009-04-07T05:36:27.000+0000</td><td>0.0</td></tr><tr><td>New video card is DOA. </td><td>2009-04-07T05:36:33.000+0000</td><td>0.0</td></tr><tr><td>feeling lost, naked and confused (JK, sort of).....no iphone for me. </td><td>2009-04-07T05:36:38.000+0000</td><td>0.0</td></tr><tr><td>Damn i am so late at filling this appraisal form, people have almost sent it .. i was so occupied in work </td><td>2009-04-07T05:36:39.000+0000</td><td>0.0</td></tr><tr><td>missed Brent at praise band.  No fun to not have your lead guitarist. &lt;pout&gt;</td><td>2009-04-07T05:36:51.000+0000</td><td>0.0</td></tr><tr><td>i think to much on the past. i cant change it. i deserved so much more then wat i got. ..but why am i still thinking about him  gah</td><td>2009-04-07T05:36:52.000+0000</td><td>0.0</td></tr><tr><td>has lost his ring. It's no-where to be seen </td><td>2009-04-07T05:36:54.000+0000</td><td>0.0</td></tr><tr><td>@burgaw Ooooooh! *sealclap* See, I download shitloads of zip folders off 4chan. I have no internet moneys.  FUCK YEAH ALICIA &amp; MIKEY.</td><td>2009-04-07T05:37:03.000+0000</td><td>0.0</td></tr><tr><td>Is still nursing my Nile but glad he is feeling better. I hate when my baby is sick </td><td>2009-04-07T05:37:04.000+0000</td><td>0.0</td></tr><tr><td>Is fucked to go back to IC </td><td>2009-04-07T05:37:07.000+0000</td><td>0.0</td></tr><tr><td>@Brandizzzle08 yoyoyo. my internet has been rude tonight. it JUST reconnected and I'm about to go to bed. </td><td>2009-04-07T05:37:16.000+0000</td><td>0.0</td></tr><tr><td>@jemcam well i have uni stuff and netball  but after netbal if i've done uni stuff we can</td><td>2009-04-07T05:37:22.000+0000</td><td>0.0</td></tr><tr><td>@kissability Me too I is poor </td><td>2009-04-07T05:37:23.000+0000</td><td>0.0</td></tr><tr><td>help me forget 8th april &amp; 13th july! </td><td>2009-04-07T05:37:26.000+0000</td><td>0.0</td></tr><tr><td>dierks bentley is comin' to columbus, OH!! i wanna go so bad </td><td>2009-04-07T05:37:36.000+0000</td><td>0.0</td></tr><tr><td>i have to take my sidekick back. </td><td>2009-04-07T05:37:35.000+0000</td><td>0.0</td></tr><tr><td>@chriscantore congrats! I'm totally jealous! only wish my XM was working </td><td>2009-04-07T05:37:40.000+0000</td><td>0.0</td></tr><tr><td>gr8t my face is very itchy </td><td>2009-04-07T05:37:41.000+0000</td><td>0.0</td></tr><tr><td>poor socks  luvvvvv the golden retriever!! I want one sighhhh</td><td>2009-04-07T05:37:41.000+0000</td><td>0.0</td></tr><tr><td>I just saw that they found that Tracy girl in a piece of luggage... How fucking terrible </td><td>2009-04-07T05:37:44.000+0000</td><td>0.0</td></tr><tr><td>Aaaaand the nausea is back. </td><td>2009-04-07T05:37:46.000+0000</td><td>0.0</td></tr><tr><td>@DonnieWahlberg ooh I�m excited and not even going 2 be there  long love YOUTUBE!</td><td>2009-04-07T05:37:46.000+0000</td><td>0.0</td></tr><tr><td>spent 1 hour to reach to Axis bank only to find out today is holiday for Mahavir Jayanti  contd..</td><td>2009-04-07T05:37:49.000+0000</td><td>0.0</td></tr><tr><td>@mathewsmichael  i agree... the jobros dont update theres very often </td><td>2009-04-07T05:37:57.000+0000</td><td>0.0</td></tr><tr><td>@fishmouse it is hilarious and I linked the clip from LJ some time ago but when I went back just now it was a dead link </td><td>2009-04-07T05:37:59.000+0000</td><td>0.0</td></tr><tr><td>@DiannePulham OOOOOOOO who with? (im not neither but thats because i need to study  )</td><td>2009-04-07T05:38:04.000+0000</td><td>0.0</td></tr><tr><td>Haven't tweeted nearly all day  Posted my website tonight, hopefully that goes well  Night time!</td><td>2009-04-07T05:38:04.000+0000</td><td>0.0</td></tr><tr><td>@bostongarden I miss bentley </td><td>2009-04-07T05:38:04.000+0000</td><td>0.0</td></tr><tr><td>seriously needs to finish these job applications </td><td>2009-04-07T05:38:08.000+0000</td><td>0.0</td></tr><tr><td>My son Vincas is sick, so I stay at home  Just three tense days at work, and I am back on holiday with kids</td><td>2009-04-07T05:38:14.000+0000</td><td>0.0</td></tr><tr><td>Whinging. My client&amp;boss don't understand English well. Rewrote some text unreadable. It's written by v. good writer&amp;reviewed correctly. </td><td>2009-04-07T05:38:18.000+0000</td><td>0.0</td></tr><tr><td>@huntermoore I don't want him to ever punch me.  </td><td>2009-04-07T05:38:20.000+0000</td><td>0.0</td></tr><tr><td>sooo sick of the snow  ughh</td><td>2009-04-07T05:38:20.000+0000</td><td>0.0</td></tr><tr><td>@ITS_NEMESIS ------- </td><td>2009-04-07T05:38:20.000+0000</td><td>0.0</td></tr><tr><td>@LoveMeagan it doesn't work your fan is upset </td><td>2009-04-07T05:38:24.000+0000</td><td>0.0</td></tr><tr><td>I would like to apologize for the repeated Video Games Live related tweets. I am going to have a stern discussion with Koodo soon. Stern. </td><td>2009-04-07T05:38:26.000+0000</td><td>0.0</td></tr><tr><td>@zaydia but i cant figure out how to get there / back / pay for a hotel etc </td><td>2009-04-07T05:38:30.000+0000</td><td>0.0</td></tr><tr><td>FML: So much for seniority, bc of technological ineptness, I now have to &quot;register&quot; for classes AGAIN </td><td>2009-04-07T05:38:28.000+0000</td><td>0.0</td></tr><tr><td>feels like she slept the day away.    Not looking forward to any more bouts with my gallbladder.  At least I have pills now for the pain.</td><td>2009-04-07T05:38:32.000+0000</td><td>0.0</td></tr><tr><td>@ThaStevieG but what I really want is my old bass back </td><td>2009-04-07T05:38:37.000+0000</td><td>0.0</td></tr><tr><td>Mad tired today... Callin it in early tonight  nighty night twittas</td><td>2009-04-07T05:38:39.000+0000</td><td>0.0</td></tr><tr><td>@LevenRambin: Take it easy, and be good to you. </td><td>2009-04-07T05:38:44.000+0000</td><td>0.0</td></tr><tr><td>I'm afraid I had bad code. </td><td>2009-04-07T05:40:15.000+0000</td><td>0.0</td></tr><tr><td>Think I'm going to bed. Goodniight. I hate this </td><td>2009-04-07T05:40:18.000+0000</td><td>0.0</td></tr><tr><td>@riancurtis  i'm here, friend, and i love you.</td><td>2009-04-07T05:40:20.000+0000</td><td>0.0</td></tr><tr><td>@kariajay  All this time you didn't notice I was gone...just needed DB2 is it??</td><td>2009-04-07T05:40:24.000+0000</td><td>0.0</td></tr><tr><td>@aaronrva is in the bathroom and i have to pee!    </td><td>2009-04-07T05:40:24.000+0000</td><td>0.0</td></tr><tr><td>@ashleyskyy but I wanted a margarita too! </td><td>2009-04-07T05:40:26.000+0000</td><td>0.0</td></tr><tr><td>@KourtneyKardash yup night workouts r the worst but unfortunetly my work schedule only allows me to go at night  its tough!</td><td>2009-04-07T05:40:30.000+0000</td><td>0.0</td></tr><tr><td>Just called Hillsong again - they said they couldn't tell me where I was on the waiting list - I don't know if it's looking so good </td><td>2009-04-07T05:40:33.000+0000</td><td>0.0</td></tr><tr><td>has 0g of milky bar left, and around 200ml of coke </td><td>2009-04-07T05:40:36.000+0000</td><td>0.0</td></tr><tr><td>@jokerrrr It stillllll hasn't arrived </td><td>2009-04-07T05:40:38.000+0000</td><td>0.0</td></tr><tr><td>Mraow, I feel like dancing, but first art school wants to rape me some more. </td><td>2009-04-07T05:40:43.000+0000</td><td>0.0</td></tr><tr><td>@karenucol ah! I bet it does I've been like craving to play softball or basketball !!! But I have noo time </td><td>2009-04-07T05:40:40.000+0000</td><td>0.0</td></tr><tr><td>Is terrified she accidentally deleted a reference in her management assignment and hopes she doesnt get in trouble when she gets back </td><td>2009-04-07T05:40:48.000+0000</td><td>0.0</td></tr><tr><td>amazon s3 plugin not worked in my website . it need PHP 5 . but my hosting provider has only PHP 4.4  . very sad.</td><td>2009-04-07T05:41:07.000+0000</td><td>0.0</td></tr><tr><td>Argh! I was suuuper sleepy an hour ago, now I'm wide awake.  Hope I don't stay up all night. :-/</td><td>2009-04-07T05:41:06.000+0000</td><td>0.0</td></tr><tr><td>@austinhill I wish I was!  Sold out   If you have some time let me know, I would love to hear more about what you are up to!</td><td>2009-04-07T05:41:09.000+0000</td><td>0.0</td></tr><tr><td>Just watched tropic thunder. Dreading tomorrow </td><td>2009-04-07T05:41:15.000+0000</td><td>0.0</td></tr><tr><td>@qweendassah no...he's still miss'n... </td><td>2009-04-07T05:41:16.000+0000</td><td>0.0</td></tr><tr><td>ChiefDelphi is down </td><td>2009-04-07T05:41:19.000+0000</td><td>0.0</td></tr><tr><td>http://twitpic.com/2y2wr - according to my bro, our new puppy had a poo fight and was covered in poop  (picture stolen from him)</td><td>2009-04-07T05:41:20.000+0000</td><td>0.0</td></tr><tr><td>playing game at home! my new boss didn't call me yet... </td><td>2009-04-07T05:41:20.000+0000</td><td>0.0</td></tr><tr><td>Su yin Huen tweeted I feel unbearable guilt. I made my staff cry  http://tinyurl.com/cw2l9t</td><td>2009-04-07T05:41:22.000+0000</td><td>0.0</td></tr><tr><td>Poor Joshy is sick???   those damn tejanos!</td><td>2009-04-07T05:41:25.000+0000</td><td>0.0</td></tr><tr><td>My thoughts are with Sandra Cantu's family at this difficult and sad time </td><td>2009-04-07T05:41:27.000+0000</td><td>0.0</td></tr><tr><td>@FranzGlaus I know, just wanted to let everybody know what was happening  </td><td>2009-04-07T05:41:29.000+0000</td><td>0.0</td></tr><tr><td>Michigan who?  I don't know them.                   *sigh*   Shameful!</td><td>2009-04-07T05:41:29.000+0000</td><td>0.0</td></tr><tr><td>i have to fill two hours </td><td>2009-04-07T05:41:33.000+0000</td><td>0.0</td></tr><tr><td>@alicayaba so cuuute! hey, i miss you na!  its not the same not seeing you girls everyday </td><td>2009-04-07T05:41:36.000+0000</td><td>0.0</td></tr><tr><td>@JonathanRKnight Oh! Did I mention it? &quot;Gooooood Moooorniiiiiiing&quot;  from Germany! Im back in my cage....or better...my office </td><td>2009-04-07T05:41:52.000+0000</td><td>0.0</td></tr><tr><td>throat is closing up and i had some string cheese. not a good idea </td><td>2009-04-07T05:41:51.000+0000</td><td>0.0</td></tr><tr><td>Aww, Sandra Cantu is found dead in a suitcase  Missing children stories never seem to go good. Poor family.</td><td>2009-04-07T05:41:54.000+0000</td><td>0.0</td></tr><tr><td>wishing i was home underneath my covers </td><td>2009-04-07T05:41:54.000+0000</td><td>0.0</td></tr><tr><td>walking home from school drains all my energy </td><td>2009-04-07T05:41:54.000+0000</td><td>0.0</td></tr><tr><td>@ridley1013 I agree. The shapeshifting is a copout. I was so excited for Angela's ep, I thought it was this week.  Noah was awesome tho!</td><td>2009-04-07T05:41:55.000+0000</td><td>0.0</td></tr><tr><td>@SaveTheStrib Dang! I would have done this if I knew it was there earlier.  Any other outings planned?</td><td>2009-04-07T05:41:56.000+0000</td><td>0.0</td></tr><tr><td>I wish I was better at writing. It's taking me so long to write this paper. </td><td>2009-04-07T05:41:57.000+0000</td><td>0.0</td></tr><tr><td>..and of course... I have access to my Halo 3 Mythic Map Pack re-download.. but bad news.. not the Legendary Map Pack... ugh.. 600MS... </td><td>2009-04-07T05:41:59.000+0000</td><td>0.0</td></tr><tr><td>@vene2ia ...not yet unfortunately, another few weeks I've been told  How are you? I've been a little bit busy with my latest project.</td><td>2009-04-07T05:42:00.000+0000</td><td>0.0</td></tr><tr><td>@thecoolestout Ha the sun's already gone </td><td>2009-04-07T05:42:07.000+0000</td><td>0.0</td></tr><tr><td>day 2. a lot harder than day 1. let's see how day 3 goes tomorrow. </td><td>2009-04-07T05:42:06.000+0000</td><td>0.0</td></tr><tr><td>My man crush Jake Peavy let me down  #gayforpeavy</td><td>2009-04-07T05:42:08.000+0000</td><td>0.0</td></tr><tr><td>@trishzw megafast trip, you have time during day tom/weds? Or, you going out tonight? Want to see you bad. Tried to warn you, tech fail </td><td>2009-04-07T05:42:10.000+0000</td><td>0.0</td></tr><tr><td>michigan state you make me sad </td><td>2009-04-07T05:42:18.000+0000</td><td>0.0</td></tr><tr><td>omg. my mouth is in so much pain  i just wanna sleep untill its time to take my braces off.</td><td>2009-04-07T05:42:19.000+0000</td><td>0.0</td></tr><tr><td>getting annoyed easily today  &gt;&gt;&gt; biofuel proposal: getting annoyed easily today  &gt;&gt;&gt; biof.. http://tinyurl.com/ceprvs</td><td>2009-04-07T05:42:22.000+0000</td><td>0.0</td></tr><tr><td>@MizzChievouz Hey girl. The site is back.  Girlyvue is back and they have even more videos. </td><td>2009-04-07T05:42:28.000+0000</td><td>0.0</td></tr><tr><td>@a5hleyf i'm spending time with my grandma early tomorrow and i can't leave skittles by herself. </td><td>2009-04-07T05:42:28.000+0000</td><td>0.0</td></tr><tr><td>just got home from watching Michigan State get tromped!   </td><td>2009-04-07T05:42:30.000+0000</td><td>0.0</td></tr><tr><td>Oh jew-bus! Two years worth of classes' work is ALOT to organize &gt;_&lt; i'm not finishing tonight, it's not possible...my bones ache </td><td>2009-04-07T05:42:30.000+0000</td><td>0.0</td></tr><tr><td>@griffmiester no exchanging for me, my laptop hasn't arrived </td><td>2009-04-07T05:42:32.000+0000</td><td>0.0</td></tr><tr><td>@hyperbets i hope this doesn't last too long.  i feel miserable!</td><td>2009-04-07T05:42:37.000+0000</td><td>0.0</td></tr><tr><td>@rcompo RACHEL! hang outage is neccessary - i was gonna be home this wekend but dumb folk make me work   so im free F and Sat until 4...</td><td>2009-04-07T05:42:47.000+0000</td><td>0.0</td></tr><tr><td>@TheLeagueSF Not Fun &amp; Furious? The new mantra for the Bay 2 Breakers? It was getting 2 rambunctious;the city overreacted &amp; clamped down </td><td>2009-04-07T05:42:49.000+0000</td><td>0.0</td></tr><tr><td>@amber_benson  my hubby (for some reason) thinks it's more important he has a good spot for red carpet for the Trek Movie Premiere. Sod!</td><td>2009-04-07T05:42:51.000+0000</td><td>0.0</td></tr><tr><td>I swear no matter how long I've been getting up at 5am, it never gets any easier. Man my eyes hurts wah </td><td>2009-04-07T05:42:49.000+0000</td><td>0.0</td></tr><tr><td>@Jeffree_Star Jeffree! How do you keep your hair one color? My PERMANENT dye fades within the week </td><td>2009-04-07T05:42:56.000+0000</td><td>0.0</td></tr><tr><td>@otakusecret my reaction too  whoa, didn't see that coming</td><td>2009-04-07T05:42:59.000+0000</td><td>0.0</td></tr><tr><td>still sick. feeling a bit better, got some new medicine.... hope I feel good after a night of sleep. ohh, and it's suppose to snow! WTF! </td><td>2009-04-07T05:43:06.000+0000</td><td>0.0</td></tr><tr><td>@Dangerm0use I think maybe you should get a couple more hours of sleep, hon. How productive can you be right now if ur dog tired? I worry </td><td>2009-04-07T05:43:12.000+0000</td><td>0.0</td></tr><tr><td>@maddyVA Thanks a lot. Learned a lot of new words but didn't find what I was looking for. </td><td>2009-04-07T05:43:15.000+0000</td><td>0.0</td></tr><tr><td>Wish I had all the XBLM downloads all on the gamertag 'Hitokyri'. This 5 gamertag thing is nonsense... and I'm tired of it </td><td>2009-04-07T05:43:17.000+0000</td><td>0.0</td></tr><tr><td>New Testament Test at 9:30 am   </td><td>2009-04-07T05:43:18.000+0000</td><td>0.0</td></tr><tr><td>@ScoutBuck tons no hay Troll? ahhhh </td><td>2009-04-07T05:43:23.000+0000</td><td>0.0</td></tr><tr><td>stupid movies we watched... mirrors ugggggh... stooopeeed!!! rip off! </td><td>2009-04-07T05:43:22.000+0000</td><td>0.0</td></tr><tr><td>http://twitpic.com/2y2yi - I love you, Buck. </td><td>2009-04-07T05:43:26.000+0000</td><td>0.0</td></tr><tr><td>last one!!! but still not done!!! </td><td>2009-04-07T05:43:29.000+0000</td><td>0.0</td></tr><tr><td>homework.... </td><td>2009-04-07T05:43:31.000+0000</td><td>0.0</td></tr><tr><td>I don't understand why things get taken away. I didn't have enough time with him its unfair. I want him back!! He was like my baby </td><td>2009-04-07T05:43:38.000+0000</td><td>0.0</td></tr><tr><td>Scratch that: du in heif (two in a half) cookies. My tum just can't take anymore shoog. Poots </td><td>2009-04-07T05:43:42.000+0000</td><td>0.0</td></tr><tr><td>@cococourtney i was just listening to the sweets for the first time in forever! i miss them so much  can we go to chi town for visits plz?</td><td>2009-04-07T05:43:43.000+0000</td><td>0.0</td></tr><tr><td>Geez what a busy afternoon. Meetings, emails, meetings and email and more meetings. 6pm and the day is still going! Ah its dark and </td><td>2009-04-07T05:43:44.000+0000</td><td>0.0</td></tr><tr><td>DANG!!! ANOTHER SPRING BREAK!!!  HOW COOL IS THAT???  TOO BAD I HAVE TO WORK ALL WEEK  OH WELL, MORE MONEY FOR A PHONE.  ttyl EVERBODY!!!</td><td>2009-04-07T05:43:46.000+0000</td><td>0.0</td></tr><tr><td>@Sara_Kate Im afraid too  ( ur reply about uni from ages ago</td><td>2009-04-07T05:43:48.000+0000</td><td>0.0</td></tr><tr><td>feeling down </td><td>2009-04-07T05:43:49.000+0000</td><td>0.0</td></tr><tr><td>@CarVin1 lol they are some emotional ass men!! Omg all this late night eating.. Both of us are broke </td><td>2009-04-07T05:43:54.000+0000</td><td>0.0</td></tr><tr><td>@nick_carter Aww Nick!! I like your hair longer, why did you cut it off?  Break. My. Heart.</td><td>2009-04-07T05:44:34.000+0000</td><td>0.0</td></tr><tr><td> wonder if Jon lost the net</td><td>2009-04-07T05:44:48.000+0000</td><td>0.0</td></tr><tr><td>Wow. The most depressing thing in the world is losing a video that you've created in a matter of seconds.  #FML</td><td>2009-04-07T05:44:52.000+0000</td><td>0.0</td></tr><tr><td>@nchokkan https://www.mycomicshop.com/search?TID=395031 But all says not in stock </td><td>2009-04-07T05:44:57.000+0000</td><td>0.0</td></tr><tr><td>@Poohpot lmao im sorry poohpot i ate it all! </td><td>2009-04-07T05:45:05.000+0000</td><td>0.0</td></tr><tr><td>Any chance  Softbelly (for @MTUB) isn't loud? </td><td>2009-04-07T05:45:08.000+0000</td><td>0.0</td></tr><tr><td>Time to move my posterior  and lose some fat. My articulation are creaking so no more running  but I�m drool for some swimming</td><td>2009-04-07T05:45:10.000+0000</td><td>0.0</td></tr><tr><td>listening to nathan cry.... </td><td>2009-04-07T05:45:13.000+0000</td><td>0.0</td></tr><tr><td>today sucked. I'm gonna die without chris and callum!  wahhh!</td><td>2009-04-07T05:45:22.000+0000</td><td>0.0</td></tr><tr><td>STOU site not update, no info about 2/2552 exam, and open course, I must wait for mail notices and doc. um... </td><td>2009-04-07T05:45:29.000+0000</td><td>0.0</td></tr><tr><td>@ohsbrat30...I'm sorry. I'm feeling kinda yucky myself. 5am is going to come too quick </td><td>2009-04-07T05:45:31.000+0000</td><td>0.0</td></tr><tr><td>is in love with scrappy and is missin him already </td><td>2009-04-07T05:45:33.000+0000</td><td>0.0</td></tr><tr><td>wants to hear @seblefebvre 's song but myspace is messing with me </td><td>2009-04-07T05:45:37.000+0000</td><td>0.0</td></tr><tr><td>Bad news was Dad has cancer and is dying   Good news new business started and  I am now a life coach practising holistic weight management</td><td>2009-04-07T05:45:40.000+0000</td><td>0.0</td></tr><tr><td>@duchess_rebecca Man... intervention is soo sad </td><td>2009-04-07T05:45:44.000+0000</td><td>0.0</td></tr><tr><td>HELP! I need a new boyfriend... I'm stuck in a rut </td><td>2009-04-07T05:45:46.000+0000</td><td>0.0</td></tr><tr><td>I feel like a complete idiot. I'm the only one who doesn't get how this shit works  help me </td><td>2009-04-07T05:45:47.000+0000</td><td>0.0</td></tr><tr><td>Saw an ad on Craigslist for a casting call for a female host on G4. I was totally psyched! But realized it was a hoax </td><td>2009-04-07T05:45:51.000+0000</td><td>0.0</td></tr><tr><td>Pepperoni rolls in L.A.?: I called Valentino's - they said that they had sausage rolls but no pepperoni rolls  http://tinyurl.com/cec5ka</td><td>2009-04-07T05:45:53.000+0000</td><td>0.0</td></tr><tr><td>@soillodge yes, it will be. it's only Monday </td><td>2009-04-07T05:45:54.000+0000</td><td>0.0</td></tr><tr><td>i want the new GG episode already </td><td>2009-04-07T05:46:14.000+0000</td><td>0.0</td></tr><tr><td>I miss watching Rocko's Modern Life. </td><td>2009-04-07T05:46:16.000+0000</td><td>0.0</td></tr><tr><td>RIP Sandra....its so sad    how can someone do something like that??</td><td>2009-04-07T05:46:20.000+0000</td><td>0.0</td></tr><tr><td>Keeping my fingers crossed for my buddy    He is not feeling well.</td><td>2009-04-07T05:46:24.000+0000</td><td>0.0</td></tr><tr><td>Wait should I eat?? Or be skinny for vegas!! I'm hungry! </td><td>2009-04-07T05:46:22.000+0000</td><td>0.0</td></tr><tr><td>@Marge_Inovera I tried tweetdeck once and I hated it with a passion. Or it hated me, I'm not sure... </td><td>2009-04-07T05:46:24.000+0000</td><td>0.0</td></tr><tr><td>@benackerman BTW my iPhone is acting funny, dying quickly and freezing and BS.  I'm not admitting anything, just sayin </td><td>2009-04-07T05:46:27.000+0000</td><td>0.0</td></tr><tr><td>Sitting here wondering why &quot;ED&quot; still has such a strong hold on me </td><td>2009-04-07T05:46:32.000+0000</td><td>0.0</td></tr><tr><td>@bananaface IM SORRY I GOT YOU SICK.  lol. going to bed too. NIGHT!</td><td>2009-04-07T05:46:36.000+0000</td><td>0.0</td></tr><tr><td>@carolrainbow no Internet at home, have to drive into Ox to use Internet because of builders! </td><td>2009-04-07T05:46:40.000+0000</td><td>0.0</td></tr><tr><td>@Steve_Buscemi the weather in Canada is freezing </td><td>2009-04-07T05:46:44.000+0000</td><td>0.0</td></tr><tr><td>twiggassssssss I been out of range all day  I'm back now and hopefully for good.</td><td>2009-04-07T05:46:48.000+0000</td><td>0.0</td></tr><tr><td>@danadearmond </td><td>2009-04-07T05:46:53.000+0000</td><td>0.0</td></tr><tr><td>anyone who reads this pray for my Grandma. She's in pain </td><td>2009-04-07T05:46:55.000+0000</td><td>0.0</td></tr><tr><td>#3 woke up and was having an accident - &quot;It's pushing, it's pushing!&quot; he was crying because he couldn't stop from wetting his pants.  </td><td>2009-04-07T05:46:57.000+0000</td><td>0.0</td></tr><tr><td>Home from Franklin street, I almost jumped over a fire. Someone kicked it before I could.  Jenny lost her shoe.</td><td>2009-04-07T05:47:05.000+0000</td><td>0.0</td></tr><tr><td>@johnnybeane hey! you just changed your default. </td><td>2009-04-07T05:47:22.000+0000</td><td>0.0</td></tr><tr><td>Finally gave in and was bored enough to start this thing. I think the 140 is going to be a problem for me tho.  its like a myspace status.</td><td>2009-04-07T05:47:21.000+0000</td><td>0.0</td></tr><tr><td>@ellievolia If oooonly we were really so lucky, eh? And awh  Definitely too early for work.</td><td>2009-04-07T05:47:28.000+0000</td><td>0.0</td></tr><tr><td>buttload of homework! </td><td>2009-04-07T05:47:32.000+0000</td><td>0.0</td></tr><tr><td>needs another copy of visual studio 2008 </td><td>2009-04-07T05:47:40.000+0000</td><td>0.0</td></tr><tr><td>why to we, the only school in the world, be in this week.My school is silly  anyway... look on the bright side. When i'm off, u will be in</td><td>2009-04-07T05:47:41.000+0000</td><td>0.0</td></tr><tr><td>omg i've an economics test. and i dont know all the things i have to know and omg im gonna fail </td><td>2009-04-07T05:47:56.000+0000</td><td>0.0</td></tr><tr><td>@robcthegeek Once upon a time Hundred Islands was the pride of Philippine tourism, but coral/clam/rare fish poaching did it in. Kinda sad </td><td>2009-04-07T05:47:58.000+0000</td><td>0.0</td></tr><tr><td>@Henkuyinepu yeah, apparently i have really bad taste </td><td>2009-04-07T05:48:00.000+0000</td><td>0.0</td></tr><tr><td>@hummiemd I KNOW! I was really surprised since everyone recommends them on youtube.  I have to call them tomorrow and figure it all out.</td><td>2009-04-07T05:48:00.000+0000</td><td>0.0</td></tr><tr><td>Waiting at the airport for my ride while I get harassed by 2 men trying to sell me ugly hats.. Why me?!  I just want to sleep..</td><td>2009-04-07T05:48:02.000+0000</td><td>0.0</td></tr><tr><td>i left my IDs at the location and now i can not go out to bars  FUCKKKKKKKKKKKKK</td><td>2009-04-07T05:48:02.000+0000</td><td>0.0</td></tr><tr><td>@celycarmo i'm sorry I don't understand your last comment </td><td>2009-04-07T05:48:03.000+0000</td><td>0.0</td></tr><tr><td>@OfficialRandL when is the announcement? i stayed up late last night </td><td>2009-04-07T05:48:04.000+0000</td><td>0.0</td></tr><tr><td>@KishoreK this is strange, illegal torrents avlbl everywhere, legal DVD not in stock  What do I do now???</td><td>2009-04-07T05:48:08.000+0000</td><td>0.0</td></tr><tr><td>ITS NOT ENOUGH TO SAY THAT IMISS U </td><td>2009-04-07T05:48:10.000+0000</td><td>0.0</td></tr><tr><td>This trolley has up packed in like sardines! Padre game and they REMOVE a car?! Good call MTS </td><td>2009-04-07T05:48:13.000+0000</td><td>0.0</td></tr><tr><td>@RandomlyNat Jeez, I was just trying to help  Haha.</td><td>2009-04-07T05:48:14.000+0000</td><td>0.0</td></tr><tr><td>@SupaMagg that happened to me saturday night. along with my glittery green lighter! </td><td>2009-04-07T05:48:17.000+0000</td><td>0.0</td></tr><tr><td>trying to reduce the number of cigarettes in each day! </td><td>2009-04-07T05:48:19.000+0000</td><td>0.0</td></tr><tr><td>yea it is so quiet around here cuz everyone has to work im bored to death with nobody to talk to </td><td>2009-04-07T05:48:23.000+0000</td><td>0.0</td></tr><tr><td>gotta do my cooking assignment  its too hard</td><td>2009-04-07T05:48:32.000+0000</td><td>0.0</td></tr><tr><td>@treesahquiche okay, about the applepears, I've talked to a few people and they've ALL had them before. No one ever told me, never </td><td>2009-04-07T05:48:32.000+0000</td><td>0.0</td></tr><tr><td>@jennifermf I know!  I'm a night owl by nature, hahaha Am I a time zone behind you? It's almost 1 here</td><td>2009-04-07T05:48:34.000+0000</td><td>0.0</td></tr><tr><td>@mamasvan lol - nope! but i did have complete #camerafail </td><td>2009-04-07T05:48:35.000+0000</td><td>0.0</td></tr><tr><td>@maxime68 @megelder But! I'm useless if I don't sleep  It's not fair! I want all the fun as well!!!</td><td>2009-04-07T05:48:37.000+0000</td><td>0.0</td></tr><tr><td>My Pookie has a UTI.  I have to be Nurse Gabbie and get him back to 100%!!! No more sodas!!!!!!!!!!!!!!</td><td>2009-04-07T05:48:38.000+0000</td><td>0.0</td></tr><tr><td>@jillianfish tweet something damn it!  and hang out with me please? </td><td>2009-04-07T05:48:42.000+0000</td><td>0.0</td></tr><tr><td>@anistorm </td><td>2009-04-07T05:48:48.000+0000</td><td>0.0</td></tr><tr><td>I'm SO behind in video games, and everything for that matter. I'm yesterday's news </td><td>2009-04-07T05:48:50.000+0000</td><td>0.0</td></tr><tr><td>@sleep_til_noon I did, it was the only one left but I got tempted and ate it soon as I got home  I had a chocolate velvet &amp; ate d mocha</td><td>2009-04-07T05:48:53.000+0000</td><td>0.0</td></tr><tr><td>Is stressing out because my blackberry keeps flashing a red alert status for no reason!! Its faking me out and I hate it!!! </td><td>2009-04-07T05:48:54.000+0000</td><td>0.0</td></tr><tr><td>http://twitpic.com/2y34e - I wanna wear my Doc Martens out! Haven't worn them since December. </td><td>2009-04-07T05:49:51.000+0000</td><td>0.0</td></tr><tr><td>When to the shoe repair shop and the guy could not find my shoes!  So I have to go back and see if he can find them in a couple days. </td><td>2009-04-07T05:49:55.000+0000</td><td>0.0</td></tr><tr><td>@B_Barnett I did not really see that coming </td><td>2009-04-07T05:49:55.000+0000</td><td>0.0</td></tr><tr><td>just woke up from the most vivid, sketchy, not-cool dreams of my life. time to stare at the wall with the lights on. </td><td>2009-04-07T05:49:57.000+0000</td><td>0.0</td></tr><tr><td>it'll take 3 days for my sister to get her passport </td><td>2009-04-07T05:49:58.000+0000</td><td>0.0</td></tr><tr><td>@nicolerichie OH MY YES!! i miss </td><td>2009-04-07T05:50:03.000+0000</td><td>0.0</td></tr><tr><td>Uh oh... I think I am getting sick </td><td>2009-04-07T05:50:11.000+0000</td><td>0.0</td></tr><tr><td>Good GOD they ruined my belly button!!!  </td><td>2009-04-07T05:50:17.000+0000</td><td>0.0</td></tr><tr><td>Watching Who Framed Roger Rabbit. Makes me miss Toon Town. </td><td>2009-04-07T05:50:19.000+0000</td><td>0.0</td></tr><tr><td>@akianz renting.. but very cheap renting, and awesome house. We had 3 buying attempts fall through </td><td>2009-04-07T05:50:28.000+0000</td><td>0.0</td></tr><tr><td>running nose + spinning head = not a good combination for a meeting! </td><td>2009-04-07T05:50:34.000+0000</td><td>0.0</td></tr><tr><td>@EazyDoesIt87 NEGATIVE.. you lost my vote of confidence </td><td>2009-04-07T05:50:43.000+0000</td><td>0.0</td></tr><tr><td>Nasty budget due and my iphone is being sent to Apple today. </td><td>2009-04-07T05:50:48.000+0000</td><td>0.0</td></tr><tr><td>@Sofii_Noel that�s bad </td><td>2009-04-07T05:50:49.000+0000</td><td>0.0</td></tr><tr><td>Dammit, episode 3 of Kings won't play for some reason  stopped in the middle now won't do anything</td><td>2009-04-07T05:50:51.000+0000</td><td>0.0</td></tr><tr><td>I'm so upset that I missed my chat and quiz online because my free internet has ceased </td><td>2009-04-07T05:50:58.000+0000</td><td>0.0</td></tr><tr><td>can't believe it! I'm in disbelief of it all in a way really. How much can I take from people and always get hurt by others!! </td><td>2009-04-07T05:51:00.000+0000</td><td>0.0</td></tr><tr><td>Car show season has started without me </td><td>2009-04-07T05:51:13.000+0000</td><td>0.0</td></tr><tr><td>my throat is raw. </td><td>2009-04-07T05:51:14.000+0000</td><td>0.0</td></tr><tr><td>@KevChoice I just don't get it. What in a persons mind could even have them on some ish like this???  My prayers are with her fam for real</td><td>2009-04-07T05:51:17.000+0000</td><td>0.0</td></tr><tr><td>@frago I hate you. I didn't need to see that. I need to call my therapist now. </td><td>2009-04-07T05:51:19.000+0000</td><td>0.0</td></tr><tr><td>Twilight didn't come yesterday  fingers crossed for today</td><td>2009-04-07T05:51:24.000+0000</td><td>0.0</td></tr><tr><td>@NileLegania glad I was able help you feel better. I hate to see you sick  Love you!</td><td>2009-04-07T05:51:25.000+0000</td><td>0.0</td></tr><tr><td>is tireddddddd. want to sleep but i have an assignment to finish and an exam tomorrow to study for </td><td>2009-04-07T05:51:26.000+0000</td><td>0.0</td></tr><tr><td>You know, I was thinking... I need money </td><td>2009-04-07T05:51:27.000+0000</td><td>0.0</td></tr><tr><td>omg..its jst teusday </td><td>2009-04-07T05:51:33.000+0000</td><td>0.0</td></tr><tr><td>@ddlovato @David_Henrie ummmmm i cant find it. </td><td>2009-04-07T05:51:34.000+0000</td><td>0.0</td></tr><tr><td>Just heard that they found Sandra Cantu... She was only 8 yrs old </td><td>2009-04-07T05:51:34.000+0000</td><td>0.0</td></tr><tr><td>@corrosivecandy Ive forgotten how to snoo-snoo  I wonder if snoo-snoo and I will ever meet again...</td><td>2009-04-07T05:51:40.000+0000</td><td>0.0</td></tr><tr><td>@AmaNorris wow that last tweet made me seem like a giant sexist...sorry about that </td><td>2009-04-07T05:51:44.000+0000</td><td>0.0</td></tr><tr><td>My bathtub drain is fired: it haz 1 job 2 do, &amp; it iz FAIL. I got all Drano on its ass, &amp; iz STILL NOT DRAINING. I wanna shower, dangit!! </td><td>2009-04-07T05:51:46.000+0000</td><td>0.0</td></tr><tr><td>stuck at home </td><td>2009-04-07T05:51:48.000+0000</td><td>0.0</td></tr><tr><td>@nomadicmatt mine is 1/10  how do you get it up?</td><td>2009-04-07T05:51:49.000+0000</td><td>0.0</td></tr><tr><td>Duckling in famous children's book stolen from Boston's Public Garden - The Boston Globe http://tinyurl.com/dc2htx via @ShareThis OH NO!! </td><td>2009-04-07T05:51:50.000+0000</td><td>0.0</td></tr><tr><td>@Appomattox_News Thank you! However, I hate to be on the same list that includes 2 convicts.  </td><td>2009-04-07T05:51:51.000+0000</td><td>0.0</td></tr><tr><td>Heading to Altrincham, again! Out of hours install </td><td>2009-04-07T05:51:52.000+0000</td><td>0.0</td></tr><tr><td>MORNING!!! Good im bloody knackered!!! Work is not for me today  HELPPP!!!! xxx</td><td>2009-04-07T05:51:53.000+0000</td><td>0.0</td></tr><tr><td>@jeffreecuntstar  I don't have a garage.  But you can park in my driveway!</td><td>2009-04-07T05:51:59.000+0000</td><td>0.0</td></tr><tr><td>@lauredhel  What happened?</td><td>2009-04-07T05:52:07.000+0000</td><td>0.0</td></tr><tr><td>&quot;On popular music&quot; by T.W.Adorno is probably the most difficult reading ever prescribed, I'm actually struggling to continue </td><td>2009-04-07T05:52:06.000+0000</td><td>0.0</td></tr><tr><td>http://twitpic.com/2y36e - cant see the flowers falling  i dont have a camera, just my cellphone</td><td>2009-04-07T05:52:11.000+0000</td><td>0.0</td></tr><tr><td>We've been good. I'm not liking the snow right now, was getting used to the nice Spring-like weather.  How about you?</td><td>2009-04-07T05:52:13.000+0000</td><td>0.0</td></tr><tr><td>@brian_armstrong What a pity YouTube is currently blocked in China.  I can't see the vids. </td><td>2009-04-07T05:52:19.000+0000</td><td>0.0</td></tr><tr><td>@margaretcho what happened to your show it was the hightlight of my life </td><td>2009-04-07T05:52:18.000+0000</td><td>0.0</td></tr><tr><td>This is the best leather sofa in the world!  It's in the office though which means I'm still here working </td><td>2009-04-07T05:52:21.000+0000</td><td>0.0</td></tr><tr><td>Still 3 more days until my Internet gets uncapped </td><td>2009-04-07T05:52:23.000+0000</td><td>0.0</td></tr><tr><td>If he doesn't get better in a few days, he could have something lodged in his belly </td><td>2009-04-07T05:52:25.000+0000</td><td>0.0</td></tr><tr><td>i Love my atekinzz so much. &amp;&amp; i soo miss her.. </td><td>2009-04-07T05:52:27.000+0000</td><td>0.0</td></tr><tr><td>I wanna sneak into the zoo and play with the kitties </td><td>2009-04-07T05:52:31.000+0000</td><td>0.0</td></tr><tr><td>@lolitariot oh no  hope you're not getting sick too!</td><td>2009-04-07T05:52:38.000+0000</td><td>0.0</td></tr><tr><td>@alejandralei i dont think i can cause its my cousins birthday party </td><td>2009-04-07T05:52:39.000+0000</td><td>0.0</td></tr><tr><td>Our sweet little man just fell asleep while waiting up for daddy and big brother to get home!  Poor baby, he missed them so much today!</td><td>2009-04-07T05:52:42.000+0000</td><td>0.0</td></tr><tr><td>the angel is going to miss the athlete this weekend </td><td>2009-04-07T05:52:40.000+0000</td><td>0.0</td></tr><tr><td>trust is hard </td><td>2009-04-07T05:52:44.000+0000</td><td>0.0</td></tr><tr><td>have watched that considering today. yaknow. shawnna tomomorrow;i need my bestfriend </td><td>2009-04-07T05:52:47.000+0000</td><td>0.0</td></tr><tr><td>Grr i want to keep reading but if i do i wont have anything left to read </td><td>2009-04-07T05:52:50.000+0000</td><td>0.0</td></tr><tr><td>atekinzz, where in the world are you?? </td><td>2009-04-07T05:52:50.000+0000</td><td>0.0</td></tr><tr><td>@RumLover No! u supposed to be my date </td><td>2009-04-07T05:52:51.000+0000</td><td>0.0</td></tr><tr><td>pears &amp; Brie, bottle of Cabernet, and &quot;Win a Date With Tad Hamilton&quot;... oh gawwd my life flashed forward to when I'm 40 with my 75 cats </td><td>2009-04-07T05:52:56.000+0000</td><td>0.0</td></tr><tr><td>Crap. I need more dresses too. </td><td>2009-04-07T05:52:59.000+0000</td><td>0.0</td></tr><tr><td>@kaeeeep yeah! i know! it was horrible!!!! ugh. saddening. </td><td>2009-04-07T05:53:04.000+0000</td><td>0.0</td></tr><tr><td>@Brodhe geez ur no fun are you </td><td>2009-04-07T05:53:06.000+0000</td><td>0.0</td></tr><tr><td>I wanna be in a punk rock band again </td><td>2009-04-07T05:53:14.000+0000</td><td>0.0</td></tr><tr><td>@jyesmith That's a lot of angst for a Tuesday afternoon </td><td>2009-04-07T05:53:15.000+0000</td><td>0.0</td></tr><tr><td>I'm very glad Britney isn't crazy anymore! That was one hell of a show! Now I'm sad that it's over.  Next up...AP at Cook County!</td><td>2009-04-07T05:53:19.000+0000</td><td>0.0</td></tr><tr><td>has a huuuge headache! omg I feel like crap! </td><td>2009-04-07T05:53:18.000+0000</td><td>0.0</td></tr><tr><td>@Anistorm Sorry </td><td>2009-04-07T05:53:39.000+0000</td><td>0.0</td></tr><tr><td>@cleders sorry...i was rooting for them too... </td><td>2009-04-07T05:53:40.000+0000</td><td>0.0</td></tr><tr><td>Man, that took forever. </td><td>2009-04-07T05:53:47.000+0000</td><td>0.0</td></tr><tr><td>@shandasaurus  I see.</td><td>2009-04-07T05:53:49.000+0000</td><td>0.0</td></tr><tr><td>I am listing more items on ebay to sell!  Takes forever..meanwhile Coleman is watching The Hills season premier without me.. </td><td>2009-04-07T05:53:50.000+0000</td><td>0.0</td></tr><tr><td>Just got my presentation done, 23 slides done...  I'm crying for this week will be the hardest of all weeks.</td><td>2009-04-07T05:53:52.000+0000</td><td>0.0</td></tr><tr><td>Just lost $160 </td><td>2009-04-07T05:53:53.000+0000</td><td>0.0</td></tr><tr><td>I don't like the previously on skins thing that starts at season two. I like it when it went straight into the intro like before </td><td>2009-04-07T05:53:55.000+0000</td><td>0.0</td></tr><tr><td>@Houndour ...i wish i was there...i'm pretty good at scaring the shit out of people </td><td>2009-04-07T05:53:55.000+0000</td><td>0.0</td></tr><tr><td>Going to sound vain... but running out of my fav lip gloss </td><td>2009-04-07T05:55:25.000+0000</td><td>0.0</td></tr><tr><td>@stuiy never again will I click on a link that screams, &quot;I'm a spider, I'm a spider&quot;. I should have known better. yucky </td><td>2009-04-07T05:55:30.000+0000</td><td>0.0</td></tr><tr><td>Why is that when you have time off from work you get sick? </td><td>2009-04-07T05:55:37.000+0000</td><td>0.0</td></tr><tr><td>@pratama Same iMac came out $320 more in Indonesia than the States. </td><td>2009-04-07T05:55:40.000+0000</td><td>0.0</td></tr><tr><td>Dammit... I need to stop buying furniture </td><td>2009-04-07T05:55:48.000+0000</td><td>0.0</td></tr><tr><td>@Miss_Sil no i was half asleep and turned off the laptop after that </td><td>2009-04-07T05:55:48.000+0000</td><td>0.0</td></tr><tr><td>Death is peaceful,  life however, bites </td><td>2009-04-07T05:55:53.000+0000</td><td>0.0</td></tr><tr><td> i think @JonathanRKnight lost the net ? sure hope not</td><td>2009-04-07T05:55:54.000+0000</td><td>0.0</td></tr><tr><td>http://is.gd/r8Zf,  http://is.gd/r8Zy, and  http://is.gd/r8ZG - test footage with my girlfriend (in HD) The dark one is underxposed </td><td>2009-04-07T05:56:00.000+0000</td><td>0.0</td></tr><tr><td>Such a tough game to watch tonight for State  Finally going to bed after also staying up to watch the season premiere of the Hills!</td><td>2009-04-07T05:56:01.000+0000</td><td>0.0</td></tr><tr><td>Seems jRuby support for hpricot is now two versions behind </td><td>2009-04-07T05:56:00.000+0000</td><td>0.0</td></tr><tr><td>@JinxCat Unlike my sister...I still don't have one </td><td>2009-04-07T05:56:03.000+0000</td><td>0.0</td></tr><tr><td>Fraking app store is pissing me off   http://tinyurl.com/c4ooho</td><td>2009-04-07T05:56:08.000+0000</td><td>0.0</td></tr><tr><td>Logging out. I need to study.... </td><td>2009-04-07T05:56:13.000+0000</td><td>0.0</td></tr><tr><td>anyone else having problems accessing TTB??? I cant get on!!! </td><td>2009-04-07T05:56:17.000+0000</td><td>0.0</td></tr><tr><td>I strongly dislike people who make stupid comments and dont know the whole story </td><td>2009-04-07T05:56:18.000+0000</td><td>0.0</td></tr><tr><td>@emmaketurah  i'm sorry Emma, is swarley a goldfish? i'm sad for u.</td><td>2009-04-07T05:56:20.000+0000</td><td>0.0</td></tr><tr><td>All my tweets are already gone, aren't they  Missed you guys tonight.</td><td>2009-04-07T05:56:23.000+0000</td><td>0.0</td></tr><tr><td>Can't sleep again. Face is kinda swollen. Don't let me be allergic to the thing that'll get me to Thursday. School tomorrow? Doubtful. </td><td>2009-04-07T05:56:25.000+0000</td><td>0.0</td></tr><tr><td>@Snick_the_Dog If Izzy's on the cat tree, she'll stare him down, but if she's on the floor, he chases and she runs. </td><td>2009-04-07T05:56:32.000+0000</td><td>0.0</td></tr><tr><td>I am officially banning godaddy.com from my comp. My head hurts from the small print AND I wasted $10 that could've happily gone to Boba </td><td>2009-04-07T05:56:35.000+0000</td><td>0.0</td></tr><tr><td>@HumanOpium pretty much just scary for me </td><td>2009-04-07T05:56:36.000+0000</td><td>0.0</td></tr><tr><td>@ilovepie mines too... I'm finding it well hard to get fit... </td><td>2009-04-07T05:56:37.000+0000</td><td>0.0</td></tr><tr><td>Good morning! Ready 2 go, but I want 2 go back 2 bed </td><td>2009-04-07T05:56:40.000+0000</td><td>0.0</td></tr><tr><td>hates waiting for mails </td><td>2009-04-07T05:56:42.000+0000</td><td>0.0</td></tr><tr><td>wheat bread from the dollar store just doesn't toast nicely  going over my taxes and calling it an early night</td><td>2009-04-07T05:56:50.000+0000</td><td>0.0</td></tr><tr><td>Why Kutner? I mean I knew something was going to happen to someone but it was so sad. I &lt;3 House and it was well done, but I'm still sad </td><td>2009-04-07T05:56:56.000+0000</td><td>0.0</td></tr><tr><td>@JonathanRKnight aw ok goonite....  </td><td>2009-04-07T05:56:58.000+0000</td><td>0.0</td></tr><tr><td>ill so i cant go to the cinema!! </td><td>2009-04-07T05:57:01.000+0000</td><td>0.0</td></tr><tr><td>Fell asleep . . . Really didn't mean too  *christina*</td><td>2009-04-07T05:57:05.000+0000</td><td>0.0</td></tr><tr><td>@KelleyRowe hey, you remember that time we used to be friends?? ;)  ugh. vomit. sick.  i need sleep </td><td>2009-04-07T05:57:07.000+0000</td><td>0.0</td></tr><tr><td>my lymph nodes are as massive as rahm emanuel's balls right now </td><td>2009-04-07T05:57:07.000+0000</td><td>0.0</td></tr><tr><td>Oh no my computer sucks. I don't think i'll be able to listen to the Xbox 360 Fancast tonite </td><td>2009-04-07T05:57:14.000+0000</td><td>0.0</td></tr><tr><td>is missing playing my trumpet </td><td>2009-04-07T05:57:15.000+0000</td><td>0.0</td></tr><tr><td>My throat is still really sore. I was meant to be going on a 5 day camp from Friday but not so sure now </td><td>2009-04-07T05:57:24.000+0000</td><td>0.0</td></tr><tr><td>@sasii I know exactly how you feel! </td><td>2009-04-07T05:57:27.000+0000</td><td>0.0</td></tr><tr><td>At work </td><td>2009-04-07T05:57:28.000+0000</td><td>0.0</td></tr><tr><td>Well bed time now. 1 am. *sighs* Back to 6 am mornings for a week on Wednesday. </td><td>2009-04-07T05:57:32.000+0000</td><td>0.0</td></tr><tr><td>@hert Jesus Camp? Yeah... </td><td>2009-04-07T05:57:33.000+0000</td><td>0.0</td></tr><tr><td>@MaryBethune oh no! with everything that happened today, i forgot we were going dress shopping for the opera tomorrow. </td><td>2009-04-07T05:57:33.000+0000</td><td>0.0</td></tr><tr><td>Turtles are better than my Mac - lasts longer and moves faster </td><td>2009-04-07T05:57:37.000+0000</td><td>0.0</td></tr><tr><td>I am soaked. This is not pleasant </td><td>2009-04-07T05:57:41.000+0000</td><td>0.0</td></tr><tr><td>@ginayates Sorry to hear about Maggie.    Thoughts to your mum.</td><td>2009-04-07T05:57:43.000+0000</td><td>0.0</td></tr><tr><td>@ewarden, you may have to email this one to me  I hope you feel better.</td><td>2009-04-07T05:57:43.000+0000</td><td>0.0</td></tr><tr><td>@miamiiboii dead @ yu gettin on wen im leavin </td><td>2009-04-07T05:57:44.000+0000</td><td>0.0</td></tr><tr><td>@arlenecd PLEASE TELL ME THAT'S SOMEWHERE CLOSE TO CALIFORNIA!!! LOL! </td><td>2009-04-07T05:57:44.000+0000</td><td>0.0</td></tr><tr><td>@phlaimeaux where are you? </td><td>2009-04-07T05:57:47.000+0000</td><td>0.0</td></tr><tr><td>stupid arranged marriages... i'll convert so you can marry me...love you! </td><td>2009-04-07T05:57:52.000+0000</td><td>0.0</td></tr><tr><td>@emilyruppe Well he said that he is a looser, and that is what the show implies </td><td>2009-04-07T05:57:50.000+0000</td><td>0.0</td></tr><tr><td>Poor Sandra Cantu &amp; the Cantu family! My prayers go out to them! What a sick world we live in. She was only 8 </td><td>2009-04-07T05:57:50.000+0000</td><td>0.0</td></tr><tr><td>fuck omg  austins always there though man &lt;3 love you</td><td>2009-04-07T05:57:54.000+0000</td><td>0.0</td></tr><tr><td>@nicolerichie I cried so hard when Matthew died </td><td>2009-04-07T05:57:54.000+0000</td><td>0.0</td></tr><tr><td>sad that the 'feet' of my macbook just fell off : sad that the 'feet' of my macbook just fell off </td><td>2009-04-07T05:57:57.000+0000</td><td>0.0</td></tr><tr><td>@chordsy - why am I the last to find out about these things? Like that you're on the twitter too. </td><td>2009-04-07T05:57:59.000+0000</td><td>0.0</td></tr><tr><td>@lovebscott absolutely not!! </td><td>2009-04-07T05:58:04.000+0000</td><td>0.0</td></tr><tr><td>http://twitpic.com/2y3cf - Filled with curry  the true indian in me is coming out</td><td>2009-04-07T05:58:05.000+0000</td><td>0.0</td></tr><tr><td>im soooo cold right now </td><td>2009-04-07T05:58:07.000+0000</td><td>0.0</td></tr><tr><td>@heidimontag lol I kant believe cam got beat upp sooo embarasssiiiin </td><td>2009-04-07T05:58:08.000+0000</td><td>0.0</td></tr><tr><td>@JonathanRKnight Good Knight hun! Looking forward to ur tweets again! Hate that i keep missing out on the fun cuz of the time difference </td><td>2009-04-07T05:58:08.000+0000</td><td>0.0</td></tr><tr><td>Tumblr: This is exactly how it feels wearing a �tie�  http://tinyurl.com/c8bvqh</td><td>2009-04-07T05:58:18.000+0000</td><td>0.0</td></tr><tr><td>@daniela_95616 hahaa!! i just realized &quot;impune&quot; definitely isnt the word i wanted... dang. i'm so unclever. </td><td>2009-04-07T05:58:24.000+0000</td><td>0.0</td></tr><tr><td>watching old videos of dance team and such... makes me miss it  </td><td>2009-04-07T05:58:27.000+0000</td><td>0.0</td></tr><tr><td>Wahh  no CSI anywhere! DVR'ed I Love Money 2 though - gonna watch it then sleep - Goodnight Tweeters&lt;3</td><td>2009-04-07T05:58:26.000+0000</td><td>0.0</td></tr><tr><td>Struggling hard with Inventory </td><td>2009-04-07T05:58:29.000+0000</td><td>0.0</td></tr><tr><td>@ddlovato Do you hate us?? Please don't </td><td>2009-04-07T05:58:30.000+0000</td><td>0.0</td></tr><tr><td>@ballinbitch haha im not THAT ballin. I still got bills to paaaaay </td><td>2009-04-07T05:58:33.000+0000</td><td>0.0</td></tr><tr><td>I'm in one of those days when I really just want to work from home.  Crap. </td><td>2009-04-07T05:58:36.000+0000</td><td>0.0</td></tr><tr><td>@paul_e_wog Wait...is it a game or just episodes? I'm so confused. </td><td>2009-04-07T05:58:37.000+0000</td><td>0.0</td></tr><tr><td>@carlyw66 HAHA. I cried...  I guess he did....</td><td>2009-04-07T05:58:37.000+0000</td><td>0.0</td></tr><tr><td>I don't get statistics!  Its all a bunch of mumbo jumbo for me.</td><td>2009-04-07T05:58:42.000+0000</td><td>0.0</td></tr><tr><td>@sloanb Got it, sadly, only works for UK &amp; US at the moment </td><td>2009-04-07T05:58:42.000+0000</td><td>0.0</td></tr><tr><td>Evicted </td><td>2009-04-07T06:00:18.000+0000</td><td>0.0</td></tr><tr><td>doesn't enjoy learning CSS. </td><td>2009-04-07T06:00:20.000+0000</td><td>0.0</td></tr><tr><td>@nachojohnny Brian don't make me fuck u up LOL I replied 2 ur message...did u get my # ? I miss u </td><td>2009-04-07T06:00:22.000+0000</td><td>0.0</td></tr><tr><td>@heidimontag I  dvr'd it and went to watch it, apparently the dish network went down SO I MISSED IT    I will have to catch a rerun!</td><td>2009-04-07T06:00:24.000+0000</td><td>0.0</td></tr><tr><td>@JessDubb lmao. U may have to wait for another season to come thru. its summe boo. Hot nd dry ass weather </td><td>2009-04-07T06:00:26.000+0000</td><td>0.0</td></tr><tr><td>@LizChavez I can't set my feet on the ground. The missing eyelid people might get me!  </td><td>2009-04-07T06:00:29.000+0000</td><td>0.0</td></tr><tr><td>@daniela_95616 my english professor would be ashamed. </td><td>2009-04-07T06:00:31.000+0000</td><td>0.0</td></tr><tr><td>[-O] I wish the frogs weren't becoming extinct    http://tinyurl.com/cxe8w7</td><td>2009-04-07T06:00:34.000+0000</td><td>0.0</td></tr><tr><td>Came home from Cross County, Tired as </td><td>2009-04-07T06:00:35.000+0000</td><td>0.0</td></tr><tr><td>I don't want to walk home in this snow. Who wants to pick me up? </td><td>2009-04-07T06:00:36.000+0000</td><td>0.0</td></tr><tr><td>@heidimontag Lauren is being stubborn. she loves you, you love her.  I feel so bad for you, though. it made me cry  lol!</td><td>2009-04-07T06:00:36.000+0000</td><td>0.0</td></tr><tr><td>is grouchy. and wants bmar </td><td>2009-04-07T06:00:47.000+0000</td><td>0.0</td></tr><tr><td>my heart is broken every morning dropping Foo at pre school, now i understand when moms say &quot;he has my heart broken&quot;. </td><td>2009-04-07T06:00:55.000+0000</td><td>0.0</td></tr><tr><td>Not feeling well and back hurts </td><td>2009-04-07T06:00:58.000+0000</td><td>0.0</td></tr><tr><td>Im in the mood for some chocolate. I want..... Miniature Reeses cups. Now </td><td>2009-04-07T06:01:02.000+0000</td><td>0.0</td></tr><tr><td>I can't take this heat! It's like an oven in here. I feel sick nwo </td><td>2009-04-07T06:01:01.000+0000</td><td>0.0</td></tr><tr><td>@nick_carter Come to the chat  just 15 minutes  please? http://fanclub.backstreetboys.com/chat.php</td><td>2009-04-07T06:01:04.000+0000</td><td>0.0</td></tr><tr><td>Boredd. Colddd  Internet keeps stuffing up</td><td>2009-04-07T06:01:04.000+0000</td><td>0.0</td></tr><tr><td>I had a horrible nightmare last night which affected my sleep, now I'm really tired </td><td>2009-04-07T06:01:14.000+0000</td><td>0.0</td></tr><tr><td>im lonely  keep me company! 22 female, new york</td><td>2009-04-07T06:01:15.000+0000</td><td>0.0</td></tr><tr><td>@Born_4_Broadway Lost  and it was St. Ignacius Prepatory School. Haha.</td><td>2009-04-07T06:01:18.000+0000</td><td>0.0</td></tr><tr><td>@birutagme yeah  it was really depressing... stuff like that gets to me</td><td>2009-04-07T06:01:21.000+0000</td><td>0.0</td></tr><tr><td>@whoisariston No problem, tongue-in-cheek remark.  Lots of acronyms, but no NZ </td><td>2009-04-07T06:01:26.000+0000</td><td>0.0</td></tr><tr><td>@greggrunberg hey you said matt was gonna go all ballistic... i was disappointed  good ep tho mostly</td><td>2009-04-07T06:01:26.000+0000</td><td>0.0</td></tr><tr><td>ugh horrible ending to the sandra kantu story  prayers go out.</td><td>2009-04-07T06:01:40.000+0000</td><td>0.0</td></tr><tr><td>@danielledeleasa http://twitpic.com/2y1pe - I hate 2 B allergic  i want a puppy soo bad that i've already thought some cool names</td><td>2009-04-07T06:01:53.000+0000</td><td>0.0</td></tr><tr><td>Morning folks 7.00 am ..yawn! Up &amp; away to see to horses - hope Twitter is better behaved today!  Last night was a travesty </td><td>2009-04-07T06:01:54.000+0000</td><td>0.0</td></tr><tr><td>@QuanDotCom I miss mine too! </td><td>2009-04-07T06:01:55.000+0000</td><td>0.0</td></tr><tr><td>@AmandaEnglund Sorry to hear about your loss.     There have been many this year so far.</td><td>2009-04-07T06:01:56.000+0000</td><td>0.0</td></tr><tr><td>@nicolerichie Gossip Girl was a repeat </td><td>2009-04-07T06:01:59.000+0000</td><td>0.0</td></tr><tr><td>@InYourEyes2410 I reckon </td><td>2009-04-07T06:02:00.000+0000</td><td>0.0</td></tr><tr><td>finding it really hard to use twitter </td><td>2009-04-07T06:02:00.000+0000</td><td>0.0</td></tr><tr><td>I've been stuck in this house for two days </td><td>2009-04-07T06:02:04.000+0000</td><td>0.0</td></tr><tr><td>is really sad and doesn't really know y!!??!!! </td><td>2009-04-07T06:02:06.000+0000</td><td>0.0</td></tr><tr><td>@thousand_miles no </td><td>2009-04-07T06:02:13.000+0000</td><td>0.0</td></tr><tr><td>Maybe one of these years I'll get a tax return.  A girl can dream, right?</td><td>2009-04-07T06:02:18.000+0000</td><td>0.0</td></tr><tr><td>Back at work, tired as hell and i feel a cold coming </td><td>2009-04-07T06:02:19.000+0000</td><td>0.0</td></tr><tr><td>@clarianne @Knot2serious APRIL 9TH ISN'T COMING SOON ENOUGH </td><td>2009-04-07T06:02:26.000+0000</td><td>0.0</td></tr><tr><td>@hannahsix cream for his eye and he may have herpes - not ocular herpes, but a different strain.    He's doing okay though.</td><td>2009-04-07T06:02:31.000+0000</td><td>0.0</td></tr><tr><td>gotta repeat  whole art folio cuz old one with a whole terms work got wet </td><td>2009-04-07T06:02:31.000+0000</td><td>0.0</td></tr><tr><td>I'm ready for the weekend already. It's only Monday. </td><td>2009-04-07T06:02:36.000+0000</td><td>0.0</td></tr><tr><td>@lovebscott umm nope..think im an insomniac ..plus i got the flu...i'lll be sleepin like a phuckin fish outta water any minute now! </td><td>2009-04-07T06:02:39.000+0000</td><td>0.0</td></tr><tr><td>has Finland sleeping for the night, not really enough time </td><td>2009-04-07T06:02:41.000+0000</td><td>0.0</td></tr><tr><td>@lunafiko can't wait to try em but prolly have to wait until next weekend at the earliest </td><td>2009-04-07T06:02:41.000+0000</td><td>0.0</td></tr><tr><td>Shiner is taking up all my bed and blankets! </td><td>2009-04-07T06:02:42.000+0000</td><td>0.0</td></tr><tr><td>@clarianne APRIL 9TH ISN'T COMING SOON ENOUGH </td><td>2009-04-07T06:02:45.000+0000</td><td>0.0</td></tr><tr><td>wants to cry </td><td>2009-04-07T06:02:45.000+0000</td><td>0.0</td></tr><tr><td>I need to go to the bank tomorrow before I go broke... </td><td>2009-04-07T06:02:48.000+0000</td><td>0.0</td></tr><tr><td>This earthquake in italy has me sadden.  it's only three hours away from naples, where my family is </td><td>2009-04-07T06:02:53.000+0000</td><td>0.0</td></tr><tr><td>i should be sleeping, i have a stressed out week coming to me. </td><td>2009-04-07T06:02:54.000+0000</td><td>0.0</td></tr><tr><td>@dragoneer Yea   I am working tp hack my server to do the 12player thing for folks</td><td>2009-04-07T06:02:55.000+0000</td><td>0.0</td></tr><tr><td>has hurt her ankle!! and is going to the dr </td><td>2009-04-07T06:02:56.000+0000</td><td>0.0</td></tr><tr><td>@raymondroman oh noes. how did you manage to send something to the trash can AND empty it without noticing! i feel for ya </td><td>2009-04-07T06:03:10.000+0000</td><td>0.0</td></tr><tr><td>Lost my free copy of radioactive so can't put it on my ipod grr!And i can't go out + buy 'nother coz it came with that paper </td><td>2009-04-07T06:03:12.000+0000</td><td>0.0</td></tr><tr><td>doing make up shit </td><td>2009-04-07T06:03:14.000+0000</td><td>0.0</td></tr><tr><td>Photoshop, I hate it when you crash </td><td>2009-04-07T06:03:16.000+0000</td><td>0.0</td></tr><tr><td>vacations makes me feel sick! </td><td>2009-04-07T06:03:23.000+0000</td><td>0.0</td></tr><tr><td>you shouldn't have gone </td><td>2009-04-07T06:03:24.000+0000</td><td>0.0</td></tr><tr><td>listening to Murd and 9th wonder- just chillen out missing my crazy sex life  </td><td>2009-04-07T06:03:34.000+0000</td><td>0.0</td></tr><tr><td>@louie094: shooting!?!! be careful, luisa </td><td>2009-04-07T06:03:35.000+0000</td><td>0.0</td></tr><tr><td>@hillary006 I'm sure everyone has ruined my gift to you  Whitney has my serious Cell #...We doing easter as well?</td><td>2009-04-07T06:03:39.000+0000</td><td>0.0</td></tr><tr><td>is at Beso in Hollywood... so tired </td><td>2009-04-07T06:03:43.000+0000</td><td>0.0</td></tr><tr><td>I don't want to wake up early tomorrow.  Damn you, work!</td><td>2009-04-07T06:03:48.000+0000</td><td>0.0</td></tr><tr><td>just finished watching the movie Prayers for Bobby. Broke my heart </td><td>2009-04-07T06:03:50.000+0000</td><td>0.0</td></tr><tr><td>@syekr is myki really horrible? </td><td>2009-04-07T06:05:28.000+0000</td><td>0.0</td></tr><tr><td>@stephenkruiser i had 2 put my dog down today too  someone ran her over</td><td>2009-04-07T06:05:29.000+0000</td><td>0.0</td></tr><tr><td>@NevadaWolf Sorry to hear about your DNF run tonight. Always a risk to get bad coords on an FTF!! </td><td>2009-04-07T06:05:32.000+0000</td><td>0.0</td></tr><tr><td>@Honey3223 I did get some disgruntled people when I wrote my ESN, but the 1000 hits in one day made up for it. Bill pulls in 250 tops </td><td>2009-04-07T06:05:33.000+0000</td><td>0.0</td></tr><tr><td>@moony394 OHH! OMG. LMAO. I'm crying right now, LOL! KUTNERRRR was the best! </td><td>2009-04-07T06:05:38.000+0000</td><td>0.0</td></tr><tr><td>came back from running and took a shower...why does my lower stomach still hurt after exercising? </td><td>2009-04-07T06:05:38.000+0000</td><td>0.0</td></tr><tr><td>watching Fallon with mom and working on a project...school is hard </td><td>2009-04-07T06:05:41.000+0000</td><td>0.0</td></tr><tr><td>56 min till home time and counting! I have a craving to visit the MAC store but they will have closed by the time I get there </td><td>2009-04-07T06:05:41.000+0000</td><td>0.0</td></tr><tr><td>@stephenkruiser I am so sorry to hear that!  Take care!</td><td>2009-04-07T06:05:44.000+0000</td><td>0.0</td></tr><tr><td>@PaulColes  hmmm...greed is good when it motivates the individual to do better-not so much when it takes away from others </td><td>2009-04-07T06:05:45.000+0000</td><td>0.0</td></tr><tr><td>@GABBYiSACTiVE brat! You have to rub it in, don't you.... I want a mocha </td><td>2009-04-07T06:05:48.000+0000</td><td>0.0</td></tr><tr><td>KUTNERRRR!  WHY??? WHY??????  And to think that 13 is still on the show?? UGH. Kutner/Kal Penn - you've been the bright star in Ho ...</td><td>2009-04-07T06:05:52.000+0000</td><td>0.0</td></tr><tr><td>@redvinylgirl my mom has it. I wish you the best of luck </td><td>2009-04-07T06:05:51.000+0000</td><td>0.0</td></tr><tr><td>I so hate homeworks -.- My head hurts so bad </td><td>2009-04-07T06:05:54.000+0000</td><td>0.0</td></tr><tr><td>got the ebay blues! item i want jumped from no bidders to over $100 in an hour.. still has 3 hours to go. i'd better not get my hopes up </td><td>2009-04-07T06:05:58.000+0000</td><td>0.0</td></tr></tbody></table></div>"
      ]
     },
     "metadata": {
      "application/vnd.databricks.v1+output": {
       "addedWidgets": {},
       "aggData": [],
       "aggError": "",
       "aggOverflow": false,
       "aggSchema": [],
       "aggSeriesLimitReached": false,
       "aggType": "",
       "arguments": {},
       "columnCustomDisplayInfos": {},
       "data": [
        [
         "@switchfoot http://twitpic.com/2y1zl - Awww, that's a bummer.  You shoulda got David Carr of Third Day to do it. ;D",
         "2009-04-07T05:19:45.000+0000",
         0.0
        ],
        [
         "is upset that he can't update his Facebook by texting it... and might cry as a result  School today also. Blah!",
         "2009-04-07T05:19:49.000+0000",
         0.0
        ],
        [
         "@Kenichan I dived many times for the ball. Managed to save 50%  The rest go out of bounds",
         "2009-04-07T05:19:53.000+0000",
         0.0
        ],
        [
         "my whole body feels itchy and like its on fire ",
         "2009-04-07T05:19:57.000+0000",
         0.0
        ],
        [
         "@nationwideclass no, it's not behaving at all. i'm mad. why am i here? because I can't see you all over there. ",
         "2009-04-07T05:19:57.000+0000",
         0.0
        ],
        [
         "@Kwesidei not the whole crew ",
         "2009-04-07T05:20:00.000+0000",
         0.0
        ],
        [
         "Need a hug ",
         "2009-04-07T05:20:03.000+0000",
         0.0
        ],
        [
         "@LOLTrish hey  long time no see! Yes.. Rains a bit ,only a bit  LOL , I'm fine thanks , how's you ?",
         "2009-04-07T05:20:03.000+0000",
         0.0
        ],
        [
         "@Tatiana_K nope they didn't have it ",
         "2009-04-07T05:20:05.000+0000",
         0.0
        ],
        [
         "@twittera que me muera ? ",
         "2009-04-07T05:20:09.000+0000",
         0.0
        ],
        [
         "spring break in plain city... it's snowing ",
         "2009-04-07T05:20:16.000+0000",
         0.0
        ],
        [
         "I just re-pierced my ears ",
         "2009-04-07T05:20:17.000+0000",
         0.0
        ],
        [
         "@caregiving I couldn't bear to watch it.  And I thought the UA loss was embarrassing . . . . .",
         "2009-04-07T05:20:19.000+0000",
         0.0
        ],
        [
         "@octolinz16 It it counts, idk why I did either. you never talk to me anymore ",
         "2009-04-07T05:20:19.000+0000",
         0.0
        ],
        [
         "@smarrison i would've been the first, but i didn't have a gun.    not really though, zac snyder's just a doucheclown.",
         "2009-04-07T05:20:20.000+0000",
         0.0
        ],
        [
         "@iamjazzyfizzle I wish I got to watch it with you!! I miss you and @iamlilnicki  how was the premiere?!",
         "2009-04-07T05:20:20.000+0000",
         0.0
        ],
        [
         "Hollis' death scene will hurt me severely to watch on film  wry is directors cut not out now?",
         "2009-04-07T05:20:22.000+0000",
         0.0
        ],
        [
         "about to file taxes ",
         "2009-04-07T05:20:25.000+0000",
         0.0
        ],
        [
         "@LettyA ahh ive always wanted to see rent  love the soundtrack!!",
         "2009-04-07T05:20:31.000+0000",
         0.0
        ],
        [
         "@FakerPattyPattz Oh dear. Were you drinking out of the forgotten table drinks? ",
         "2009-04-07T05:20:34.000+0000",
         0.0
        ],
        [
         "@alydesigns i was out most of the day so didn't get much done ",
         "2009-04-07T05:20:37.000+0000",
         0.0
        ],
        [
         "one of my friend called me, and asked to meet with her at Mid Valley today...but i've no time *sigh* ",
         "2009-04-07T05:20:38.000+0000",
         0.0
        ],
        [
         "@angry_barista I baked you a cake but I ated it ",
         "2009-04-07T05:20:40.000+0000",
         0.0
        ],
        [
         "this week is not going as i had hoped ",
         "2009-04-07T05:20:40.000+0000",
         0.0
        ],
        [
         "blagh class at 8 tomorrow ",
         "2009-04-07T05:20:41.000+0000",
         0.0
        ],
        [
         "I hate when I have to call and wake people up ",
         "2009-04-07T05:20:44.000+0000",
         0.0
        ],
        [
         "Just going to cry myself to sleep after watching Marley and Me.  ",
         "2009-04-07T05:20:50.000+0000",
         0.0
        ],
        [
         "im sad now  Miss.Lilly",
         "2009-04-07T05:20:52.000+0000",
         0.0
        ],
        [
         "ooooh.... LOL  that leslie.... and ok I won't do it again so leslie won't  get mad again ",
         "2009-04-07T05:20:56.000+0000",
         0.0
        ],
        [
         "Meh... Almost Lover is the exception... this track gets me depressed every time. ",
         "2009-04-07T05:21:04.000+0000",
         0.0
        ],
        [
         "some1 hacked my account on aim  now i have to make a new one",
         "2009-04-07T05:21:07.000+0000",
         0.0
        ],
        [
         "@alielayus I want to go to promote GEAR AND GROOVE but unfornately no ride there  I may b going to the one in Anaheim in May though",
         "2009-04-07T05:21:07.000+0000",
         0.0
        ],
        [
         "thought sleeping in was an option tomorrow but realizing that it now is not. evaluations in the morning and work in the afternoon! ",
         "2009-04-07T05:21:09.000+0000",
         0.0
        ],
        [
         "@julieebaby awe i love you too!!!! 1 am here  i miss you",
         "2009-04-07T05:21:11.000+0000",
         0.0
        ],
        [
         "@HumpNinja I cry my asian eyes to sleep at night ",
         "2009-04-07T05:21:21.000+0000",
         0.0
        ],
        [
         "ok I'm sick and spent an hour sitting in the shower cause I was too sick to stand and held back the puke like a champ. BED now ",
         "2009-04-07T05:21:20.000+0000",
         0.0
        ],
        [
         "@cocomix04 ill tell ya the story later  not a good day and ill be workin for like three more hours...",
         "2009-04-07T05:21:27.000+0000",
         0.0
        ],
        [
         "@MissXu sorry! bed time came here (GMT+1)   http://is.gd/fNge",
         "2009-04-07T05:21:30.000+0000",
         0.0
        ],
        [
         "@fleurylis I don't either. Its depressing. I don't think I even want to know about the kids in suitcases. ",
         "2009-04-07T05:21:32.000+0000",
         0.0
        ],
        [
         "Bed. Class 8-12. Work 12-3. Gym 3-5 or 6. Then class 6-10. Another day that's gonna fly by. I miss my girlfriend ",
         "2009-04-07T05:21:39.000+0000",
         0.0
        ],
        [
         "really don't feel like getting up today... but got to study to for tomorrows practical exam... ",
         "2009-04-07T05:21:39.000+0000",
         0.0
        ],
        [
         "He's the reason for the teardrops on my guitar the only one who has enough of me to break my heart ",
         "2009-04-07T05:21:46.000+0000",
         0.0
        ],
        [
         "Sad, sad, sad. I don't know why but I hate this feeling  I wanna sleep and I still can't!",
         "2009-04-07T05:21:49.000+0000",
         0.0
        ],
        [
         "@JonathanRKnight Awww I soo wish I was there to see you finally comfortable! Im sad that I missed it ",
         "2009-04-07T05:21:53.000+0000",
         0.0
        ],
        [
         "Falling asleep. Just heard about that Tracy girl's body being found. How sad  My heart breaks for that family.",
         "2009-04-07T05:21:56.000+0000",
         0.0
        ],
        [
         "@Viennah Yay! I'm happy for you with your job! But that also means less time for me and you... ",
         "2009-04-07T05:22:05.000+0000",
         0.0
        ],
        [
         "Just checked my user timeline on my blackberry, it looks like the twanking is still happening  Are ppl still having probs w/ BGs and UIDs?",
         "2009-04-07T05:22:06.000+0000",
         0.0
        ],
        [
         "Oh man...was ironing @jeancjumbe's fave top to wear to a meeting. Burnt it ",
         "2009-04-07T05:22:07.000+0000",
         0.0
        ],
        [
         "is strangely sad about LiLo and SamRo breaking up. ",
         "2009-04-07T05:22:13.000+0000",
         0.0
        ],
        [
         "@tea oh! i'm so sorry  i didn't think about that before retweeting.",
         "2009-04-07T05:22:25.000+0000",
         0.0
        ],
        [
         "Broadband plan 'a massive broken promise' http://tinyurl.com/dcuc33 via www.diigo.com/~tautao Still waiting for broadband we are ",
         "2009-04-07T05:22:23.000+0000",
         0.0
        ],
        [
         "@localtweeps Wow, tons of replies from you, may have to unfollow so I can see my friends' tweets, you're scrolling the feed a lot. ",
         "2009-04-07T05:22:24.000+0000",
         0.0
        ],
        [
         "our duck and chicken are taking wayyy too long to hatch ",
         "2009-04-07T05:22:26.000+0000",
         0.0
        ],
        [
         "Put vacation photos online a few yrs ago. PC crashed, and now I forget the name of the site. ",
         "2009-04-07T05:22:30.000+0000",
         0.0
        ],
        [
         "I need a hug ",
         "2009-04-07T05:22:32.000+0000",
         0.0
        ],
        [
         "@andywana Not sure what they are, only that they are PoS! As much as I want to, I dont think can trade away company assets sorry andy! ",
         "2009-04-07T05:22:37.000+0000",
         0.0
        ],
        [
         "@oanhLove I hate when that happens... ",
         "2009-04-07T05:22:47.000+0000",
         0.0
        ],
        [
         "I have a sad feeling that Dallas is not going to show up  I gotta say though, you'd think more shows would use music from the game. mmm",
         "2009-04-07T05:22:47.000+0000",
         0.0
        ],
        [
         "Ugh....92 degrees tomorrow ",
         "2009-04-07T05:22:49.000+0000",
         0.0
        ],
        [
         "Where did u move to?  I thought u were already in sd. ?? Hmmm. Random u found me. Glad to hear yer doing well.",
         "2009-04-07T05:22:49.000+0000",
         0.0
        ],
        [
         "@BatManYNG I miss my ps3, it's out of commission  Wutcha playing? Have you copped 'Blood On The Sand'?",
         "2009-04-07T05:22:52.000+0000",
         0.0
        ],
        [
         "just leaving the parking lot of work! ",
         "2009-04-07T05:22:55.000+0000",
         0.0
        ],
        [
         "The Life is cool. But not for Me. ",
         "2009-04-07T05:23:03.000+0000",
         0.0
        ],
        [
         "Sadly though, I've never gotten to experience the post coitus cigarette before, and now I never will. ",
         "2009-04-07T05:23:08.000+0000",
         0.0
        ],
        [
         "I had such a nice day. Too bad the rain comes in tomorrow at 5am ",
         "2009-04-07T05:23:09.000+0000",
         0.0
        ],
        [
         "@Starrbby too bad I won't be around I lost my job and can't even pay my phone bill lmao aw shucks ",
         "2009-04-07T05:23:15.000+0000",
         0.0
        ],
        [
         "Damm back to school tomorrow ",
         "2009-04-07T05:23:23.000+0000",
         0.0
        ],
        [
         "Mo jobs, no money.  how in the hell is min wage here 4 f'n clams an hour?",
         "2009-04-07T05:23:28.000+0000",
         0.0
        ],
        [
         "@katortiz  Not forever... See you soon!",
         "2009-04-07T05:23:28.000+0000",
         0.0
        ],
        [
         "@Lt_Algonquin agreed, I saw the failwhale allllll day today. ",
         "2009-04-07T05:23:30.000+0000",
         0.0
        ],
        [
         "@jdarter Oh! Haha... dude I dont really look at em unless someone says HEY I ADDED YOU. Sorry  I'm so terrible at that. I need a pop up!",
         "2009-04-07T05:23:35.000+0000",
         0.0
        ],
        [
         "@ninjen I'm sure you're right...    I need to start working out with you and the Nikster... Or Jared at least!",
         "2009-04-07T05:23:39.000+0000",
         0.0
        ],
        [
         "i really hate how people diss my bands!  Trace is clearly NOT ugly!",
         "2009-04-07T05:23:43.000+0000",
         0.0
        ],
        [
         "Gym attire today was: Puma singlet, Adidas shorts.......and black business socks and leather shoes  Lucky did not run into any cute girls.",
         "2009-04-07T05:23:43.000+0000",
         0.0
        ],
        [
         "Why won't you show my location?!   http://twitpic.com/2y2es",
         "2009-04-07T05:23:45.000+0000",
         0.0
        ],
        [
         "No picnic  my phone smells like citrus.",
         "2009-04-07T05:25:44.000+0000",
         0.0
        ],
        [
         "@ashleyac My donkey is sensitive about such comments. Nevertheless, he'd (and me'd) be glad to see your mug asap. Charger is still awol. ",
         "2009-04-07T05:25:44.000+0000",
         0.0
        ],
        [
         "No new csi tonight.  FML",
         "2009-04-07T05:25:45.000+0000",
         0.0
        ],
        [
         "i think my arms are sore from tennis ",
         "2009-04-07T05:25:46.000+0000",
         0.0
        ],
        [
         "wonders why someone that u like so much can make you so unhappy in a split seccond . depressed . ",
         "2009-04-07T05:25:49.000+0000",
         0.0
        ],
        [
         "sleep soon... i just hate saying bye and see you tomorrow for the night. ",
         "2009-04-07T05:25:52.000+0000",
         0.0
        ],
        [
         "@statravelAU just got ur newsletter, those fares really are unbelievable, shame I already booked and paid for mine ",
         "2009-04-07T05:25:53.000+0000",
         0.0
        ],
        [
         "missin' the boo ",
         "2009-04-07T05:25:53.000+0000",
         0.0
        ],
        [
         "@markhardy1974 Me too  #itm",
         "2009-04-07T05:25:54.000+0000",
         0.0
        ],
        [
         "Damn... I don't have any chalk! MY CHALKBOARD IS USELESS ",
         "2009-04-07T05:25:54.000+0000",
         0.0
        ],
        [
         "had a blast at the Getty Villa, but hates that she's had a sore throat all day. It's just getting worse too ",
         "2009-04-07T05:25:56.000+0000",
         0.0
        ],
        [
         "@msdrama hey missed ya at the meeting  sup mama",
         "2009-04-07T05:26:02.000+0000",
         0.0
        ],
        [
         "My tummy hurts.  I wonder if the hypnosis has anything to do with it? If so, it's working, I get it, STOP SMOKING!!!",
         "2009-04-07T05:26:06.000+0000",
         0.0
        ],
        [
         "why is it always the fat ones?! ",
         "2009-04-07T05:26:08.000+0000",
         0.0
        ],
        [
         "@januarycrimson Sorry, babe!!  My fam annoys me too. Thankfully, they're asleep right now. Muahaha. *evil laugh*",
         "2009-04-07T05:26:10.000+0000",
         0.0
        ],
        [
         "@Hollywoodheat I should have paid more attention when we covered photoshop in my webpage design class in undergrad ",
         "2009-04-07T05:26:10.000+0000",
         0.0
        ],
        [
         "wednesday my b-day! don't know what 2 do!! ",
         "2009-04-07T05:26:14.000+0000",
         0.0
        ],
        [
         "Poor cameron (the hills) ",
         "2009-04-07T05:26:18.000+0000",
         0.0
        ],
        [
         "pray for me please, the ex is threatening to start sh** at my/our babies 1st Birthday party. what a jerk. and I still have a headache ",
         "2009-04-07T05:26:21.000+0000",
         0.0
        ],
        [
         "@makeherfamous hmm  , do u really enjoy being with him ? if the problems are too constants u should think things more , find someone ulike",
         "2009-04-07T05:26:22.000+0000",
         0.0
        ],
        [
         "Strider is a sick little puppy  http://apps.facebook.com/dogbook/profile/view/5248435",
         "2009-04-07T05:26:27.000+0000",
         0.0
        ],
        [
         "so rylee,grace...wana go steve's party or not?? SADLY SINCE ITS EASTER I WNT B ABLE 2 DO MUCH  BUT OHH WELL.....",
         "2009-04-07T05:26:28.000+0000",
         0.0
        ],
        [
         "hey, I actually won one of my bracket pools! Too bad it wasn't the one for money ",
         "2009-04-07T05:26:29.000+0000",
         0.0
        ],
        [
         "@stark YOU don't follow me, either  and i work for you!",
         "2009-04-07T05:26:29.000+0000",
         0.0
        ],
        [
         "A bad nite for the favorite teams: Astros and Spartans lose.  The nite out with T.W. was good.",
         "2009-04-07T05:26:33.000+0000",
         0.0
        ],
        [
         " Body Of Missing Northern Calif. Girl Found: Police have found the remains of a missing Northern California girl .. http://tr.im/imji",
         "2009-04-07T05:26:33.000+0000",
         0.0
        ],
        [
         "@mangaaa I hope they will increase the capacity fast, yesterday was such a pain. Got the fail whale +15 times in 2 hours.... ",
         "2009-04-07T05:26:38.000+0000",
         0.0
        ],
        [
         "Behind on my classes for work ",
         "2009-04-07T05:26:42.000+0000",
         0.0
        ],
        [
         "watching &quot;House&quot; ",
         "2009-04-07T05:26:43.000+0000",
         0.0
        ],
        [
         "@kpreyes Remember my bum leg? Strikes back this time its serious ",
         "2009-04-07T05:26:45.000+0000",
         0.0
        ],
        [
         "@paradisej cool, i will. their are all kinds of complaints about this laptop online about overheating, but no recalls ",
         "2009-04-07T05:26:45.000+0000",
         0.0
        ],
        [
         "Emily will be glad when Mommy is done training at her new job. She misses her.  http://apps.facebook.com/dogbook/profile/view/6176014",
         "2009-04-07T05:26:48.000+0000",
         0.0
        ],
        [
         "would rather the first party send bad messages than the 3rd party send mixed ones  Sophmore year all over again?",
         "2009-04-07T05:26:49.000+0000",
         0.0
        ],
        [
         "@Henkuyinepu it's overrated ",
         "2009-04-07T05:26:52.000+0000",
         0.0
        ],
        [
         "@marykatherine_q i know! I heard it this afternoon and wondered the same thing. Moscow is so behind the times ",
         "2009-04-07T05:26:54.000+0000",
         0.0
        ],
        [
         "laying in bed with no voice.. ",
         "2009-04-07T05:26:54.000+0000",
         0.0
        ],
        [
         "I'm sooo sad!!! they killed off Kutner on House  whyyyyyyyy",
         "2009-04-07T05:26:57.000+0000",
         0.0
        ],
        [
         "@jacobsummers Sorry  tell them mea culpa from me and that I really am sorry.",
         "2009-04-07T05:27:00.000+0000",
         0.0
        ],
        [
         "@Alliana07 it didn't make any sense to me, the suicide thing. I refuse to believe that that is actually what happened. ",
         "2009-04-07T05:26:58.000+0000",
         0.0
        ],
        [
         "@salancaster  hope your ok.",
         "2009-04-07T05:27:02.000+0000",
         0.0
        ],
        [
         "@mercedesashley Damn! The grind is inspirational and saddening at the same time.  Don't want you to stop cuz I like what u do! Much love",
         "2009-04-07T05:27:08.000+0000",
         0.0
        ],
        [
         "@HibaNick yeah aw but i know i wudnt stand a chance ",
         "2009-04-07T05:27:15.000+0000",
         0.0
        ],
        [
         "ugh. cant sleep. its 1:30am. ",
         "2009-04-07T05:27:16.000+0000",
         0.0
        ],
        [
         "Hanging in Crooners. Wanna sing. Can't. Sucks. ",
         "2009-04-07T05:27:16.000+0000",
         0.0
        ],
        [
         "@eRRe_sC aaw i miss ya all too.. im leaving to BH tomorrow &quot;morning&quot; i think.. aww i wanna go to the beach w u girls!! ",
         "2009-04-07T05:27:18.000+0000",
         0.0
        ],
        [
         "Is pissed off that there's no ASBA's for a radio station. ",
         "2009-04-07T05:27:21.000+0000",
         0.0
        ],
        [
         "wednesday my b-day n don't know what 2 do!  ",
         "2009-04-07T05:27:22.000+0000",
         0.0
        ],
        [
         "I know my life has been flipped upside down when I just thought in my head that some Ramen sounds good. ",
         "2009-04-07T05:27:25.000+0000",
         0.0
        ],
        [
         "I am in pain. My back and sides hurt. Not to mention crying is made of fail. ",
         "2009-04-07T05:27:31.000+0000",
         0.0
        ],
        [
         "Late night snack, glass of OJ b/c I'm &quot;down with the sickness&quot;, then back to sleep...ugh I hate getting sick... ",
         "2009-04-07T05:27:34.000+0000",
         0.0
        ],
        [
         "@allyheman but.. but.. but.. I'm not a big fan on camilla belle ",
         "2009-04-07T05:27:35.000+0000",
         0.0
        ],
        [
         "@grum WAH I can't see clip, must be el-stupido work filters. Can't wait 'till I get a 'puter. Something else 2 blame ex 4. He broke mine ",
         "2009-04-07T05:27:45.000+0000",
         0.0
        ],
        [
         "This week just seems to get longer and longer in terms of how much I need to do.. and how much I'm actually going to get done ",
         "2009-04-07T05:27:45.000+0000",
         0.0
        ],
        [
         "I'm so cold ",
         "2009-04-07T05:27:55.000+0000",
         0.0
        ],
        [
         "@thecoolestout Ehhh don't. Weather's gonna take a turn for the ugly tomorrow ",
         "2009-04-07T05:27:56.000+0000",
         0.0
        ],
        [
         "@chelserlynn haha its so cooooold in the d! and no  but you should still go to the show. they do some incredible stuff",
         "2009-04-07T05:27:56.000+0000",
         0.0
        ],
        [
         "Hoping the tummy rumbles go away soon ",
         "2009-04-07T05:27:57.000+0000",
         0.0
        ],
        [
         "@Knights_ No, no notice. They told me I'd be working tomorrow, and then I called the agency to follow up and they said it was over. ",
         "2009-04-07T05:28:02.000+0000",
         0.0
        ],
        [
         "almost bedtime ",
         "2009-04-07T05:28:03.000+0000",
         0.0
        ],
        [
         "I'm missing you babe..  but as long as your alive I'm happy.. Yawwwnn.. I'm tired my love imma try to sleep hopefully you had a headstart",
         "2009-04-07T05:28:04.000+0000",
         0.0
        ],
        [
         "Agh...snow!!! ",
         "2009-04-07T05:28:05.000+0000",
         0.0
        ],
        [
         "i miss kenny powers ",
         "2009-04-07T05:28:07.000+0000",
         0.0
        ],
        [
         "@BridgetsBeaches Thank you for letting people know, but now I'm sad that the direct message I got wasn't actually from Bridget ",
         "2009-04-07T05:28:09.000+0000",
         0.0
        ],
        [
         "...and, India missed out its 100th Test victory n 10th consecutive win without a loss. ",
         "2009-04-07T05:28:11.000+0000",
         0.0
        ],
        [
         "@JonathanRKnight I guess that's a no then. ",
         "2009-04-07T05:28:11.000+0000",
         0.0
        ],
        [
         "sadly is going to bed. ",
         "2009-04-07T05:28:15.000+0000",
         0.0
        ],
        [
         "@ozesteph1992 Shame to hear this Stephan ",
         "2009-04-07T05:28:18.000+0000",
         0.0
        ],
        [
         "@mrsaintnick hey! i'm leavin in the morning... ",
         "2009-04-07T05:28:21.000+0000",
         0.0
        ],
        [
         "Was intending to finish editing my 536-page novel manuscript tonight, but that will probably not happen. And only 12 pages are left ",
         "2009-04-07T05:28:23.000+0000",
         0.0
        ],
        [
         "laid around too much today... now my head hurts ",
         "2009-04-07T05:28:24.000+0000",
         0.0
        ],
        [
         "@twista202 I still haven't read the 9th&amp;10th Princess diaries  Saving Francesca made me cry at the end. Hmm those are easy books.",
         "2009-04-07T05:28:24.000+0000",
         0.0
        ],
        [
         "my nokia 1110 died..  ",
         "2009-04-07T05:28:26.000+0000",
         0.0
        ],
        [
         "My mom might have breast cancer won't find out anything for. Like a week I'm so worried! ",
         "2009-04-07T05:28:26.000+0000",
         0.0
        ],
        [
         "Going to sleep. Hoping tomorrow is a better day. ",
         "2009-04-07T05:28:33.000+0000",
         0.0
        ],
        [
         "@rumblepurr lol.. wish they understood daylight savings has ended though and breakfast is an hour later  They keep waking the kids up too",
         "2009-04-07T05:28:32.000+0000",
         0.0
        ],
        [
         "@onemoreproject that is lame ",
         "2009-04-07T05:28:32.000+0000",
         0.0
        ],
        [
         "I don't understand... I really don't ",
         "2009-04-07T05:28:38.000+0000",
         0.0
        ],
        [
         "HEROES just isn't doing it for me this season... ",
         "2009-04-07T05:28:38.000+0000",
         0.0
        ],
        [
         "Living not downtown sure isn't much fun.  ",
         "2009-04-07T05:28:45.000+0000",
         0.0
        ],
        [
         "@jonathanchard Not calorie wise   I wish junk food was calorie free! I ate a thing of sour skittles and a big ass cherry coke!",
         "2009-04-07T05:28:48.000+0000",
         0.0
        ],
        [
         "Man Work is Hard ",
         "2009-04-07T05:28:51.000+0000",
         0.0
        ],
        [
         "getting sick  time for some hot tea, studying, and then sleeeep",
         "2009-04-07T05:30:34.000+0000",
         0.0
        ],
        [
         "Getting eyebrows waxed. More pain ",
         "2009-04-07T05:30:34.000+0000",
         0.0
        ],
        [
         "No phantasy star yesterday  going to work...",
         "2009-04-07T05:30:45.000+0000",
         0.0
        ],
        [
         "Oh - Just got all my MacHeist 3.0 apps - sweet. Didn't get the Espresso serial no though although they said they sent it - oh well ",
         "2009-04-07T05:30:50.000+0000",
         0.0
        ],
        [
         "Picked Mich St to win it all from the get go.  Was feeling pretty good about that pick all the way up until......tonight.  A's lost too ",
         "2009-04-07T05:30:54.000+0000",
         0.0
        ],
        [
         "is alone downstairs...working ",
         "2009-04-07T05:30:55.000+0000",
         0.0
        ],
        [
         "I feel bad for doing it ",
         "2009-04-07T05:30:56.000+0000",
         0.0
        ],
        [
         "@RyanSeacrest is it just me, or she hates anoop. i mean seriously, she's kinda mean to him. ",
         "2009-04-07T05:31:05.000+0000",
         0.0
        ],
        [
         "@pinkserendipity yes sprint has 4g only in baltimore and chicago so far ",
         "2009-04-07T05:31:09.000+0000",
         0.0
        ],
        [
         "I'm stuck awake in the middle of the night for the second day in a row. And I felt terrible yesterday. ",
         "2009-04-07T05:31:15.000+0000",
         0.0
        ],
        [
         "Thanks for bursting my bubble ",
         "2009-04-07T05:31:18.000+0000",
         0.0
        ],
        [
         "Going to school soon... can't find anything to wear!! gosh it's so hard ",
         "2009-04-07T05:31:29.000+0000",
         0.0
        ],
        [
         "@marieclr I was serious  LOL",
         "2009-04-07T05:31:31.000+0000",
         0.0
        ],
        [
         "@naughtyhaughty I had on my page for sooooo long!!! Until it got deleted  Sad day in history",
         "2009-04-07T05:31:37.000+0000",
         0.0
        ],
        [
         "Crazy wind today = no birding  http://ff.im/1XTTi",
         "2009-04-07T05:31:35.000+0000",
         0.0
        ],
        [
         "currently at work.. ",
         "2009-04-07T05:31:40.000+0000",
         0.0
        ],
        [
         "Grrr.. my ipods acting weird too! Jai ho and thinking of you aren't playing the full songs.. ughh. ",
         "2009-04-07T05:31:41.000+0000",
         0.0
        ],
        [
         "@penndbad send me the DVD cos I have missed out on heaps  NOT happy about that!",
         "2009-04-07T05:31:43.000+0000",
         0.0
        ],
        [
         "i don't see the big deal with this website ",
         "2009-04-07T05:31:45.000+0000",
         0.0
        ],
        [
         "@machineplay I'm so sorry you're having to go through this. Again.  #therapyfail",
         "2009-04-07T05:31:48.000+0000",
         0.0
        ],
        [
         "@ColinDeMar Far too out of the way for rail.  any other tips?",
         "2009-04-07T05:31:50.000+0000",
         0.0
        ],
        [
         "I'm not still up I swear. Why do I keep losing. gaining. losing. gaining. tweeps?  So heart wrenching.",
         "2009-04-07T05:31:54.000+0000",
         0.0
        ],
        [
         "Today I realized I am too good at hiding things, even I can't find it ",
         "2009-04-07T05:31:56.000+0000",
         0.0
        ],
        [
         "Staying at a friends house...house sitting, neighbors are SO loud-having a party ",
         "2009-04-07T05:31:57.000+0000",
         0.0
        ],
        [
         "@dannyvegasbaby danny im upset that i wasnt here to watch the live chat  i was in a car. for 3 hours on a trip im soooo upset!!",
         "2009-04-07T05:31:59.000+0000",
         0.0
        ],
        [
         "Check out my mug  http://www.erika-obscura.blogspot.com",
         "2009-04-07T05:32:02.000+0000",
         0.0
        ],
        [
         "Borders closed at 10 ",
         "2009-04-07T05:32:06.000+0000",
         0.0
        ],
        [
         "Downloading NIN's new album &quot;the slip&quot; - when the hell did this come out? I'm so behind the times these days ",
         "2009-04-07T05:32:12.000+0000",
         0.0
        ],
        [
         "Just woke up an already have written some e-mail... I've to go early at University today as I have to teach at 8:30 AM! ",
         "2009-04-07T05:32:16.000+0000",
         0.0
        ],
        [
         "is watching the hill . . .and its making me sad ",
         "2009-04-07T05:32:20.000+0000",
         0.0
        ],
        [
         "So many channels.... yet so so boring... lazy day again  may have to find a hobby",
         "2009-04-07T05:32:22.000+0000",
         0.0
        ],
        [
         "@supersport I miss my buddy  ill be in NY on the 25th",
         "2009-04-07T05:32:23.000+0000",
         0.0
        ],
        [
         "@robluketic  love the french. I tell people here in the south i'm qtr. french and they snarl at me.  french are beautiful people",
         "2009-04-07T05:32:28.000+0000",
         0.0
        ],
        [
         "Opps.. As I said.. I still got one day remain and now problem come ",
         "2009-04-07T05:32:28.000+0000",
         0.0
        ],
        [
         "I activated my Selfcontrol block early, meaning I can't check out the new QC.  Regularizing my internal clock is might be difficult. #fb",
         "2009-04-07T05:32:30.000+0000",
         0.0
        ],
        [
         "@HillyDoP  oH NO",
         "2009-04-07T05:32:31.000+0000",
         0.0
        ],
        [
         "spencer is not a good guy. ",
         "2009-04-07T05:32:36.000+0000",
         0.0
        ],
        [
         "@goodlaura What about Reese dying on #TTSC? And season finale next week.  #24 boring, Madame President is a crazy woman.",
         "2009-04-07T05:32:35.000+0000",
         0.0
        ],
        [
         "@JonathanRKnight I hate the limited letters,too.Hope you and the guys are fine?I pray for my dog,she�s not well ",
         "2009-04-07T05:32:38.000+0000",
         0.0
        ],
        [
         "didn't get shit done today ~ i'm so screwed ",
         "2009-04-07T05:32:40.000+0000",
         0.0
        ],
        [
         "wanttss to go out ",
         "2009-04-07T05:32:50.000+0000",
         0.0
        ],
        [
         "Is not going to sleep tonite. ",
         "2009-04-07T05:32:51.000+0000",
         0.0
        ],
        [
         "too worried and tired to post tonight ",
         "2009-04-07T05:32:54.000+0000",
         0.0
        ],
        [
         "couldn't get shit done today ~ i'm so screwed ",
         "2009-04-07T05:32:58.000+0000",
         0.0
        ],
        [
         "Job Interview in Cardiff today, wish me luck! Got about 3 hours sleep ",
         "2009-04-07T05:33:00.000+0000",
         0.0
        ],
        [
         "@stustone Your show is whack. Way worse than whack, it's wiggety-whack.    :*(:*(:*(",
         "2009-04-07T05:33:01.000+0000",
         0.0
        ],
        [
         "@DjAlizay I really don't think people choose to be that way. But I think he chose not to accept my family's help   He might be dead by now",
         "2009-04-07T05:33:11.000+0000",
         0.0
        ],
        [
         "@eloquentembrace You're going to kill me, but I've not seen DS9. I've been waiting till I can do it in one solid week sitting. ",
         "2009-04-07T05:33:13.000+0000",
         0.0
        ],
        [
         "@cheechbud i think ur right!! hahaha!! 4.5 hrs now!! ",
         "2009-04-07T05:33:13.000+0000",
         0.0
        ],
        [
         "i hate to see the spartans so sad ",
         "2009-04-07T05:33:16.000+0000",
         0.0
        ],
        [
         "My mind and body are severely protesting this &quot;getting up&quot;  thing. Had nightmares to boot ",
         "2009-04-07T05:33:20.000+0000",
         0.0
        ],
        [
         "@MySteezRadio I'm goin' to follow u, since u didn't  LOL  GO ANGELS!",
         "2009-04-07T05:33:21.000+0000",
         0.0
        ],
        [
         "@mandayyy ",
         "2009-04-07T05:33:25.000+0000",
         0.0
        ],
        [
         "@twista202 I think I want to read some books but the library doesn't have them ",
         "2009-04-07T05:33:31.000+0000",
         0.0
        ],
        [
         "My nap was interrupted so many times today  Going out for Japanese with the 'rents again...",
         "2009-04-07T05:33:32.000+0000",
         0.0
        ],
        [
         "Kind of longs for the bus that shows up at the end of Ghost World right now. Ugh. ",
         "2009-04-07T05:33:32.000+0000",
         0.0
        ],
        [
         "@GuruMN but this is canada  canada is weird. we're supposed to get snow through wednesday. ugh.",
         "2009-04-07T05:33:34.000+0000",
         0.0
        ],
        [
         "Awwh babs... you look so sad underneith that shop entrance of &quot;Yesterday's Musik&quot;  O-: I like the look of the new transformer movie ",
         "2009-04-07T05:33:35.000+0000",
         0.0
        ],
        [
         "sad that the 'feet' of my macbook just fell off ",
         "2009-04-07T05:33:35.000+0000",
         0.0
        ],
        [
         "I'm gonna get up late tomorrow and it's 132am here. I gonna get tipsy by my lonesome. That's...that's just sad ",
         "2009-04-07T05:33:44.000+0000",
         0.0
        ],
        [
         "I'm sweating my forthcoming trip to E3.  If I can't find someone to crash with while I'm out there, I may be screwed.  ",
         "2009-04-07T05:35:29.000+0000",
         0.0
        ],
        [
         "Has now gotten somebody to read his tweets, but cant get them to make an account. ",
         "2009-04-07T05:35:29.000+0000",
         0.0
        ],
        [
         "@infinitydefines  omgawd i couldnt handle my cat being in heat all the time D: D:",
         "2009-04-07T05:35:31.000+0000",
         0.0
        ],
        [
         "@DonnieWahlberg I hope i can make it to the auburn show. but its not looking good for me ",
         "2009-04-07T05:35:31.000+0000",
         0.0
        ],
        [
         "@David_Henrie *thats people mag haha i couldnt fit it all in.. i dont think those pictures ever made it in the magazine tho!  haha",
         "2009-04-07T05:35:35.000+0000",
         0.0
        ],
        [
         "@breadandbadger Congrats!!  i totally forgot to submit photos ",
         "2009-04-07T05:35:36.000+0000",
         0.0
        ],
        [
         "@PaulaAbdul awww, Good luck Paula!! Please don't work too hard  but I hope you have fun  Your new album is gonna be amazing!  xxx",
         "2009-04-07T05:35:40.000+0000",
         0.0
        ],
        [
         "@imaginarypeach now your leaving me  .... -gets sad-",
         "2009-04-07T05:35:40.000+0000",
         0.0
        ],
        [
         "I miss you twitter. My phone broke, now I'm using a stupid Nokia phone. Ughhh, I miss my advance phone. ",
         "2009-04-07T05:35:41.000+0000",
         0.0
        ],
        [
         "SHOOTING OUTSIDE MY HOUSE :O NOT KIDDING! So SCARED ",
         "2009-04-07T05:35:43.000+0000",
         0.0
        ],
        [
         "Tuesday�ll start with reflection �n then a lecture in Stress reducing techniques. That sure might become very useful for us accompaniers ",
         "2009-04-07T05:35:44.000+0000",
         0.0
        ],
        [
         "What tragedy and disaster in the news this week ",
         "2009-04-07T05:35:46.000+0000",
         0.0
        ],
        [
         "yes yes still trying to find a picture that will upload correclty.. ",
         "2009-04-07T05:35:46.000+0000",
         0.0
        ],
        [
         "Why oh why was the Red Sox game rained out? I was so looking forward to opening day ",
         "2009-04-07T05:35:51.000+0000",
         0.0
        ],
        [
         "I still can't find my keys. ",
         "2009-04-07T05:35:50.000+0000",
         0.0
        ],
        [
         "@charlietm I know right. I dunno what is going on with twitter. ",
         "2009-04-07T05:35:50.000+0000",
         0.0
        ],
        [
         "might be getting a sore throat again ",
         "2009-04-07T05:35:50.000+0000",
         0.0
        ],
        [
         "@labelsnotlove   my home town. My mammy called all depressd.  Pls explain y a parent let their 8yr old child walk alone? Hello? Its 2009!",
         "2009-04-07T05:35:51.000+0000",
         0.0
        ],
        [
         "@ircmaxell - I think I need to find better anti-depressants.  I think this Paxil/Wellbutrin combo is losing its efficacy.  ",
         "2009-04-07T05:35:51.000+0000",
         0.0
        ],
        [
         "@MyConnecticut Restaurant called WoodNTap has competitive eating tourney round tourney time. We place 2nd ",
         "2009-04-07T05:35:52.000+0000",
         0.0
        ],
        [
         "is in the bathroom... wake up lakin. ",
         "2009-04-07T05:35:56.000+0000",
         0.0
        ],
        [
         "@CaitlinOConnor i want tacos and margarhitas  telll gay i say hello&lt;3",
         "2009-04-07T05:35:59.000+0000",
         0.0
        ],
        [
         "im lonely  keep me company! 22 female, california",
         "2009-04-07T05:35:59.000+0000",
         0.0
        ],
        [
         "bad day at the betfair office ",
         "2009-04-07T05:36:02.000+0000",
         0.0
        ],
        [
         "I miss him.  Can't wait to celebrate the Tar Heel win this weekend though!!",
         "2009-04-07T05:36:03.000+0000",
         0.0
        ],
        [
         "I'm really cold. I don't want to go to sleep yet but there's nothing to do ",
         "2009-04-07T05:36:06.000+0000",
         0.0
        ],
        [
         "@kristencampisi is this it 4 u? Its ' officially over ' 4 me this go round! ",
         "2009-04-07T05:36:06.000+0000",
         0.0
        ],
        [
         "monkeys??? i just found out you my twin and you wont even write back.  i'm heartbroken",
         "2009-04-07T05:36:10.000+0000",
         0.0
        ],
        [
         "@miss_om Aww  I know I felt like that yesterday at work ",
         "2009-04-07T05:36:15.000+0000",
         0.0
        ],
        [
         "@SarahReedSC treaty isn't defined ",
         "2009-04-07T05:36:16.000+0000",
         0.0
        ],
        [
         "missed Brent at praise band.   No fun to not have the your lead guitarist.  &lt;pout&gt;",
         "2009-04-07T05:36:19.000+0000",
         0.0
        ],
        [
         "@jpfurry poor john  this is what happens when you play with fruit and a microwave! Seriously though HAVE you seen a doctor?? Xxx",
         "2009-04-07T05:36:20.000+0000",
         0.0
        ],
        [
         "Missing My BFF  watching home and away it reminds me of her and me  we &lt;3 It. shout out to u courts",
         "2009-04-07T05:36:26.000+0000",
         0.0
        ],
        [
         "@mandayyy   ",
         "2009-04-07T05:36:27.000+0000",
         0.0
        ],
        [
         "New video card is DOA. ",
         "2009-04-07T05:36:33.000+0000",
         0.0
        ],
        [
         "feeling lost, naked and confused (JK, sort of).....no iphone for me. ",
         "2009-04-07T05:36:38.000+0000",
         0.0
        ],
        [
         "Damn i am so late at filling this appraisal form, people have almost sent it .. i was so occupied in work ",
         "2009-04-07T05:36:39.000+0000",
         0.0
        ],
        [
         "missed Brent at praise band.  No fun to not have your lead guitarist. &lt;pout&gt;",
         "2009-04-07T05:36:51.000+0000",
         0.0
        ],
        [
         "i think to much on the past. i cant change it. i deserved so much more then wat i got. ..but why am i still thinking about him  gah",
         "2009-04-07T05:36:52.000+0000",
         0.0
        ],
        [
         "has lost his ring. It's no-where to be seen ",
         "2009-04-07T05:36:54.000+0000",
         0.0
        ],
        [
         "@burgaw Ooooooh! *sealclap* See, I download shitloads of zip folders off 4chan. I have no internet moneys.  FUCK YEAH ALICIA &amp; MIKEY.",
         "2009-04-07T05:37:03.000+0000",
         0.0
        ],
        [
         "Is still nursing my Nile but glad he is feeling better. I hate when my baby is sick ",
         "2009-04-07T05:37:04.000+0000",
         0.0
        ],
        [
         "Is fucked to go back to IC ",
         "2009-04-07T05:37:07.000+0000",
         0.0
        ],
        [
         "@Brandizzzle08 yoyoyo. my internet has been rude tonight. it JUST reconnected and I'm about to go to bed. ",
         "2009-04-07T05:37:16.000+0000",
         0.0
        ],
        [
         "@jemcam well i have uni stuff and netball  but after netbal if i've done uni stuff we can",
         "2009-04-07T05:37:22.000+0000",
         0.0
        ],
        [
         "@kissability Me too I is poor ",
         "2009-04-07T05:37:23.000+0000",
         0.0
        ],
        [
         "help me forget 8th april &amp; 13th july! ",
         "2009-04-07T05:37:26.000+0000",
         0.0
        ],
        [
         "dierks bentley is comin' to columbus, OH!! i wanna go so bad ",
         "2009-04-07T05:37:36.000+0000",
         0.0
        ],
        [
         "i have to take my sidekick back. ",
         "2009-04-07T05:37:35.000+0000",
         0.0
        ],
        [
         "@chriscantore congrats! I'm totally jealous! only wish my XM was working ",
         "2009-04-07T05:37:40.000+0000",
         0.0
        ],
        [
         "gr8t my face is very itchy ",
         "2009-04-07T05:37:41.000+0000",
         0.0
        ],
        [
         "poor socks  luvvvvv the golden retriever!! I want one sighhhh",
         "2009-04-07T05:37:41.000+0000",
         0.0
        ],
        [
         "I just saw that they found that Tracy girl in a piece of luggage... How fucking terrible ",
         "2009-04-07T05:37:44.000+0000",
         0.0
        ],
        [
         "Aaaaand the nausea is back. ",
         "2009-04-07T05:37:46.000+0000",
         0.0
        ],
        [
         "@DonnieWahlberg ooh I�m excited and not even going 2 be there  long love YOUTUBE!",
         "2009-04-07T05:37:46.000+0000",
         0.0
        ],
        [
         "spent 1 hour to reach to Axis bank only to find out today is holiday for Mahavir Jayanti  contd..",
         "2009-04-07T05:37:49.000+0000",
         0.0
        ],
        [
         "@mathewsmichael  i agree... the jobros dont update theres very often ",
         "2009-04-07T05:37:57.000+0000",
         0.0
        ],
        [
         "@fishmouse it is hilarious and I linked the clip from LJ some time ago but when I went back just now it was a dead link ",
         "2009-04-07T05:37:59.000+0000",
         0.0
        ],
        [
         "@DiannePulham OOOOOOOO who with? (im not neither but thats because i need to study  )",
         "2009-04-07T05:38:04.000+0000",
         0.0
        ],
        [
         "Haven't tweeted nearly all day  Posted my website tonight, hopefully that goes well  Night time!",
         "2009-04-07T05:38:04.000+0000",
         0.0
        ],
        [
         "@bostongarden I miss bentley ",
         "2009-04-07T05:38:04.000+0000",
         0.0
        ],
        [
         "seriously needs to finish these job applications ",
         "2009-04-07T05:38:08.000+0000",
         0.0
        ],
        [
         "My son Vincas is sick, so I stay at home  Just three tense days at work, and I am back on holiday with kids",
         "2009-04-07T05:38:14.000+0000",
         0.0
        ],
        [
         "Whinging. My client&amp;boss don't understand English well. Rewrote some text unreadable. It's written by v. good writer&amp;reviewed correctly. ",
         "2009-04-07T05:38:18.000+0000",
         0.0
        ],
        [
         "@huntermoore I don't want him to ever punch me.  ",
         "2009-04-07T05:38:20.000+0000",
         0.0
        ],
        [
         "sooo sick of the snow  ughh",
         "2009-04-07T05:38:20.000+0000",
         0.0
        ],
        [
         "@ITS_NEMESIS ------- ",
         "2009-04-07T05:38:20.000+0000",
         0.0
        ],
        [
         "@LoveMeagan it doesn't work your fan is upset ",
         "2009-04-07T05:38:24.000+0000",
         0.0
        ],
        [
         "I would like to apologize for the repeated Video Games Live related tweets. I am going to have a stern discussion with Koodo soon. Stern. ",
         "2009-04-07T05:38:26.000+0000",
         0.0
        ],
        [
         "@zaydia but i cant figure out how to get there / back / pay for a hotel etc ",
         "2009-04-07T05:38:30.000+0000",
         0.0
        ],
        [
         "FML: So much for seniority, bc of technological ineptness, I now have to &quot;register&quot; for classes AGAIN ",
         "2009-04-07T05:38:28.000+0000",
         0.0
        ],
        [
         "feels like she slept the day away.    Not looking forward to any more bouts with my gallbladder.  At least I have pills now for the pain.",
         "2009-04-07T05:38:32.000+0000",
         0.0
        ],
        [
         "@ThaStevieG but what I really want is my old bass back ",
         "2009-04-07T05:38:37.000+0000",
         0.0
        ],
        [
         "Mad tired today... Callin it in early tonight  nighty night twittas",
         "2009-04-07T05:38:39.000+0000",
         0.0
        ],
        [
         "@LevenRambin: Take it easy, and be good to you. ",
         "2009-04-07T05:38:44.000+0000",
         0.0
        ],
        [
         "I'm afraid I had bad code. ",
         "2009-04-07T05:40:15.000+0000",
         0.0
        ],
        [
         "Think I'm going to bed. Goodniight. I hate this ",
         "2009-04-07T05:40:18.000+0000",
         0.0
        ],
        [
         "@riancurtis  i'm here, friend, and i love you.",
         "2009-04-07T05:40:20.000+0000",
         0.0
        ],
        [
         "@kariajay  All this time you didn't notice I was gone...just needed DB2 is it??",
         "2009-04-07T05:40:24.000+0000",
         0.0
        ],
        [
         "@aaronrva is in the bathroom and i have to pee!    ",
         "2009-04-07T05:40:24.000+0000",
         0.0
        ],
        [
         "@ashleyskyy but I wanted a margarita too! ",
         "2009-04-07T05:40:26.000+0000",
         0.0
        ],
        [
         "@KourtneyKardash yup night workouts r the worst but unfortunetly my work schedule only allows me to go at night  its tough!",
         "2009-04-07T05:40:30.000+0000",
         0.0
        ],
        [
         "Just called Hillsong again - they said they couldn't tell me where I was on the waiting list - I don't know if it's looking so good ",
         "2009-04-07T05:40:33.000+0000",
         0.0
        ],
        [
         "has 0g of milky bar left, and around 200ml of coke ",
         "2009-04-07T05:40:36.000+0000",
         0.0
        ],
        [
         "@jokerrrr It stillllll hasn't arrived ",
         "2009-04-07T05:40:38.000+0000",
         0.0
        ],
        [
         "Mraow, I feel like dancing, but first art school wants to rape me some more. ",
         "2009-04-07T05:40:43.000+0000",
         0.0
        ],
        [
         "@karenucol ah! I bet it does I've been like craving to play softball or basketball !!! But I have noo time ",
         "2009-04-07T05:40:40.000+0000",
         0.0
        ],
        [
         "Is terrified she accidentally deleted a reference in her management assignment and hopes she doesnt get in trouble when she gets back ",
         "2009-04-07T05:40:48.000+0000",
         0.0
        ],
        [
         "amazon s3 plugin not worked in my website . it need PHP 5 . but my hosting provider has only PHP 4.4  . very sad.",
         "2009-04-07T05:41:07.000+0000",
         0.0
        ],
        [
         "Argh! I was suuuper sleepy an hour ago, now I'm wide awake.  Hope I don't stay up all night. :-/",
         "2009-04-07T05:41:06.000+0000",
         0.0
        ],
        [
         "@austinhill I wish I was!  Sold out   If you have some time let me know, I would love to hear more about what you are up to!",
         "2009-04-07T05:41:09.000+0000",
         0.0
        ],
        [
         "Just watched tropic thunder. Dreading tomorrow ",
         "2009-04-07T05:41:15.000+0000",
         0.0
        ],
        [
         "@qweendassah no...he's still miss'n... ",
         "2009-04-07T05:41:16.000+0000",
         0.0
        ],
        [
         "ChiefDelphi is down ",
         "2009-04-07T05:41:19.000+0000",
         0.0
        ],
        [
         "http://twitpic.com/2y2wr - according to my bro, our new puppy had a poo fight and was covered in poop  (picture stolen from him)",
         "2009-04-07T05:41:20.000+0000",
         0.0
        ],
        [
         "playing game at home! my new boss didn't call me yet... ",
         "2009-04-07T05:41:20.000+0000",
         0.0
        ],
        [
         "Su yin Huen tweeted I feel unbearable guilt. I made my staff cry  http://tinyurl.com/cw2l9t",
         "2009-04-07T05:41:22.000+0000",
         0.0
        ],
        [
         "Poor Joshy is sick???   those damn tejanos!",
         "2009-04-07T05:41:25.000+0000",
         0.0
        ],
        [
         "My thoughts are with Sandra Cantu's family at this difficult and sad time ",
         "2009-04-07T05:41:27.000+0000",
         0.0
        ],
        [
         "@FranzGlaus I know, just wanted to let everybody know what was happening  ",
         "2009-04-07T05:41:29.000+0000",
         0.0
        ],
        [
         "Michigan who?  I don't know them.                   *sigh*   Shameful!",
         "2009-04-07T05:41:29.000+0000",
         0.0
        ],
        [
         "i have to fill two hours ",
         "2009-04-07T05:41:33.000+0000",
         0.0
        ],
        [
         "@alicayaba so cuuute! hey, i miss you na!  its not the same not seeing you girls everyday ",
         "2009-04-07T05:41:36.000+0000",
         0.0
        ],
        [
         "@JonathanRKnight Oh! Did I mention it? &quot;Gooooood Moooorniiiiiiing&quot;  from Germany! Im back in my cage....or better...my office ",
         "2009-04-07T05:41:52.000+0000",
         0.0
        ],
        [
         "throat is closing up and i had some string cheese. not a good idea ",
         "2009-04-07T05:41:51.000+0000",
         0.0
        ],
        [
         "Aww, Sandra Cantu is found dead in a suitcase  Missing children stories never seem to go good. Poor family.",
         "2009-04-07T05:41:54.000+0000",
         0.0
        ],
        [
         "wishing i was home underneath my covers ",
         "2009-04-07T05:41:54.000+0000",
         0.0
        ],
        [
         "walking home from school drains all my energy ",
         "2009-04-07T05:41:54.000+0000",
         0.0
        ],
        [
         "@ridley1013 I agree. The shapeshifting is a copout. I was so excited for Angela's ep, I thought it was this week.  Noah was awesome tho!",
         "2009-04-07T05:41:55.000+0000",
         0.0
        ],
        [
         "@SaveTheStrib Dang! I would have done this if I knew it was there earlier.  Any other outings planned?",
         "2009-04-07T05:41:56.000+0000",
         0.0
        ],
        [
         "I wish I was better at writing. It's taking me so long to write this paper. ",
         "2009-04-07T05:41:57.000+0000",
         0.0
        ],
        [
         "..and of course... I have access to my Halo 3 Mythic Map Pack re-download.. but bad news.. not the Legendary Map Pack... ugh.. 600MS... ",
         "2009-04-07T05:41:59.000+0000",
         0.0
        ],
        [
         "@vene2ia ...not yet unfortunately, another few weeks I've been told  How are you? I've been a little bit busy with my latest project.",
         "2009-04-07T05:42:00.000+0000",
         0.0
        ],
        [
         "@thecoolestout Ha the sun's already gone ",
         "2009-04-07T05:42:07.000+0000",
         0.0
        ],
        [
         "day 2. a lot harder than day 1. let's see how day 3 goes tomorrow. ",
         "2009-04-07T05:42:06.000+0000",
         0.0
        ],
        [
         "My man crush Jake Peavy let me down  #gayforpeavy",
         "2009-04-07T05:42:08.000+0000",
         0.0
        ],
        [
         "@trishzw megafast trip, you have time during day tom/weds? Or, you going out tonight? Want to see you bad. Tried to warn you, tech fail ",
         "2009-04-07T05:42:10.000+0000",
         0.0
        ],
        [
         "michigan state you make me sad ",
         "2009-04-07T05:42:18.000+0000",
         0.0
        ],
        [
         "omg. my mouth is in so much pain  i just wanna sleep untill its time to take my braces off.",
         "2009-04-07T05:42:19.000+0000",
         0.0
        ],
        [
         "getting annoyed easily today  &gt;&gt;&gt; biofuel proposal: getting annoyed easily today  &gt;&gt;&gt; biof.. http://tinyurl.com/ceprvs",
         "2009-04-07T05:42:22.000+0000",
         0.0
        ],
        [
         "@MizzChievouz Hey girl. The site is back.  Girlyvue is back and they have even more videos. ",
         "2009-04-07T05:42:28.000+0000",
         0.0
        ],
        [
         "@a5hleyf i'm spending time with my grandma early tomorrow and i can't leave skittles by herself. ",
         "2009-04-07T05:42:28.000+0000",
         0.0
        ],
        [
         "just got home from watching Michigan State get tromped!   ",
         "2009-04-07T05:42:30.000+0000",
         0.0
        ],
        [
         "Oh jew-bus! Two years worth of classes' work is ALOT to organize &gt;_&lt; i'm not finishing tonight, it's not possible...my bones ache ",
         "2009-04-07T05:42:30.000+0000",
         0.0
        ],
        [
         "@griffmiester no exchanging for me, my laptop hasn't arrived ",
         "2009-04-07T05:42:32.000+0000",
         0.0
        ],
        [
         "@hyperbets i hope this doesn't last too long.  i feel miserable!",
         "2009-04-07T05:42:37.000+0000",
         0.0
        ],
        [
         "@rcompo RACHEL! hang outage is neccessary - i was gonna be home this wekend but dumb folk make me work   so im free F and Sat until 4...",
         "2009-04-07T05:42:47.000+0000",
         0.0
        ],
        [
         "@TheLeagueSF Not Fun &amp; Furious? The new mantra for the Bay 2 Breakers? It was getting 2 rambunctious;the city overreacted &amp; clamped down ",
         "2009-04-07T05:42:49.000+0000",
         0.0
        ],
        [
         "@amber_benson  my hubby (for some reason) thinks it's more important he has a good spot for red carpet for the Trek Movie Premiere. Sod!",
         "2009-04-07T05:42:51.000+0000",
         0.0
        ],
        [
         "I swear no matter how long I've been getting up at 5am, it never gets any easier. Man my eyes hurts wah ",
         "2009-04-07T05:42:49.000+0000",
         0.0
        ],
        [
         "@Jeffree_Star Jeffree! How do you keep your hair one color? My PERMANENT dye fades within the week ",
         "2009-04-07T05:42:56.000+0000",
         0.0
        ],
        [
         "@otakusecret my reaction too  whoa, didn't see that coming",
         "2009-04-07T05:42:59.000+0000",
         0.0
        ],
        [
         "still sick. feeling a bit better, got some new medicine.... hope I feel good after a night of sleep. ohh, and it's suppose to snow! WTF! ",
         "2009-04-07T05:43:06.000+0000",
         0.0
        ],
        [
         "@Dangerm0use I think maybe you should get a couple more hours of sleep, hon. How productive can you be right now if ur dog tired? I worry ",
         "2009-04-07T05:43:12.000+0000",
         0.0
        ],
        [
         "@maddyVA Thanks a lot. Learned a lot of new words but didn't find what I was looking for. ",
         "2009-04-07T05:43:15.000+0000",
         0.0
        ],
        [
         "Wish I had all the XBLM downloads all on the gamertag 'Hitokyri'. This 5 gamertag thing is nonsense... and I'm tired of it ",
         "2009-04-07T05:43:17.000+0000",
         0.0
        ],
        [
         "New Testament Test at 9:30 am   ",
         "2009-04-07T05:43:18.000+0000",
         0.0
        ],
        [
         "@ScoutBuck tons no hay Troll? ahhhh ",
         "2009-04-07T05:43:23.000+0000",
         0.0
        ],
        [
         "stupid movies we watched... mirrors ugggggh... stooopeeed!!! rip off! ",
         "2009-04-07T05:43:22.000+0000",
         0.0
        ],
        [
         "http://twitpic.com/2y2yi - I love you, Buck. ",
         "2009-04-07T05:43:26.000+0000",
         0.0
        ],
        [
         "last one!!! but still not done!!! ",
         "2009-04-07T05:43:29.000+0000",
         0.0
        ],
        [
         "homework.... ",
         "2009-04-07T05:43:31.000+0000",
         0.0
        ],
        [
         "I don't understand why things get taken away. I didn't have enough time with him its unfair. I want him back!! He was like my baby ",
         "2009-04-07T05:43:38.000+0000",
         0.0
        ],
        [
         "Scratch that: du in heif (two in a half) cookies. My tum just can't take anymore shoog. Poots ",
         "2009-04-07T05:43:42.000+0000",
         0.0
        ],
        [
         "@cococourtney i was just listening to the sweets for the first time in forever! i miss them so much  can we go to chi town for visits plz?",
         "2009-04-07T05:43:43.000+0000",
         0.0
        ],
        [
         "Geez what a busy afternoon. Meetings, emails, meetings and email and more meetings. 6pm and the day is still going! Ah its dark and ",
         "2009-04-07T05:43:44.000+0000",
         0.0
        ],
        [
         "DANG!!! ANOTHER SPRING BREAK!!!  HOW COOL IS THAT???  TOO BAD I HAVE TO WORK ALL WEEK  OH WELL, MORE MONEY FOR A PHONE.  ttyl EVERBODY!!!",
         "2009-04-07T05:43:46.000+0000",
         0.0
        ],
        [
         "@Sara_Kate Im afraid too  ( ur reply about uni from ages ago",
         "2009-04-07T05:43:48.000+0000",
         0.0
        ],
        [
         "feeling down ",
         "2009-04-07T05:43:49.000+0000",
         0.0
        ],
        [
         "@CarVin1 lol they are some emotional ass men!! Omg all this late night eating.. Both of us are broke ",
         "2009-04-07T05:43:54.000+0000",
         0.0
        ],
        [
         "@nick_carter Aww Nick!! I like your hair longer, why did you cut it off?  Break. My. Heart.",
         "2009-04-07T05:44:34.000+0000",
         0.0
        ],
        [
         " wonder if Jon lost the net",
         "2009-04-07T05:44:48.000+0000",
         0.0
        ],
        [
         "Wow. The most depressing thing in the world is losing a video that you've created in a matter of seconds.  #FML",
         "2009-04-07T05:44:52.000+0000",
         0.0
        ],
        [
         "@nchokkan https://www.mycomicshop.com/search?TID=395031 But all says not in stock ",
         "2009-04-07T05:44:57.000+0000",
         0.0
        ],
        [
         "@Poohpot lmao im sorry poohpot i ate it all! ",
         "2009-04-07T05:45:05.000+0000",
         0.0
        ],
        [
         "Any chance  Softbelly (for @MTUB) isn't loud? ",
         "2009-04-07T05:45:08.000+0000",
         0.0
        ],
        [
         "Time to move my posterior  and lose some fat. My articulation are creaking so no more running  but I�m drool for some swimming",
         "2009-04-07T05:45:10.000+0000",
         0.0
        ],
        [
         "listening to nathan cry.... ",
         "2009-04-07T05:45:13.000+0000",
         0.0
        ],
        [
         "today sucked. I'm gonna die without chris and callum!  wahhh!",
         "2009-04-07T05:45:22.000+0000",
         0.0
        ],
        [
         "STOU site not update, no info about 2/2552 exam, and open course, I must wait for mail notices and doc. um... ",
         "2009-04-07T05:45:29.000+0000",
         0.0
        ],
        [
         "@ohsbrat30...I'm sorry. I'm feeling kinda yucky myself. 5am is going to come too quick ",
         "2009-04-07T05:45:31.000+0000",
         0.0
        ],
        [
         "is in love with scrappy and is missin him already ",
         "2009-04-07T05:45:33.000+0000",
         0.0
        ],
        [
         "wants to hear @seblefebvre 's song but myspace is messing with me ",
         "2009-04-07T05:45:37.000+0000",
         0.0
        ],
        [
         "Bad news was Dad has cancer and is dying   Good news new business started and  I am now a life coach practising holistic weight management",
         "2009-04-07T05:45:40.000+0000",
         0.0
        ],
        [
         "@duchess_rebecca Man... intervention is soo sad ",
         "2009-04-07T05:45:44.000+0000",
         0.0
        ],
        [
         "HELP! I need a new boyfriend... I'm stuck in a rut ",
         "2009-04-07T05:45:46.000+0000",
         0.0
        ],
        [
         "I feel like a complete idiot. I'm the only one who doesn't get how this shit works  help me ",
         "2009-04-07T05:45:47.000+0000",
         0.0
        ],
        [
         "Saw an ad on Craigslist for a casting call for a female host on G4. I was totally psyched! But realized it was a hoax ",
         "2009-04-07T05:45:51.000+0000",
         0.0
        ],
        [
         "Pepperoni rolls in L.A.?: I called Valentino's - they said that they had sausage rolls but no pepperoni rolls  http://tinyurl.com/cec5ka",
         "2009-04-07T05:45:53.000+0000",
         0.0
        ],
        [
         "@soillodge yes, it will be. it's only Monday ",
         "2009-04-07T05:45:54.000+0000",
         0.0
        ],
        [
         "i want the new GG episode already ",
         "2009-04-07T05:46:14.000+0000",
         0.0
        ],
        [
         "I miss watching Rocko's Modern Life. ",
         "2009-04-07T05:46:16.000+0000",
         0.0
        ],
        [
         "RIP Sandra....its so sad    how can someone do something like that??",
         "2009-04-07T05:46:20.000+0000",
         0.0
        ],
        [
         "Keeping my fingers crossed for my buddy    He is not feeling well.",
         "2009-04-07T05:46:24.000+0000",
         0.0
        ],
        [
         "Wait should I eat?? Or be skinny for vegas!! I'm hungry! ",
         "2009-04-07T05:46:22.000+0000",
         0.0
        ],
        [
         "@Marge_Inovera I tried tweetdeck once and I hated it with a passion. Or it hated me, I'm not sure... ",
         "2009-04-07T05:46:24.000+0000",
         0.0
        ],
        [
         "@benackerman BTW my iPhone is acting funny, dying quickly and freezing and BS.  I'm not admitting anything, just sayin ",
         "2009-04-07T05:46:27.000+0000",
         0.0
        ],
        [
         "Sitting here wondering why &quot;ED&quot; still has such a strong hold on me ",
         "2009-04-07T05:46:32.000+0000",
         0.0
        ],
        [
         "@bananaface IM SORRY I GOT YOU SICK.  lol. going to bed too. NIGHT!",
         "2009-04-07T05:46:36.000+0000",
         0.0
        ],
        [
         "@carolrainbow no Internet at home, have to drive into Ox to use Internet because of builders! ",
         "2009-04-07T05:46:40.000+0000",
         0.0
        ],
        [
         "@Steve_Buscemi the weather in Canada is freezing ",
         "2009-04-07T05:46:44.000+0000",
         0.0
        ],
        [
         "twiggassssssss I been out of range all day  I'm back now and hopefully for good.",
         "2009-04-07T05:46:48.000+0000",
         0.0
        ],
        [
         "@danadearmond ",
         "2009-04-07T05:46:53.000+0000",
         0.0
        ],
        [
         "anyone who reads this pray for my Grandma. She's in pain ",
         "2009-04-07T05:46:55.000+0000",
         0.0
        ],
        [
         "#3 woke up and was having an accident - &quot;It's pushing, it's pushing!&quot; he was crying because he couldn't stop from wetting his pants.  ",
         "2009-04-07T05:46:57.000+0000",
         0.0
        ],
        [
         "Home from Franklin street, I almost jumped over a fire. Someone kicked it before I could.  Jenny lost her shoe.",
         "2009-04-07T05:47:05.000+0000",
         0.0
        ],
        [
         "@johnnybeane hey! you just changed your default. ",
         "2009-04-07T05:47:22.000+0000",
         0.0
        ],
        [
         "Finally gave in and was bored enough to start this thing. I think the 140 is going to be a problem for me tho.  its like a myspace status.",
         "2009-04-07T05:47:21.000+0000",
         0.0
        ],
        [
         "@ellievolia If oooonly we were really so lucky, eh? And awh  Definitely too early for work.",
         "2009-04-07T05:47:28.000+0000",
         0.0
        ],
        [
         "buttload of homework! ",
         "2009-04-07T05:47:32.000+0000",
         0.0
        ],
        [
         "needs another copy of visual studio 2008 ",
         "2009-04-07T05:47:40.000+0000",
         0.0
        ],
        [
         "why to we, the only school in the world, be in this week.My school is silly  anyway... look on the bright side. When i'm off, u will be in",
         "2009-04-07T05:47:41.000+0000",
         0.0
        ],
        [
         "omg i've an economics test. and i dont know all the things i have to know and omg im gonna fail ",
         "2009-04-07T05:47:56.000+0000",
         0.0
        ],
        [
         "@robcthegeek Once upon a time Hundred Islands was the pride of Philippine tourism, but coral/clam/rare fish poaching did it in. Kinda sad ",
         "2009-04-07T05:47:58.000+0000",
         0.0
        ],
        [
         "@Henkuyinepu yeah, apparently i have really bad taste ",
         "2009-04-07T05:48:00.000+0000",
         0.0
        ],
        [
         "@hummiemd I KNOW! I was really surprised since everyone recommends them on youtube.  I have to call them tomorrow and figure it all out.",
         "2009-04-07T05:48:00.000+0000",
         0.0
        ],
        [
         "Waiting at the airport for my ride while I get harassed by 2 men trying to sell me ugly hats.. Why me?!  I just want to sleep..",
         "2009-04-07T05:48:02.000+0000",
         0.0
        ],
        [
         "i left my IDs at the location and now i can not go out to bars  FUCKKKKKKKKKKKKK",
         "2009-04-07T05:48:02.000+0000",
         0.0
        ],
        [
         "@celycarmo i'm sorry I don't understand your last comment ",
         "2009-04-07T05:48:03.000+0000",
         0.0
        ],
        [
         "@OfficialRandL when is the announcement? i stayed up late last night ",
         "2009-04-07T05:48:04.000+0000",
         0.0
        ],
        [
         "@KishoreK this is strange, illegal torrents avlbl everywhere, legal DVD not in stock  What do I do now???",
         "2009-04-07T05:48:08.000+0000",
         0.0
        ],
        [
         "ITS NOT ENOUGH TO SAY THAT IMISS U ",
         "2009-04-07T05:48:10.000+0000",
         0.0
        ],
        [
         "This trolley has up packed in like sardines! Padre game and they REMOVE a car?! Good call MTS ",
         "2009-04-07T05:48:13.000+0000",
         0.0
        ],
        [
         "@RandomlyNat Jeez, I was just trying to help  Haha.",
         "2009-04-07T05:48:14.000+0000",
         0.0
        ],
        [
         "@SupaMagg that happened to me saturday night. along with my glittery green lighter! ",
         "2009-04-07T05:48:17.000+0000",
         0.0
        ],
        [
         "trying to reduce the number of cigarettes in each day! ",
         "2009-04-07T05:48:19.000+0000",
         0.0
        ],
        [
         "yea it is so quiet around here cuz everyone has to work im bored to death with nobody to talk to ",
         "2009-04-07T05:48:23.000+0000",
         0.0
        ],
        [
         "gotta do my cooking assignment  its too hard",
         "2009-04-07T05:48:32.000+0000",
         0.0
        ],
        [
         "@treesahquiche okay, about the applepears, I've talked to a few people and they've ALL had them before. No one ever told me, never ",
         "2009-04-07T05:48:32.000+0000",
         0.0
        ],
        [
         "@jennifermf I know!  I'm a night owl by nature, hahaha Am I a time zone behind you? It's almost 1 here",
         "2009-04-07T05:48:34.000+0000",
         0.0
        ],
        [
         "@mamasvan lol - nope! but i did have complete #camerafail ",
         "2009-04-07T05:48:35.000+0000",
         0.0
        ],
        [
         "@maxime68 @megelder But! I'm useless if I don't sleep  It's not fair! I want all the fun as well!!!",
         "2009-04-07T05:48:37.000+0000",
         0.0
        ],
        [
         "My Pookie has a UTI.  I have to be Nurse Gabbie and get him back to 100%!!! No more sodas!!!!!!!!!!!!!!",
         "2009-04-07T05:48:38.000+0000",
         0.0
        ],
        [
         "@jillianfish tweet something damn it!  and hang out with me please? ",
         "2009-04-07T05:48:42.000+0000",
         0.0
        ],
        [
         "@anistorm ",
         "2009-04-07T05:48:48.000+0000",
         0.0
        ],
        [
         "I'm SO behind in video games, and everything for that matter. I'm yesterday's news ",
         "2009-04-07T05:48:50.000+0000",
         0.0
        ],
        [
         "@sleep_til_noon I did, it was the only one left but I got tempted and ate it soon as I got home  I had a chocolate velvet &amp; ate d mocha",
         "2009-04-07T05:48:53.000+0000",
         0.0
        ],
        [
         "Is stressing out because my blackberry keeps flashing a red alert status for no reason!! Its faking me out and I hate it!!! ",
         "2009-04-07T05:48:54.000+0000",
         0.0
        ],
        [
         "http://twitpic.com/2y34e - I wanna wear my Doc Martens out! Haven't worn them since December. ",
         "2009-04-07T05:49:51.000+0000",
         0.0
        ],
        [
         "When to the shoe repair shop and the guy could not find my shoes!  So I have to go back and see if he can find them in a couple days. ",
         "2009-04-07T05:49:55.000+0000",
         0.0
        ],
        [
         "@B_Barnett I did not really see that coming ",
         "2009-04-07T05:49:55.000+0000",
         0.0
        ],
        [
         "just woke up from the most vivid, sketchy, not-cool dreams of my life. time to stare at the wall with the lights on. ",
         "2009-04-07T05:49:57.000+0000",
         0.0
        ],
        [
         "it'll take 3 days for my sister to get her passport ",
         "2009-04-07T05:49:58.000+0000",
         0.0
        ],
        [
         "@nicolerichie OH MY YES!! i miss ",
         "2009-04-07T05:50:03.000+0000",
         0.0
        ],
        [
         "Uh oh... I think I am getting sick ",
         "2009-04-07T05:50:11.000+0000",
         0.0
        ],
        [
         "Good GOD they ruined my belly button!!!  ",
         "2009-04-07T05:50:17.000+0000",
         0.0
        ],
        [
         "Watching Who Framed Roger Rabbit. Makes me miss Toon Town. ",
         "2009-04-07T05:50:19.000+0000",
         0.0
        ],
        [
         "@akianz renting.. but very cheap renting, and awesome house. We had 3 buying attempts fall through ",
         "2009-04-07T05:50:28.000+0000",
         0.0
        ],
        [
         "running nose + spinning head = not a good combination for a meeting! ",
         "2009-04-07T05:50:34.000+0000",
         0.0
        ],
        [
         "@EazyDoesIt87 NEGATIVE.. you lost my vote of confidence ",
         "2009-04-07T05:50:43.000+0000",
         0.0
        ],
        [
         "Nasty budget due and my iphone is being sent to Apple today. ",
         "2009-04-07T05:50:48.000+0000",
         0.0
        ],
        [
         "@Sofii_Noel that�s bad ",
         "2009-04-07T05:50:49.000+0000",
         0.0
        ],
        [
         "Dammit, episode 3 of Kings won't play for some reason  stopped in the middle now won't do anything",
         "2009-04-07T05:50:51.000+0000",
         0.0
        ],
        [
         "I'm so upset that I missed my chat and quiz online because my free internet has ceased ",
         "2009-04-07T05:50:58.000+0000",
         0.0
        ],
        [
         "can't believe it! I'm in disbelief of it all in a way really. How much can I take from people and always get hurt by others!! ",
         "2009-04-07T05:51:00.000+0000",
         0.0
        ],
        [
         "Car show season has started without me ",
         "2009-04-07T05:51:13.000+0000",
         0.0
        ],
        [
         "my throat is raw. ",
         "2009-04-07T05:51:14.000+0000",
         0.0
        ],
        [
         "@KevChoice I just don't get it. What in a persons mind could even have them on some ish like this???  My prayers are with her fam for real",
         "2009-04-07T05:51:17.000+0000",
         0.0
        ],
        [
         "@frago I hate you. I didn't need to see that. I need to call my therapist now. ",
         "2009-04-07T05:51:19.000+0000",
         0.0
        ],
        [
         "Twilight didn't come yesterday  fingers crossed for today",
         "2009-04-07T05:51:24.000+0000",
         0.0
        ],
        [
         "@NileLegania glad I was able help you feel better. I hate to see you sick  Love you!",
         "2009-04-07T05:51:25.000+0000",
         0.0
        ],
        [
         "is tireddddddd. want to sleep but i have an assignment to finish and an exam tomorrow to study for ",
         "2009-04-07T05:51:26.000+0000",
         0.0
        ],
        [
         "You know, I was thinking... I need money ",
         "2009-04-07T05:51:27.000+0000",
         0.0
        ],
        [
         "omg..its jst teusday ",
         "2009-04-07T05:51:33.000+0000",
         0.0
        ],
        [
         "@ddlovato @David_Henrie ummmmm i cant find it. ",
         "2009-04-07T05:51:34.000+0000",
         0.0
        ],
        [
         "Just heard that they found Sandra Cantu... She was only 8 yrs old ",
         "2009-04-07T05:51:34.000+0000",
         0.0
        ],
        [
         "@corrosivecandy Ive forgotten how to snoo-snoo  I wonder if snoo-snoo and I will ever meet again...",
         "2009-04-07T05:51:40.000+0000",
         0.0
        ],
        [
         "@AmaNorris wow that last tweet made me seem like a giant sexist...sorry about that ",
         "2009-04-07T05:51:44.000+0000",
         0.0
        ],
        [
         "My bathtub drain is fired: it haz 1 job 2 do, &amp; it iz FAIL. I got all Drano on its ass, &amp; iz STILL NOT DRAINING. I wanna shower, dangit!! ",
         "2009-04-07T05:51:46.000+0000",
         0.0
        ],
        [
         "stuck at home ",
         "2009-04-07T05:51:48.000+0000",
         0.0
        ],
        [
         "@nomadicmatt mine is 1/10  how do you get it up?",
         "2009-04-07T05:51:49.000+0000",
         0.0
        ],
        [
         "Duckling in famous children's book stolen from Boston's Public Garden - The Boston Globe http://tinyurl.com/dc2htx via @ShareThis OH NO!! ",
         "2009-04-07T05:51:50.000+0000",
         0.0
        ],
        [
         "@Appomattox_News Thank you! However, I hate to be on the same list that includes 2 convicts.  ",
         "2009-04-07T05:51:51.000+0000",
         0.0
        ],
        [
         "Heading to Altrincham, again! Out of hours install ",
         "2009-04-07T05:51:52.000+0000",
         0.0
        ],
        [
         "MORNING!!! Good im bloody knackered!!! Work is not for me today  HELPPP!!!! xxx",
         "2009-04-07T05:51:53.000+0000",
         0.0
        ],
        [
         "@jeffreecuntstar  I don't have a garage.  But you can park in my driveway!",
         "2009-04-07T05:51:59.000+0000",
         0.0
        ],
        [
         "@lauredhel  What happened?",
         "2009-04-07T05:52:07.000+0000",
         0.0
        ],
        [
         "&quot;On popular music&quot; by T.W.Adorno is probably the most difficult reading ever prescribed, I'm actually struggling to continue ",
         "2009-04-07T05:52:06.000+0000",
         0.0
        ],
        [
         "http://twitpic.com/2y36e - cant see the flowers falling  i dont have a camera, just my cellphone",
         "2009-04-07T05:52:11.000+0000",
         0.0
        ],
        [
         "We've been good. I'm not liking the snow right now, was getting used to the nice Spring-like weather.  How about you?",
         "2009-04-07T05:52:13.000+0000",
         0.0
        ],
        [
         "@brian_armstrong What a pity YouTube is currently blocked in China.  I can't see the vids. ",
         "2009-04-07T05:52:19.000+0000",
         0.0
        ],
        [
         "@margaretcho what happened to your show it was the hightlight of my life ",
         "2009-04-07T05:52:18.000+0000",
         0.0
        ],
        [
         "This is the best leather sofa in the world!  It's in the office though which means I'm still here working ",
         "2009-04-07T05:52:21.000+0000",
         0.0
        ],
        [
         "Still 3 more days until my Internet gets uncapped ",
         "2009-04-07T05:52:23.000+0000",
         0.0
        ],
        [
         "If he doesn't get better in a few days, he could have something lodged in his belly ",
         "2009-04-07T05:52:25.000+0000",
         0.0
        ],
        [
         "i Love my atekinzz so much. &amp;&amp; i soo miss her.. ",
         "2009-04-07T05:52:27.000+0000",
         0.0
        ],
        [
         "I wanna sneak into the zoo and play with the kitties ",
         "2009-04-07T05:52:31.000+0000",
         0.0
        ],
        [
         "@lolitariot oh no  hope you're not getting sick too!",
         "2009-04-07T05:52:38.000+0000",
         0.0
        ],
        [
         "@alejandralei i dont think i can cause its my cousins birthday party ",
         "2009-04-07T05:52:39.000+0000",
         0.0
        ],
        [
         "Our sweet little man just fell asleep while waiting up for daddy and big brother to get home!  Poor baby, he missed them so much today!",
         "2009-04-07T05:52:42.000+0000",
         0.0
        ],
        [
         "the angel is going to miss the athlete this weekend ",
         "2009-04-07T05:52:40.000+0000",
         0.0
        ],
        [
         "trust is hard ",
         "2009-04-07T05:52:44.000+0000",
         0.0
        ],
        [
         "have watched that considering today. yaknow. shawnna tomomorrow;i need my bestfriend ",
         "2009-04-07T05:52:47.000+0000",
         0.0
        ],
        [
         "Grr i want to keep reading but if i do i wont have anything left to read ",
         "2009-04-07T05:52:50.000+0000",
         0.0
        ],
        [
         "atekinzz, where in the world are you?? ",
         "2009-04-07T05:52:50.000+0000",
         0.0
        ],
        [
         "@RumLover No! u supposed to be my date ",
         "2009-04-07T05:52:51.000+0000",
         0.0
        ],
        [
         "pears &amp; Brie, bottle of Cabernet, and &quot;Win a Date With Tad Hamilton&quot;... oh gawwd my life flashed forward to when I'm 40 with my 75 cats ",
         "2009-04-07T05:52:56.000+0000",
         0.0
        ],
        [
         "Crap. I need more dresses too. ",
         "2009-04-07T05:52:59.000+0000",
         0.0
        ],
        [
         "@kaeeeep yeah! i know! it was horrible!!!! ugh. saddening. ",
         "2009-04-07T05:53:04.000+0000",
         0.0
        ],
        [
         "@Brodhe geez ur no fun are you ",
         "2009-04-07T05:53:06.000+0000",
         0.0
        ],
        [
         "I wanna be in a punk rock band again ",
         "2009-04-07T05:53:14.000+0000",
         0.0
        ],
        [
         "@jyesmith That's a lot of angst for a Tuesday afternoon ",
         "2009-04-07T05:53:15.000+0000",
         0.0
        ],
        [
         "I'm very glad Britney isn't crazy anymore! That was one hell of a show! Now I'm sad that it's over.  Next up...AP at Cook County!",
         "2009-04-07T05:53:19.000+0000",
         0.0
        ],
        [
         "has a huuuge headache! omg I feel like crap! ",
         "2009-04-07T05:53:18.000+0000",
         0.0
        ],
        [
         "@Anistorm Sorry ",
         "2009-04-07T05:53:39.000+0000",
         0.0
        ],
        [
         "@cleders sorry...i was rooting for them too... ",
         "2009-04-07T05:53:40.000+0000",
         0.0
        ],
        [
         "Man, that took forever. ",
         "2009-04-07T05:53:47.000+0000",
         0.0
        ],
        [
         "@shandasaurus  I see.",
         "2009-04-07T05:53:49.000+0000",
         0.0
        ],
        [
         "I am listing more items on ebay to sell!  Takes forever..meanwhile Coleman is watching The Hills season premier without me.. ",
         "2009-04-07T05:53:50.000+0000",
         0.0
        ],
        [
         "Just got my presentation done, 23 slides done...  I'm crying for this week will be the hardest of all weeks.",
         "2009-04-07T05:53:52.000+0000",
         0.0
        ],
        [
         "Just lost $160 ",
         "2009-04-07T05:53:53.000+0000",
         0.0
        ],
        [
         "I don't like the previously on skins thing that starts at season two. I like it when it went straight into the intro like before ",
         "2009-04-07T05:53:55.000+0000",
         0.0
        ],
        [
         "@Houndour ...i wish i was there...i'm pretty good at scaring the shit out of people ",
         "2009-04-07T05:53:55.000+0000",
         0.0
        ],
        [
         "Going to sound vain... but running out of my fav lip gloss ",
         "2009-04-07T05:55:25.000+0000",
         0.0
        ],
        [
         "@stuiy never again will I click on a link that screams, &quot;I'm a spider, I'm a spider&quot;. I should have known better. yucky ",
         "2009-04-07T05:55:30.000+0000",
         0.0
        ],
        [
         "Why is that when you have time off from work you get sick? ",
         "2009-04-07T05:55:37.000+0000",
         0.0
        ],
        [
         "@pratama Same iMac came out $320 more in Indonesia than the States. ",
         "2009-04-07T05:55:40.000+0000",
         0.0
        ],
        [
         "Dammit... I need to stop buying furniture ",
         "2009-04-07T05:55:48.000+0000",
         0.0
        ],
        [
         "@Miss_Sil no i was half asleep and turned off the laptop after that ",
         "2009-04-07T05:55:48.000+0000",
         0.0
        ],
        [
         "Death is peaceful,  life however, bites ",
         "2009-04-07T05:55:53.000+0000",
         0.0
        ],
        [
         " i think @JonathanRKnight lost the net ? sure hope not",
         "2009-04-07T05:55:54.000+0000",
         0.0
        ],
        [
         "http://is.gd/r8Zf,  http://is.gd/r8Zy, and  http://is.gd/r8ZG - test footage with my girlfriend (in HD) The dark one is underxposed ",
         "2009-04-07T05:56:00.000+0000",
         0.0
        ],
        [
         "Such a tough game to watch tonight for State  Finally going to bed after also staying up to watch the season premiere of the Hills!",
         "2009-04-07T05:56:01.000+0000",
         0.0
        ],
        [
         "Seems jRuby support for hpricot is now two versions behind ",
         "2009-04-07T05:56:00.000+0000",
         0.0
        ],
        [
         "@JinxCat Unlike my sister...I still don't have one ",
         "2009-04-07T05:56:03.000+0000",
         0.0
        ],
        [
         "Fraking app store is pissing me off   http://tinyurl.com/c4ooho",
         "2009-04-07T05:56:08.000+0000",
         0.0
        ],
        [
         "Logging out. I need to study.... ",
         "2009-04-07T05:56:13.000+0000",
         0.0
        ],
        [
         "anyone else having problems accessing TTB??? I cant get on!!! ",
         "2009-04-07T05:56:17.000+0000",
         0.0
        ],
        [
         "I strongly dislike people who make stupid comments and dont know the whole story ",
         "2009-04-07T05:56:18.000+0000",
         0.0
        ],
        [
         "@emmaketurah  i'm sorry Emma, is swarley a goldfish? i'm sad for u.",
         "2009-04-07T05:56:20.000+0000",
         0.0
        ],
        [
         "All my tweets are already gone, aren't they  Missed you guys tonight.",
         "2009-04-07T05:56:23.000+0000",
         0.0
        ],
        [
         "Can't sleep again. Face is kinda swollen. Don't let me be allergic to the thing that'll get me to Thursday. School tomorrow? Doubtful. ",
         "2009-04-07T05:56:25.000+0000",
         0.0
        ],
        [
         "@Snick_the_Dog If Izzy's on the cat tree, she'll stare him down, but if she's on the floor, he chases and she runs. ",
         "2009-04-07T05:56:32.000+0000",
         0.0
        ],
        [
         "I am officially banning godaddy.com from my comp. My head hurts from the small print AND I wasted $10 that could've happily gone to Boba ",
         "2009-04-07T05:56:35.000+0000",
         0.0
        ],
        [
         "@HumanOpium pretty much just scary for me ",
         "2009-04-07T05:56:36.000+0000",
         0.0
        ],
        [
         "@ilovepie mines too... I'm finding it well hard to get fit... ",
         "2009-04-07T05:56:37.000+0000",
         0.0
        ],
        [
         "Good morning! Ready 2 go, but I want 2 go back 2 bed ",
         "2009-04-07T05:56:40.000+0000",
         0.0
        ],
        [
         "hates waiting for mails ",
         "2009-04-07T05:56:42.000+0000",
         0.0
        ],
        [
         "wheat bread from the dollar store just doesn't toast nicely  going over my taxes and calling it an early night",
         "2009-04-07T05:56:50.000+0000",
         0.0
        ],
        [
         "Why Kutner? I mean I knew something was going to happen to someone but it was so sad. I &lt;3 House and it was well done, but I'm still sad ",
         "2009-04-07T05:56:56.000+0000",
         0.0
        ],
        [
         "@JonathanRKnight aw ok goonite....  ",
         "2009-04-07T05:56:58.000+0000",
         0.0
        ],
        [
         "ill so i cant go to the cinema!! ",
         "2009-04-07T05:57:01.000+0000",
         0.0
        ],
        [
         "Fell asleep . . . Really didn't mean too  *christina*",
         "2009-04-07T05:57:05.000+0000",
         0.0
        ],
        [
         "@KelleyRowe hey, you remember that time we used to be friends?? ;)  ugh. vomit. sick.  i need sleep ",
         "2009-04-07T05:57:07.000+0000",
         0.0
        ],
        [
         "my lymph nodes are as massive as rahm emanuel's balls right now ",
         "2009-04-07T05:57:07.000+0000",
         0.0
        ],
        [
         "Oh no my computer sucks. I don't think i'll be able to listen to the Xbox 360 Fancast tonite ",
         "2009-04-07T05:57:14.000+0000",
         0.0
        ],
        [
         "is missing playing my trumpet ",
         "2009-04-07T05:57:15.000+0000",
         0.0
        ],
        [
         "My throat is still really sore. I was meant to be going on a 5 day camp from Friday but not so sure now ",
         "2009-04-07T05:57:24.000+0000",
         0.0
        ],
        [
         "@sasii I know exactly how you feel! ",
         "2009-04-07T05:57:27.000+0000",
         0.0
        ],
        [
         "At work ",
         "2009-04-07T05:57:28.000+0000",
         0.0
        ],
        [
         "Well bed time now. 1 am. *sighs* Back to 6 am mornings for a week on Wednesday. ",
         "2009-04-07T05:57:32.000+0000",
         0.0
        ],
        [
         "@hert Jesus Camp? Yeah... ",
         "2009-04-07T05:57:33.000+0000",
         0.0
        ],
        [
         "@MaryBethune oh no! with everything that happened today, i forgot we were going dress shopping for the opera tomorrow. ",
         "2009-04-07T05:57:33.000+0000",
         0.0
        ],
        [
         "Turtles are better than my Mac - lasts longer and moves faster ",
         "2009-04-07T05:57:37.000+0000",
         0.0
        ],
        [
         "I am soaked. This is not pleasant ",
         "2009-04-07T05:57:41.000+0000",
         0.0
        ],
        [
         "@ginayates Sorry to hear about Maggie.    Thoughts to your mum.",
         "2009-04-07T05:57:43.000+0000",
         0.0
        ],
        [
         "@ewarden, you may have to email this one to me  I hope you feel better.",
         "2009-04-07T05:57:43.000+0000",
         0.0
        ],
        [
         "@miamiiboii dead @ yu gettin on wen im leavin ",
         "2009-04-07T05:57:44.000+0000",
         0.0
        ],
        [
         "@arlenecd PLEASE TELL ME THAT'S SOMEWHERE CLOSE TO CALIFORNIA!!! LOL! ",
         "2009-04-07T05:57:44.000+0000",
         0.0
        ],
        [
         "@phlaimeaux where are you? ",
         "2009-04-07T05:57:47.000+0000",
         0.0
        ],
        [
         "stupid arranged marriages... i'll convert so you can marry me...love you! ",
         "2009-04-07T05:57:52.000+0000",
         0.0
        ],
        [
         "@emilyruppe Well he said that he is a looser, and that is what the show implies ",
         "2009-04-07T05:57:50.000+0000",
         0.0
        ],
        [
         "Poor Sandra Cantu &amp; the Cantu family! My prayers go out to them! What a sick world we live in. She was only 8 ",
         "2009-04-07T05:57:50.000+0000",
         0.0
        ],
        [
         "fuck omg  austins always there though man &lt;3 love you",
         "2009-04-07T05:57:54.000+0000",
         0.0
        ],
        [
         "@nicolerichie I cried so hard when Matthew died ",
         "2009-04-07T05:57:54.000+0000",
         0.0
        ],
        [
         "sad that the 'feet' of my macbook just fell off : sad that the 'feet' of my macbook just fell off ",
         "2009-04-07T05:57:57.000+0000",
         0.0
        ],
        [
         "@chordsy - why am I the last to find out about these things? Like that you're on the twitter too. ",
         "2009-04-07T05:57:59.000+0000",
         0.0
        ],
        [
         "@lovebscott absolutely not!! ",
         "2009-04-07T05:58:04.000+0000",
         0.0
        ],
        [
         "http://twitpic.com/2y3cf - Filled with curry  the true indian in me is coming out",
         "2009-04-07T05:58:05.000+0000",
         0.0
        ],
        [
         "im soooo cold right now ",
         "2009-04-07T05:58:07.000+0000",
         0.0
        ],
        [
         "@heidimontag lol I kant believe cam got beat upp sooo embarasssiiiin ",
         "2009-04-07T05:58:08.000+0000",
         0.0
        ],
        [
         "@JonathanRKnight Good Knight hun! Looking forward to ur tweets again! Hate that i keep missing out on the fun cuz of the time difference ",
         "2009-04-07T05:58:08.000+0000",
         0.0
        ],
        [
         "Tumblr: This is exactly how it feels wearing a �tie�  http://tinyurl.com/c8bvqh",
         "2009-04-07T05:58:18.000+0000",
         0.0
        ],
        [
         "@daniela_95616 hahaa!! i just realized &quot;impune&quot; definitely isnt the word i wanted... dang. i'm so unclever. ",
         "2009-04-07T05:58:24.000+0000",
         0.0
        ],
        [
         "watching old videos of dance team and such... makes me miss it  ",
         "2009-04-07T05:58:27.000+0000",
         0.0
        ],
        [
         "Wahh  no CSI anywhere! DVR'ed I Love Money 2 though - gonna watch it then sleep - Goodnight Tweeters&lt;3",
         "2009-04-07T05:58:26.000+0000",
         0.0
        ],
        [
         "Struggling hard with Inventory ",
         "2009-04-07T05:58:29.000+0000",
         0.0
        ],
        [
         "@ddlovato Do you hate us?? Please don't ",
         "2009-04-07T05:58:30.000+0000",
         0.0
        ],
        [
         "@ballinbitch haha im not THAT ballin. I still got bills to paaaaay ",
         "2009-04-07T05:58:33.000+0000",
         0.0
        ],
        [
         "I'm in one of those days when I really just want to work from home.  Crap. ",
         "2009-04-07T05:58:36.000+0000",
         0.0
        ],
        [
         "@paul_e_wog Wait...is it a game or just episodes? I'm so confused. ",
         "2009-04-07T05:58:37.000+0000",
         0.0
        ],
        [
         "@carlyw66 HAHA. I cried...  I guess he did....",
         "2009-04-07T05:58:37.000+0000",
         0.0
        ],
        [
         "I don't get statistics!  Its all a bunch of mumbo jumbo for me.",
         "2009-04-07T05:58:42.000+0000",
         0.0
        ],
        [
         "@sloanb Got it, sadly, only works for UK &amp; US at the moment ",
         "2009-04-07T05:58:42.000+0000",
         0.0
        ],
        [
         "Evicted ",
         "2009-04-07T06:00:18.000+0000",
         0.0
        ],
        [
         "doesn't enjoy learning CSS. ",
         "2009-04-07T06:00:20.000+0000",
         0.0
        ],
        [
         "@nachojohnny Brian don't make me fuck u up LOL I replied 2 ur message...did u get my # ? I miss u ",
         "2009-04-07T06:00:22.000+0000",
         0.0
        ],
        [
         "@heidimontag I  dvr'd it and went to watch it, apparently the dish network went down SO I MISSED IT    I will have to catch a rerun!",
         "2009-04-07T06:00:24.000+0000",
         0.0
        ],
        [
         "@JessDubb lmao. U may have to wait for another season to come thru. its summe boo. Hot nd dry ass weather ",
         "2009-04-07T06:00:26.000+0000",
         0.0
        ],
        [
         "@LizChavez I can't set my feet on the ground. The missing eyelid people might get me!  ",
         "2009-04-07T06:00:29.000+0000",
         0.0
        ],
        [
         "@daniela_95616 my english professor would be ashamed. ",
         "2009-04-07T06:00:31.000+0000",
         0.0
        ],
        [
         "[-O] I wish the frogs weren't becoming extinct    http://tinyurl.com/cxe8w7",
         "2009-04-07T06:00:34.000+0000",
         0.0
        ],
        [
         "Came home from Cross County, Tired as ",
         "2009-04-07T06:00:35.000+0000",
         0.0
        ],
        [
         "I don't want to walk home in this snow. Who wants to pick me up? ",
         "2009-04-07T06:00:36.000+0000",
         0.0
        ],
        [
         "@heidimontag Lauren is being stubborn. she loves you, you love her.  I feel so bad for you, though. it made me cry  lol!",
         "2009-04-07T06:00:36.000+0000",
         0.0
        ],
        [
         "is grouchy. and wants bmar ",
         "2009-04-07T06:00:47.000+0000",
         0.0
        ],
        [
         "my heart is broken every morning dropping Foo at pre school, now i understand when moms say &quot;he has my heart broken&quot;. ",
         "2009-04-07T06:00:55.000+0000",
         0.0
        ],
        [
         "Not feeling well and back hurts ",
         "2009-04-07T06:00:58.000+0000",
         0.0
        ],
        [
         "Im in the mood for some chocolate. I want..... Miniature Reeses cups. Now ",
         "2009-04-07T06:01:02.000+0000",
         0.0
        ],
        [
         "I can't take this heat! It's like an oven in here. I feel sick nwo ",
         "2009-04-07T06:01:01.000+0000",
         0.0
        ],
        [
         "@nick_carter Come to the chat  just 15 minutes  please? http://fanclub.backstreetboys.com/chat.php",
         "2009-04-07T06:01:04.000+0000",
         0.0
        ],
        [
         "Boredd. Colddd  Internet keeps stuffing up",
         "2009-04-07T06:01:04.000+0000",
         0.0
        ],
        [
         "I had a horrible nightmare last night which affected my sleep, now I'm really tired ",
         "2009-04-07T06:01:14.000+0000",
         0.0
        ],
        [
         "im lonely  keep me company! 22 female, new york",
         "2009-04-07T06:01:15.000+0000",
         0.0
        ],
        [
         "@Born_4_Broadway Lost  and it was St. Ignacius Prepatory School. Haha.",
         "2009-04-07T06:01:18.000+0000",
         0.0
        ],
        [
         "@birutagme yeah  it was really depressing... stuff like that gets to me",
         "2009-04-07T06:01:21.000+0000",
         0.0
        ],
        [
         "@whoisariston No problem, tongue-in-cheek remark.  Lots of acronyms, but no NZ ",
         "2009-04-07T06:01:26.000+0000",
         0.0
        ],
        [
         "@greggrunberg hey you said matt was gonna go all ballistic... i was disappointed  good ep tho mostly",
         "2009-04-07T06:01:26.000+0000",
         0.0
        ],
        [
         "ugh horrible ending to the sandra kantu story  prayers go out.",
         "2009-04-07T06:01:40.000+0000",
         0.0
        ],
        [
         "@danielledeleasa http://twitpic.com/2y1pe - I hate 2 B allergic  i want a puppy soo bad that i've already thought some cool names",
         "2009-04-07T06:01:53.000+0000",
         0.0
        ],
        [
         "Morning folks 7.00 am ..yawn! Up &amp; away to see to horses - hope Twitter is better behaved today!  Last night was a travesty ",
         "2009-04-07T06:01:54.000+0000",
         0.0
        ],
        [
         "@QuanDotCom I miss mine too! ",
         "2009-04-07T06:01:55.000+0000",
         0.0
        ],
        [
         "@AmandaEnglund Sorry to hear about your loss.     There have been many this year so far.",
         "2009-04-07T06:01:56.000+0000",
         0.0
        ],
        [
         "@nicolerichie Gossip Girl was a repeat ",
         "2009-04-07T06:01:59.000+0000",
         0.0
        ],
        [
         "@InYourEyes2410 I reckon ",
         "2009-04-07T06:02:00.000+0000",
         0.0
        ],
        [
         "finding it really hard to use twitter ",
         "2009-04-07T06:02:00.000+0000",
         0.0
        ],
        [
         "I've been stuck in this house for two days ",
         "2009-04-07T06:02:04.000+0000",
         0.0
        ],
        [
         "is really sad and doesn't really know y!!??!!! ",
         "2009-04-07T06:02:06.000+0000",
         0.0
        ],
        [
         "@thousand_miles no ",
         "2009-04-07T06:02:13.000+0000",
         0.0
        ],
        [
         "Maybe one of these years I'll get a tax return.  A girl can dream, right?",
         "2009-04-07T06:02:18.000+0000",
         0.0
        ],
        [
         "Back at work, tired as hell and i feel a cold coming ",
         "2009-04-07T06:02:19.000+0000",
         0.0
        ],
        [
         "@clarianne @Knot2serious APRIL 9TH ISN'T COMING SOON ENOUGH ",
         "2009-04-07T06:02:26.000+0000",
         0.0
        ],
        [
         "@hannahsix cream for his eye and he may have herpes - not ocular herpes, but a different strain.    He's doing okay though.",
         "2009-04-07T06:02:31.000+0000",
         0.0
        ],
        [
         "gotta repeat  whole art folio cuz old one with a whole terms work got wet ",
         "2009-04-07T06:02:31.000+0000",
         0.0
        ],
        [
         "I'm ready for the weekend already. It's only Monday. ",
         "2009-04-07T06:02:36.000+0000",
         0.0
        ],
        [
         "@lovebscott umm nope..think im an insomniac ..plus i got the flu...i'lll be sleepin like a phuckin fish outta water any minute now! ",
         "2009-04-07T06:02:39.000+0000",
         0.0
        ],
        [
         "has Finland sleeping for the night, not really enough time ",
         "2009-04-07T06:02:41.000+0000",
         0.0
        ],
        [
         "@lunafiko can't wait to try em but prolly have to wait until next weekend at the earliest ",
         "2009-04-07T06:02:41.000+0000",
         0.0
        ],
        [
         "Shiner is taking up all my bed and blankets! ",
         "2009-04-07T06:02:42.000+0000",
         0.0
        ],
        [
         "@clarianne APRIL 9TH ISN'T COMING SOON ENOUGH ",
         "2009-04-07T06:02:45.000+0000",
         0.0
        ],
        [
         "wants to cry ",
         "2009-04-07T06:02:45.000+0000",
         0.0
        ],
        [
         "I need to go to the bank tomorrow before I go broke... ",
         "2009-04-07T06:02:48.000+0000",
         0.0
        ],
        [
         "This earthquake in italy has me sadden.  it's only three hours away from naples, where my family is ",
         "2009-04-07T06:02:53.000+0000",
         0.0
        ],
        [
         "i should be sleeping, i have a stressed out week coming to me. ",
         "2009-04-07T06:02:54.000+0000",
         0.0
        ],
        [
         "@dragoneer Yea   I am working tp hack my server to do the 12player thing for folks",
         "2009-04-07T06:02:55.000+0000",
         0.0
        ],
        [
         "has hurt her ankle!! and is going to the dr ",
         "2009-04-07T06:02:56.000+0000",
         0.0
        ],
        [
         "@raymondroman oh noes. how did you manage to send something to the trash can AND empty it without noticing! i feel for ya ",
         "2009-04-07T06:03:10.000+0000",
         0.0
        ],
        [
         "Lost my free copy of radioactive so can't put it on my ipod grr!And i can't go out + buy 'nother coz it came with that paper ",
         "2009-04-07T06:03:12.000+0000",
         0.0
        ],
        [
         "doing make up shit ",
         "2009-04-07T06:03:14.000+0000",
         0.0
        ],
        [
         "Photoshop, I hate it when you crash ",
         "2009-04-07T06:03:16.000+0000",
         0.0
        ],
        [
         "vacations makes me feel sick! ",
         "2009-04-07T06:03:23.000+0000",
         0.0
        ],
        [
         "you shouldn't have gone ",
         "2009-04-07T06:03:24.000+0000",
         0.0
        ],
        [
         "listening to Murd and 9th wonder- just chillen out missing my crazy sex life  ",
         "2009-04-07T06:03:34.000+0000",
         0.0
        ],
        [
         "@louie094: shooting!?!! be careful, luisa ",
         "2009-04-07T06:03:35.000+0000",
         0.0
        ],
        [
         "@hillary006 I'm sure everyone has ruined my gift to you  Whitney has my serious Cell #...We doing easter as well?",
         "2009-04-07T06:03:39.000+0000",
         0.0
        ],
        [
         "is at Beso in Hollywood... so tired ",
         "2009-04-07T06:03:43.000+0000",
         0.0
        ],
        [
         "I don't want to wake up early tomorrow.  Damn you, work!",
         "2009-04-07T06:03:48.000+0000",
         0.0
        ],
        [
         "just finished watching the movie Prayers for Bobby. Broke my heart ",
         "2009-04-07T06:03:50.000+0000",
         0.0
        ],
        [
         "@syekr is myki really horrible? ",
         "2009-04-07T06:05:28.000+0000",
         0.0
        ],
        [
         "@stephenkruiser i had 2 put my dog down today too  someone ran her over",
         "2009-04-07T06:05:29.000+0000",
         0.0
        ],
        [
         "@NevadaWolf Sorry to hear about your DNF run tonight. Always a risk to get bad coords on an FTF!! ",
         "2009-04-07T06:05:32.000+0000",
         0.0
        ],
        [
         "@Honey3223 I did get some disgruntled people when I wrote my ESN, but the 1000 hits in one day made up for it. Bill pulls in 250 tops ",
         "2009-04-07T06:05:33.000+0000",
         0.0
        ],
        [
         "@moony394 OHH! OMG. LMAO. I'm crying right now, LOL! KUTNERRRR was the best! ",
         "2009-04-07T06:05:38.000+0000",
         0.0
        ],
        [
         "came back from running and took a shower...why does my lower stomach still hurt after exercising? ",
         "2009-04-07T06:05:38.000+0000",
         0.0
        ],
        [
         "watching Fallon with mom and working on a project...school is hard ",
         "2009-04-07T06:05:41.000+0000",
         0.0
        ],
        [
         "56 min till home time and counting! I have a craving to visit the MAC store but they will have closed by the time I get there ",
         "2009-04-07T06:05:41.000+0000",
         0.0
        ],
        [
         "@stephenkruiser I am so sorry to hear that!  Take care!",
         "2009-04-07T06:05:44.000+0000",
         0.0
        ],
        [
         "@PaulColes  hmmm...greed is good when it motivates the individual to do better-not so much when it takes away from others ",
         "2009-04-07T06:05:45.000+0000",
         0.0
        ],
        [
         "@GABBYiSACTiVE brat! You have to rub it in, don't you.... I want a mocha ",
         "2009-04-07T06:05:48.000+0000",
         0.0
        ],
        [
         "KUTNERRRR!  WHY??? WHY??????  And to think that 13 is still on the show?? UGH. Kutner/Kal Penn - you've been the bright star in Ho ...",
         "2009-04-07T06:05:52.000+0000",
         0.0
        ],
        [
         "@redvinylgirl my mom has it. I wish you the best of luck ",
         "2009-04-07T06:05:51.000+0000",
         0.0
        ],
        [
         "I so hate homeworks -.- My head hurts so bad ",
         "2009-04-07T06:05:54.000+0000",
         0.0
        ],
        [
         "got the ebay blues! item i want jumped from no bidders to over $100 in an hour.. still has 3 hours to go. i'd better not get my hopes up ",
         "2009-04-07T06:05:58.000+0000",
         0.0
        ]
       ],
       "datasetInfos": [],
       "dbfsResultPath": null,
       "isJsonSchema": true,
       "metadata": {},
       "overflow": false,
       "plotOptions": {
        "customPlotOptions": {},
        "displayType": "table",
        "pivotAggregation": null,
        "pivotColumns": null,
        "xColumns": null,
        "yColumns": null
       },
       "removedWidgets": [],
       "schema": [
        {
         "metadata": "{}",
         "name": "text",
         "type": "\"string\""
        },
        {
         "metadata": "{}",
         "name": "time",
         "type": "\"timestamp\""
        },
        {
         "metadata": "{\"ml_attr\":{\"type\":\"binary\"}}",
         "name": "label",
         "type": "\"double\""
        }
       ],
       "type": "table"
      }
     },
     "output_type": "display_data"
    }
   ],
   "source": [
    "# Read streaming data with the full schema\n",
    "schema = \"target integer, id long, date string, flag string, user string, text string\"\n",
    "lines = spark.readStream.option(\"maxFilesPerTrigger\",1).csv(\"file:/databricks/driver/tmp/\", sep=\",\", schema=schema)\\\n",
    "             .drop(\"id\", \"flag\", \"user\")\\\n",
    "             .withColumn(\"time\", to_timestamp(substring(col(\"date\"),5,24),\"MMM dd HH:mm:ss zzz yyyy\"))\\\n",
    "             .drop(\"date\")\n",
    "\n",
    "fitted_target_pipeline = PipelineModel.load(\"/FileStore/fitted_target_pipeline/\")\n",
    "transformed_stream = fitted_target_pipeline.transform(lines).drop(\"target_double\",\"target\")\n",
    "transformed_stream.display()\n"
   ]
  },
  {
   "cell_type": "code",
   "execution_count": 0,
   "metadata": {
    "application/vnd.databricks.v1+cell": {
     "cellMetadata": {
      "byteLimit": 2048000,
      "rowLimit": 10000
     },
     "inputWidgets": {},
     "nuid": "22dcfc00-8257-46b1-bc84-c1d100668fc9",
     "showTitle": false,
     "title": ""
    }
   },
   "outputs": [],
   "source": [
    "modelPath = \"/FileStore/twitter_nbpipeline\"\n",
    "pipelineModel = PipelineModel.load(modelPath)\n",
    "\n",
    "scored_tweets = pipelineModel.transform(transformed_stream)\n",
    "query = scored_tweets.drop(\"rawPrediction\", \"probability\", \"features\", \"words\", \"words_filtered\")\\\n",
    "  .writeStream\\\n",
    "  .format(\"memory\")\\\n",
    "  .queryName(\"scored_tweets\")\\\n",
    "  .outputMode(\"append\")\\\n",
    "  .trigger(processingTime='2 seconds')\\\n",
    "  .start()"
   ]
  },
  {
   "cell_type": "markdown",
   "metadata": {
    "application/vnd.databricks.v1+cell": {
     "cellMetadata": {},
     "inputWidgets": {},
     "nuid": "8fbe310d-6572-4548-abeb-485c9cf28578",
     "showTitle": false,
     "title": ""
    }
   },
   "source": [
    "## Step 2: View the stream results\n",
    "\n",
    "- Query the number of rows in the `scored_teweets` table\n",
    "- Visulize the count of positive and negative tweets by 30 second windows."
   ]
  },
  {
   "cell_type": "code",
   "execution_count": 0,
   "metadata": {
    "application/vnd.databricks.v1+cell": {
     "cellMetadata": {
      "byteLimit": 2048000,
      "implicitDf": true,
      "rowLimit": 10000
     },
     "inputWidgets": {},
     "nuid": "4531445d-cd59-4e9b-a1b4-1be23355ecd0",
     "showTitle": false,
     "title": ""
    }
   },
   "outputs": [
    {
     "output_type": "display_data",
     "data": {
      "text/html": [
       "<style scoped>\n",
       "  .table-result-container {\n",
       "    max-height: 300px;\n",
       "    overflow: auto;\n",
       "  }\n",
       "  table, th, td {\n",
       "    border: 1px solid black;\n",
       "    border-collapse: collapse;\n",
       "  }\n",
       "  th, td {\n",
       "    padding: 5px;\n",
       "  }\n",
       "  th {\n",
       "    text-align: left;\n",
       "  }\n",
       "</style><div class='table-result-container'><table class='table-result'><thead style='background-color: white'><tr><th>count(1)</th></tr></thead><tbody><tr><td>309</td></tr></tbody></table></div>"
      ]
     },
     "metadata": {
      "application/vnd.databricks.v1+output": {
       "addedWidgets": {},
       "aggData": [],
       "aggError": "",
       "aggOverflow": false,
       "aggSchema": [],
       "aggSeriesLimitReached": false,
       "aggType": "",
       "arguments": {},
       "columnCustomDisplayInfos": {},
       "data": [
        [
         309
        ]
       ],
       "datasetInfos": [],
       "dbfsResultPath": null,
       "isJsonSchema": true,
       "metadata": {},
       "overflow": false,
       "plotOptions": {
        "customPlotOptions": {},
        "displayType": "table",
        "pivotAggregation": null,
        "pivotColumns": null,
        "xColumns": null,
        "yColumns": null
       },
       "removedWidgets": [],
       "schema": [
        {
         "metadata": "{\"__autoGeneratedAlias\":\"true\"}",
         "name": "count(1)",
         "type": "\"long\""
        }
       ],
       "type": "table"
      }
     },
     "output_type": "display_data"
    }
   ],
   "source": [
    "%sql\n",
    "select COUNT(*) from scored_tweets;"
   ]
  },
  {
   "cell_type": "code",
   "execution_count": 0,
   "metadata": {
    "application/vnd.databricks.v1+cell": {
     "cellMetadata": {
      "byteLimit": 2048000,
      "implicitDf": true,
      "rowLimit": 10000
     },
     "inputWidgets": {},
     "nuid": "84af2fee-b352-4bda-bb1f-01c0b17124a2",
     "showTitle": false,
     "title": ""
    }
   },
   "outputs": [
    {
     "output_type": "display_data",
     "data": {
      "text/html": [
       "<style scoped>\n",
       "  .table-result-container {\n",
       "    max-height: 300px;\n",
       "    overflow: auto;\n",
       "  }\n",
       "  table, th, td {\n",
       "    border: 1px solid black;\n",
       "    border-collapse: collapse;\n",
       "  }\n",
       "  th, td {\n",
       "    padding: 5px;\n",
       "  }\n",
       "  th {\n",
       "    text-align: left;\n",
       "  }\n",
       "</style><div class='table-result-container'><table class='table-result'><thead style='background-color: white'><tr><th>window</th><th>positive</th><th>negative</th></tr></thead><tbody><tr><td>List(2009-04-07T05:40:00.000+0000, 2009-04-07T05:40:30.000+0000)</td><td>0</td><td>3</td></tr><tr><td>List(2009-04-07T05:41:00.000+0000, 2009-04-07T05:41:30.000+0000)</td><td>0</td><td>8</td></tr><tr><td>List(2009-04-07T05:40:30.000+0000, 2009-04-07T05:41:00.000+0000)</td><td>1</td><td>6</td></tr></tbody></table></div>"
      ]
     },
     "metadata": {
      "application/vnd.databricks.v1+output": {
       "addedWidgets": {},
       "aggData": [],
       "aggError": "",
       "aggOverflow": false,
       "aggSchema": [],
       "aggSeriesLimitReached": false,
       "aggType": "",
       "arguments": {},
       "columnCustomDisplayInfos": {},
       "data": [
        [
         [
          "2009-04-07T05:40:00.000+0000",
          "2009-04-07T05:40:30.000+0000"
         ],
         0,
         3
        ],
        [
         [
          "2009-04-07T05:41:00.000+0000",
          "2009-04-07T05:41:30.000+0000"
         ],
         0,
         8
        ],
        [
         [
          "2009-04-07T05:40:30.000+0000",
          "2009-04-07T05:41:00.000+0000"
         ],
         1,
         6
        ]
       ],
       "datasetInfos": [],
       "dbfsResultPath": null,
       "isJsonSchema": true,
       "metadata": {},
       "overflow": false,
       "plotOptions": {
        "customPlotOptions": {},
        "displayType": "table",
        "pivotAggregation": null,
        "pivotColumns": null,
        "xColumns": null,
        "yColumns": null
       },
       "removedWidgets": [],
       "schema": [
        {
         "metadata": "{\"spark.timeWindow\":true}",
         "name": "window",
         "type": "{\"type\":\"struct\",\"fields\":[{\"name\":\"start\",\"type\":\"timestamp\",\"nullable\":true,\"metadata\":{}},{\"name\":\"end\",\"type\":\"timestamp\",\"nullable\":true,\"metadata\":{}}]}"
        },
        {
         "metadata": "{}",
         "name": "positive",
         "type": "\"long\""
        },
        {
         "metadata": "{}",
         "name": "negative",
         "type": "\"long\""
        }
       ],
       "type": "table"
      }
     },
     "output_type": "display_data"
    }
   ],
   "source": [
    "%sql\n",
    "\n",
    "select window(time,\"30 seconds\"), sum(if(prediction=1,1,0)) as positive, sum(if(prediction=0,1,0)) as negative from scored_tweets\n",
    "where time > (select max(time) from scored_tweets) - INTERVAL 1 minutes\n",
    "group by window(time,\"30 seconds\")"
   ]
  },
  {
   "cell_type": "code",
   "execution_count": 0,
   "metadata": {
    "application/vnd.databricks.v1+cell": {
     "cellMetadata": {},
     "inputWidgets": {},
     "nuid": "ee534efd-3f46-4844-b2df-ce57812fff39",
     "showTitle": false,
     "title": ""
    }
   },
   "outputs": [],
   "source": []
  }
 ],
 "metadata": {
  "application/vnd.databricks.v1+notebook": {
   "dashboards": [],
   "language": "python",
   "notebookMetadata": {
    "mostRecentlyExecutedCommandWithImplicitDF": {
     "commandId": 3328030831838482,
     "dataframes": [
      "_sqldf"
     ]
    },
    "pythonIndentUnit": 4
   },
   "notebookName": "Streaming_Tweet_Sentiment_Prediction",
   "widgets": {}
  }
 },
 "nbformat": 4,
 "nbformat_minor": 0
}
