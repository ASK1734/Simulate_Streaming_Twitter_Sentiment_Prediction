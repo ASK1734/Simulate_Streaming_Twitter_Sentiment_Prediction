{
 "cells": [
  {
   "cell_type": "markdown",
   "metadata": {
    "application/vnd.databricks.v1+cell": {
     "cellMetadata": {},
     "inputWidgets": {},
     "nuid": "11826fe0-a640-453c-a7ed-39b2b0769027",
     "showTitle": false,
     "title": ""
    }
   },
   "source": [
    "# Streaming Twitter Sentiment Prediction"
   ]
  },
  {
   "cell_type": "markdown",
   "metadata": {
    "application/vnd.databricks.v1+cell": {
     "cellMetadata": {},
     "inputWidgets": {},
     "nuid": "03bfd53a-8427-40e3-ad73-cbe4ec9d09c9",
     "showTitle": false,
     "title": ""
    }
   },
   "source": [
    "## Part 1: Training a NaiveBayes Model of Twitter Sentiment\n",
    "\n",
    "Our approach is making twitter sentiment prediction is to first train a Naive Bayes model of twitter sentiment prediction using a given labled dataset at Kaggle.\n",
    "\n",
    "We then save the trained model and will load and use it subsequently in a streaming application (in a different notebook)"
   ]
  },
  {
   "cell_type": "markdown",
   "metadata": {
    "application/vnd.databricks.v1+cell": {
     "cellMetadata": {},
     "inputWidgets": {},
     "nuid": "d6b489ef-4122-4cad-afeb-669b995fcb0a",
     "showTitle": false,
     "title": ""
    }
   },
   "source": [
    "### Step 1: Download and Explore data"
   ]
  },
  {
   "cell_type": "code",
   "execution_count": 0,
   "metadata": {
    "application/vnd.databricks.v1+cell": {
     "cellMetadata": {
      "byteLimit": 2048000,
      "rowLimit": 10000
     },
     "inputWidgets": {},
     "nuid": "cdb6d65b-5f9f-4492-b22c-f8542db7497e",
     "showTitle": false,
     "title": ""
    }
   },
   "outputs": [
    {
     "output_type": "stream",
     "name": "stdout",
     "output_type": "stream",
     "text": [
      "--2024-01-23 19:54:50--  http://idsdl.csom.umn.edu/c/share/msba6330/twitter1.6m.zip\r\nResolving idsdl.csom.umn.edu (idsdl.csom.umn.edu)... 134.84.138.46, 2607:ea00:101:480a:250:56ff:febb:e76b\r\nConnecting to idsdl.csom.umn.edu (idsdl.csom.umn.edu)|134.84.138.46|:80... connected.\r\nHTTP request sent, awaiting response... 200 OK\r\nLength: 84855679 (81M) [application/zip]\r\nSaving to: ‘twitter1.6m.zip’\r\n\r\n\rtwitter1.6m.zip       0%[                    ]       0  --.-KB/s               \rtwitter1.6m.zip       0%[                    ] 194.84K   810KB/s               \rtwitter1.6m.zip       1%[                    ]   1.42M  3.22MB/s               \rtwitter1.6m.zip      10%[=>                  ]   8.31M  12.9MB/s               \rtwitter1.6m.zip      19%[==>                 ]  16.00M  19.0MB/s               \rtwitter1.6m.zip      29%[====>               ]  23.98M  23.0MB/s               \rtwitter1.6m.zip      39%[======>             ]  32.14M  25.9MB/s               \rtwitter1.6m.zip      49%[========>           ]  40.38M  28.0MB/s               \rtwitter1.6m.zip      60%[===========>        ]  48.74M  29.7MB/s               \rtwitter1.6m.zip      70%[=============>      ]  57.17M  31.0MB/s               \rtwitter1.6m.zip      81%[===============>    ]  65.92M  32.3MB/s               \rtwitter1.6m.zip      92%[=================>  ]  74.63M  33.2MB/s               \rtwitter1.6m.zip     100%[===================>]  80.92M  33.9MB/s    in 2.4s    \r\n\r\n2024-01-23 19:54:53 (33.9 MB/s) - ‘twitter1.6m.zip’ saved [84855679/84855679]\r\n\r\n"
     ]
    }
   ],
   "source": [
    "!wget http://idsdl.csom.umn.edu/c/share/msba6330/twitter1.6m.zip"
   ]
  },
  {
   "cell_type": "code",
   "execution_count": 0,
   "metadata": {
    "application/vnd.databricks.v1+cell": {
     "cellMetadata": {
      "byteLimit": 2048000,
      "rowLimit": 10000
     },
     "inputWidgets": {},
     "nuid": "dfffa718-7cf4-44cf-bccb-1c5fe4837176",
     "showTitle": false,
     "title": ""
    }
   },
   "outputs": [
    {
     "output_type": "stream",
     "name": "stdout",
     "output_type": "stream",
     "text": [
      "Archive:  twitter1.6m.zip\r\n  inflating: training.1600000.processed.noemoticon.csv  \r\n"
     ]
    }
   ],
   "source": [
    "!unzip twitter1.6m.zip"
   ]
  },
  {
   "cell_type": "code",
   "execution_count": 0,
   "metadata": {
    "application/vnd.databricks.v1+cell": {
     "cellMetadata": {
      "byteLimit": 2048000,
      "rowLimit": 10000
     },
     "inputWidgets": {},
     "nuid": "c74a8d48-85e5-4807-b8ce-119aae1756ea",
     "showTitle": false,
     "title": ""
    }
   },
   "outputs": [
    {
     "output_type": "stream",
     "name": "stdout",
     "output_type": "stream",
     "text": [
      "head: cannot open 'training.1600000.processed.noemoticon.csv' for reading: No such file or directory\r\n"
     ]
    }
   ],
   "source": [
    "!head training.1600000.processed.noemoticon.csv"
   ]
  },
  {
   "cell_type": "markdown",
   "metadata": {
    "application/vnd.databricks.v1+cell": {
     "cellMetadata": {},
     "inputWidgets": {},
     "nuid": "8667e86b-a4b3-48fd-8dc9-9070f6b6ed40",
     "showTitle": false,
     "title": ""
    }
   },
   "source": [
    "Read the data into a DataFrame `data` using schema string: `target integer, id long, date string, flag string, user string, text string`"
   ]
  },
  {
   "cell_type": "code",
   "execution_count": 0,
   "metadata": {
    "application/vnd.databricks.v1+cell": {
     "cellMetadata": {
      "byteLimit": 2048000,
      "rowLimit": 10000
     },
     "inputWidgets": {},
     "nuid": "ea96906c-848e-422b-a7e1-014b5541ae9f",
     "showTitle": false,
     "title": ""
    }
   },
   "outputs": [
    {
     "output_type": "display_data",
     "data": {
      "text/html": [
       "<style scoped>\n",
       "  .table-result-container {\n",
       "    max-height: 300px;\n",
       "    overflow: auto;\n",
       "  }\n",
       "  table, th, td {\n",
       "    border: 1px solid black;\n",
       "    border-collapse: collapse;\n",
       "  }\n",
       "  th, td {\n",
       "    padding: 5px;\n",
       "  }\n",
       "  th {\n",
       "    text-align: left;\n",
       "  }\n",
       "</style><div class='table-result-container'><table class='table-result'><thead style='background-color: white'><tr><th>target</th><th>id</th><th>date</th><th>flag</th><th>user</th><th>text</th></tr></thead><tbody><tr><td>0</td><td>1467810369</td><td>Mon Apr 06 22:19:45 PDT 2009</td><td>NO_QUERY</td><td>_TheSpecialOne_</td><td>@switchfoot http://twitpic.com/2y1zl - Awww, that's a bummer.  You shoulda got David Carr of Third Day to do it. ;D</td></tr><tr><td>0</td><td>1467810672</td><td>Mon Apr 06 22:19:49 PDT 2009</td><td>NO_QUERY</td><td>scotthamilton</td><td>is upset that he can't update his Facebook by texting it... and might cry as a result  School today also. Blah!</td></tr><tr><td>0</td><td>1467810917</td><td>Mon Apr 06 22:19:53 PDT 2009</td><td>NO_QUERY</td><td>mattycus</td><td>@Kenichan I dived many times for the ball. Managed to save 50%  The rest go out of bounds</td></tr><tr><td>0</td><td>1467811184</td><td>Mon Apr 06 22:19:57 PDT 2009</td><td>NO_QUERY</td><td>ElleCTF</td><td>my whole body feels itchy and like its on fire </td></tr><tr><td>0</td><td>1467811193</td><td>Mon Apr 06 22:19:57 PDT 2009</td><td>NO_QUERY</td><td>Karoli</td><td>@nationwideclass no, it's not behaving at all. i'm mad. why am i here? because I can't see you all over there. </td></tr></tbody></table></div>"
      ]
     },
     "metadata": {
      "application/vnd.databricks.v1+output": {
       "addedWidgets": {},
       "aggData": [],
       "aggError": "",
       "aggOverflow": false,
       "aggSchema": [],
       "aggSeriesLimitReached": false,
       "aggType": "",
       "arguments": {},
       "columnCustomDisplayInfos": {},
       "data": [
        [
         0,
         1467810369,
         "Mon Apr 06 22:19:45 PDT 2009",
         "NO_QUERY",
         "_TheSpecialOne_",
         "@switchfoot http://twitpic.com/2y1zl - Awww, that's a bummer.  You shoulda got David Carr of Third Day to do it. ;D"
        ],
        [
         0,
         1467810672,
         "Mon Apr 06 22:19:49 PDT 2009",
         "NO_QUERY",
         "scotthamilton",
         "is upset that he can't update his Facebook by texting it... and might cry as a result  School today also. Blah!"
        ],
        [
         0,
         1467810917,
         "Mon Apr 06 22:19:53 PDT 2009",
         "NO_QUERY",
         "mattycus",
         "@Kenichan I dived many times for the ball. Managed to save 50%  The rest go out of bounds"
        ],
        [
         0,
         1467811184,
         "Mon Apr 06 22:19:57 PDT 2009",
         "NO_QUERY",
         "ElleCTF",
         "my whole body feels itchy and like its on fire "
        ],
        [
         0,
         1467811193,
         "Mon Apr 06 22:19:57 PDT 2009",
         "NO_QUERY",
         "Karoli",
         "@nationwideclass no, it's not behaving at all. i'm mad. why am i here? because I can't see you all over there. "
        ]
       ],
       "datasetInfos": [],
       "dbfsResultPath": null,
       "isJsonSchema": true,
       "metadata": {},
       "overflow": false,
       "plotOptions": {
        "customPlotOptions": {},
        "displayType": "table",
        "pivotAggregation": null,
        "pivotColumns": null,
        "xColumns": null,
        "yColumns": null
       },
       "removedWidgets": [],
       "schema": [
        {
         "metadata": "{}",
         "name": "target",
         "type": "\"integer\""
        },
        {
         "metadata": "{}",
         "name": "id",
         "type": "\"long\""
        },
        {
         "metadata": "{}",
         "name": "date",
         "type": "\"string\""
        },
        {
         "metadata": "{}",
         "name": "flag",
         "type": "\"string\""
        },
        {
         "metadata": "{}",
         "name": "user",
         "type": "\"string\""
        },
        {
         "metadata": "{}",
         "name": "text",
         "type": "\"string\""
        }
       ],
       "type": "table"
      }
     },
     "output_type": "display_data"
    }
   ],
   "source": [
    "schema = \"target integer, id long, date string, flag string, user string, text string\"\n",
    "data = spark.read.csv(\"file:/databricks/driver/training.1600000.processed.noemoticon.csv\", schema=schema)\n",
    "data.limit(5).display()"
   ]
  },
  {
   "cell_type": "code",
   "execution_count": 0,
   "metadata": {
    "application/vnd.databricks.v1+cell": {
     "cellMetadata": {
      "byteLimit": 2048000,
      "rowLimit": 10000
     },
     "inputWidgets": {},
     "nuid": "1699882a-47ef-4adc-a968-ac7ed16efa3b",
     "showTitle": false,
     "title": ""
    }
   },
   "outputs": [
    {
     "output_type": "stream",
     "name": "stdout",
     "output_type": "stream",
     "text": [
      "root\n |-- target: integer (nullable = true)\n |-- id: long (nullable = true)\n |-- date: string (nullable = true)\n |-- flag: string (nullable = true)\n |-- user: string (nullable = true)\n |-- text: string (nullable = true)\n\n"
     ]
    }
   ],
   "source": [
    "data.printSchema()"
   ]
  },
  {
   "cell_type": "markdown",
   "metadata": {
    "application/vnd.databricks.v1+cell": {
     "cellMetadata": {},
     "inputWidgets": {},
     "nuid": "4199a1aa-3768-4323-a422-c3075d788b0a",
     "showTitle": false,
     "title": ""
    }
   },
   "source": [
    "## Step 2: Do Some Data Cleaning and Target Variable transformation\n",
    "\n",
    "Please note that our train data has a different format from our testing data which comes from twitter stream. Our testing data will have these fields\n",
    "\n",
    "- `text`: tweet text\n",
    "- `time`: timestamp\n",
    "\n",
    "In the following, we first want to \n",
    "\n",
    "- transform the date column into a timestamp column `time`\n",
    "- transform `target` variable into a binary column (tip: using Binarizer, but cast it to double first as Binarizer only works with double/float columns)\n",
    "- drop the irrelevant columns.\n",
    "\n",
    "The resulting dataframe, called `data_clean` will have these\n",
    "- `label`: a 0-1 label column derived from target.\n",
    "- `text` \n",
    "- `time`"
   ]
  },
  {
   "cell_type": "code",
   "execution_count": 0,
   "metadata": {
    "application/vnd.databricks.v1+cell": {
     "cellMetadata": {
      "byteLimit": 2048000,
      "rowLimit": 10000
     },
     "inputWidgets": {},
     "nuid": "4dfc745d-8208-4cff-baa3-9a8d058c7ed4",
     "showTitle": false,
     "title": ""
    }
   },
   "outputs": [
    {
     "output_type": "display_data",
     "data": {
      "text/html": [
       "<style scoped>\n",
       "  .table-result-container {\n",
       "    max-height: 300px;\n",
       "    overflow: auto;\n",
       "  }\n",
       "  table, th, td {\n",
       "    border: 1px solid black;\n",
       "    border-collapse: collapse;\n",
       "  }\n",
       "  th, td {\n",
       "    padding: 5px;\n",
       "  }\n",
       "  th {\n",
       "    text-align: left;\n",
       "  }\n",
       "</style><div class='table-result-container'><table class='table-result'><thead style='background-color: white'><tr><th>text</th><th>time</th><th>label</th></tr></thead><tbody><tr><td>@switchfoot http://twitpic.com/2y1zl - Awww, that's a bummer.  You shoulda got David Carr of Third Day to do it. ;D</td><td>2009-04-07T05:19:45.000+0000</td><td>0.0</td></tr><tr><td>is upset that he can't update his Facebook by texting it... and might cry as a result  School today also. Blah!</td><td>2009-04-07T05:19:49.000+0000</td><td>0.0</td></tr><tr><td>@Kenichan I dived many times for the ball. Managed to save 50%  The rest go out of bounds</td><td>2009-04-07T05:19:53.000+0000</td><td>0.0</td></tr><tr><td>my whole body feels itchy and like its on fire </td><td>2009-04-07T05:19:57.000+0000</td><td>0.0</td></tr><tr><td>@nationwideclass no, it's not behaving at all. i'm mad. why am i here? because I can't see you all over there. </td><td>2009-04-07T05:19:57.000+0000</td><td>0.0</td></tr></tbody></table></div>"
      ]
     },
     "metadata": {
      "application/vnd.databricks.v1+output": {
       "addedWidgets": {},
       "aggData": [],
       "aggError": "",
       "aggOverflow": false,
       "aggSchema": [],
       "aggSeriesLimitReached": false,
       "aggType": "",
       "arguments": {},
       "columnCustomDisplayInfos": {},
       "data": [
        [
         "@switchfoot http://twitpic.com/2y1zl - Awww, that's a bummer.  You shoulda got David Carr of Third Day to do it. ;D",
         "2009-04-07T05:19:45.000+0000",
         0.0
        ],
        [
         "is upset that he can't update his Facebook by texting it... and might cry as a result  School today also. Blah!",
         "2009-04-07T05:19:49.000+0000",
         0.0
        ],
        [
         "@Kenichan I dived many times for the ball. Managed to save 50%  The rest go out of bounds",
         "2009-04-07T05:19:53.000+0000",
         0.0
        ],
        [
         "my whole body feels itchy and like its on fire ",
         "2009-04-07T05:19:57.000+0000",
         0.0
        ],
        [
         "@nationwideclass no, it's not behaving at all. i'm mad. why am i here? because I can't see you all over there. ",
         "2009-04-07T05:19:57.000+0000",
         0.0
        ]
       ],
       "datasetInfos": [],
       "dbfsResultPath": null,
       "isJsonSchema": true,
       "metadata": {},
       "overflow": false,
       "plotOptions": {
        "customPlotOptions": {},
        "displayType": "table",
        "pivotAggregation": null,
        "pivotColumns": null,
        "xColumns": null,
        "yColumns": null
       },
       "removedWidgets": [],
       "schema": [
        {
         "metadata": "{}",
         "name": "text",
         "type": "\"string\""
        },
        {
         "metadata": "{}",
         "name": "time",
         "type": "\"timestamp\""
        },
        {
         "metadata": "{\"ml_attr\":{\"type\":\"binary\"}}",
         "name": "label",
         "type": "\"double\""
        }
       ],
       "type": "table"
      }
     },
     "output_type": "display_data"
    }
   ],
   "source": [
    "from pyspark.sql.functions import col, to_timestamp, substring\n",
    "from pyspark.ml.feature import *\n",
    "from pyspark.ml import Pipeline\n",
    "\n",
    "data_clean = data.drop(\"id\", \"flag\", \"user\").withColumn(\"time\", to_timestamp(substring(col(\"date\"),5,24),\"MMM dd HH:mm:ss zzz yyyy\")).drop(\"date\").cache()\n",
    "\n",
    "# The query casts the \"target\" column to a double type and renames it to \"target_double\". The * selects all other columns in addition to this newly created column\n",
    "st_cast = SQLTransformer(statement = \"select cast(target as double) as target_double, * from __THIS__\")\n",
    "\n",
    "# convert continuous features to binary (0/1) values based on a threshold. \n",
    "# If \"target_double\" is greater than 2.0, it will be converted to 1, otherwise 0.\n",
    "binarizer = Binarizer(threshold = 2.0, inputCol=\"target_double\", outputCol=\"label\")\n",
    "target_pipeline = Pipeline(stages=[st_cast,binarizer])\n",
    "data_train = target_pipeline.fit(data_clean).transform(data_clean).drop(\"target_double\",\"target\")\n",
    "\n",
    "data_train.limit(5).display()"
   ]
  },
  {
   "cell_type": "code",
   "execution_count": 0,
   "metadata": {
    "application/vnd.databricks.v1+cell": {
     "cellMetadata": {
      "byteLimit": 2048000,
      "rowLimit": 10000
     },
     "inputWidgets": {},
     "nuid": "124f4ff2-55a1-4c3b-800b-898a3617f5ad",
     "showTitle": false,
     "title": ""
    }
   },
   "outputs": [
    {
     "output_type": "stream",
     "name": "stdout",
     "output_type": "stream",
     "text": [
      "root\n |-- text: string (nullable = true)\n |-- time: timestamp (nullable = true)\n |-- label: double (nullable = true)\n\n"
     ]
    }
   ],
   "source": [
    "data_train.printSchema()"
   ]
  },
  {
   "cell_type": "markdown",
   "metadata": {
    "application/vnd.databricks.v1+cell": {
     "cellMetadata": {},
     "inputWidgets": {},
     "nuid": "b7ef21ef-dc77-4ff1-bb92-0ccd847c44aa",
     "showTitle": false,
     "title": ""
    }
   },
   "source": [
    "## Step 3: save `target_pipeline` which includes SQLTransformer and binarizer on DBFS at `/FileStore/fitted_target_pipeline/`"
   ]
  },
  {
   "cell_type": "code",
   "execution_count": 0,
   "metadata": {
    "application/vnd.databricks.v1+cell": {
     "cellMetadata": {
      "byteLimit": 2048000,
      "rowLimit": 10000
     },
     "inputWidgets": {},
     "nuid": "1188a04f-8703-437a-a134-d70417d4431c",
     "showTitle": false,
     "title": ""
    }
   },
   "outputs": [],
   "source": [
    "fitted_target_pipeline = target_pipeline.fit(data_clean)\n",
    "fitted_target_pipeline.write().overwrite().save(\"/FileStore/fitted_target_pipeline/\")"
   ]
  },
  {
   "cell_type": "code",
   "execution_count": 0,
   "metadata": {
    "application/vnd.databricks.v1+cell": {
     "cellMetadata": {
      "byteLimit": 2048000,
      "rowLimit": 10000
     },
     "inputWidgets": {},
     "nuid": "470d8b64-bf29-43b1-9928-d17716201d1e",
     "showTitle": false,
     "title": ""
    }
   },
   "outputs": [
    {
     "output_type": "display_data",
     "data": {
      "text/html": [
       "<style scoped>\n",
       "  .table-result-container {\n",
       "    max-height: 300px;\n",
       "    overflow: auto;\n",
       "  }\n",
       "  table, th, td {\n",
       "    border: 1px solid black;\n",
       "    border-collapse: collapse;\n",
       "  }\n",
       "  th, td {\n",
       "    padding: 5px;\n",
       "  }\n",
       "  th {\n",
       "    text-align: left;\n",
       "  }\n",
       "</style><div class='table-result-container'><table class='table-result'><thead style='background-color: white'><tr><th>path</th><th>name</th><th>size</th><th>modificationTime</th></tr></thead><tbody><tr><td>dbfs:/FileStore/fitted_target_pipeline/metadata/</td><td>metadata/</td><td>0</td><td>0</td></tr><tr><td>dbfs:/FileStore/fitted_target_pipeline/stages/</td><td>stages/</td><td>0</td><td>0</td></tr></tbody></table></div>"
      ]
     },
     "metadata": {
      "application/vnd.databricks.v1+output": {
       "addedWidgets": {},
       "aggData": [],
       "aggError": "",
       "aggOverflow": false,
       "aggSchema": [],
       "aggSeriesLimitReached": false,
       "aggType": "",
       "arguments": {},
       "columnCustomDisplayInfos": {},
       "data": [
        [
         "dbfs:/FileStore/fitted_target_pipeline/metadata/",
         "metadata/",
         0,
         0
        ],
        [
         "dbfs:/FileStore/fitted_target_pipeline/stages/",
         "stages/",
         0,
         0
        ]
       ],
       "datasetInfos": [],
       "dbfsResultPath": null,
       "isJsonSchema": true,
       "metadata": {
        "isDbfsCommandResult": false
       },
       "overflow": false,
       "plotOptions": {
        "customPlotOptions": {},
        "displayType": "table",
        "pivotAggregation": null,
        "pivotColumns": null,
        "xColumns": null,
        "yColumns": null
       },
       "removedWidgets": [],
       "schema": [
        {
         "metadata": "{}",
         "name": "path",
         "type": "\"string\""
        },
        {
         "metadata": "{}",
         "name": "name",
         "type": "\"string\""
        },
        {
         "metadata": "{}",
         "name": "size",
         "type": "\"long\""
        },
        {
         "metadata": "{}",
         "name": "modificationTime",
         "type": "\"long\""
        }
       ],
       "type": "table"
      }
     },
     "output_type": "display_data"
    }
   ],
   "source": [
    "%fs ls /FileStore/fitted_target_pipeline/"
   ]
  },
  {
   "cell_type": "markdown",
   "metadata": {
    "application/vnd.databricks.v1+cell": {
     "cellMetadata": {},
     "inputWidgets": {},
     "nuid": "1b9ec213-a51b-4d1b-b39c-9a646a597a47",
     "showTitle": false,
     "title": ""
    }
   },
   "source": [
    "## Step 4: define and fit a ML pipeline containing data preprocessing and model training.\n",
    "\n",
    "Specifically, we need to remove some unwanted strings components (such as URL), stop words, and vectorize the words. We will try to do all these with PySpark (a combination of SparkSQL and Spark MLlib)\n",
    "\n",
    "- eliminate URLs, @user, and # (remove the just the symbol but keep the hashtag). We will do this with SQLTransformer\n",
    "  - Please use regexp_replace from SparkSQL\n",
    "  - `'http\\\\\\S+'` --> `''`: remove url   (note, we have three escape symbols because the text needs to go through three interpreter; final form should be `http\\S+`)\n",
    "  - `'@\\\\\\w+'` --> `''`: remove @user\n",
    "  - `'#'` --> `''` --> remove hashtag symbols.\n",
    "- Tokenize the tweet, using a RegExTokenizer with `\\\\W+` as the token pattern.\n",
    "- Remove stopwords, using StopWordsRemover (note that you need to load stop words first)\n",
    "- Turn words into numerical features using CountVectorizer, limiting document frequency to 20 and above so that rare words are dropped.\n",
    "- Use NaiveBayes to predict the sentiment with `smoothing` coefficient of `1.0` and `modelType` of `multinomial`\n",
    "\n",
    "Pleas also define \n",
    "\n",
    "- an evaluator `e` for the accuracy metric.\n",
    "- a pipeline `pipeline` with these stages: SQL transformer (for removing unwanted patterns), tokenizer, stopword remover, count vectorizer, naiveBayes."
   ]
  },
  {
   "cell_type": "code",
   "execution_count": 0,
   "metadata": {
    "application/vnd.databricks.v1+cell": {
     "cellMetadata": {
      "byteLimit": 2048000,
      "rowLimit": 10000
     },
     "inputWidgets": {},
     "nuid": "231e3953-d70c-4283-8b5b-dcac9223c761",
     "showTitle": false,
     "title": ""
    }
   },
   "outputs": [],
   "source": [
    "from pyspark.ml.classification import NaiveBayes\n",
    "from pyspark.ml.evaluation import MulticlassClassificationEvaluator\n",
    "\n",
    "st = SQLTransformer(statement = \"select *, regexp_replace(regexp_replace(regexp_replace(lower(text), 'http:\\\\\\S+',''), '@\\\\\\w+', ''),'#','') as text_cleaned from __THIS__\")\n",
    "\n",
    "tokenizer = RegexTokenizer(inputCol = \"text_cleaned\", outputCol='words', pattern = \"\\\\W+\")\n",
    "stopwords = StopWordsRemover.loadDefaultStopWords(\"english\")\n",
    "swr = StopWordsRemover(inputCol = 'words', outputCol='words_filtered', stopWords=stopwords)\n",
    "cv = CountVectorizer(inputCol='words_filtered', outputCol='features', minDF=20)\n",
    "# ['hello' 'world'] -->\n",
    "# hello    world\n",
    "#  1        1\n",
    "nb = NaiveBayes(smoothing=1.0, modelType='multinomial')\n",
    "e = MulticlassClassificationEvaluator(metricName = 'accuracy')\n",
    "\n",
    "pipeline = Pipeline(stages=[st, tokenizer, swr, cv, nb])\n"
   ]
  },
  {
   "cell_type": "code",
   "execution_count": 0,
   "metadata": {
    "application/vnd.databricks.v1+cell": {
     "cellMetadata": {
      "byteLimit": 2048000,
      "rowLimit": 10000
     },
     "inputWidgets": {},
     "nuid": "9b0158c4-1ad9-4403-8c14-8ddcff52df86",
     "showTitle": false,
     "title": ""
    }
   },
   "outputs": [],
   "source": [
    "pipelineModel = pipeline.fit(data_train)"
   ]
  },
  {
   "cell_type": "markdown",
   "metadata": {
    "application/vnd.databricks.v1+cell": {
     "cellMetadata": {},
     "inputWidgets": {},
     "nuid": "276c4b7c-aec6-470a-97c7-3a14bb6d95b6",
     "showTitle": false,
     "title": ""
    }
   },
   "source": [
    "## Step 5: train the pipeline\n",
    "\n",
    "- save the resulting model as `pipelineModel`\n",
    "- use the model to transform the training data `data_clean`\n",
    "- display sample results.\n",
    "\n",
    "> Note: the training may take several minutes"
   ]
  },
  {
   "cell_type": "code",
   "execution_count": 0,
   "metadata": {
    "application/vnd.databricks.v1+cell": {
     "cellMetadata": {
      "byteLimit": 2048000,
      "rowLimit": 10000
     },
     "inputWidgets": {},
     "nuid": "321de2b0-9760-4f82-85e5-690dda3b3dd4",
     "showTitle": false,
     "title": ""
    }
   },
   "outputs": [
    {
     "output_type": "display_data",
     "data": {
      "text/html": [
       "<style scoped>\n",
       "  .table-result-container {\n",
       "    max-height: 300px;\n",
       "    overflow: auto;\n",
       "  }\n",
       "  table, th, td {\n",
       "    border: 1px solid black;\n",
       "    border-collapse: collapse;\n",
       "  }\n",
       "  th, td {\n",
       "    padding: 5px;\n",
       "  }\n",
       "  th {\n",
       "    text-align: left;\n",
       "  }\n",
       "</style><div class='table-result-container'><table class='table-result'><thead style='background-color: white'><tr><th>text</th><th>time</th><th>label</th><th>text_cleaned</th><th>words</th><th>words_filtered</th><th>features</th><th>rawPrediction</th><th>probability</th><th>prediction</th></tr></thead><tbody><tr><td>@switchfoot http://twitpic.com/2y1zl - Awww, that's a bummer.  You shoulda got David Carr of Third Day to do it. ;D</td><td>2009-04-07T05:19:45.000+0000</td><td>0.0</td><td>  - awww, that's a bummer.  you shoulda got david carr of third day to do it. ;d</td><td>List(awww, that, s, a, bummer, you, shoulda, got, david, carr, of, third, day, to, do, it, d)</td><td>List(awww, bummer, shoulda, got, david, carr, third, day, d)</td><td>Map(vectorType -> sparse, length -> 22150, indices -> List(2, 11, 72, 349, 737, 1074, 1787, 3377, 9539), values -> List(1.0, 1.0, 1.0, 1.0, 1.0, 1.0, 1.0, 1.0, 1.0))</td><td>Map(vectorType -> dense, length -> 2, values -> List(-73.10331329092534, -75.76040428183782))</td><td>Map(vectorType -> dense, length -> 2, values -> List(0.9344466971628318, 0.06555330283716827))</td><td>0.0</td></tr><tr><td>is upset that he can't update his Facebook by texting it... and might cry as a result  School today also. Blah!</td><td>2009-04-07T05:19:49.000+0000</td><td>0.0</td><td>is upset that he can't update his facebook by texting it... and might cry as a result  school today also. blah!</td><td>List(is, upset, that, he, can, t, update, his, facebook, by, texting, it, and, might, cry, as, a, result, school, today, also, blah)</td><td>List(upset, update, facebook, texting, might, cry, result, school, today, also, blah)</td><td>Map(vectorType -> sparse, length -> 22150, indices -> List(7, 70, 174, 197, 425, 429, 440, 682, 1018, 1919, 2240), values -> List(1.0, 1.0, 1.0, 1.0, 1.0, 1.0, 1.0, 1.0, 1.0, 1.0, 1.0))</td><td>Map(vectorType -> dense, length -> 2, values -> List(-84.59414501008106, -89.98197577429755))</td><td>Map(vectorType -> dense, length -> 2, values -> List(0.9954489268877933, 0.004551073112206787))</td><td>0.0</td></tr><tr><td>@Kenichan I dived many times for the ball. Managed to save 50%  The rest go out of bounds</td><td>2009-04-07T05:19:53.000+0000</td><td>0.0</td><td> i dived many times for the ball. managed to save 50%  the rest go out of bounds</td><td>List(i, dived, many, times, for, the, ball, managed, to, save, 50, the, rest, go, out, of, bounds)</td><td>List(dived, many, times, ball, managed, save, 50, rest, go, bounds)</td><td>Map(vectorType -> sparse, length -> 22150, indices -> List(5, 216, 256, 370, 800, 981, 1171, 1578), values -> List(1.0, 1.0, 1.0, 1.0, 1.0, 1.0, 1.0, 1.0))</td><td>Map(vectorType -> dense, length -> 2, values -> List(-63.04542955499372, -63.78005141899811))</td><td>Map(vectorType -> dense, length -> 2, values -> List(0.67581868825521, 0.32418131174479003))</td><td>0.0</td></tr><tr><td>my whole body feels itchy and like its on fire </td><td>2009-04-07T05:19:57.000+0000</td><td>0.0</td><td>my whole body feels itchy and like its on fire </td><td>List(my, whole, body, feels, itchy, and, like, its, on, fire)</td><td>List(whole, body, feels, itchy, like, fire)</td><td>Map(vectorType -> sparse, length -> 22150, indices -> List(4, 331, 381, 705, 1043, 2814), values -> List(1.0, 1.0, 1.0, 1.0, 1.0, 1.0))</td><td>Map(vectorType -> dense, length -> 2, values -> List(-47.0100517499005, -50.54793735282175))</td><td>Map(vectorType -> dense, length -> 2, values -> List(0.9717467190554288, 0.02825328094457132))</td><td>0.0</td></tr><tr><td>@nationwideclass no, it's not behaving at all. i'm mad. why am i here? because I can't see you all over there. </td><td>2009-04-07T05:19:57.000+0000</td><td>0.0</td><td> no, it's not behaving at all. i'm mad. why am i here? because i can't see you all over there. </td><td>List(no, it, s, not, behaving, at, all, i, m, mad, why, am, i, here, because, i, can, t, see, you, all, over, there)</td><td>List(behaving, m, mad, see)</td><td>Map(vectorType -> sparse, length -> 22150, indices -> List(0, 21, 493, 10190), values -> List(1.0, 1.0, 1.0, 1.0))</td><td>Map(vectorType -> dense, length -> 2, values -> List(-30.130673621754106, -31.075616317275248))</td><td>Map(vectorType -> dense, length -> 2, values -> List(0.720096976808941, 0.27990302319105903))</td><td>0.0</td></tr><tr><td>@Kwesidei not the whole crew </td><td>2009-04-07T05:20:00.000+0000</td><td>0.0</td><td> not the whole crew </td><td>List(not, the, whole, crew)</td><td>List(whole, crew)</td><td>Map(vectorType -> sparse, length -> 22150, indices -> List(331, 2083), values -> List(1.0, 1.0))</td><td>Map(vectorType -> dense, length -> 2, values -> List(-17.983945382297364, -17.91495730669582))</td><td>Map(vectorType -> dense, length -> 2, values -> List(0.48275981823545605, 0.517240181764544))</td><td>1.0</td></tr><tr><td>Need a hug </td><td>2009-04-07T05:20:03.000+0000</td><td>0.0</td><td>need a hug </td><td>List(need, a, hug)</td><td>List(need, hug)</td><td>Map(vectorType -> sparse, length -> 22150, indices -> List(35, 815), values -> List(1.0, 1.0))</td><td>Map(vectorType -> dense, length -> 2, values -> List(-14.601759941781173, -15.43562112134421))</td><td>Map(vectorType -> dense, length -> 2, values -> List(0.6971707364117425, 0.30282926358825757))</td><td>0.0</td></tr><tr><td>@LOLTrish hey  long time no see! Yes.. Rains a bit ,only a bit  LOL , I'm fine thanks , how's you ?</td><td>2009-04-07T05:20:03.000+0000</td><td>0.0</td><td> hey  long time no see! yes.. rains a bit ,only a bit  lol , i'm fine thanks , how's you ?</td><td>List(hey, long, time, no, see, yes, rains, a, bit, only, a, bit, lol, i, m, fine, thanks, how, s, you)</td><td>List(hey, long, time, see, yes, rains, bit, bit, lol, m, fine, thanks)</td><td>Map(vectorType -> sparse, length -> 22150, indices -> List(0, 12, 13, 21, 31, 76, 78, 88, 162, 423, 2560), values -> List(1.0, 1.0, 1.0, 1.0, 1.0, 1.0, 1.0, 1.0, 2.0, 1.0, 1.0))</td><td>Map(vectorType -> dense, length -> 2, values -> List(-80.42899760997152, -76.07727296338678))</td><td>Map(vectorType -> dense, length -> 2, values -> List(0.012720671663382397, 0.9872793283366176))</td><td>1.0</td></tr><tr><td>@Tatiana_K nope they didn't have it </td><td>2009-04-07T05:20:05.000+0000</td><td>0.0</td><td> nope they didn't have it </td><td>List(nope, they, didn, t, have, it)</td><td>List(nope, didn)</td><td>Map(vectorType -> sparse, length -> 22150, indices -> List(69, 691), values -> List(1.0, 1.0))</td><td>Map(vectorType -> dense, length -> 2, values -> List(-14.79513117152748, -16.11864752311122))</td><td>Map(vectorType -> dense, length -> 2, values -> List(0.7897661408990221, 0.21023385910097786))</td><td>0.0</td></tr><tr><td>@twittera que me muera ? </td><td>2009-04-07T05:20:09.000+0000</td><td>0.0</td><td> que me muera ? </td><td>List(que, me, muera)</td><td>List(que, muera)</td><td>Map(vectorType -> sparse, length -> 22150, indices -> List(2372), values -> List(1.0))</td><td>Map(vectorType -> dense, length -> 2, values -> List(-10.504218124777754, -10.58930814153326))</td><td>Map(vectorType -> dense, length -> 2, values -> List(0.5212596785128979, 0.4787403214871022))</td><td>0.0</td></tr></tbody></table></div>"
      ]
     },
     "metadata": {
      "application/vnd.databricks.v1+output": {
       "addedWidgets": {},
       "aggData": [],
       "aggError": "",
       "aggOverflow": false,
       "aggSchema": [],
       "aggSeriesLimitReached": false,
       "aggType": "",
       "arguments": {},
       "columnCustomDisplayInfos": {},
       "data": [
        [
         "@switchfoot http://twitpic.com/2y1zl - Awww, that's a bummer.  You shoulda got David Carr of Third Day to do it. ;D",
         "2009-04-07T05:19:45.000+0000",
         0.0,
         "  - awww, that's a bummer.  you shoulda got david carr of third day to do it. ;d",
         [
          "awww",
          "that",
          "s",
          "a",
          "bummer",
          "you",
          "shoulda",
          "got",
          "david",
          "carr",
          "of",
          "third",
          "day",
          "to",
          "do",
          "it",
          "d"
         ],
         [
          "awww",
          "bummer",
          "shoulda",
          "got",
          "david",
          "carr",
          "third",
          "day",
          "d"
         ],
         {
          "indices": [
           2,
           11,
           72,
           349,
           737,
           1074,
           1787,
           3377,
           9539
          ],
          "length": 22150,
          "values": [
           1.0,
           1.0,
           1.0,
           1.0,
           1.0,
           1.0,
           1.0,
           1.0,
           1.0
          ],
          "vectorType": "sparse"
         },
         {
          "length": 2,
          "values": [
           -73.10331329092534,
           -75.76040428183782
          ],
          "vectorType": "dense"
         },
         {
          "length": 2,
          "values": [
           0.9344466971628318,
           0.06555330283716827
          ],
          "vectorType": "dense"
         },
         0.0
        ],
        [
         "is upset that he can't update his Facebook by texting it... and might cry as a result  School today also. Blah!",
         "2009-04-07T05:19:49.000+0000",
         0.0,
         "is upset that he can't update his facebook by texting it... and might cry as a result  school today also. blah!",
         [
          "is",
          "upset",
          "that",
          "he",
          "can",
          "t",
          "update",
          "his",
          "facebook",
          "by",
          "texting",
          "it",
          "and",
          "might",
          "cry",
          "as",
          "a",
          "result",
          "school",
          "today",
          "also",
          "blah"
         ],
         [
          "upset",
          "update",
          "facebook",
          "texting",
          "might",
          "cry",
          "result",
          "school",
          "today",
          "also",
          "blah"
         ],
         {
          "indices": [
           7,
           70,
           174,
           197,
           425,
           429,
           440,
           682,
           1018,
           1919,
           2240
          ],
          "length": 22150,
          "values": [
           1.0,
           1.0,
           1.0,
           1.0,
           1.0,
           1.0,
           1.0,
           1.0,
           1.0,
           1.0,
           1.0
          ],
          "vectorType": "sparse"
         },
         {
          "length": 2,
          "values": [
           -84.59414501008106,
           -89.98197577429755
          ],
          "vectorType": "dense"
         },
         {
          "length": 2,
          "values": [
           0.9954489268877933,
           0.004551073112206787
          ],
          "vectorType": "dense"
         },
         0.0
        ],
        [
         "@Kenichan I dived many times for the ball. Managed to save 50%  The rest go out of bounds",
         "2009-04-07T05:19:53.000+0000",
         0.0,
         " i dived many times for the ball. managed to save 50%  the rest go out of bounds",
         [
          "i",
          "dived",
          "many",
          "times",
          "for",
          "the",
          "ball",
          "managed",
          "to",
          "save",
          "50",
          "the",
          "rest",
          "go",
          "out",
          "of",
          "bounds"
         ],
         [
          "dived",
          "many",
          "times",
          "ball",
          "managed",
          "save",
          "50",
          "rest",
          "go",
          "bounds"
         ],
         {
          "indices": [
           5,
           216,
           256,
           370,
           800,
           981,
           1171,
           1578
          ],
          "length": 22150,
          "values": [
           1.0,
           1.0,
           1.0,
           1.0,
           1.0,
           1.0,
           1.0,
           1.0
          ],
          "vectorType": "sparse"
         },
         {
          "length": 2,
          "values": [
           -63.04542955499372,
           -63.78005141899811
          ],
          "vectorType": "dense"
         },
         {
          "length": 2,
          "values": [
           0.67581868825521,
           0.32418131174479003
          ],
          "vectorType": "dense"
         },
         0.0
        ],
        [
         "my whole body feels itchy and like its on fire ",
         "2009-04-07T05:19:57.000+0000",
         0.0,
         "my whole body feels itchy and like its on fire ",
         [
          "my",
          "whole",
          "body",
          "feels",
          "itchy",
          "and",
          "like",
          "its",
          "on",
          "fire"
         ],
         [
          "whole",
          "body",
          "feels",
          "itchy",
          "like",
          "fire"
         ],
         {
          "indices": [
           4,
           331,
           381,
           705,
           1043,
           2814
          ],
          "length": 22150,
          "values": [
           1.0,
           1.0,
           1.0,
           1.0,
           1.0,
           1.0
          ],
          "vectorType": "sparse"
         },
         {
          "length": 2,
          "values": [
           -47.0100517499005,
           -50.54793735282175
          ],
          "vectorType": "dense"
         },
         {
          "length": 2,
          "values": [
           0.9717467190554288,
           0.02825328094457132
          ],
          "vectorType": "dense"
         },
         0.0
        ],
        [
         "@nationwideclass no, it's not behaving at all. i'm mad. why am i here? because I can't see you all over there. ",
         "2009-04-07T05:19:57.000+0000",
         0.0,
         " no, it's not behaving at all. i'm mad. why am i here? because i can't see you all over there. ",
         [
          "no",
          "it",
          "s",
          "not",
          "behaving",
          "at",
          "all",
          "i",
          "m",
          "mad",
          "why",
          "am",
          "i",
          "here",
          "because",
          "i",
          "can",
          "t",
          "see",
          "you",
          "all",
          "over",
          "there"
         ],
         [
          "behaving",
          "m",
          "mad",
          "see"
         ],
         {
          "indices": [
           0,
           21,
           493,
           10190
          ],
          "length": 22150,
          "values": [
           1.0,
           1.0,
           1.0,
           1.0
          ],
          "vectorType": "sparse"
         },
         {
          "length": 2,
          "values": [
           -30.130673621754106,
           -31.075616317275248
          ],
          "vectorType": "dense"
         },
         {
          "length": 2,
          "values": [
           0.720096976808941,
           0.27990302319105903
          ],
          "vectorType": "dense"
         },
         0.0
        ],
        [
         "@Kwesidei not the whole crew ",
         "2009-04-07T05:20:00.000+0000",
         0.0,
         " not the whole crew ",
         [
          "not",
          "the",
          "whole",
          "crew"
         ],
         [
          "whole",
          "crew"
         ],
         {
          "indices": [
           331,
           2083
          ],
          "length": 22150,
          "values": [
           1.0,
           1.0
          ],
          "vectorType": "sparse"
         },
         {
          "length": 2,
          "values": [
           -17.983945382297364,
           -17.91495730669582
          ],
          "vectorType": "dense"
         },
         {
          "length": 2,
          "values": [
           0.48275981823545605,
           0.517240181764544
          ],
          "vectorType": "dense"
         },
         1.0
        ],
        [
         "Need a hug ",
         "2009-04-07T05:20:03.000+0000",
         0.0,
         "need a hug ",
         [
          "need",
          "a",
          "hug"
         ],
         [
          "need",
          "hug"
         ],
         {
          "indices": [
           35,
           815
          ],
          "length": 22150,
          "values": [
           1.0,
           1.0
          ],
          "vectorType": "sparse"
         },
         {
          "length": 2,
          "values": [
           -14.601759941781173,
           -15.43562112134421
          ],
          "vectorType": "dense"
         },
         {
          "length": 2,
          "values": [
           0.6971707364117425,
           0.30282926358825757
          ],
          "vectorType": "dense"
         },
         0.0
        ],
        [
         "@LOLTrish hey  long time no see! Yes.. Rains a bit ,only a bit  LOL , I'm fine thanks , how's you ?",
         "2009-04-07T05:20:03.000+0000",
         0.0,
         " hey  long time no see! yes.. rains a bit ,only a bit  lol , i'm fine thanks , how's you ?",
         [
          "hey",
          "long",
          "time",
          "no",
          "see",
          "yes",
          "rains",
          "a",
          "bit",
          "only",
          "a",
          "bit",
          "lol",
          "i",
          "m",
          "fine",
          "thanks",
          "how",
          "s",
          "you"
         ],
         [
          "hey",
          "long",
          "time",
          "see",
          "yes",
          "rains",
          "bit",
          "bit",
          "lol",
          "m",
          "fine",
          "thanks"
         ],
         {
          "indices": [
           0,
           12,
           13,
           21,
           31,
           76,
           78,
           88,
           162,
           423,
           2560
          ],
          "length": 22150,
          "values": [
           1.0,
           1.0,
           1.0,
           1.0,
           1.0,
           1.0,
           1.0,
           1.0,
           2.0,
           1.0,
           1.0
          ],
          "vectorType": "sparse"
         },
         {
          "length": 2,
          "values": [
           -80.42899760997152,
           -76.07727296338678
          ],
          "vectorType": "dense"
         },
         {
          "length": 2,
          "values": [
           0.012720671663382397,
           0.9872793283366176
          ],
          "vectorType": "dense"
         },
         1.0
        ],
        [
         "@Tatiana_K nope they didn't have it ",
         "2009-04-07T05:20:05.000+0000",
         0.0,
         " nope they didn't have it ",
         [
          "nope",
          "they",
          "didn",
          "t",
          "have",
          "it"
         ],
         [
          "nope",
          "didn"
         ],
         {
          "indices": [
           69,
           691
          ],
          "length": 22150,
          "values": [
           1.0,
           1.0
          ],
          "vectorType": "sparse"
         },
         {
          "length": 2,
          "values": [
           -14.79513117152748,
           -16.11864752311122
          ],
          "vectorType": "dense"
         },
         {
          "length": 2,
          "values": [
           0.7897661408990221,
           0.21023385910097786
          ],
          "vectorType": "dense"
         },
         0.0
        ],
        [
         "@twittera que me muera ? ",
         "2009-04-07T05:20:09.000+0000",
         0.0,
         " que me muera ? ",
         [
          "que",
          "me",
          "muera"
         ],
         [
          "que",
          "muera"
         ],
         {
          "indices": [
           2372
          ],
          "length": 22150,
          "values": [
           1.0
          ],
          "vectorType": "sparse"
         },
         {
          "length": 2,
          "values": [
           -10.504218124777754,
           -10.58930814153326
          ],
          "vectorType": "dense"
         },
         {
          "length": 2,
          "values": [
           0.5212596785128979,
           0.4787403214871022
          ],
          "vectorType": "dense"
         },
         0.0
        ]
       ],
       "datasetInfos": [],
       "dbfsResultPath": null,
       "isJsonSchema": true,
       "metadata": {},
       "overflow": false,
       "plotOptions": {
        "customPlotOptions": {},
        "displayType": "table",
        "pivotAggregation": null,
        "pivotColumns": null,
        "xColumns": null,
        "yColumns": null
       },
       "removedWidgets": [],
       "schema": [
        {
         "metadata": "{}",
         "name": "text",
         "type": "\"string\""
        },
        {
         "metadata": "{}",
         "name": "time",
         "type": "\"timestamp\""
        },
        {
         "metadata": "{\"ml_attr\":{\"type\":\"binary\"}}",
         "name": "label",
         "type": "\"double\""
        },
        {
         "metadata": "{}",
         "name": "text_cleaned",
         "type": "\"string\""
        },
        {
         "metadata": "{}",
         "name": "words",
         "type": "{\"type\":\"array\",\"elementType\":\"string\",\"containsNull\":true}"
        },
        {
         "metadata": "{}",
         "name": "words_filtered",
         "type": "{\"type\":\"array\",\"elementType\":\"string\",\"containsNull\":true}"
        },
        {
         "metadata": "{\"ml_attr\":{\"attrs\":{},\"num_attrs\":22150}}",
         "name": "features",
         "type": "{\"type\":\"udt\",\"class\":\"org.apache.spark.ml.linalg.VectorUDT\",\"pyClass\":\"pyspark.ml.linalg.VectorUDT\",\"sqlType\":{\"type\":\"struct\",\"fields\":[{\"name\":\"type\",\"type\":\"byte\",\"nullable\":false,\"metadata\":{}},{\"name\":\"size\",\"type\":\"integer\",\"nullable\":true,\"metadata\":{}},{\"name\":\"indices\",\"type\":{\"type\":\"array\",\"elementType\":\"integer\",\"containsNull\":false},\"nullable\":true,\"metadata\":{}},{\"name\":\"values\",\"type\":{\"type\":\"array\",\"elementType\":\"double\",\"containsNull\":false},\"nullable\":true,\"metadata\":{}}]}}"
        },
        {
         "metadata": "{\"ml_attr\":{\"num_attrs\":2}}",
         "name": "rawPrediction",
         "type": "{\"type\":\"udt\",\"class\":\"org.apache.spark.ml.linalg.VectorUDT\",\"pyClass\":\"pyspark.ml.linalg.VectorUDT\",\"sqlType\":{\"type\":\"struct\",\"fields\":[{\"name\":\"type\",\"type\":\"byte\",\"nullable\":false,\"metadata\":{}},{\"name\":\"size\",\"type\":\"integer\",\"nullable\":true,\"metadata\":{}},{\"name\":\"indices\",\"type\":{\"type\":\"array\",\"elementType\":\"integer\",\"containsNull\":false},\"nullable\":true,\"metadata\":{}},{\"name\":\"values\",\"type\":{\"type\":\"array\",\"elementType\":\"double\",\"containsNull\":false},\"nullable\":true,\"metadata\":{}}]}}"
        },
        {
         "metadata": "{\"ml_attr\":{\"num_attrs\":2}}",
         "name": "probability",
         "type": "{\"type\":\"udt\",\"class\":\"org.apache.spark.ml.linalg.VectorUDT\",\"pyClass\":\"pyspark.ml.linalg.VectorUDT\",\"sqlType\":{\"type\":\"struct\",\"fields\":[{\"name\":\"type\",\"type\":\"byte\",\"nullable\":false,\"metadata\":{}},{\"name\":\"size\",\"type\":\"integer\",\"nullable\":true,\"metadata\":{}},{\"name\":\"indices\",\"type\":{\"type\":\"array\",\"elementType\":\"integer\",\"containsNull\":false},\"nullable\":true,\"metadata\":{}},{\"name\":\"values\",\"type\":{\"type\":\"array\",\"elementType\":\"double\",\"containsNull\":false},\"nullable\":true,\"metadata\":{}}]}}"
        },
        {
         "metadata": "{\"ml_attr\":{\"type\":\"nominal\",\"num_vals\":2}}",
         "name": "prediction",
         "type": "\"double\""
        }
       ],
       "type": "table"
      }
     },
     "output_type": "display_data"
    }
   ],
   "source": [
    "results = pipelineModel.transform(data_train)\n",
    "results.limit(10).display()"
   ]
  },
  {
   "cell_type": "markdown",
   "metadata": {
    "application/vnd.databricks.v1+cell": {
     "cellMetadata": {},
     "inputWidgets": {},
     "nuid": "c3f98459-023b-4d09-b70f-5e6849611eaf",
     "showTitle": false,
     "title": ""
    }
   },
   "source": [
    "## Step 6: obtain the accuracy of the model using our predefined evaluator."
   ]
  },
  {
   "cell_type": "code",
   "execution_count": 0,
   "metadata": {
    "application/vnd.databricks.v1+cell": {
     "cellMetadata": {
      "byteLimit": 2048000,
      "rowLimit": 10000
     },
     "inputWidgets": {},
     "nuid": "efbe73f6-d0c3-475c-9142-519200b47843",
     "showTitle": false,
     "title": ""
    }
   },
   "outputs": [
    {
     "output_type": "stream",
     "name": "stdout",
     "output_type": "stream",
     "text": [
      "Out[23]: 0.77388625"
     ]
    }
   ],
   "source": [
    "e.evaluate(results)"
   ]
  },
  {
   "cell_type": "markdown",
   "metadata": {
    "application/vnd.databricks.v1+cell": {
     "cellMetadata": {},
     "inputWidgets": {},
     "nuid": "6f726f42-d508-44d5-8bc6-e95266108019",
     "showTitle": false,
     "title": ""
    }
   },
   "source": [
    "## Step 7: Save the model on DBFS at `/FileStore/twitter_nbpipeline/`"
   ]
  },
  {
   "cell_type": "code",
   "execution_count": 0,
   "metadata": {
    "application/vnd.databricks.v1+cell": {
     "cellMetadata": {
      "byteLimit": 2048000,
      "rowLimit": 10000
     },
     "inputWidgets": {},
     "nuid": "ba6fd7b1-0fa9-400f-8603-680f25290e72",
     "showTitle": false,
     "title": ""
    }
   },
   "outputs": [],
   "source": [
    "pipelineModel.write().overwrite().save(\"/FileStore/twitter_nbpipeline/\")"
   ]
  },
  {
   "cell_type": "code",
   "execution_count": 0,
   "metadata": {
    "application/vnd.databricks.v1+cell": {
     "cellMetadata": {
      "byteLimit": 2048000,
      "rowLimit": 10000
     },
     "inputWidgets": {},
     "nuid": "ed1c7cfd-f5cc-4b66-994f-523c80903165",
     "showTitle": false,
     "title": ""
    }
   },
   "outputs": [
    {
     "output_type": "display_data",
     "data": {
      "text/html": [
       "<style scoped>\n",
       "  .table-result-container {\n",
       "    max-height: 300px;\n",
       "    overflow: auto;\n",
       "  }\n",
       "  table, th, td {\n",
       "    border: 1px solid black;\n",
       "    border-collapse: collapse;\n",
       "  }\n",
       "  th, td {\n",
       "    padding: 5px;\n",
       "  }\n",
       "  th {\n",
       "    text-align: left;\n",
       "  }\n",
       "</style><div class='table-result-container'><table class='table-result'><thead style='background-color: white'><tr><th>path</th><th>name</th><th>size</th><th>modificationTime</th></tr></thead><tbody><tr><td>dbfs:/FileStore/twitter_nbpipeline/metadata/</td><td>metadata/</td><td>0</td><td>0</td></tr><tr><td>dbfs:/FileStore/twitter_nbpipeline/stages/</td><td>stages/</td><td>0</td><td>0</td></tr></tbody></table></div>"
      ]
     },
     "metadata": {
      "application/vnd.databricks.v1+output": {
       "addedWidgets": {},
       "aggData": [],
       "aggError": "",
       "aggOverflow": false,
       "aggSchema": [],
       "aggSeriesLimitReached": false,
       "aggType": "",
       "arguments": {},
       "columnCustomDisplayInfos": {},
       "data": [
        [
         "dbfs:/FileStore/twitter_nbpipeline/metadata/",
         "metadata/",
         0,
         0
        ],
        [
         "dbfs:/FileStore/twitter_nbpipeline/stages/",
         "stages/",
         0,
         0
        ]
       ],
       "datasetInfos": [],
       "dbfsResultPath": null,
       "isJsonSchema": true,
       "metadata": {
        "isDbfsCommandResult": false
       },
       "overflow": false,
       "plotOptions": {
        "customPlotOptions": {},
        "displayType": "table",
        "pivotAggregation": null,
        "pivotColumns": null,
        "xColumns": null,
        "yColumns": null
       },
       "removedWidgets": [],
       "schema": [
        {
         "metadata": "{}",
         "name": "path",
         "type": "\"string\""
        },
        {
         "metadata": "{}",
         "name": "name",
         "type": "\"string\""
        },
        {
         "metadata": "{}",
         "name": "size",
         "type": "\"long\""
        },
        {
         "metadata": "{}",
         "name": "modificationTime",
         "type": "\"long\""
        }
       ],
       "type": "table"
      }
     },
     "output_type": "display_data"
    }
   ],
   "source": [
    "%fs ls /FileStore/twitter_nbpipeline/"
   ]
  },
  {
   "cell_type": "code",
   "execution_count": 0,
   "metadata": {
    "application/vnd.databricks.v1+cell": {
     "cellMetadata": {
      "byteLimit": 2048000,
      "rowLimit": 10000
     },
     "inputWidgets": {},
     "nuid": "a97b6737-38e2-4fbd-a12f-0bb1a5759d5d",
     "showTitle": false,
     "title": ""
    }
   },
   "outputs": [
    {
     "output_type": "stream",
     "name": "stdout",
     "output_type": "stream",
     "text": [
      "review1.txt   review14.txt  review19.txt  review23.txt\treview5.txt\r\nreview10.txt  review15.txt  review2.txt   review24.txt\treview6.txt\r\nreview11.txt  review16.txt  review20.txt  review25.txt\treview7.txt\r\nreview12.txt  review17.txt  review21.txt  review3.txt\treview8.txt\r\nreview13.txt  review18.txt  review22.txt  review4.txt\treview9.txt\r\n"
     ]
    }
   ],
   "source": [
    "!ls /databricks/driver/tmp/"
   ]
  },
  {
   "cell_type": "code",
   "execution_count": 0,
   "metadata": {
    "application/vnd.databricks.v1+cell": {
     "cellMetadata": {
      "byteLimit": 2048000,
      "rowLimit": 10000
     },
     "inputWidgets": {},
     "nuid": "684d6c72-f6b8-41e3-8c49-bf300d0af68b",
     "showTitle": false,
     "title": ""
    }
   },
   "outputs": [],
   "source": [
    "# with open('/databricks/driver/tmp/review1.txt', 'r') as f1:\n",
    "#   line = f1.readline()\n",
    "#   print(line)"
   ]
  },
  {
   "cell_type": "code",
   "execution_count": 0,
   "metadata": {
    "application/vnd.databricks.v1+cell": {
     "cellMetadata": {
      "byteLimit": 2048000,
      "rowLimit": 10000
     },
     "inputWidgets": {},
     "nuid": "26c3edd6-6090-42e2-a81f-a0007f9f9ab6",
     "showTitle": false,
     "title": ""
    }
   },
   "outputs": [
    {
     "output_type": "display_data",
     "data": {
      "text/html": [
       "<style scoped>\n",
       "  .table-result-container {\n",
       "    max-height: 300px;\n",
       "    overflow: auto;\n",
       "  }\n",
       "  table, th, td {\n",
       "    border: 1px solid black;\n",
       "    border-collapse: collapse;\n",
       "  }\n",
       "  th, td {\n",
       "    padding: 5px;\n",
       "  }\n",
       "  th {\n",
       "    text-align: left;\n",
       "  }\n",
       "</style><div class='table-result-container'><table class='table-result'><thead style='background-color: white'><tr><th>text</th><th>time</th><th>label</th></tr></thead><tbody><tr><td>Just checked my user timeline on my blackberry, it looks like the twanking is still happening  Are ppl still having probs w/ BGs and UIDs?</td><td>2009-04-07T05:22:06.000+0000</td><td>0.0</td></tr><tr><td>I have a sad feeling that Dallas is not going to show up  I gotta say though, you'd think more shows would use music from the game. mmm</td><td>2009-04-07T05:22:47.000+0000</td><td>0.0</td></tr><tr><td>ok I'm sick and spent an hour sitting in the shower cause I was too sick to stand and held back the puke like a champ. BED now </td><td>2009-04-07T05:21:20.000+0000</td><td>0.0</td></tr><tr><td>@andywana Not sure what they are, only that they are PoS! As much as I want to, I dont think can trade away company assets sorry andy! </td><td>2009-04-07T05:22:37.000+0000</td><td>0.0</td></tr><tr><td>thought sleeping in was an option tomorrow but realizing that it now is not. evaluations in the morning and work in the afternoon! </td><td>2009-04-07T05:21:09.000+0000</td><td>0.0</td></tr><tr><td>@localtweeps Wow, tons of replies from you, may have to unfollow so I can see my friends' tweets, you're scrolling the feed a lot. </td><td>2009-04-07T05:22:24.000+0000</td><td>0.0</td></tr><tr><td>@alielayus I want to go to promote GEAR AND GROOVE but unfornately no ride there  I may b going to the one in Anaheim in May though</td><td>2009-04-07T05:21:07.000+0000</td><td>0.0</td></tr><tr><td>Broadband plan 'a massive broken promise' http://tinyurl.com/dcuc33 via www.diigo.com/~tautao Still waiting for broadband we are </td><td>2009-04-07T05:22:23.000+0000</td><td>0.0</td></tr><tr><td>@switchfoot http://twitpic.com/2y1zl - Awww, that's a bummer.  You shoulda got David Carr of Third Day to do it. ;D</td><td>2009-04-07T05:19:45.000+0000</td><td>0.0</td></tr><tr><td>@smarrison i would've been the first, but i didn't have a gun.    not really though, zac snyder's just a doucheclown.</td><td>2009-04-07T05:20:20.000+0000</td><td>0.0</td></tr><tr><td>Bed. Class 8-12. Work 12-3. Gym 3-5 or 6. Then class 6-10. Another day that's gonna fly by. I miss my girlfriend </td><td>2009-04-07T05:21:39.000+0000</td><td>0.0</td></tr><tr><td>is upset that he can't update his Facebook by texting it... and might cry as a result  School today also. Blah!</td><td>2009-04-07T05:19:49.000+0000</td><td>0.0</td></tr><tr><td>Falling asleep. Just heard about that Tracy girl's body being found. How sad  My heart breaks for that family.</td><td>2009-04-07T05:21:56.000+0000</td><td>0.0</td></tr><tr><td>@nationwideclass no, it's not behaving at all. i'm mad. why am i here? because I can't see you all over there. </td><td>2009-04-07T05:19:57.000+0000</td><td>0.0</td></tr><tr><td>Where did u move to?  I thought u were already in sd. ?? Hmmm. Random u found me. Glad to hear yer doing well.</td><td>2009-04-07T05:22:49.000+0000</td><td>0.0</td></tr><tr><td>@JonathanRKnight Awww I soo wish I was there to see you finally comfortable! Im sad that I missed it </td><td>2009-04-07T05:21:53.000+0000</td><td>0.0</td></tr><tr><td>@BatManYNG I miss my ps3, it's out of commission  Wutcha playing? Have you copped 'Blood On The Sand'?</td><td>2009-04-07T05:22:52.000+0000</td><td>0.0</td></tr><tr><td>Sadly though, I've never gotten to experience the post coitus cigarette before, and now I never will. </td><td>2009-04-07T05:23:08.000+0000</td><td>0.0</td></tr><tr><td>@iamjazzyfizzle I wish I got to watch it with you!! I miss you and @iamlilnicki  how was the premiere?!</td><td>2009-04-07T05:20:20.000+0000</td><td>0.0</td></tr><tr><td>@fleurylis I don't either. Its depressing. I don't think I even want to know about the kids in suitcases. </td><td>2009-04-07T05:21:32.000+0000</td><td>0.0</td></tr><tr><td>@cocomix04 ill tell ya the story later  not a good day and ill be workin for like three more hours...</td><td>2009-04-07T05:21:27.000+0000</td><td>0.0</td></tr><tr><td>one of my friend called me, and asked to meet with her at Mid Valley today...but i've no time *sigh* </td><td>2009-04-07T05:20:38.000+0000</td><td>0.0</td></tr><tr><td>He's the reason for the teardrops on my guitar the only one who has enough of me to break my heart </td><td>2009-04-07T05:21:46.000+0000</td><td>0.0</td></tr><tr><td>Hollis' death scene will hurt me severely to watch on film  wry is directors cut not out now?</td><td>2009-04-07T05:20:22.000+0000</td><td>0.0</td></tr><tr><td>@Starrbby too bad I won't be around I lost my job and can't even pay my phone bill lmao aw shucks </td><td>2009-04-07T05:23:15.000+0000</td><td>0.0</td></tr><tr><td>really don't feel like getting up today... but got to study to for tomorrows practical exam... </td><td>2009-04-07T05:21:39.000+0000</td><td>0.0</td></tr><tr><td>Put vacation photos online a few yrs ago. PC crashed, and now I forget the name of the site. </td><td>2009-04-07T05:22:30.000+0000</td><td>0.0</td></tr><tr><td>@Viennah Yay! I'm happy for you with your job! But that also means less time for me and you... </td><td>2009-04-07T05:22:05.000+0000</td><td>0.0</td></tr><tr><td>@LOLTrish hey  long time no see! Yes.. Rains a bit ,only a bit  LOL , I'm fine thanks , how's you ?</td><td>2009-04-07T05:20:03.000+0000</td><td>0.0</td></tr><tr><td>@caregiving I couldn't bear to watch it.  And I thought the UA loss was embarrassing . . . . .</td><td>2009-04-07T05:20:19.000+0000</td><td>0.0</td></tr><tr><td>Sad, sad, sad. I don't know why but I hate this feeling  I wanna sleep and I still can't!</td><td>2009-04-07T05:21:49.000+0000</td><td>0.0</td></tr><tr><td>@Kenichan I dived many times for the ball. Managed to save 50%  The rest go out of bounds</td><td>2009-04-07T05:19:53.000+0000</td><td>0.0</td></tr><tr><td>ooooh.... LOL  that leslie.... and ok I won't do it again so leslie won't  get mad again </td><td>2009-04-07T05:20:56.000+0000</td><td>0.0</td></tr><tr><td>Meh... Almost Lover is the exception... this track gets me depressed every time. </td><td>2009-04-07T05:21:04.000+0000</td><td>0.0</td></tr><tr><td>@octolinz16 It it counts, idk why I did either. you never talk to me anymore </td><td>2009-04-07T05:20:19.000+0000</td><td>0.0</td></tr><tr><td>@FakerPattyPattz Oh dear. Were you drinking out of the forgotten table drinks? </td><td>2009-04-07T05:20:34.000+0000</td><td>0.0</td></tr><tr><td>Mo jobs, no money.  how in the hell is min wage here 4 f'n clams an hour?</td><td>2009-04-07T05:23:28.000+0000</td><td>0.0</td></tr><tr><td>Oh man...was ironing @jeancjumbe's fave top to wear to a meeting. Burnt it </td><td>2009-04-07T05:22:07.000+0000</td><td>0.0</td></tr><tr><td>Just going to cry myself to sleep after watching Marley and Me.  </td><td>2009-04-07T05:20:50.000+0000</td><td>0.0</td></tr><tr><td>@tea oh! i'm so sorry  i didn't think about that before retweeting.</td><td>2009-04-07T05:22:25.000+0000</td><td>0.0</td></tr><tr><td>@LettyA ahh ive always wanted to see rent  love the soundtrack!!</td><td>2009-04-07T05:20:31.000+0000</td><td>0.0</td></tr><tr><td>@Lt_Algonquin agreed, I saw the failwhale allllll day today. </td><td>2009-04-07T05:23:30.000+0000</td><td>0.0</td></tr><tr><td>I had such a nice day. Too bad the rain comes in tomorrow at 5am </td><td>2009-04-07T05:23:09.000+0000</td><td>0.0</td></tr><tr><td>our duck and chicken are taking wayyy too long to hatch </td><td>2009-04-07T05:22:26.000+0000</td><td>0.0</td></tr><tr><td>some1 hacked my account on aim  now i have to make a new one</td><td>2009-04-07T05:21:07.000+0000</td><td>0.0</td></tr><tr><td>@MissXu sorry! bed time came here (GMT+1)   http://is.gd/fNge</td><td>2009-04-07T05:21:30.000+0000</td><td>0.0</td></tr><tr><td>@alydesigns i was out most of the day so didn't get much done </td><td>2009-04-07T05:20:37.000+0000</td><td>0.0</td></tr><tr><td>@julieebaby awe i love you too!!!! 1 am here  i miss you</td><td>2009-04-07T05:21:11.000+0000</td><td>0.0</td></tr><tr><td>I hate when I have to call and wake people up </td><td>2009-04-07T05:20:44.000+0000</td><td>0.0</td></tr><tr><td>is strangely sad about LiLo and SamRo breaking up. </td><td>2009-04-07T05:22:13.000+0000</td><td>0.0</td></tr><tr><td>spring break in plain city... it's snowing </td><td>2009-04-07T05:20:16.000+0000</td><td>0.0</td></tr><tr><td>@angry_barista I baked you a cake but I ated it </td><td>2009-04-07T05:20:40.000+0000</td><td>0.0</td></tr><tr><td>my whole body feels itchy and like its on fire </td><td>2009-04-07T05:19:57.000+0000</td><td>0.0</td></tr><tr><td>@HumpNinja I cry my asian eyes to sleep at night </td><td>2009-04-07T05:21:21.000+0000</td><td>0.0</td></tr><tr><td>@katortiz  Not forever... See you soon!</td><td>2009-04-07T05:23:28.000+0000</td><td>0.0</td></tr><tr><td>@Tatiana_K nope they didn't have it </td><td>2009-04-07T05:20:05.000+0000</td><td>0.0</td></tr><tr><td>@oanhLove I hate when that happens... </td><td>2009-04-07T05:22:47.000+0000</td><td>0.0</td></tr><tr><td>this week is not going as i had hoped </td><td>2009-04-07T05:20:40.000+0000</td><td>0.0</td></tr><tr><td>just leaving the parking lot of work! </td><td>2009-04-07T05:22:55.000+0000</td><td>0.0</td></tr><tr><td>Damm back to school tomorrow </td><td>2009-04-07T05:23:23.000+0000</td><td>0.0</td></tr><tr><td>The Life is cool. But not for Me. </td><td>2009-04-07T05:23:03.000+0000</td><td>0.0</td></tr><tr><td>I just re-pierced my ears </td><td>2009-04-07T05:20:17.000+0000</td><td>0.0</td></tr><tr><td>@Kwesidei not the whole crew </td><td>2009-04-07T05:20:00.000+0000</td><td>0.0</td></tr><tr><td>blagh class at 8 tomorrow </td><td>2009-04-07T05:20:41.000+0000</td><td>0.0</td></tr><tr><td>Ugh....92 degrees tomorrow </td><td>2009-04-07T05:22:49.000+0000</td><td>0.0</td></tr><tr><td>@twittera que me muera ? </td><td>2009-04-07T05:20:09.000+0000</td><td>0.0</td></tr><tr><td>about to file taxes </td><td>2009-04-07T05:20:25.000+0000</td><td>0.0</td></tr><tr><td>im sad now  Miss.Lilly</td><td>2009-04-07T05:20:52.000+0000</td><td>0.0</td></tr><tr><td>I need a hug </td><td>2009-04-07T05:22:32.000+0000</td><td>0.0</td></tr><tr><td>Need a hug </td><td>2009-04-07T05:20:03.000+0000</td><td>0.0</td></tr></tbody></table></div>"
      ]
     },
     "metadata": {
      "application/vnd.databricks.v1+output": {
       "addedWidgets": {},
       "aggData": [],
       "aggError": "",
       "aggOverflow": false,
       "aggSchema": [],
       "aggSeriesLimitReached": false,
       "aggType": "",
       "arguments": {},
       "columnCustomDisplayInfos": {},
       "data": [
        [
         "Just checked my user timeline on my blackberry, it looks like the twanking is still happening  Are ppl still having probs w/ BGs and UIDs?",
         "2009-04-07T05:22:06.000+0000",
         0.0
        ],
        [
         "I have a sad feeling that Dallas is not going to show up  I gotta say though, you'd think more shows would use music from the game. mmm",
         "2009-04-07T05:22:47.000+0000",
         0.0
        ],
        [
         "ok I'm sick and spent an hour sitting in the shower cause I was too sick to stand and held back the puke like a champ. BED now ",
         "2009-04-07T05:21:20.000+0000",
         0.0
        ],
        [
         "@andywana Not sure what they are, only that they are PoS! As much as I want to, I dont think can trade away company assets sorry andy! ",
         "2009-04-07T05:22:37.000+0000",
         0.0
        ],
        [
         "thought sleeping in was an option tomorrow but realizing that it now is not. evaluations in the morning and work in the afternoon! ",
         "2009-04-07T05:21:09.000+0000",
         0.0
        ],
        [
         "@localtweeps Wow, tons of replies from you, may have to unfollow so I can see my friends' tweets, you're scrolling the feed a lot. ",
         "2009-04-07T05:22:24.000+0000",
         0.0
        ],
        [
         "@alielayus I want to go to promote GEAR AND GROOVE but unfornately no ride there  I may b going to the one in Anaheim in May though",
         "2009-04-07T05:21:07.000+0000",
         0.0
        ],
        [
         "Broadband plan 'a massive broken promise' http://tinyurl.com/dcuc33 via www.diigo.com/~tautao Still waiting for broadband we are ",
         "2009-04-07T05:22:23.000+0000",
         0.0
        ],
        [
         "@switchfoot http://twitpic.com/2y1zl - Awww, that's a bummer.  You shoulda got David Carr of Third Day to do it. ;D",
         "2009-04-07T05:19:45.000+0000",
         0.0
        ],
        [
         "@smarrison i would've been the first, but i didn't have a gun.    not really though, zac snyder's just a doucheclown.",
         "2009-04-07T05:20:20.000+0000",
         0.0
        ],
        [
         "Bed. Class 8-12. Work 12-3. Gym 3-5 or 6. Then class 6-10. Another day that's gonna fly by. I miss my girlfriend ",
         "2009-04-07T05:21:39.000+0000",
         0.0
        ],
        [
         "is upset that he can't update his Facebook by texting it... and might cry as a result  School today also. Blah!",
         "2009-04-07T05:19:49.000+0000",
         0.0
        ],
        [
         "Falling asleep. Just heard about that Tracy girl's body being found. How sad  My heart breaks for that family.",
         "2009-04-07T05:21:56.000+0000",
         0.0
        ],
        [
         "@nationwideclass no, it's not behaving at all. i'm mad. why am i here? because I can't see you all over there. ",
         "2009-04-07T05:19:57.000+0000",
         0.0
        ],
        [
         "Where did u move to?  I thought u were already in sd. ?? Hmmm. Random u found me. Glad to hear yer doing well.",
         "2009-04-07T05:22:49.000+0000",
         0.0
        ],
        [
         "@JonathanRKnight Awww I soo wish I was there to see you finally comfortable! Im sad that I missed it ",
         "2009-04-07T05:21:53.000+0000",
         0.0
        ],
        [
         "@BatManYNG I miss my ps3, it's out of commission  Wutcha playing? Have you copped 'Blood On The Sand'?",
         "2009-04-07T05:22:52.000+0000",
         0.0
        ],
        [
         "Sadly though, I've never gotten to experience the post coitus cigarette before, and now I never will. ",
         "2009-04-07T05:23:08.000+0000",
         0.0
        ],
        [
         "@iamjazzyfizzle I wish I got to watch it with you!! I miss you and @iamlilnicki  how was the premiere?!",
         "2009-04-07T05:20:20.000+0000",
         0.0
        ],
        [
         "@fleurylis I don't either. Its depressing. I don't think I even want to know about the kids in suitcases. ",
         "2009-04-07T05:21:32.000+0000",
         0.0
        ],
        [
         "@cocomix04 ill tell ya the story later  not a good day and ill be workin for like three more hours...",
         "2009-04-07T05:21:27.000+0000",
         0.0
        ],
        [
         "one of my friend called me, and asked to meet with her at Mid Valley today...but i've no time *sigh* ",
         "2009-04-07T05:20:38.000+0000",
         0.0
        ],
        [
         "He's the reason for the teardrops on my guitar the only one who has enough of me to break my heart ",
         "2009-04-07T05:21:46.000+0000",
         0.0
        ],
        [
         "Hollis' death scene will hurt me severely to watch on film  wry is directors cut not out now?",
         "2009-04-07T05:20:22.000+0000",
         0.0
        ],
        [
         "@Starrbby too bad I won't be around I lost my job and can't even pay my phone bill lmao aw shucks ",
         "2009-04-07T05:23:15.000+0000",
         0.0
        ],
        [
         "really don't feel like getting up today... but got to study to for tomorrows practical exam... ",
         "2009-04-07T05:21:39.000+0000",
         0.0
        ],
        [
         "Put vacation photos online a few yrs ago. PC crashed, and now I forget the name of the site. ",
         "2009-04-07T05:22:30.000+0000",
         0.0
        ],
        [
         "@Viennah Yay! I'm happy for you with your job! But that also means less time for me and you... ",
         "2009-04-07T05:22:05.000+0000",
         0.0
        ],
        [
         "@LOLTrish hey  long time no see! Yes.. Rains a bit ,only a bit  LOL , I'm fine thanks , how's you ?",
         "2009-04-07T05:20:03.000+0000",
         0.0
        ],
        [
         "@caregiving I couldn't bear to watch it.  And I thought the UA loss was embarrassing . . . . .",
         "2009-04-07T05:20:19.000+0000",
         0.0
        ],
        [
         "Sad, sad, sad. I don't know why but I hate this feeling  I wanna sleep and I still can't!",
         "2009-04-07T05:21:49.000+0000",
         0.0
        ],
        [
         "@Kenichan I dived many times for the ball. Managed to save 50%  The rest go out of bounds",
         "2009-04-07T05:19:53.000+0000",
         0.0
        ],
        [
         "ooooh.... LOL  that leslie.... and ok I won't do it again so leslie won't  get mad again ",
         "2009-04-07T05:20:56.000+0000",
         0.0
        ],
        [
         "Meh... Almost Lover is the exception... this track gets me depressed every time. ",
         "2009-04-07T05:21:04.000+0000",
         0.0
        ],
        [
         "@octolinz16 It it counts, idk why I did either. you never talk to me anymore ",
         "2009-04-07T05:20:19.000+0000",
         0.0
        ],
        [
         "@FakerPattyPattz Oh dear. Were you drinking out of the forgotten table drinks? ",
         "2009-04-07T05:20:34.000+0000",
         0.0
        ],
        [
         "Mo jobs, no money.  how in the hell is min wage here 4 f'n clams an hour?",
         "2009-04-07T05:23:28.000+0000",
         0.0
        ],
        [
         "Oh man...was ironing @jeancjumbe's fave top to wear to a meeting. Burnt it ",
         "2009-04-07T05:22:07.000+0000",
         0.0
        ],
        [
         "Just going to cry myself to sleep after watching Marley and Me.  ",
         "2009-04-07T05:20:50.000+0000",
         0.0
        ],
        [
         "@tea oh! i'm so sorry  i didn't think about that before retweeting.",
         "2009-04-07T05:22:25.000+0000",
         0.0
        ],
        [
         "@LettyA ahh ive always wanted to see rent  love the soundtrack!!",
         "2009-04-07T05:20:31.000+0000",
         0.0
        ],
        [
         "@Lt_Algonquin agreed, I saw the failwhale allllll day today. ",
         "2009-04-07T05:23:30.000+0000",
         0.0
        ],
        [
         "I had such a nice day. Too bad the rain comes in tomorrow at 5am ",
         "2009-04-07T05:23:09.000+0000",
         0.0
        ],
        [
         "our duck and chicken are taking wayyy too long to hatch ",
         "2009-04-07T05:22:26.000+0000",
         0.0
        ],
        [
         "some1 hacked my account on aim  now i have to make a new one",
         "2009-04-07T05:21:07.000+0000",
         0.0
        ],
        [
         "@MissXu sorry! bed time came here (GMT+1)   http://is.gd/fNge",
         "2009-04-07T05:21:30.000+0000",
         0.0
        ],
        [
         "@alydesigns i was out most of the day so didn't get much done ",
         "2009-04-07T05:20:37.000+0000",
         0.0
        ],
        [
         "@julieebaby awe i love you too!!!! 1 am here  i miss you",
         "2009-04-07T05:21:11.000+0000",
         0.0
        ],
        [
         "I hate when I have to call and wake people up ",
         "2009-04-07T05:20:44.000+0000",
         0.0
        ],
        [
         "is strangely sad about LiLo and SamRo breaking up. ",
         "2009-04-07T05:22:13.000+0000",
         0.0
        ],
        [
         "spring break in plain city... it's snowing ",
         "2009-04-07T05:20:16.000+0000",
         0.0
        ],
        [
         "@angry_barista I baked you a cake but I ated it ",
         "2009-04-07T05:20:40.000+0000",
         0.0
        ],
        [
         "my whole body feels itchy and like its on fire ",
         "2009-04-07T05:19:57.000+0000",
         0.0
        ],
        [
         "@HumpNinja I cry my asian eyes to sleep at night ",
         "2009-04-07T05:21:21.000+0000",
         0.0
        ],
        [
         "@katortiz  Not forever... See you soon!",
         "2009-04-07T05:23:28.000+0000",
         0.0
        ],
        [
         "@Tatiana_K nope they didn't have it ",
         "2009-04-07T05:20:05.000+0000",
         0.0
        ],
        [
         "@oanhLove I hate when that happens... ",
         "2009-04-07T05:22:47.000+0000",
         0.0
        ],
        [
         "this week is not going as i had hoped ",
         "2009-04-07T05:20:40.000+0000",
         0.0
        ],
        [
         "just leaving the parking lot of work! ",
         "2009-04-07T05:22:55.000+0000",
         0.0
        ],
        [
         "Damm back to school tomorrow ",
         "2009-04-07T05:23:23.000+0000",
         0.0
        ],
        [
         "The Life is cool. But not for Me. ",
         "2009-04-07T05:23:03.000+0000",
         0.0
        ],
        [
         "I just re-pierced my ears ",
         "2009-04-07T05:20:17.000+0000",
         0.0
        ],
        [
         "@Kwesidei not the whole crew ",
         "2009-04-07T05:20:00.000+0000",
         0.0
        ],
        [
         "blagh class at 8 tomorrow ",
         "2009-04-07T05:20:41.000+0000",
         0.0
        ],
        [
         "Ugh....92 degrees tomorrow ",
         "2009-04-07T05:22:49.000+0000",
         0.0
        ],
        [
         "@twittera que me muera ? ",
         "2009-04-07T05:20:09.000+0000",
         0.0
        ],
        [
         "about to file taxes ",
         "2009-04-07T05:20:25.000+0000",
         0.0
        ],
        [
         "im sad now  Miss.Lilly",
         "2009-04-07T05:20:52.000+0000",
         0.0
        ],
        [
         "I need a hug ",
         "2009-04-07T05:22:32.000+0000",
         0.0
        ],
        [
         "Need a hug ",
         "2009-04-07T05:20:03.000+0000",
         0.0
        ]
       ],
       "datasetInfos": [],
       "dbfsResultPath": null,
       "isJsonSchema": true,
       "metadata": {},
       "overflow": false,
       "plotOptions": {
        "customPlotOptions": {},
        "displayType": "table",
        "pivotAggregation": null,
        "pivotColumns": null,
        "xColumns": null,
        "yColumns": null
       },
       "removedWidgets": [],
       "schema": [
        {
         "metadata": "{}",
         "name": "text",
         "type": "\"string\""
        },
        {
         "metadata": "{}",
         "name": "time",
         "type": "\"timestamp\""
        },
        {
         "metadata": "{\"ml_attr\":{\"type\":\"binary\"}}",
         "name": "label",
         "type": "\"double\""
        }
       ],
       "type": "table"
      }
     },
     "output_type": "display_data"
    }
   ],
   "source": [
    "schema = \"target integer, id long, date string, flag string, user string, text string\"\n",
    "lines = spark.read.csv(\"file:/databricks/driver/tmp/\", sep=\",\", schema=schema)\n",
    "# lines.display()\n",
    "data_clean = lines.drop(\"id\", \"flag\", \"user\")\\\n",
    "                 .withColumn(\"time\", to_timestamp(substring(col(\"date\"),5,24),\"MMM dd HH:mm:ss zzz yyyy\"))\\\n",
    "                 .drop(\"date\").cache()\n",
    "#data_clean.display()\n",
    "\n",
    "fitted_target_pipeline = PipelineModel.load(\"/FileStore/fitted_target_pipeline/\")\n",
    "transformed_stream = fitted_target_pipeline.transform(data_clean).drop(\"target_double\",\"target\")\n",
    "\n",
    "transformed_stream.display()\n"
   ]
  },
  {
   "cell_type": "code",
   "execution_count": 0,
   "metadata": {
    "application/vnd.databricks.v1+cell": {
     "cellMetadata": {
      "byteLimit": 2048000,
      "rowLimit": 10000
     },
     "inputWidgets": {},
     "nuid": "14497e2d-f0fc-4582-81b8-3f7d76b32e70",
     "showTitle": false,
     "title": ""
    }
   },
   "outputs": [
    {
     "output_type": "display_data",
     "data": {
      "text/html": [
       "<style scoped>\n",
       "  .table-result-container {\n",
       "    max-height: 300px;\n",
       "    overflow: auto;\n",
       "  }\n",
       "  table, th, td {\n",
       "    border: 1px solid black;\n",
       "    border-collapse: collapse;\n",
       "  }\n",
       "  th, td {\n",
       "    padding: 5px;\n",
       "  }\n",
       "  th {\n",
       "    text-align: left;\n",
       "  }\n",
       "</style><div class='table-result-container'><table class='table-result'><thead style='background-color: white'><tr><th>text</th><th>time</th><th>label</th></tr></thead><tbody><tr><td>@switchfoot http://twitpic.com/2y1zl - Awww, that's a bummer.  You shoulda got David Carr of Third Day to do it. ;D</td><td>2009-04-07T05:19:45.000+0000</td><td>0.0</td></tr><tr><td>is upset that he can't update his Facebook by texting it... and might cry as a result  School today also. Blah!</td><td>2009-04-07T05:19:49.000+0000</td><td>0.0</td></tr><tr><td>@Kenichan I dived many times for the ball. Managed to save 50%  The rest go out of bounds</td><td>2009-04-07T05:19:53.000+0000</td><td>0.0</td></tr><tr><td>my whole body feels itchy and like its on fire </td><td>2009-04-07T05:19:57.000+0000</td><td>0.0</td></tr><tr><td>@nationwideclass no, it's not behaving at all. i'm mad. why am i here? because I can't see you all over there. </td><td>2009-04-07T05:19:57.000+0000</td><td>0.0</td></tr><tr><td>@Kwesidei not the whole crew </td><td>2009-04-07T05:20:00.000+0000</td><td>0.0</td></tr><tr><td>Need a hug </td><td>2009-04-07T05:20:03.000+0000</td><td>0.0</td></tr><tr><td>@LOLTrish hey  long time no see! Yes.. Rains a bit ,only a bit  LOL , I'm fine thanks , how's you ?</td><td>2009-04-07T05:20:03.000+0000</td><td>0.0</td></tr><tr><td>@Tatiana_K nope they didn't have it </td><td>2009-04-07T05:20:05.000+0000</td><td>0.0</td></tr><tr><td>@twittera que me muera ? </td><td>2009-04-07T05:20:09.000+0000</td><td>0.0</td></tr><tr><td>spring break in plain city... it's snowing </td><td>2009-04-07T05:20:16.000+0000</td><td>0.0</td></tr><tr><td>I just re-pierced my ears </td><td>2009-04-07T05:20:17.000+0000</td><td>0.0</td></tr><tr><td>@caregiving I couldn't bear to watch it.  And I thought the UA loss was embarrassing . . . . .</td><td>2009-04-07T05:20:19.000+0000</td><td>0.0</td></tr><tr><td>@octolinz16 It it counts, idk why I did either. you never talk to me anymore </td><td>2009-04-07T05:20:19.000+0000</td><td>0.0</td></tr><tr><td>@smarrison i would've been the first, but i didn't have a gun.    not really though, zac snyder's just a doucheclown.</td><td>2009-04-07T05:20:20.000+0000</td><td>0.0</td></tr><tr><td>@iamjazzyfizzle I wish I got to watch it with you!! I miss you and @iamlilnicki  how was the premiere?!</td><td>2009-04-07T05:20:20.000+0000</td><td>0.0</td></tr><tr><td>Hollis' death scene will hurt me severely to watch on film  wry is directors cut not out now?</td><td>2009-04-07T05:20:22.000+0000</td><td>0.0</td></tr><tr><td>about to file taxes </td><td>2009-04-07T05:20:25.000+0000</td><td>0.0</td></tr><tr><td>@LettyA ahh ive always wanted to see rent  love the soundtrack!!</td><td>2009-04-07T05:20:31.000+0000</td><td>0.0</td></tr><tr><td>@FakerPattyPattz Oh dear. Were you drinking out of the forgotten table drinks? </td><td>2009-04-07T05:20:34.000+0000</td><td>0.0</td></tr><tr><td>@alydesigns i was out most of the day so didn't get much done </td><td>2009-04-07T05:20:37.000+0000</td><td>0.0</td></tr><tr><td>one of my friend called me, and asked to meet with her at Mid Valley today...but i've no time *sigh* </td><td>2009-04-07T05:20:38.000+0000</td><td>0.0</td></tr><tr><td>@angry_barista I baked you a cake but I ated it </td><td>2009-04-07T05:20:40.000+0000</td><td>0.0</td></tr><tr><td>this week is not going as i had hoped </td><td>2009-04-07T05:20:40.000+0000</td><td>0.0</td></tr><tr><td>blagh class at 8 tomorrow </td><td>2009-04-07T05:20:41.000+0000</td><td>0.0</td></tr><tr><td>I hate when I have to call and wake people up </td><td>2009-04-07T05:20:44.000+0000</td><td>0.0</td></tr><tr><td>Just going to cry myself to sleep after watching Marley and Me.  </td><td>2009-04-07T05:20:50.000+0000</td><td>0.0</td></tr><tr><td>im sad now  Miss.Lilly</td><td>2009-04-07T05:20:52.000+0000</td><td>0.0</td></tr><tr><td>ooooh.... LOL  that leslie.... and ok I won't do it again so leslie won't  get mad again </td><td>2009-04-07T05:20:56.000+0000</td><td>0.0</td></tr><tr><td>Meh... Almost Lover is the exception... this track gets me depressed every time. </td><td>2009-04-07T05:21:04.000+0000</td><td>0.0</td></tr><tr><td>some1 hacked my account on aim  now i have to make a new one</td><td>2009-04-07T05:21:07.000+0000</td><td>0.0</td></tr><tr><td>@alielayus I want to go to promote GEAR AND GROOVE but unfornately no ride there  I may b going to the one in Anaheim in May though</td><td>2009-04-07T05:21:07.000+0000</td><td>0.0</td></tr><tr><td>thought sleeping in was an option tomorrow but realizing that it now is not. evaluations in the morning and work in the afternoon! </td><td>2009-04-07T05:21:09.000+0000</td><td>0.0</td></tr><tr><td>@julieebaby awe i love you too!!!! 1 am here  i miss you</td><td>2009-04-07T05:21:11.000+0000</td><td>0.0</td></tr><tr><td>@HumpNinja I cry my asian eyes to sleep at night </td><td>2009-04-07T05:21:21.000+0000</td><td>0.0</td></tr><tr><td>ok I'm sick and spent an hour sitting in the shower cause I was too sick to stand and held back the puke like a champ. BED now </td><td>2009-04-07T05:21:20.000+0000</td><td>0.0</td></tr><tr><td>@cocomix04 ill tell ya the story later  not a good day and ill be workin for like three more hours...</td><td>2009-04-07T05:21:27.000+0000</td><td>0.0</td></tr><tr><td>@MissXu sorry! bed time came here (GMT+1)   http://is.gd/fNge</td><td>2009-04-07T05:21:30.000+0000</td><td>0.0</td></tr><tr><td>@fleurylis I don't either. Its depressing. I don't think I even want to know about the kids in suitcases. </td><td>2009-04-07T05:21:32.000+0000</td><td>0.0</td></tr><tr><td>Bed. Class 8-12. Work 12-3. Gym 3-5 or 6. Then class 6-10. Another day that's gonna fly by. I miss my girlfriend </td><td>2009-04-07T05:21:39.000+0000</td><td>0.0</td></tr><tr><td>really don't feel like getting up today... but got to study to for tomorrows practical exam... </td><td>2009-04-07T05:21:39.000+0000</td><td>0.0</td></tr><tr><td>He's the reason for the teardrops on my guitar the only one who has enough of me to break my heart </td><td>2009-04-07T05:21:46.000+0000</td><td>0.0</td></tr><tr><td>Sad, sad, sad. I don't know why but I hate this feeling  I wanna sleep and I still can't!</td><td>2009-04-07T05:21:49.000+0000</td><td>0.0</td></tr><tr><td>@JonathanRKnight Awww I soo wish I was there to see you finally comfortable! Im sad that I missed it </td><td>2009-04-07T05:21:53.000+0000</td><td>0.0</td></tr><tr><td>Falling asleep. Just heard about that Tracy girl's body being found. How sad  My heart breaks for that family.</td><td>2009-04-07T05:21:56.000+0000</td><td>0.0</td></tr><tr><td>@Viennah Yay! I'm happy for you with your job! But that also means less time for me and you... </td><td>2009-04-07T05:22:05.000+0000</td><td>0.0</td></tr><tr><td>Just checked my user timeline on my blackberry, it looks like the twanking is still happening  Are ppl still having probs w/ BGs and UIDs?</td><td>2009-04-07T05:22:06.000+0000</td><td>0.0</td></tr><tr><td>Oh man...was ironing @jeancjumbe's fave top to wear to a meeting. Burnt it </td><td>2009-04-07T05:22:07.000+0000</td><td>0.0</td></tr><tr><td>is strangely sad about LiLo and SamRo breaking up. </td><td>2009-04-07T05:22:13.000+0000</td><td>0.0</td></tr><tr><td>@tea oh! i'm so sorry  i didn't think about that before retweeting.</td><td>2009-04-07T05:22:25.000+0000</td><td>0.0</td></tr><tr><td>Broadband plan 'a massive broken promise' http://tinyurl.com/dcuc33 via www.diigo.com/~tautao Still waiting for broadband we are </td><td>2009-04-07T05:22:23.000+0000</td><td>0.0</td></tr><tr><td>@localtweeps Wow, tons of replies from you, may have to unfollow so I can see my friends' tweets, you're scrolling the feed a lot. </td><td>2009-04-07T05:22:24.000+0000</td><td>0.0</td></tr><tr><td>our duck and chicken are taking wayyy too long to hatch </td><td>2009-04-07T05:22:26.000+0000</td><td>0.0</td></tr><tr><td>Put vacation photos online a few yrs ago. PC crashed, and now I forget the name of the site. </td><td>2009-04-07T05:22:30.000+0000</td><td>0.0</td></tr><tr><td>I need a hug </td><td>2009-04-07T05:22:32.000+0000</td><td>0.0</td></tr><tr><td>@andywana Not sure what they are, only that they are PoS! As much as I want to, I dont think can trade away company assets sorry andy! </td><td>2009-04-07T05:22:37.000+0000</td><td>0.0</td></tr><tr><td>@oanhLove I hate when that happens... </td><td>2009-04-07T05:22:47.000+0000</td><td>0.0</td></tr><tr><td>I have a sad feeling that Dallas is not going to show up  I gotta say though, you'd think more shows would use music from the game. mmm</td><td>2009-04-07T05:22:47.000+0000</td><td>0.0</td></tr><tr><td>Ugh....92 degrees tomorrow </td><td>2009-04-07T05:22:49.000+0000</td><td>0.0</td></tr><tr><td>Where did u move to?  I thought u were already in sd. ?? Hmmm. Random u found me. Glad to hear yer doing well.</td><td>2009-04-07T05:22:49.000+0000</td><td>0.0</td></tr><tr><td>@BatManYNG I miss my ps3, it's out of commission  Wutcha playing? Have you copped 'Blood On The Sand'?</td><td>2009-04-07T05:22:52.000+0000</td><td>0.0</td></tr><tr><td>just leaving the parking lot of work! </td><td>2009-04-07T05:22:55.000+0000</td><td>0.0</td></tr><tr><td>The Life is cool. But not for Me. </td><td>2009-04-07T05:23:03.000+0000</td><td>0.0</td></tr><tr><td>Sadly though, I've never gotten to experience the post coitus cigarette before, and now I never will. </td><td>2009-04-07T05:23:08.000+0000</td><td>0.0</td></tr><tr><td>I had such a nice day. Too bad the rain comes in tomorrow at 5am </td><td>2009-04-07T05:23:09.000+0000</td><td>0.0</td></tr><tr><td>@Starrbby too bad I won't be around I lost my job and can't even pay my phone bill lmao aw shucks </td><td>2009-04-07T05:23:15.000+0000</td><td>0.0</td></tr><tr><td>Damm back to school tomorrow </td><td>2009-04-07T05:23:23.000+0000</td><td>0.0</td></tr><tr><td>Mo jobs, no money.  how in the hell is min wage here 4 f'n clams an hour?</td><td>2009-04-07T05:23:28.000+0000</td><td>0.0</td></tr><tr><td>@katortiz  Not forever... See you soon!</td><td>2009-04-07T05:23:28.000+0000</td><td>0.0</td></tr><tr><td>@Lt_Algonquin agreed, I saw the failwhale allllll day today. </td><td>2009-04-07T05:23:30.000+0000</td><td>0.0</td></tr></tbody></table></div>"
      ]
     },
     "metadata": {
      "application/vnd.databricks.v1+output": {
       "addedWidgets": {},
       "aggData": [],
       "aggError": "",
       "aggOverflow": false,
       "aggSchema": [],
       "aggSeriesLimitReached": false,
       "aggType": "",
       "arguments": {},
       "columnCustomDisplayInfos": {},
       "data": [
        [
         "@switchfoot http://twitpic.com/2y1zl - Awww, that's a bummer.  You shoulda got David Carr of Third Day to do it. ;D",
         "2009-04-07T05:19:45.000+0000",
         0.0
        ],
        [
         "is upset that he can't update his Facebook by texting it... and might cry as a result  School today also. Blah!",
         "2009-04-07T05:19:49.000+0000",
         0.0
        ],
        [
         "@Kenichan I dived many times for the ball. Managed to save 50%  The rest go out of bounds",
         "2009-04-07T05:19:53.000+0000",
         0.0
        ],
        [
         "my whole body feels itchy and like its on fire ",
         "2009-04-07T05:19:57.000+0000",
         0.0
        ],
        [
         "@nationwideclass no, it's not behaving at all. i'm mad. why am i here? because I can't see you all over there. ",
         "2009-04-07T05:19:57.000+0000",
         0.0
        ],
        [
         "@Kwesidei not the whole crew ",
         "2009-04-07T05:20:00.000+0000",
         0.0
        ],
        [
         "Need a hug ",
         "2009-04-07T05:20:03.000+0000",
         0.0
        ],
        [
         "@LOLTrish hey  long time no see! Yes.. Rains a bit ,only a bit  LOL , I'm fine thanks , how's you ?",
         "2009-04-07T05:20:03.000+0000",
         0.0
        ],
        [
         "@Tatiana_K nope they didn't have it ",
         "2009-04-07T05:20:05.000+0000",
         0.0
        ],
        [
         "@twittera que me muera ? ",
         "2009-04-07T05:20:09.000+0000",
         0.0
        ],
        [
         "spring break in plain city... it's snowing ",
         "2009-04-07T05:20:16.000+0000",
         0.0
        ],
        [
         "I just re-pierced my ears ",
         "2009-04-07T05:20:17.000+0000",
         0.0
        ],
        [
         "@caregiving I couldn't bear to watch it.  And I thought the UA loss was embarrassing . . . . .",
         "2009-04-07T05:20:19.000+0000",
         0.0
        ],
        [
         "@octolinz16 It it counts, idk why I did either. you never talk to me anymore ",
         "2009-04-07T05:20:19.000+0000",
         0.0
        ],
        [
         "@smarrison i would've been the first, but i didn't have a gun.    not really though, zac snyder's just a doucheclown.",
         "2009-04-07T05:20:20.000+0000",
         0.0
        ],
        [
         "@iamjazzyfizzle I wish I got to watch it with you!! I miss you and @iamlilnicki  how was the premiere?!",
         "2009-04-07T05:20:20.000+0000",
         0.0
        ],
        [
         "Hollis' death scene will hurt me severely to watch on film  wry is directors cut not out now?",
         "2009-04-07T05:20:22.000+0000",
         0.0
        ],
        [
         "about to file taxes ",
         "2009-04-07T05:20:25.000+0000",
         0.0
        ],
        [
         "@LettyA ahh ive always wanted to see rent  love the soundtrack!!",
         "2009-04-07T05:20:31.000+0000",
         0.0
        ],
        [
         "@FakerPattyPattz Oh dear. Were you drinking out of the forgotten table drinks? ",
         "2009-04-07T05:20:34.000+0000",
         0.0
        ],
        [
         "@alydesigns i was out most of the day so didn't get much done ",
         "2009-04-07T05:20:37.000+0000",
         0.0
        ],
        [
         "one of my friend called me, and asked to meet with her at Mid Valley today...but i've no time *sigh* ",
         "2009-04-07T05:20:38.000+0000",
         0.0
        ],
        [
         "@angry_barista I baked you a cake but I ated it ",
         "2009-04-07T05:20:40.000+0000",
         0.0
        ],
        [
         "this week is not going as i had hoped ",
         "2009-04-07T05:20:40.000+0000",
         0.0
        ],
        [
         "blagh class at 8 tomorrow ",
         "2009-04-07T05:20:41.000+0000",
         0.0
        ],
        [
         "I hate when I have to call and wake people up ",
         "2009-04-07T05:20:44.000+0000",
         0.0
        ],
        [
         "Just going to cry myself to sleep after watching Marley and Me.  ",
         "2009-04-07T05:20:50.000+0000",
         0.0
        ],
        [
         "im sad now  Miss.Lilly",
         "2009-04-07T05:20:52.000+0000",
         0.0
        ],
        [
         "ooooh.... LOL  that leslie.... and ok I won't do it again so leslie won't  get mad again ",
         "2009-04-07T05:20:56.000+0000",
         0.0
        ],
        [
         "Meh... Almost Lover is the exception... this track gets me depressed every time. ",
         "2009-04-07T05:21:04.000+0000",
         0.0
        ],
        [
         "some1 hacked my account on aim  now i have to make a new one",
         "2009-04-07T05:21:07.000+0000",
         0.0
        ],
        [
         "@alielayus I want to go to promote GEAR AND GROOVE but unfornately no ride there  I may b going to the one in Anaheim in May though",
         "2009-04-07T05:21:07.000+0000",
         0.0
        ],
        [
         "thought sleeping in was an option tomorrow but realizing that it now is not. evaluations in the morning and work in the afternoon! ",
         "2009-04-07T05:21:09.000+0000",
         0.0
        ],
        [
         "@julieebaby awe i love you too!!!! 1 am here  i miss you",
         "2009-04-07T05:21:11.000+0000",
         0.0
        ],
        [
         "@HumpNinja I cry my asian eyes to sleep at night ",
         "2009-04-07T05:21:21.000+0000",
         0.0
        ],
        [
         "ok I'm sick and spent an hour sitting in the shower cause I was too sick to stand and held back the puke like a champ. BED now ",
         "2009-04-07T05:21:20.000+0000",
         0.0
        ],
        [
         "@cocomix04 ill tell ya the story later  not a good day and ill be workin for like three more hours...",
         "2009-04-07T05:21:27.000+0000",
         0.0
        ],
        [
         "@MissXu sorry! bed time came here (GMT+1)   http://is.gd/fNge",
         "2009-04-07T05:21:30.000+0000",
         0.0
        ],
        [
         "@fleurylis I don't either. Its depressing. I don't think I even want to know about the kids in suitcases. ",
         "2009-04-07T05:21:32.000+0000",
         0.0
        ],
        [
         "Bed. Class 8-12. Work 12-3. Gym 3-5 or 6. Then class 6-10. Another day that's gonna fly by. I miss my girlfriend ",
         "2009-04-07T05:21:39.000+0000",
         0.0
        ],
        [
         "really don't feel like getting up today... but got to study to for tomorrows practical exam... ",
         "2009-04-07T05:21:39.000+0000",
         0.0
        ],
        [
         "He's the reason for the teardrops on my guitar the only one who has enough of me to break my heart ",
         "2009-04-07T05:21:46.000+0000",
         0.0
        ],
        [
         "Sad, sad, sad. I don't know why but I hate this feeling  I wanna sleep and I still can't!",
         "2009-04-07T05:21:49.000+0000",
         0.0
        ],
        [
         "@JonathanRKnight Awww I soo wish I was there to see you finally comfortable! Im sad that I missed it ",
         "2009-04-07T05:21:53.000+0000",
         0.0
        ],
        [
         "Falling asleep. Just heard about that Tracy girl's body being found. How sad  My heart breaks for that family.",
         "2009-04-07T05:21:56.000+0000",
         0.0
        ],
        [
         "@Viennah Yay! I'm happy for you with your job! But that also means less time for me and you... ",
         "2009-04-07T05:22:05.000+0000",
         0.0
        ],
        [
         "Just checked my user timeline on my blackberry, it looks like the twanking is still happening  Are ppl still having probs w/ BGs and UIDs?",
         "2009-04-07T05:22:06.000+0000",
         0.0
        ],
        [
         "Oh man...was ironing @jeancjumbe's fave top to wear to a meeting. Burnt it ",
         "2009-04-07T05:22:07.000+0000",
         0.0
        ],
        [
         "is strangely sad about LiLo and SamRo breaking up. ",
         "2009-04-07T05:22:13.000+0000",
         0.0
        ],
        [
         "@tea oh! i'm so sorry  i didn't think about that before retweeting.",
         "2009-04-07T05:22:25.000+0000",
         0.0
        ],
        [
         "Broadband plan 'a massive broken promise' http://tinyurl.com/dcuc33 via www.diigo.com/~tautao Still waiting for broadband we are ",
         "2009-04-07T05:22:23.000+0000",
         0.0
        ],
        [
         "@localtweeps Wow, tons of replies from you, may have to unfollow so I can see my friends' tweets, you're scrolling the feed a lot. ",
         "2009-04-07T05:22:24.000+0000",
         0.0
        ],
        [
         "our duck and chicken are taking wayyy too long to hatch ",
         "2009-04-07T05:22:26.000+0000",
         0.0
        ],
        [
         "Put vacation photos online a few yrs ago. PC crashed, and now I forget the name of the site. ",
         "2009-04-07T05:22:30.000+0000",
         0.0
        ],
        [
         "I need a hug ",
         "2009-04-07T05:22:32.000+0000",
         0.0
        ],
        [
         "@andywana Not sure what they are, only that they are PoS! As much as I want to, I dont think can trade away company assets sorry andy! ",
         "2009-04-07T05:22:37.000+0000",
         0.0
        ],
        [
         "@oanhLove I hate when that happens... ",
         "2009-04-07T05:22:47.000+0000",
         0.0
        ],
        [
         "I have a sad feeling that Dallas is not going to show up  I gotta say though, you'd think more shows would use music from the game. mmm",
         "2009-04-07T05:22:47.000+0000",
         0.0
        ],
        [
         "Ugh....92 degrees tomorrow ",
         "2009-04-07T05:22:49.000+0000",
         0.0
        ],
        [
         "Where did u move to?  I thought u were already in sd. ?? Hmmm. Random u found me. Glad to hear yer doing well.",
         "2009-04-07T05:22:49.000+0000",
         0.0
        ],
        [
         "@BatManYNG I miss my ps3, it's out of commission  Wutcha playing? Have you copped 'Blood On The Sand'?",
         "2009-04-07T05:22:52.000+0000",
         0.0
        ],
        [
         "just leaving the parking lot of work! ",
         "2009-04-07T05:22:55.000+0000",
         0.0
        ],
        [
         "The Life is cool. But not for Me. ",
         "2009-04-07T05:23:03.000+0000",
         0.0
        ],
        [
         "Sadly though, I've never gotten to experience the post coitus cigarette before, and now I never will. ",
         "2009-04-07T05:23:08.000+0000",
         0.0
        ],
        [
         "I had such a nice day. Too bad the rain comes in tomorrow at 5am ",
         "2009-04-07T05:23:09.000+0000",
         0.0
        ],
        [
         "@Starrbby too bad I won't be around I lost my job and can't even pay my phone bill lmao aw shucks ",
         "2009-04-07T05:23:15.000+0000",
         0.0
        ],
        [
         "Damm back to school tomorrow ",
         "2009-04-07T05:23:23.000+0000",
         0.0
        ],
        [
         "Mo jobs, no money.  how in the hell is min wage here 4 f'n clams an hour?",
         "2009-04-07T05:23:28.000+0000",
         0.0
        ],
        [
         "@katortiz  Not forever... See you soon!",
         "2009-04-07T05:23:28.000+0000",
         0.0
        ],
        [
         "@Lt_Algonquin agreed, I saw the failwhale allllll day today. ",
         "2009-04-07T05:23:30.000+0000",
         0.0
        ]
       ],
       "datasetInfos": [],
       "dbfsResultPath": null,
       "isJsonSchema": true,
       "metadata": {
        "isDbfsCommandResult": false
       },
       "overflow": false,
       "plotOptions": {
        "customPlotOptions": {},
        "displayType": "table",
        "pivotAggregation": null,
        "pivotColumns": null,
        "xColumns": null,
        "yColumns": null
       },
       "removedWidgets": [],
       "schema": [
        {
         "metadata": "{}",
         "name": "text",
         "type": "\"string\""
        },
        {
         "metadata": "{}",
         "name": "time",
         "type": "\"timestamp\""
        },
        {
         "metadata": "{\"ml_attr\":{\"type\":\"binary\"}}",
         "name": "label",
         "type": "\"double\""
        }
       ],
       "type": "table"
      }
     },
     "output_type": "display_data"
    }
   ],
   "source": [
    "# Read streaming data with the full schema\n",
    "schema = \"target integer, id long, date string, flag string, user string, text string\"\n",
    "lines = spark.readStream.option(\"maxFilesPerTrigger\",1).csv(\"file:/databricks/driver/tmp/\", sep=\",\", schema=schema)\\\n",
    "             .drop(\"id\", \"flag\", \"user\")\\\n",
    "             .withColumn(\"time\", to_timestamp(substring(col(\"date\"),5,24),\"MMM dd HH:mm:ss zzz yyyy\"))\\\n",
    "             .drop(\"date\")\n",
    "\n",
    "\n",
    "\n",
    "fitted_target_pipeline = PipelineModel.load(\"/FileStore/fitted_target_pipeline/\")\n",
    "transformed_stream = fitted_target_pipeline.transform(lines).drop(\"target_double\",\"target\")\n",
    "transformed_stream.display()\n",
    "# data_clean = lines.drop(\"id\", \"flag\", \"user\")\\\n",
    "#                  .withColumn(\"time\", to_timestamp(substring(col(\"date\"),5,24),\"MMM dd HH:mm:ss zzz yyyy\"))\\\n",
    "#                  .drop(\"date\").cache()\n",
    "\n",
    "\n",
    "\n"
   ]
  },
  {
   "cell_type": "code",
   "execution_count": 0,
   "metadata": {
    "application/vnd.databricks.v1+cell": {
     "cellMetadata": {
      "byteLimit": 2048000,
      "rowLimit": 10000
     },
     "inputWidgets": {},
     "nuid": "36e1bd44-4d08-4395-be42-9467b652e585",
     "showTitle": false,
     "title": ""
    }
   },
   "outputs": [],
   "source": [
    "modelPath = \"/FileStore/twitter_nbpipeline\"\n",
    "\n",
    "pipelineModel = PipelineModel.load(modelPath)\n",
    "\n",
    "scored_tweets = pipelineModel.transform(transformed_stream)\n",
    "\n",
    "query = scored_tweets.drop(\"rawPrediction\", \"probability\", \"features\", \"words\", \"words_filtered\")\\\n",
    "  .writeStream\\\n",
    "    .format(\"memory\")\\\n",
    "      .queryName(\"scored_tweets\")\\\n",
    "        .outputMode(\"append\")\\\n",
    "          .start()"
   ]
  },
  {
   "cell_type": "code",
   "execution_count": 0,
   "metadata": {
    "application/vnd.databricks.v1+cell": {
     "cellMetadata": {
      "byteLimit": 2048000,
      "implicitDf": true,
      "rowLimit": 10000
     },
     "inputWidgets": {},
     "nuid": "8a23f48c-9806-4db8-a49a-b1ef67065530",
     "showTitle": false,
     "title": ""
    }
   },
   "outputs": [
    {
     "output_type": "display_data",
     "data": {
      "text/html": [
       "<style scoped>\n",
       "  .table-result-container {\n",
       "    max-height: 300px;\n",
       "    overflow: auto;\n",
       "  }\n",
       "  table, th, td {\n",
       "    border: 1px solid black;\n",
       "    border-collapse: collapse;\n",
       "  }\n",
       "  th, td {\n",
       "    padding: 5px;\n",
       "  }\n",
       "  th {\n",
       "    text-align: left;\n",
       "  }\n",
       "</style><div class='table-result-container'><table class='table-result'><thead style='background-color: white'><tr><th>text</th><th>time</th><th>label</th><th>text_cleaned</th><th>words</th><th>words_filtered</th><th>features</th><th>rawPrediction</th><th>probability</th><th>prediction</th></tr></thead><tbody><tr><td>@switchfoot http://twitpic.com/2y1zl - Awww, that's a bummer.  You shoulda got David Carr of Third Day to do it. ;D</td><td>2009-04-07T05:19:45.000+0000</td><td>0.0</td><td>  - awww, that's a bummer.  you shoulda got david carr of third day to do it. ;d</td><td>List(awww, that, s, a, bummer, you, shoulda, got, david, carr, of, third, day, to, do, it, d)</td><td>List(awww, bummer, shoulda, got, david, carr, third, day, d)</td><td>Map(vectorType -> sparse, length -> 22150, indices -> List(2, 11, 72, 349, 737, 1074, 1787, 3377, 9539), values -> List(1.0, 1.0, 1.0, 1.0, 1.0, 1.0, 1.0, 1.0, 1.0))</td><td>Map(vectorType -> dense, length -> 2, values -> List(-73.10331329092534, -75.76040428183782))</td><td>Map(vectorType -> dense, length -> 2, values -> List(0.9344466971628318, 0.06555330283716827))</td><td>0.0</td></tr><tr><td>is upset that he can't update his Facebook by texting it... and might cry as a result  School today also. Blah!</td><td>2009-04-07T05:19:49.000+0000</td><td>0.0</td><td>is upset that he can't update his facebook by texting it... and might cry as a result  school today also. blah!</td><td>List(is, upset, that, he, can, t, update, his, facebook, by, texting, it, and, might, cry, as, a, result, school, today, also, blah)</td><td>List(upset, update, facebook, texting, might, cry, result, school, today, also, blah)</td><td>Map(vectorType -> sparse, length -> 22150, indices -> List(7, 70, 174, 197, 425, 429, 440, 682, 1018, 1919, 2240), values -> List(1.0, 1.0, 1.0, 1.0, 1.0, 1.0, 1.0, 1.0, 1.0, 1.0, 1.0))</td><td>Map(vectorType -> dense, length -> 2, values -> List(-84.59414501008106, -89.98197577429755))</td><td>Map(vectorType -> dense, length -> 2, values -> List(0.9954489268877933, 0.004551073112206787))</td><td>0.0</td></tr><tr><td>@Kenichan I dived many times for the ball. Managed to save 50%  The rest go out of bounds</td><td>2009-04-07T05:19:53.000+0000</td><td>0.0</td><td> i dived many times for the ball. managed to save 50%  the rest go out of bounds</td><td>List(i, dived, many, times, for, the, ball, managed, to, save, 50, the, rest, go, out, of, bounds)</td><td>List(dived, many, times, ball, managed, save, 50, rest, go, bounds)</td><td>Map(vectorType -> sparse, length -> 22150, indices -> List(5, 216, 256, 370, 800, 981, 1171, 1578), values -> List(1.0, 1.0, 1.0, 1.0, 1.0, 1.0, 1.0, 1.0))</td><td>Map(vectorType -> dense, length -> 2, values -> List(-63.04542955499372, -63.78005141899811))</td><td>Map(vectorType -> dense, length -> 2, values -> List(0.67581868825521, 0.32418131174479003))</td><td>0.0</td></tr><tr><td>my whole body feels itchy and like its on fire </td><td>2009-04-07T05:19:57.000+0000</td><td>0.0</td><td>my whole body feels itchy and like its on fire </td><td>List(my, whole, body, feels, itchy, and, like, its, on, fire)</td><td>List(whole, body, feels, itchy, like, fire)</td><td>Map(vectorType -> sparse, length -> 22150, indices -> List(4, 331, 381, 705, 1043, 2814), values -> List(1.0, 1.0, 1.0, 1.0, 1.0, 1.0))</td><td>Map(vectorType -> dense, length -> 2, values -> List(-47.0100517499005, -50.54793735282175))</td><td>Map(vectorType -> dense, length -> 2, values -> List(0.9717467190554288, 0.02825328094457132))</td><td>0.0</td></tr><tr><td>@nationwideclass no, it's not behaving at all. i'm mad. why am i here? because I can't see you all over there. </td><td>2009-04-07T05:19:57.000+0000</td><td>0.0</td><td> no, it's not behaving at all. i'm mad. why am i here? because i can't see you all over there. </td><td>List(no, it, s, not, behaving, at, all, i, m, mad, why, am, i, here, because, i, can, t, see, you, all, over, there)</td><td>List(behaving, m, mad, see)</td><td>Map(vectorType -> sparse, length -> 22150, indices -> List(0, 21, 493, 10190), values -> List(1.0, 1.0, 1.0, 1.0))</td><td>Map(vectorType -> dense, length -> 2, values -> List(-30.130673621754106, -31.075616317275248))</td><td>Map(vectorType -> dense, length -> 2, values -> List(0.720096976808941, 0.27990302319105903))</td><td>0.0</td></tr><tr><td>@Kwesidei not the whole crew </td><td>2009-04-07T05:20:00.000+0000</td><td>0.0</td><td> not the whole crew </td><td>List(not, the, whole, crew)</td><td>List(whole, crew)</td><td>Map(vectorType -> sparse, length -> 22150, indices -> List(331, 2083), values -> List(1.0, 1.0))</td><td>Map(vectorType -> dense, length -> 2, values -> List(-17.983945382297364, -17.91495730669582))</td><td>Map(vectorType -> dense, length -> 2, values -> List(0.48275981823545605, 0.517240181764544))</td><td>1.0</td></tr><tr><td>Need a hug </td><td>2009-04-07T05:20:03.000+0000</td><td>0.0</td><td>need a hug </td><td>List(need, a, hug)</td><td>List(need, hug)</td><td>Map(vectorType -> sparse, length -> 22150, indices -> List(35, 815), values -> List(1.0, 1.0))</td><td>Map(vectorType -> dense, length -> 2, values -> List(-14.601759941781173, -15.43562112134421))</td><td>Map(vectorType -> dense, length -> 2, values -> List(0.6971707364117425, 0.30282926358825757))</td><td>0.0</td></tr><tr><td>@LOLTrish hey  long time no see! Yes.. Rains a bit ,only a bit  LOL , I'm fine thanks , how's you ?</td><td>2009-04-07T05:20:03.000+0000</td><td>0.0</td><td> hey  long time no see! yes.. rains a bit ,only a bit  lol , i'm fine thanks , how's you ?</td><td>List(hey, long, time, no, see, yes, rains, a, bit, only, a, bit, lol, i, m, fine, thanks, how, s, you)</td><td>List(hey, long, time, see, yes, rains, bit, bit, lol, m, fine, thanks)</td><td>Map(vectorType -> sparse, length -> 22150, indices -> List(0, 12, 13, 21, 31, 76, 78, 88, 162, 423, 2560), values -> List(1.0, 1.0, 1.0, 1.0, 1.0, 1.0, 1.0, 1.0, 2.0, 1.0, 1.0))</td><td>Map(vectorType -> dense, length -> 2, values -> List(-80.42899760997152, -76.07727296338678))</td><td>Map(vectorType -> dense, length -> 2, values -> List(0.012720671663382397, 0.9872793283366176))</td><td>1.0</td></tr><tr><td>@Tatiana_K nope they didn't have it </td><td>2009-04-07T05:20:05.000+0000</td><td>0.0</td><td> nope they didn't have it </td><td>List(nope, they, didn, t, have, it)</td><td>List(nope, didn)</td><td>Map(vectorType -> sparse, length -> 22150, indices -> List(69, 691), values -> List(1.0, 1.0))</td><td>Map(vectorType -> dense, length -> 2, values -> List(-14.79513117152748, -16.11864752311122))</td><td>Map(vectorType -> dense, length -> 2, values -> List(0.7897661408990221, 0.21023385910097786))</td><td>0.0</td></tr><tr><td>@twittera que me muera ? </td><td>2009-04-07T05:20:09.000+0000</td><td>0.0</td><td> que me muera ? </td><td>List(que, me, muera)</td><td>List(que, muera)</td><td>Map(vectorType -> sparse, length -> 22150, indices -> List(2372), values -> List(1.0))</td><td>Map(vectorType -> dense, length -> 2, values -> List(-10.504218124777754, -10.58930814153326))</td><td>Map(vectorType -> dense, length -> 2, values -> List(0.5212596785128979, 0.4787403214871022))</td><td>0.0</td></tr><tr><td>spring break in plain city... it's snowing </td><td>2009-04-07T05:20:16.000+0000</td><td>0.0</td><td>spring break in plain city... it's snowing </td><td>List(spring, break, in, plain, city, it, s, snowing)</td><td>List(spring, break, plain, city, snowing)</td><td>Map(vectorType -> sparse, length -> 22150, indices -> List(419, 506, 1522, 3030, 6471), values -> List(1.0, 1.0, 1.0, 1.0, 1.0))</td><td>Map(vectorType -> dense, length -> 2, values -> List(-46.7880004887926, -47.98272597420815))</td><td>Map(vectorType -> dense, length -> 2, values -> List(0.7675851480144241, 0.23241485198557588))</td><td>0.0</td></tr><tr><td>I just re-pierced my ears </td><td>2009-04-07T05:20:17.000+0000</td><td>0.0</td><td>i just re-pierced my ears </td><td>List(i, just, re, pierced, my, ears)</td><td>List(re, pierced, ears)</td><td>Map(vectorType -> sparse, length -> 22150, indices -> List(37, 1774, 6085), values -> List(1.0, 1.0, 1.0))</td><td>Map(vectorType -> dense, length -> 2, values -> List(-27.4042325196962, -26.87731566017431))</td><td>Map(vectorType -> dense, length -> 2, values -> List(0.37123626821754374, 0.6287637317824564))</td><td>1.0</td></tr><tr><td>@caregiving I couldn't bear to watch it.  And I thought the UA loss was embarrassing . . . . .</td><td>2009-04-07T05:20:19.000+0000</td><td>0.0</td><td> i couldn't bear to watch it.  and i thought the ua loss was embarrassing . . . . .</td><td>List(i, couldn, t, bear, to, watch, it, and, i, thought, the, ua, loss, was, embarrassing)</td><td>List(couldn, bear, watch, thought, ua, loss, embarrassing)</td><td>Map(vectorType -> sparse, length -> 22150, indices -> List(103, 159, 384, 1501, 1716, 5172, 17375), values -> List(1.0, 1.0, 1.0, 1.0, 1.0, 1.0, 1.0))</td><td>Map(vectorType -> dense, length -> 2, values -> List(-63.08636095156594, -66.34672359556868))</td><td>Map(vectorType -> dense, length -> 2, values -> List(0.9630436995639282, 0.036956300436071836))</td><td>0.0</td></tr><tr><td>@octolinz16 It it counts, idk why I did either. you never talk to me anymore </td><td>2009-04-07T05:20:19.000+0000</td><td>0.0</td><td> it it counts, idk why i did either. you never talk to me anymore </td><td>List(it, it, counts, idk, why, i, did, either, you, never, talk, to, me, anymore)</td><td>List(counts, idk, either, never, talk, anymore)</td><td>Map(vectorType -> sparse, length -> 22150, indices -> List(85, 239, 302, 366, 718, 4587), values -> List(1.0, 1.0, 1.0, 1.0, 1.0, 1.0))</td><td>Map(vectorType -> dense, length -> 2, values -> List(-47.68318207365223, -50.52660845186502))</td><td>Map(vectorType -> dense, length -> 2, values -> List(0.9449778875183082, 0.055022112481691796))</td><td>0.0</td></tr><tr><td>@smarrison i would've been the first, but i didn't have a gun.    not really though, zac snyder's just a doucheclown.</td><td>2009-04-07T05:20:20.000+0000</td><td>0.0</td><td> i would've been the first, but i didn't have a gun.    not really though, zac snyder's just a doucheclown.</td><td>List(i, would, ve, been, the, first, but, i, didn, t, have, a, gun, not, really, though, zac, snyder, s, just, a, doucheclown)</td><td>List(ve, first, didn, gun, really, though, zac, snyder, doucheclown)</td><td>Map(vectorType -> sparse, length -> 22150, indices -> List(19, 53, 60, 69, 92, 3722, 3933), values -> List(1.0, 1.0, 1.0, 1.0, 1.0, 1.0, 1.0))</td><td>Map(vectorType -> dense, length -> 2, values -> List(-52.12640171724252, -52.651449569644264))</td><td>Map(vectorType -> dense, length -> 2, values -> List(0.6283273634352726, 0.37167263656472743))</td><td>0.0</td></tr><tr><td>@iamjazzyfizzle I wish I got to watch it with you!! I miss you and @iamlilnicki  how was the premiere?!</td><td>2009-04-07T05:20:20.000+0000</td><td>0.0</td><td> i wish i got to watch it with you!! i miss you and   how was the premiere?!</td><td>List(i, wish, i, got, to, watch, it, with, you, i, miss, you, and, how, was, the, premiere)</td><td>List(wish, got, watch, miss, premiere)</td><td>Map(vectorType -> sparse, length -> 22150, indices -> List(11, 34, 48, 103, 3274), values -> List(1.0, 1.0, 1.0, 1.0, 1.0))</td><td>Map(vectorType -> dense, length -> 2, values -> List(-33.58623171675259, -36.44301573679873))</td><td>Map(vectorType -> dense, length -> 2, values -> List(0.9456682998493235, 0.054331700150676426))</td><td>0.0</td></tr><tr><td>Hollis' death scene will hurt me severely to watch on film  wry is directors cut not out now?</td><td>2009-04-07T05:20:22.000+0000</td><td>0.0</td><td>hollis' death scene will hurt me severely to watch on film  wry is directors cut not out now?</td><td>List(hollis, death, scene, will, hurt, me, severely, to, watch, on, film, wry, is, directors, cut, not, out, now)</td><td>List(hollis, death, scene, hurt, severely, watch, film, wry, directors, cut)</td><td>Map(vectorType -> sparse, length -> 22150, indices -> List(103, 382, 537, 893, 958, 2025, 10382, 15296), values -> List(1.0, 1.0, 1.0, 1.0, 1.0, 1.0, 1.0, 1.0))</td><td>Map(vectorType -> dense, length -> 2, values -> List(-73.83947553776821, -77.144084392845))</td><td>Map(vectorType -> dense, length -> 2, values -> List(0.9645865835658037, 0.03541341643419628))</td><td>0.0</td></tr><tr><td>about to file taxes </td><td>2009-04-07T05:20:25.000+0000</td><td>0.0</td><td>about to file taxes </td><td>List(about, to, file, taxes)</td><td>List(file, taxes)</td><td>Map(vectorType -> sparse, length -> 22150, indices -> List(2537, 6799), values -> List(1.0, 1.0))</td><td>Map(vectorType -> dense, length -> 2, values -> List(-21.347550420986927, -22.85677499878239))</td><td>Map(vectorType -> dense, length -> 2, values -> List(0.8189462608861052, 0.18105373911389483))</td><td>0.0</td></tr><tr><td>@LettyA ahh ive always wanted to see rent  love the soundtrack!!</td><td>2009-04-07T05:20:31.000+0000</td><td>0.0</td><td> ahh ive always wanted to see rent  love the soundtrack!!</td><td>List(ahh, ive, always, wanted, to, see, rent, love, the, soundtrack)</td><td>List(ahh, ive, always, wanted, see, rent, love, soundtrack)</td><td>Map(vectorType -> sparse, length -> 22150, indices -> List(9, 21, 108, 269, 556, 593, 2449, 3724), values -> List(1.0, 1.0, 1.0, 1.0, 1.0, 1.0, 1.0, 1.0))</td><td>Map(vectorType -> dense, length -> 2, values -> List(-62.84724245931416, -61.61108456789215))</td><td>Map(vectorType -> dense, length -> 2, values -> List(0.2251054683287952, 0.7748945316712049))</td><td>1.0</td></tr><tr><td>@FakerPattyPattz Oh dear. Were you drinking out of the forgotten table drinks? </td><td>2009-04-07T05:20:34.000+0000</td><td>0.0</td><td> oh dear. were you drinking out of the forgotten table drinks? </td><td>List(oh, dear, were, you, drinking, out, of, the, forgotten, table, drinks)</td><td>List(oh, dear, drinking, forgotten, table, drinks)</td><td>Map(vectorType -> sparse, length -> 22150, indices -> List(32, 516, 649, 1371, 1740, 2583), values -> List(1.0, 1.0, 1.0, 1.0, 1.0, 1.0))</td><td>Map(vectorType -> dense, length -> 2, values -> List(-51.473522181498616, -51.10665169349559))</td><td>Map(vectorType -> dense, length -> 2, values -> List(0.4092974378830776, 0.5907025621169225))</td><td>1.0</td></tr><tr><td>@alydesigns i was out most of the day so didn't get much done </td><td>2009-04-07T05:20:37.000+0000</td><td>0.0</td><td> i was out most of the day so didn't get much done </td><td>List(i, was, out, most, of, the, day, so, didn, t, get, much, done)</td><td>List(day, didn, get, much, done)</td><td>Map(vectorType -> sparse, length -> 22150, indices -> List(2, 3, 33, 69, 104), values -> List(1.0, 1.0, 1.0, 1.0, 1.0))</td><td>Map(vectorType -> dense, length -> 2, values -> List(-28.8318508741337, -29.56262781347955))</td><td>Map(vectorType -> dense, length -> 2, values -> List(0.6749757434130903, 0.3250242565869097))</td><td>0.0</td></tr><tr><td>one of my friend called me, and asked to meet with her at Mid Valley today...but i've no time *sigh* </td><td>2009-04-07T05:20:38.000+0000</td><td>0.0</td><td>one of my friend called me, and asked to meet with her at mid valley today...but i've no time *sigh* </td><td>List(one, of, my, friend, called, me, and, asked, to, meet, with, her, at, mid, valley, today, but, i, ve, no, time, sigh)</td><td>List(one, friend, called, asked, meet, mid, valley, today, ve, time, sigh)</td><td>Map(vectorType -> sparse, length -> 22150, indices -> List(7, 13, 16, 53, 156, 363, 449, 529, 926, 2392, 3515), values -> List(1.0, 1.0, 1.0, 1.0, 1.0, 1.0, 1.0, 1.0, 1.0, 1.0, 1.0))</td><td>Map(vectorType -> dense, length -> 2, values -> List(-81.82096687820665, -82.50951781991387))</td><td>Map(vectorType -> dense, length -> 2, values -> List(0.6656444990333269, 0.33435550096667316))</td><td>0.0</td></tr><tr><td>@angry_barista I baked you a cake but I ated it </td><td>2009-04-07T05:20:40.000+0000</td><td>0.0</td><td> i baked you a cake but i ated it </td><td>List(i, baked, you, a, cake, but, i, ated, it)</td><td>List(baked, cake, ated)</td><td>Map(vectorType -> sparse, length -> 22150, indices -> List(739, 3218), values -> List(1.0, 1.0))</td><td>Map(vectorType -> dense, length -> 2, values -> List(-19.970536770013737, -18.91558527436129))</td><td>Map(vectorType -> dense, length -> 2, values -> List(0.25827541189982073, 0.7417245881001794))</td><td>1.0</td></tr><tr><td>this week is not going as i had hoped </td><td>2009-04-07T05:20:40.000+0000</td><td>0.0</td><td>this week is not going as i had hoped </td><td>List(this, week, is, not, going, as, i, had, hoped)</td><td>List(week, going, hoped)</td><td>Map(vectorType -> sparse, length -> 22150, indices -> List(10, 68, 4014), values -> List(1.0, 1.0, 1.0))</td><td>Map(vectorType -> dense, length -> 2, values -> List(-22.198384599963042, -23.41338818725584))</td><td>Map(vectorType -> dense, length -> 2, values -> List(0.7711830785691796, 0.22881692143082039))</td><td>0.0</td></tr><tr><td>blagh class at 8 tomorrow </td><td>2009-04-07T05:20:41.000+0000</td><td>0.0</td><td>blagh class at 8 tomorrow </td><td>List(blagh, class, at, 8, tomorrow)</td><td>List(blagh, class, 8, tomorrow)</td><td>Map(vectorType -> sparse, length -> 22150, indices -> List(39, 327, 328), values -> List(1.0, 1.0, 1.0))</td><td>Map(vectorType -> dense, length -> 2, values -> List(-21.093709383721325, -22.103438270668583))</td><td>Map(vectorType -> dense, length -> 2, values -> List(0.7329670886261619, 0.26703291137383806))</td><td>0.0</td></tr><tr><td>I hate when I have to call and wake people up </td><td>2009-04-07T05:20:44.000+0000</td><td>0.0</td><td>i hate when i have to call and wake people up </td><td>List(i, hate, when, i, have, to, call, and, wake, people, up)</td><td>List(hate, call, wake, people)</td><td>Map(vectorType -> sparse, length -> 22150, indices -> List(71, 73, 231, 436), values -> List(1.0, 1.0, 1.0, 1.0))</td><td>Map(vectorType -> dense, length -> 2, values -> List(-27.66705346002322, -29.848556230606903))</td><td>Map(vectorType -> dense, length -> 2, values -> List(0.8985761122863074, 0.1014238877136927))</td><td>0.0</td></tr><tr><td>Just going to cry myself to sleep after watching Marley and Me.  </td><td>2009-04-07T05:20:50.000+0000</td><td>0.0</td><td>just going to cry myself to sleep after watching marley and me.  </td><td>List(just, going, to, cry, myself, to, sleep, after, watching, marley, and, me)</td><td>List(going, cry, sleep, watching, marley)</td><td>Map(vectorType -> sparse, length -> 22150, indices -> List(10, 49, 64, 425, 3233), values -> List(1.0, 1.0, 1.0, 1.0, 1.0))</td><td>Map(vectorType -> dense, length -> 2, values -> List(-35.396766285017236, -37.889976636999265))</td><td>Map(vectorType -> dense, length -> 2, values -> List(0.9236644675856119, 0.07633553241438795))</td><td>0.0</td></tr><tr><td>im sad now  Miss.Lilly</td><td>2009-04-07T05:20:52.000+0000</td><td>0.0</td><td>im sad now  miss.lilly</td><td>List(im, sad, now, miss, lilly)</td><td>List(im, sad, miss, lilly)</td><td>Map(vectorType -> sparse, length -> 22150, indices -> List(18, 34, 46, 8809), values -> List(1.0, 1.0, 1.0, 1.0))</td><td>Map(vectorType -> dense, length -> 2, values -> List(-28.263085405617076, -32.95279876117721))</td><td>Map(vectorType -> dense, length -> 2, values -> List(0.9908943548395848, 0.009105645160415317))</td><td>0.0</td></tr><tr><td>ooooh.... LOL  that leslie.... and ok I won't do it again so leslie won't  get mad again </td><td>2009-04-07T05:20:56.000+0000</td><td>0.0</td><td>ooooh.... lol  that leslie.... and ok i won't do it again so leslie won't  get mad again </td><td>List(ooooh, lol, that, leslie, and, ok, i, won, t, do, it, again, so, leslie, won, t, get, mad, again)</td><td>List(ooooh, lol, leslie, ok, won, leslie, won, get, mad)</td><td>Map(vectorType -> sparse, length -> 22150, indices -> List(3, 12, 100, 119, 493, 3073, 8828), values -> List(1.0, 1.0, 1.0, 2.0, 1.0, 1.0, 2.0))</td><td>Map(vectorType -> dense, length -> 2, values -> List(-72.45250054581369, -72.87898277514248))</td><td>Map(vectorType -> dense, length -> 2, values -> List(0.605033345174567, 0.3949666548254329))</td><td>0.0</td></tr><tr><td>Meh... Almost Lover is the exception... this track gets me depressed every time. </td><td>2009-04-07T05:21:04.000+0000</td><td>0.0</td><td>meh... almost lover is the exception... this track gets me depressed every time. </td><td>List(meh, almost, lover, is, the, exception, this, track, gets, me, depressed, every, time)</td><td>List(meh, almost, lover, exception, track, gets, depressed, every, time)</td><td>Map(vectorType -> sparse, length -> 22150, indices -> List(13, 251, 304, 448, 1183, 1224, 1853, 3195, 7188), values -> List(1.0, 1.0, 1.0, 1.0, 1.0, 1.0, 1.0, 1.0, 1.0))</td><td>Map(vectorType -> dense, length -> 2, values -> List(-77.61298334079373, -79.60753670420988))</td><td>Map(vectorType -> dense, length -> 2, values -> List(0.8802240289512655, 0.11977597104873444))</td><td>0.0</td></tr><tr><td>some1 hacked my account on aim  now i have to make a new one</td><td>2009-04-07T05:21:07.000+0000</td><td>0.0</td><td>some1 hacked my account on aim  now i have to make a new one</td><td>List(some1, hacked, my, account, on, aim, now, i, have, to, make, a, new, one)</td><td>List(some1, hacked, account, aim, make, new, one)</td><td>Map(vectorType -> sparse, length -> 22150, indices -> List(16, 26, 57, 653, 1933, 3395, 4171), values -> List(1.0, 1.0, 1.0, 1.0, 1.0, 1.0, 1.0))</td><td>Map(vectorType -> dense, length -> 2, values -> List(-56.266211149576975, -57.32776066159434))</td><td>Map(vectorType -> dense, length -> 2, values -> List(0.742986547690872, 0.2570134523091279))</td><td>0.0</td></tr><tr><td>@alielayus I want to go to promote GEAR AND GROOVE but unfornately no ride there  I may b going to the one in Anaheim in May though</td><td>2009-04-07T05:21:07.000+0000</td><td>0.0</td><td> i want to go to promote gear and groove but unfornately no ride there  i may b going to the one in anaheim in may though</td><td>List(i, want, to, go, to, promote, gear, and, groove, but, unfornately, no, ride, there, i, may, b, going, to, the, one, in, anaheim, in, may, though)</td><td>List(want, go, promote, gear, groove, unfornately, ride, may, b, going, one, anaheim, may, though)</td><td>Map(vectorType -> sparse, length -> 22150, indices -> List(5, 10, 16, 27, 60, 219, 238, 607, 2598, 4834, 7688, 10669), values -> List(1.0, 1.0, 1.0, 1.0, 1.0, 1.0, 2.0, 1.0, 1.0, 1.0, 1.0, 1.0))</td><td>Map(vectorType -> dense, length -> 2, values -> List(-102.83929914413474, -101.89199182640797))</td><td>Map(vectorType -> dense, length -> 2, values -> List(0.2794266644156647, 0.7205733355843353))</td><td>1.0</td></tr><tr><td>thought sleeping in was an option tomorrow but realizing that it now is not. evaluations in the morning and work in the afternoon! </td><td>2009-04-07T05:21:09.000+0000</td><td>0.0</td><td>thought sleeping in was an option tomorrow but realizing that it now is not. evaluations in the morning and work in the afternoon! </td><td>List(thought, sleeping, in, was, an, option, tomorrow, but, realizing, that, it, now, is, not, evaluations, in, the, morning, and, work, in, the, afternoon)</td><td>List(thought, sleeping, option, tomorrow, realizing, evaluations, morning, work, afternoon)</td><td>Map(vectorType -> sparse, length -> 22150, indices -> List(8, 38, 39, 159, 466, 474, 2086, 4659), values -> List(1.0, 1.0, 1.0, 1.0, 1.0, 1.0, 1.0, 1.0))</td><td>Map(vectorType -> dense, length -> 2, values -> List(-60.033272851279385, -61.71564782465332))</td><td>Map(vectorType -> dense, length -> 2, values -> List(0.8432187606820067, 0.15678123931799323))</td><td>0.0</td></tr><tr><td>@julieebaby awe i love you too!!!! 1 am here  i miss you</td><td>2009-04-07T05:21:11.000+0000</td><td>0.0</td><td> awe i love you too!!!! 1 am here  i miss you</td><td>List(awe, i, love, you, too, 1, am, here, i, miss, you)</td><td>List(awe, love, 1, miss)</td><td>Map(vectorType -> sparse, length -> 22150, indices -> List(9, 34, 105, 1839), values -> List(1.0, 1.0, 1.0, 1.0))</td><td>Map(vectorType -> dense, length -> 2, values -> List(-27.71518089590701, -28.636343222362683))</td><td>Map(vectorType -> dense, length -> 2, values -> List(0.7152788785201719, 0.2847211214798281))</td><td>0.0</td></tr><tr><td>@HumpNinja I cry my asian eyes to sleep at night </td><td>2009-04-07T05:21:21.000+0000</td><td>0.0</td><td> i cry my asian eyes to sleep at night </td><td>List(i, cry, my, asian, eyes, to, sleep, at, night)</td><td>List(cry, asian, eyes, sleep, night)</td><td>Map(vectorType -> sparse, length -> 22150, indices -> List(22, 49, 425, 541, 2991), values -> List(1.0, 1.0, 1.0, 1.0, 1.0))</td><td>Map(vectorType -> dense, length -> 2, values -> List(-37.548583611865425, -39.903396581377656))</td><td>Map(vectorType -> dense, length -> 2, values -> List(0.9133160284560736, 0.0866839715439264))</td><td>0.0</td></tr><tr><td>ok I'm sick and spent an hour sitting in the shower cause I was too sick to stand and held back the puke like a champ. BED now </td><td>2009-04-07T05:21:20.000+0000</td><td>0.0</td><td>ok i'm sick and spent an hour sitting in the shower cause i was too sick to stand and held back the puke like a champ. bed now </td><td>List(ok, i, m, sick, and, spent, an, hour, sitting, in, the, shower, cause, i, was, too, sick, to, stand, and, held, back, the, puke, like, a, champ, bed, now)</td><td>List(ok, m, sick, spent, hour, sitting, shower, cause, sick, stand, held, back, puke, like, champ, bed)</td><td>Map(vectorType -> sparse, length -> 22150, indices -> List(0, 4, 14, 67, 100, 102, 273, 290, 373, 472, 696, 1138, 3638, 5112, 7715), values -> List(1.0, 1.0, 1.0, 1.0, 1.0, 2.0, 1.0, 1.0, 1.0, 1.0, 1.0, 1.0, 1.0, 1.0, 1.0))</td><td>Map(vectorType -> dense, length -> 2, values -> List(-119.67446254770059, -126.66986046784245))</td><td>Map(vectorType -> dense, length -> 2, values -> List(0.9990847502590302, 9.152497409699238E-4))</td><td>0.0</td></tr><tr><td>@cocomix04 ill tell ya the story later  not a good day and ill be workin for like three more hours...</td><td>2009-04-07T05:21:27.000+0000</td><td>0.0</td><td> ill tell ya the story later  not a good day and ill be workin for like three more hours...</td><td>List(ill, tell, ya, the, story, later, not, a, good, day, and, ill, be, workin, for, like, three, more, hours)</td><td>List(ill, tell, ya, story, later, good, day, ill, workin, like, three, hours)</td><td>Map(vectorType -> sparse, length -> 22150, indices -> List(1, 2, 4, 130, 167, 177, 185, 300, 590, 618, 1588), values -> List(1.0, 1.0, 1.0, 1.0, 1.0, 1.0, 1.0, 2.0, 1.0, 1.0, 1.0))</td><td>Map(vectorType -> dense, length -> 2, values -> List(-84.44180483924471, -83.210584831163))</td><td>Map(vectorType -> dense, length -> 2, values -> List(0.2259679671168761, 0.7740320328831239))</td><td>1.0</td></tr><tr><td>@MissXu sorry! bed time came here (GMT+1)   http://is.gd/fNge</td><td>2009-04-07T05:21:30.000+0000</td><td>0.0</td><td> sorry! bed time came here (gmt+1)   </td><td>List(sorry, bed, time, came, here, gmt, 1)</td><td>List(sorry, bed, time, came, gmt, 1)</td><td>Map(vectorType -> sparse, length -> 22150, indices -> List(13, 54, 67, 105, 330, 10445), values -> List(1.0, 1.0, 1.0, 1.0, 1.0, 1.0))</td><td>Map(vectorType -> dense, length -> 2, values -> List(-43.79721949386197, -45.30833407411092))</td><td>Map(vectorType -> dense, length -> 2, values -> List(0.8192263288432168, 0.1807736711567832))</td><td>0.0</td></tr><tr><td>@fleurylis I don't either. Its depressing. I don't think I even want to know about the kids in suitcases. </td><td>2009-04-07T05:21:32.000+0000</td><td>0.0</td><td> i don't either. its depressing. i don't think i even want to know about the kids in suitcases. </td><td>List(i, don, t, either, its, depressing, i, don, t, think, i, even, want, to, know, about, the, kids, in, suitcases)</td><td>List(either, depressing, think, even, want, know, kids, suitcases)</td><td>Map(vectorType -> sparse, length -> 22150, indices -> List(17, 27, 28, 75, 335, 366, 1274, 18726), values -> List(1.0, 1.0, 1.0, 1.0, 1.0, 1.0, 1.0, 1.0))</td><td>Map(vectorType -> dense, length -> 2, values -> List(-59.32704560464952, -63.82573702820236))</td><td>Map(vectorType -> dense, length -> 2, values -> List(0.9889988289742472, 0.011001171025752874))</td><td>0.0</td></tr><tr><td>Bed. Class 8-12. Work 12-3. Gym 3-5 or 6. Then class 6-10. Another day that's gonna fly by. I miss my girlfriend </td><td>2009-04-07T05:21:39.000+0000</td><td>0.0</td><td>bed. class 8-12. work 12-3. gym 3-5 or 6. then class 6-10. another day that's gonna fly by. i miss my girlfriend </td><td>List(bed, class, 8, 12, work, 12, 3, gym, 3, 5, or, 6, then, class, 6, 10, another, day, that, s, gonna, fly, by, i, miss, my, girlfriend)</td><td>List(bed, class, 8, 12, work, 12, 3, gym, 3, 5, 6, class, 6, 10, another, day, gonna, fly, miss, girlfriend)</td><td>Map(vectorType -> sparse, length -> 22150, indices -> List(2, 8, 34, 43, 61, 67, 114, 145, 271, 288, 327, 328, 514, 564, 908, 1598), values -> List(1.0, 1.0, 1.0, 2.0, 1.0, 1.0, 1.0, 1.0, 1.0, 2.0, 1.0, 2.0, 2.0, 1.0, 1.0, 1.0))</td><td>Map(vectorType -> dense, length -> 2, values -> List(-138.74295790541274, -143.7154739365168))</td><td>Map(vectorType -> dense, length -> 2, values -> List(0.993121934606703, 0.006878065393297031))</td><td>0.0</td></tr><tr><td>really don't feel like getting up today... but got to study to for tomorrows practical exam... </td><td>2009-04-07T05:21:39.000+0000</td><td>0.0</td><td>really don't feel like getting up today... but got to study to for tomorrows practical exam... </td><td>List(really, don, t, feel, like, getting, up, today, but, got, to, study, to, for, tomorrows, practical, exam)</td><td>List(really, feel, like, getting, today, got, study, tomorrows, practical, exam)</td><td>Map(vectorType -> sparse, length -> 22150, indices -> List(4, 7, 11, 19, 45, 59, 339, 477, 4983, 7227), values -> List(1.0, 1.0, 1.0, 1.0, 1.0, 1.0, 1.0, 1.0, 1.0, 1.0))</td><td>Map(vectorType -> dense, length -> 2, values -> List(-69.64371146496919, -73.35452808118367))</td><td>Map(vectorType -> dense, length -> 2, values -> List(0.9761263481701583, 0.023873651829841764))</td><td>0.0</td></tr><tr><td>He's the reason for the teardrops on my guitar the only one who has enough of me to break my heart </td><td>2009-04-07T05:21:46.000+0000</td><td>0.0</td><td>he's the reason for the teardrops on my guitar the only one who has enough of me to break my heart </td><td>List(he, s, the, reason, for, the, teardrops, on, my, guitar, the, only, one, who, has, enough, of, me, to, break, my, heart)</td><td>List(reason, teardrops, guitar, one, enough, break, heart)</td><td>Map(vectorType -> sparse, length -> 22150, indices -> List(16, 297, 398, 419, 554, 896, 16272), values -> List(1.0, 1.0, 1.0, 1.0, 1.0, 1.0, 1.0))</td><td>Map(vectorType -> dense, length -> 2, values -> List(-58.046745866001274, -58.75672006889397))</td><td>Map(vectorType -> dense, length -> 2, values -> List(0.6703954595661172, 0.3296045404338828))</td><td>0.0</td></tr><tr><td>Sad, sad, sad. I don't know why but I hate this feeling  I wanna sleep and I still can't!</td><td>2009-04-07T05:21:49.000+0000</td><td>0.0</td><td>sad, sad, sad. i don't know why but i hate this feeling  i wanna sleep and i still can't!</td><td>List(sad, sad, sad, i, don, t, know, why, but, i, hate, this, feeling, i, wanna, sleep, and, i, still, can, t)</td><td>List(sad, sad, sad, know, hate, feeling, wanna, sleep, still)</td><td>Map(vectorType -> sparse, length -> 22150, indices -> List(17, 23, 46, 49, 73, 93, 106), values -> List(1.0, 1.0, 3.0, 1.0, 1.0, 1.0, 1.0))</td><td>Map(vectorType -> dense, length -> 2, values -> List(-51.324968214328955, -64.7815770605479))</td><td>Map(vectorType -> dense, length -> 2, values -> List(0.99999856824598, 1.4317540199279008E-6))</td><td>0.0</td></tr><tr><td>@JonathanRKnight Awww I soo wish I was there to see you finally comfortable! Im sad that I missed it </td><td>2009-04-07T05:21:53.000+0000</td><td>0.0</td><td> awww i soo wish i was there to see you finally comfortable! im sad that i missed it </td><td>List(awww, i, soo, wish, i, was, there, to, see, you, finally, comfortable, im, sad, that, i, missed, it)</td><td>List(awww, soo, wish, see, finally, comfortable, im, sad, missed)</td><td>Map(vectorType -> sparse, length -> 22150, indices -> List(18, 21, 46, 48, 144, 165, 349, 380, 3876), values -> List(1.0, 1.0, 1.0, 1.0, 1.0, 1.0, 1.0, 1.0, 1.0))</td><td>Map(vectorType -> dense, length -> 2, values -> List(-61.787676332786134, -66.9900287974011))</td><td>Map(vectorType -> dense, length -> 2, values -> List(0.9945265216961819, 0.005473478303818209))</td><td>0.0</td></tr><tr><td>Falling asleep. Just heard about that Tracy girl's body being found. How sad  My heart breaks for that family.</td><td>2009-04-07T05:21:56.000+0000</td><td>0.0</td><td>falling asleep. just heard about that tracy girl's body being found. how sad  my heart breaks for that family.</td><td>List(falling, asleep, just, heard, about, that, tracy, girl, s, body, being, found, how, sad, my, heart, breaks, for, that, family)</td><td>List(falling, asleep, heard, tracy, girl, body, found, sad, heart, breaks, family)</td><td>Map(vectorType -> sparse, length -> 22150, indices -> List(46, 173, 225, 260, 398, 402, 454, 705, 1176, 2495, 8107), values -> List(1.0, 1.0, 1.0, 1.0, 1.0, 1.0, 1.0, 1.0, 1.0, 1.0, 1.0))</td><td>Map(vectorType -> dense, length -> 2, values -> List(-88.69683345501063, -94.06839915760288))</td><td>Map(vectorType -> dense, length -> 2, values -> List(0.9953746433123704, 0.004625356687629645))</td><td>0.0</td></tr><tr><td>@Viennah Yay! I'm happy for you with your job! But that also means less time for me and you... </td><td>2009-04-07T05:22:05.000+0000</td><td>0.0</td><td> yay! i'm happy for you with your job! but that also means less time for me and you... </td><td>List(yay, i, m, happy, for, you, with, your, job, but, that, also, means, less, time, for, me, and, you)</td><td>List(yay, m, happy, job, also, means, less, time)</td><td>Map(vectorType -> sparse, length -> 22150, indices -> List(0, 13, 52, 124, 174, 228, 518, 547), values -> List(1.0, 1.0, 1.0, 1.0, 1.0, 1.0, 1.0, 1.0))</td><td>Map(vectorType -> dense, length -> 2, values -> List(-54.837946412683195, -52.46884228580106))</td><td>Map(vectorType -> dense, length -> 2, values -> List(0.08555920547818534, 0.9144407945218147))</td><td>1.0</td></tr><tr><td>Just checked my user timeline on my blackberry, it looks like the twanking is still happening  Are ppl still having probs w/ BGs and UIDs?</td><td>2009-04-07T05:22:06.000+0000</td><td>0.0</td><td>just checked my user timeline on my blackberry, it looks like the twanking is still happening  are ppl still having probs w/ bgs and uids?</td><td>List(just, checked, my, user, timeline, on, my, blackberry, it, looks, like, the, twanking, is, still, happening, are, ppl, still, having, probs, w, bgs, and, uids)</td><td>List(checked, user, timeline, blackberry, looks, like, twanking, still, happening, ppl, still, probs, w, bgs, uids)</td><td>Map(vectorType -> sparse, length -> 22150, indices -> List(4, 23, 175, 186, 544, 1071, 1262, 1268, 2234, 2472, 5894), values -> List(1.0, 2.0, 1.0, 1.0, 1.0, 1.0, 1.0, 1.0, 1.0, 1.0, 1.0))</td><td>Map(vectorType -> dense, length -> 2, values -> List(-95.5945278945605, -98.20312853825271))</td><td>Map(vectorType -> dense, length -> 2, values -> List(0.9314130554603904, 0.06858694453960959))</td><td>0.0</td></tr><tr><td>Oh man...was ironing @jeancjumbe's fave top to wear to a meeting. Burnt it </td><td>2009-04-07T05:22:07.000+0000</td><td>0.0</td><td>oh man...was ironing 's fave top to wear to a meeting. burnt it </td><td>List(oh, man, was, ironing, s, fave, top, to, wear, to, a, meeting, burnt, it)</td><td>List(oh, man, ironing, fave, top, wear, meeting, burnt)</td><td>Map(vectorType -> sparse, length -> 22150, indices -> List(32, 121, 536, 567, 728, 1128, 1367, 3869), values -> List(1.0, 1.0, 1.0, 1.0, 1.0, 1.0, 1.0, 1.0))</td><td>Map(vectorType -> dense, length -> 2, values -> List(-65.9862832719562, -67.33187834849096))</td><td>Map(vectorType -> dense, length -> 2, values -> List(0.7934085440367248, 0.20659145596327516))</td><td>0.0</td></tr><tr><td>is strangely sad about LiLo and SamRo breaking up. </td><td>2009-04-07T05:22:13.000+0000</td><td>0.0</td><td>is strangely sad about lilo and samro breaking up. </td><td>List(is, strangely, sad, about, lilo, and, samro, breaking, up)</td><td>List(strangely, sad, lilo, samro, breaking)</td><td>Map(vectorType -> sparse, length -> 22150, indices -> List(46, 1477, 7628, 19722), values -> List(1.0, 1.0, 1.0, 1.0))</td><td>Map(vectorType -> dense, length -> 2, values -> List(-39.69900351769784, -42.806512870546655))</td><td>Map(vectorType -> dense, length -> 2, values -> List(0.957201437934856, 0.04279856206514403))</td><td>0.0</td></tr><tr><td>@tea oh! i'm so sorry  i didn't think about that before retweeting.</td><td>2009-04-07T05:22:25.000+0000</td><td>0.0</td><td> oh! i'm so sorry  i didn't think about that before retweeting.</td><td>List(oh, i, m, so, sorry, i, didn, t, think, about, that, before, retweeting)</td><td>List(oh, m, sorry, didn, think, retweeting)</td><td>Map(vectorType -> sparse, length -> 22150, indices -> List(0, 28, 32, 54, 69, 5889), values -> List(1.0, 1.0, 1.0, 1.0, 1.0, 1.0))</td><td>Map(vectorType -> dense, length -> 2, values -> List(-39.330059906042095, -41.100459403926244))</td><td>Map(vectorType -> dense, length -> 2, values -> List(0.8545073454889859, 0.145492654511014))</td><td>0.0</td></tr><tr><td>Broadband plan 'a massive broken promise' http://tinyurl.com/dcuc33 via www.diigo.com/~tautao Still waiting for broadband we are </td><td>2009-04-07T05:22:23.000+0000</td><td>0.0</td><td>broadband plan 'a massive broken promise'  via www.diigo.com/~tautao still waiting for broadband we are </td><td>List(broadband, plan, a, massive, broken, promise, via, www, diigo, com, tautao, still, waiting, for, broadband, we, are)</td><td>List(broadband, plan, massive, broken, promise, via, www, diigo, com, tautao, still, waiting, broadband)</td><td>Map(vectorType -> sparse, length -> 22150, indices -> List(23, 196, 220, 408, 605, 619, 654, 1247, 1760, 4902), values -> List(1.0, 1.0, 1.0, 1.0, 1.0, 1.0, 1.0, 1.0, 1.0, 2.0))</td><td>Map(vectorType -> dense, length -> 2, values -> List(-94.68715112832625, -94.46002089014645))</td><td>Map(vectorType -> dense, length -> 2, values -> List(0.4434602965922443, 0.5565397034077556))</td><td>1.0</td></tr><tr><td>@localtweeps Wow, tons of replies from you, may have to unfollow so I can see my friends' tweets, you're scrolling the feed a lot. </td><td>2009-04-07T05:22:24.000+0000</td><td>0.0</td><td> wow, tons of replies from you, may have to unfollow so i can see my friends' tweets, you're scrolling the feed a lot. </td><td>List(wow, tons, of, replies, from, you, may, have, to, unfollow, so, i, can, see, my, friends, tweets, you, re, scrolling, the, feed, a, lot)</td><td>List(wow, tons, replies, may, unfollow, see, friends, tweets, re, scrolling, feed, lot)</td><td>Map(vectorType -> sparse, length -> 22150, indices -> List(21, 37, 113, 160, 210, 238, 312, 1516, 1810, 2006, 3221, 12049), values -> List(1.0, 1.0, 1.0, 1.0, 1.0, 1.0, 1.0, 1.0, 1.0, 1.0, 1.0, 1.0))</td><td>Map(vectorType -> dense, length -> 2, values -> List(-99.01728446807668, -97.69027105433028))</td><td>Map(vectorType -> dense, length -> 2, values -> List(0.2096538107156452, 0.7903461892843548))</td><td>1.0</td></tr><tr><td>our duck and chicken are taking wayyy too long to hatch </td><td>2009-04-07T05:22:26.000+0000</td><td>0.0</td><td>our duck and chicken are taking wayyy too long to hatch </td><td>List(our, duck, and, chicken, are, taking, wayyy, too, long, to, hatch)</td><td>List(duck, chicken, taking, wayyy, long, hatch)</td><td>Map(vectorType -> sparse, length -> 22150, indices -> List(88, 334, 807, 3617, 5171, 15785), values -> List(1.0, 1.0, 1.0, 1.0, 1.0, 1.0))</td><td>Map(vectorType -> dense, length -> 2, values -> List(-57.06153750552849, -57.40397318416473))</td><td>Map(vectorType -> dense, length -> 2, values -> List(0.5847820568037502, 0.4152179431962499))</td><td>0.0</td></tr><tr><td>Put vacation photos online a few yrs ago. PC crashed, and now I forget the name of the site. </td><td>2009-04-07T05:22:30.000+0000</td><td>0.0</td><td>put vacation photos online a few yrs ago. pc crashed, and now i forget the name of the site. </td><td>List(put, vacation, photos, online, a, few, yrs, ago, pc, crashed, and, now, i, forget, the, name, of, the, site)</td><td>List(put, vacation, photos, online, yrs, ago, pc, crashed, forget, name, site)</td><td>Map(vectorType -> sparse, length -> 22150, indices -> List(242, 344, 361, 415, 462, 631, 712, 779, 985, 1801, 1974), values -> List(1.0, 1.0, 1.0, 1.0, 1.0, 1.0, 1.0, 1.0, 1.0, 1.0, 1.0))</td><td>Map(vectorType -> dense, length -> 2, values -> List(-91.8024039616064, -92.80765103824079))</td><td>Map(vectorType -> dense, length -> 2, values -> List(0.7320889649250577, 0.26791103507494235))</td><td>0.0</td></tr><tr><td>I need a hug </td><td>2009-04-07T05:22:32.000+0000</td><td>0.0</td><td>i need a hug </td><td>List(i, need, a, hug)</td><td>List(need, hug)</td><td>Map(vectorType -> sparse, length -> 22150, indices -> List(35, 815), values -> List(1.0, 1.0))</td><td>Map(vectorType -> dense, length -> 2, values -> List(-14.601759941781173, -15.43562112134421))</td><td>Map(vectorType -> dense, length -> 2, values -> List(0.6971707364117425, 0.30282926358825757))</td><td>0.0</td></tr><tr><td>@andywana Not sure what they are, only that they are PoS! As much as I want to, I dont think can trade away company assets sorry andy! </td><td>2009-04-07T05:22:37.000+0000</td><td>0.0</td><td> not sure what they are, only that they are pos! as much as i want to, i dont think can trade away company assets sorry andy! </td><td>List(not, sure, what, they, are, only, that, they, are, pos, as, much, as, i, want, to, i, dont, think, can, trade, away, company, assets, sorry, andy)</td><td>List(sure, pos, much, want, dont, think, trade, away, company, assets, sorry, andy)</td><td>Map(vectorType -> sparse, length -> 22150, indices -> List(27, 28, 33, 54, 83, 109, 139, 897, 1705, 3070, 11465, 17287), values -> List(1.0, 1.0, 1.0, 1.0, 1.0, 1.0, 1.0, 1.0, 1.0, 1.0, 1.0, 1.0))</td><td>Map(vectorType -> dense, length -> 2, values -> List(-95.69081835080424, -98.92576802770944))</td><td>Map(vectorType -> dense, length -> 2, values -> List(0.9621285185682356, 0.03787148143176436))</td><td>0.0</td></tr><tr><td>@oanhLove I hate when that happens... </td><td>2009-04-07T05:22:47.000+0000</td><td>0.0</td><td> i hate when that happens... </td><td>List(i, hate, when, that, happens)</td><td>List(hate, happens)</td><td>Map(vectorType -> sparse, length -> 22150, indices -> List(73, 855), values -> List(1.0, 1.0))</td><td>Map(vectorType -> dense, length -> 2, values -> List(-14.995789425682137, -17.060896365091757))</td><td>Map(vectorType -> dense, length -> 2, values -> List(0.887465213706312, 0.11253478629368799))</td><td>0.0</td></tr><tr><td>I have a sad feeling that Dallas is not going to show up  I gotta say though, you'd think more shows would use music from the game. mmm</td><td>2009-04-07T05:22:47.000+0000</td><td>0.0</td><td>i have a sad feeling that dallas is not going to show up  i gotta say though, you'd think more shows would use music from the game. mmm</td><td>List(i, have, a, sad, feeling, that, dallas, is, not, going, to, show, up, i, gotta, say, though, you, d, think, more, shows, would, use, music, from, the, game, mmm)</td><td>List(sad, feeling, dallas, going, show, gotta, say, though, d, think, shows, use, music, game, mmm)</td><td>Map(vectorType -> sparse, length -> 22150, indices -> List(10, 28, 46, 60, 72, 95, 99, 106, 200, 208, 215, 253, 726, 1050, 2013), values -> List(1.0, 1.0, 1.0, 1.0, 1.0, 1.0, 1.0, 1.0, 1.0, 1.0, 1.0, 1.0, 1.0, 1.0, 1.0))</td><td>Map(vectorType -> dense, length -> 2, values -> List(-104.82621847968404, -107.46551148006617))</td><td>Map(vectorType -> dense, length -> 2, values -> List(0.9333479957947036, 0.06665200420529649))</td><td>0.0</td></tr><tr><td>Ugh....92 degrees tomorrow </td><td>2009-04-07T05:22:49.000+0000</td><td>0.0</td><td>ugh....92 degrees tomorrow </td><td>List(ugh, 92, degrees, tomorrow)</td><td>List(ugh, 92, degrees, tomorrow)</td><td>Map(vectorType -> sparse, length -> 22150, indices -> List(39, 188, 1612, 7886), values -> List(1.0, 1.0, 1.0, 1.0))</td><td>Map(vectorType -> dense, length -> 2, values -> List(-33.58755268013489, -36.33678213623261))</td><td>Map(vectorType -> dense, length -> 2, values -> List(0.9398698176459972, 0.06013018235400278))</td><td>0.0</td></tr><tr><td>Where did u move to?  I thought u were already in sd. ?? Hmmm. Random u found me. Glad to hear yer doing well.</td><td>2009-04-07T05:22:49.000+0000</td><td>0.0</td><td>where did u move to?  i thought u were already in sd. ?? hmmm. random u found me. glad to hear yer doing well.</td><td>List(where, did, u, move, to, i, thought, u, were, already, in, sd, hmmm, random, u, found, me, glad, to, hear, yer, doing, well)</td><td>List(u, move, thought, u, already, sd, hmmm, random, u, found, glad, hear, yer, well)</td><td>Map(vectorType -> sparse, length -> 22150, indices -> List(15, 25, 111, 159, 170, 189, 225, 498, 829, 903, 2966, 3715), values -> List(3.0, 1.0, 1.0, 1.0, 1.0, 1.0, 1.0, 1.0, 1.0, 1.0, 1.0, 1.0))</td><td>Map(vectorType -> dense, length -> 2, values -> List(-104.42415553218427, -101.73942351981599))</td><td>Map(vectorType -> dense, length -> 2, values -> List(0.06388031919010288, 0.9361196808098972))</td><td>1.0</td></tr><tr><td>@BatManYNG I miss my ps3, it's out of commission  Wutcha playing? Have you copped 'Blood On The Sand'?</td><td>2009-04-07T05:22:52.000+0000</td><td>0.0</td><td> i miss my ps3, it's out of commission  wutcha playing? have you copped 'blood on the sand'?</td><td>List(i, miss, my, ps3, it, s, out, of, commission, wutcha, playing, have, you, copped, blood, on, the, sand)</td><td>List(miss, ps3, commission, wutcha, playing, copped, blood, sand)</td><td>Map(vectorType -> sparse, length -> 22150, indices -> List(34, 281, 986, 2551, 3704, 8336, 19779), values -> List(1.0, 1.0, 1.0, 1.0, 1.0, 1.0, 1.0))</td><td>Map(vectorType -> dense, length -> 2, values -> List(-66.74176521275076, -69.06430476380513))</td><td>Map(vectorType -> dense, length -> 2, values -> List(0.9107266308770997, 0.08927336912290024))</td><td>0.0</td></tr><tr><td>just leaving the parking lot of work! </td><td>2009-04-07T05:22:55.000+0000</td><td>0.0</td><td>just leaving the parking lot of work! </td><td>List(just, leaving, the, parking, lot, of, work)</td><td>List(leaving, parking, lot, work)</td><td>Map(vectorType -> sparse, length -> 22150, indices -> List(8, 210, 371, 2435), values -> List(1.0, 1.0, 1.0, 1.0))</td><td>Map(vectorType -> dense, length -> 2, values -> List(-29.621550227959375, -31.90812977139354))</td><td>Map(vectorType -> dense, length -> 2, values -> List(0.9077594467752744, 0.09224055322472552))</td><td>0.0</td></tr><tr><td>The Life is cool. But not for Me. </td><td>2009-04-07T05:23:03.000+0000</td><td>0.0</td><td>the life is cool. but not for me. </td><td>List(the, life, is, cool, but, not, for, me)</td><td>List(life, cool)</td><td>Map(vectorType -> sparse, length -> 22150, indices -> List(101, 115), values -> List(1.0, 1.0))</td><td>Map(vectorType -> dense, length -> 2, values -> List(-14.587329572859055, -13.406206856654881))</td><td>Map(vectorType -> dense, length -> 2, values -> List(0.23485038892590307, 0.7651496110740968))</td><td>1.0</td></tr><tr><td>Sadly though, I've never gotten to experience the post coitus cigarette before, and now I never will. </td><td>2009-04-07T05:23:08.000+0000</td><td>0.0</td><td>sadly though, i've never gotten to experience the post coitus cigarette before, and now i never will. </td><td>List(sadly, though, i, ve, never, gotten, to, experience, the, post, coitus, cigarette, before, and, now, i, never, will)</td><td>List(sadly, though, ve, never, gotten, experience, post, coitus, cigarette, never)</td><td>Map(vectorType -> sparse, length -> 22150, indices -> List(53, 60, 85, 351, 735, 1271, 1281, 6355), values -> List(1.0, 1.0, 2.0, 1.0, 1.0, 1.0, 1.0, 1.0))</td><td>Map(vectorType -> dense, length -> 2, values -> List(-70.01879934702797, -73.91973084001808))</td><td>Map(vectorType -> dense, length -> 2, values -> List(0.9801778006012015, 0.01982219939879851))</td><td>0.0</td></tr><tr><td>I had such a nice day. Too bad the rain comes in tomorrow at 5am </td><td>2009-04-07T05:23:09.000+0000</td><td>0.0</td><td>i had such a nice day. too bad the rain comes in tomorrow at 5am </td><td>List(i, had, such, a, nice, day, too, bad, the, rain, comes, in, tomorrow, at, 5am)</td><td>List(nice, day, bad, rain, comes, tomorrow, 5am)</td><td>Map(vectorType -> sparse, length -> 22150, indices -> List(2, 39, 51, 62, 166, 542, 2105), values -> List(1.0, 1.0, 1.0, 1.0, 1.0, 1.0, 1.0))</td><td>Map(vectorType -> dense, length -> 2, values -> List(-47.75981050923782, -49.844712877586424))</td><td>Map(vectorType -> dense, length -> 2, values -> List(0.889427085513147, 0.11057291448685304))</td><td>0.0</td></tr><tr><td>@Starrbby too bad I won't be around I lost my job and can't even pay my phone bill lmao aw shucks </td><td>2009-04-07T05:23:15.000+0000</td><td>0.0</td><td> too bad i won't be around i lost my job and can't even pay my phone bill lmao aw shucks </td><td>List(too, bad, i, won, t, be, around, i, lost, my, job, and, can, t, even, pay, my, phone, bill, lmao, aw, shucks)</td><td>List(bad, won, around, lost, job, even, pay, phone, bill, lmao, aw, shucks)</td><td>Map(vectorType -> sparse, length -> 22150, indices -> List(51, 75, 119, 126, 155, 212, 228, 438, 458, 459, 1464, 4986), values -> List(1.0, 1.0, 1.0, 1.0, 1.0, 1.0, 1.0, 1.0, 1.0, 1.0, 1.0, 1.0))</td><td>Map(vectorType -> dense, length -> 2, values -> List(-89.8151209070522, -94.5624963314274))</td><td>Map(vectorType -> dense, length -> 2, values -> List(0.9914001666146844, 0.008599833385315525))</td><td>0.0</td></tr><tr><td>Damm back to school tomorrow </td><td>2009-04-07T05:23:23.000+0000</td><td>0.0</td><td>damm back to school tomorrow </td><td>List(damm, back, to, school, tomorrow)</td><td>List(damm, back, school, tomorrow)</td><td>Map(vectorType -> sparse, length -> 22150, indices -> List(14, 39, 70, 7604), values -> List(1.0, 1.0, 1.0, 1.0))</td><td>Map(vectorType -> dense, length -> 2, values -> List(-28.607313077935537, -31.257384545400832))</td><td>Map(vectorType -> dense, length -> 2, values -> List(0.9340153952307946, 0.0659846047692054))</td><td>0.0</td></tr><tr><td>Mo jobs, no money.  how in the hell is min wage here 4 f'n clams an hour?</td><td>2009-04-07T05:23:28.000+0000</td><td>0.0</td><td>mo jobs, no money.  how in the hell is min wage here 4 f'n clams an hour?</td><td>List(mo, jobs, no, money, how, in, the, hell, is, min, wage, here, 4, f, n, clams, an, hour)</td><td>List(mo, jobs, money, hell, min, wage, 4, f, n, clams, hour)</td><td>Map(vectorType -> sparse, length -> 22150, indices -> List(77, 138, 273, 314, 355, 786, 1102, 1511, 1850, 14202), values -> List(1.0, 1.0, 1.0, 1.0, 1.0, 1.0, 1.0, 1.0, 1.0, 1.0))</td><td>Map(vectorType -> dense, length -> 2, values -> List(-83.55727390105132, -86.85039593660188))</td><td>Map(vectorType -> dense, length -> 2, values -> List(0.9641921009110325, 0.035807899088967574))</td><td>0.0</td></tr><tr><td>@katortiz  Not forever... See you soon!</td><td>2009-04-07T05:23:28.000+0000</td><td>0.0</td><td>  not forever... see you soon!</td><td>List(not, forever, see, you, soon)</td><td>List(forever, see, soon)</td><td>Map(vectorType -> sparse, length -> 22150, indices -> List(21, 86, 714), values -> List(1.0, 1.0, 1.0))</td><td>Map(vectorType -> dense, length -> 2, values -> List(-21.068480539441936, -20.96657925654916))</td><td>Map(vectorType -> dense, length -> 2, values -> List(0.4745467007815471, 0.525453299218453))</td><td>1.0</td></tr><tr><td>@Lt_Algonquin agreed, I saw the failwhale allllll day today. </td><td>2009-04-07T05:23:30.000+0000</td><td>0.0</td><td> agreed, i saw the failwhale allllll day today. </td><td>List(agreed, i, saw, the, failwhale, allllll, day, today)</td><td>List(agreed, saw, failwhale, allllll, day, today)</td><td>Map(vectorType -> sparse, length -> 22150, indices -> List(2, 7, 193, 1986, 8873, 21941), values -> List(1.0, 1.0, 1.0, 1.0, 1.0, 1.0))</td><td>Map(vectorType -> dense, length -> 2, values -> List(-52.38369118723639, -52.05538758611915))</td><td>Map(vectorType -> dense, length -> 2, values -> List(0.41865344029547447, 0.5813465597045255))</td><td>1.0</td></tr></tbody></table></div>"
      ]
     },
     "metadata": {
      "application/vnd.databricks.v1+output": {
       "addedWidgets": {},
       "aggData": [],
       "aggError": "",
       "aggOverflow": false,
       "aggSchema": [],
       "aggSeriesLimitReached": false,
       "aggType": "",
       "arguments": {},
       "columnCustomDisplayInfos": {},
       "data": [
        [
         "@switchfoot http://twitpic.com/2y1zl - Awww, that's a bummer.  You shoulda got David Carr of Third Day to do it. ;D",
         "2009-04-07T05:19:45.000+0000",
         0.0,
         "  - awww, that's a bummer.  you shoulda got david carr of third day to do it. ;d",
         [
          "awww",
          "that",
          "s",
          "a",
          "bummer",
          "you",
          "shoulda",
          "got",
          "david",
          "carr",
          "of",
          "third",
          "day",
          "to",
          "do",
          "it",
          "d"
         ],
         [
          "awww",
          "bummer",
          "shoulda",
          "got",
          "david",
          "carr",
          "third",
          "day",
          "d"
         ],
         {
          "indices": [
           2,
           11,
           72,
           349,
           737,
           1074,
           1787,
           3377,
           9539
          ],
          "length": 22150,
          "values": [
           1.0,
           1.0,
           1.0,
           1.0,
           1.0,
           1.0,
           1.0,
           1.0,
           1.0
          ],
          "vectorType": "sparse"
         },
         {
          "length": 2,
          "values": [
           -73.10331329092534,
           -75.76040428183782
          ],
          "vectorType": "dense"
         },
         {
          "length": 2,
          "values": [
           0.9344466971628318,
           0.06555330283716827
          ],
          "vectorType": "dense"
         },
         0.0
        ],
        [
         "is upset that he can't update his Facebook by texting it... and might cry as a result  School today also. Blah!",
         "2009-04-07T05:19:49.000+0000",
         0.0,
         "is upset that he can't update his facebook by texting it... and might cry as a result  school today also. blah!",
         [
          "is",
          "upset",
          "that",
          "he",
          "can",
          "t",
          "update",
          "his",
          "facebook",
          "by",
          "texting",
          "it",
          "and",
          "might",
          "cry",
          "as",
          "a",
          "result",
          "school",
          "today",
          "also",
          "blah"
         ],
         [
          "upset",
          "update",
          "facebook",
          "texting",
          "might",
          "cry",
          "result",
          "school",
          "today",
          "also",
          "blah"
         ],
         {
          "indices": [
           7,
           70,
           174,
           197,
           425,
           429,
           440,
           682,
           1018,
           1919,
           2240
          ],
          "length": 22150,
          "values": [
           1.0,
           1.0,
           1.0,
           1.0,
           1.0,
           1.0,
           1.0,
           1.0,
           1.0,
           1.0,
           1.0
          ],
          "vectorType": "sparse"
         },
         {
          "length": 2,
          "values": [
           -84.59414501008106,
           -89.98197577429755
          ],
          "vectorType": "dense"
         },
         {
          "length": 2,
          "values": [
           0.9954489268877933,
           0.004551073112206787
          ],
          "vectorType": "dense"
         },
         0.0
        ],
        [
         "@Kenichan I dived many times for the ball. Managed to save 50%  The rest go out of bounds",
         "2009-04-07T05:19:53.000+0000",
         0.0,
         " i dived many times for the ball. managed to save 50%  the rest go out of bounds",
         [
          "i",
          "dived",
          "many",
          "times",
          "for",
          "the",
          "ball",
          "managed",
          "to",
          "save",
          "50",
          "the",
          "rest",
          "go",
          "out",
          "of",
          "bounds"
         ],
         [
          "dived",
          "many",
          "times",
          "ball",
          "managed",
          "save",
          "50",
          "rest",
          "go",
          "bounds"
         ],
         {
          "indices": [
           5,
           216,
           256,
           370,
           800,
           981,
           1171,
           1578
          ],
          "length": 22150,
          "values": [
           1.0,
           1.0,
           1.0,
           1.0,
           1.0,
           1.0,
           1.0,
           1.0
          ],
          "vectorType": "sparse"
         },
         {
          "length": 2,
          "values": [
           -63.04542955499372,
           -63.78005141899811
          ],
          "vectorType": "dense"
         },
         {
          "length": 2,
          "values": [
           0.67581868825521,
           0.32418131174479003
          ],
          "vectorType": "dense"
         },
         0.0
        ],
        [
         "my whole body feels itchy and like its on fire ",
         "2009-04-07T05:19:57.000+0000",
         0.0,
         "my whole body feels itchy and like its on fire ",
         [
          "my",
          "whole",
          "body",
          "feels",
          "itchy",
          "and",
          "like",
          "its",
          "on",
          "fire"
         ],
         [
          "whole",
          "body",
          "feels",
          "itchy",
          "like",
          "fire"
         ],
         {
          "indices": [
           4,
           331,
           381,
           705,
           1043,
           2814
          ],
          "length": 22150,
          "values": [
           1.0,
           1.0,
           1.0,
           1.0,
           1.0,
           1.0
          ],
          "vectorType": "sparse"
         },
         {
          "length": 2,
          "values": [
           -47.0100517499005,
           -50.54793735282175
          ],
          "vectorType": "dense"
         },
         {
          "length": 2,
          "values": [
           0.9717467190554288,
           0.02825328094457132
          ],
          "vectorType": "dense"
         },
         0.0
        ],
        [
         "@nationwideclass no, it's not behaving at all. i'm mad. why am i here? because I can't see you all over there. ",
         "2009-04-07T05:19:57.000+0000",
         0.0,
         " no, it's not behaving at all. i'm mad. why am i here? because i can't see you all over there. ",
         [
          "no",
          "it",
          "s",
          "not",
          "behaving",
          "at",
          "all",
          "i",
          "m",
          "mad",
          "why",
          "am",
          "i",
          "here",
          "because",
          "i",
          "can",
          "t",
          "see",
          "you",
          "all",
          "over",
          "there"
         ],
         [
          "behaving",
          "m",
          "mad",
          "see"
         ],
         {
          "indices": [
           0,
           21,
           493,
           10190
          ],
          "length": 22150,
          "values": [
           1.0,
           1.0,
           1.0,
           1.0
          ],
          "vectorType": "sparse"
         },
         {
          "length": 2,
          "values": [
           -30.130673621754106,
           -31.075616317275248
          ],
          "vectorType": "dense"
         },
         {
          "length": 2,
          "values": [
           0.720096976808941,
           0.27990302319105903
          ],
          "vectorType": "dense"
         },
         0.0
        ],
        [
         "@Kwesidei not the whole crew ",
         "2009-04-07T05:20:00.000+0000",
         0.0,
         " not the whole crew ",
         [
          "not",
          "the",
          "whole",
          "crew"
         ],
         [
          "whole",
          "crew"
         ],
         {
          "indices": [
           331,
           2083
          ],
          "length": 22150,
          "values": [
           1.0,
           1.0
          ],
          "vectorType": "sparse"
         },
         {
          "length": 2,
          "values": [
           -17.983945382297364,
           -17.91495730669582
          ],
          "vectorType": "dense"
         },
         {
          "length": 2,
          "values": [
           0.48275981823545605,
           0.517240181764544
          ],
          "vectorType": "dense"
         },
         1.0
        ],
        [
         "Need a hug ",
         "2009-04-07T05:20:03.000+0000",
         0.0,
         "need a hug ",
         [
          "need",
          "a",
          "hug"
         ],
         [
          "need",
          "hug"
         ],
         {
          "indices": [
           35,
           815
          ],
          "length": 22150,
          "values": [
           1.0,
           1.0
          ],
          "vectorType": "sparse"
         },
         {
          "length": 2,
          "values": [
           -14.601759941781173,
           -15.43562112134421
          ],
          "vectorType": "dense"
         },
         {
          "length": 2,
          "values": [
           0.6971707364117425,
           0.30282926358825757
          ],
          "vectorType": "dense"
         },
         0.0
        ],
        [
         "@LOLTrish hey  long time no see! Yes.. Rains a bit ,only a bit  LOL , I'm fine thanks , how's you ?",
         "2009-04-07T05:20:03.000+0000",
         0.0,
         " hey  long time no see! yes.. rains a bit ,only a bit  lol , i'm fine thanks , how's you ?",
         [
          "hey",
          "long",
          "time",
          "no",
          "see",
          "yes",
          "rains",
          "a",
          "bit",
          "only",
          "a",
          "bit",
          "lol",
          "i",
          "m",
          "fine",
          "thanks",
          "how",
          "s",
          "you"
         ],
         [
          "hey",
          "long",
          "time",
          "see",
          "yes",
          "rains",
          "bit",
          "bit",
          "lol",
          "m",
          "fine",
          "thanks"
         ],
         {
          "indices": [
           0,
           12,
           13,
           21,
           31,
           76,
           78,
           88,
           162,
           423,
           2560
          ],
          "length": 22150,
          "values": [
           1.0,
           1.0,
           1.0,
           1.0,
           1.0,
           1.0,
           1.0,
           1.0,
           2.0,
           1.0,
           1.0
          ],
          "vectorType": "sparse"
         },
         {
          "length": 2,
          "values": [
           -80.42899760997152,
           -76.07727296338678
          ],
          "vectorType": "dense"
         },
         {
          "length": 2,
          "values": [
           0.012720671663382397,
           0.9872793283366176
          ],
          "vectorType": "dense"
         },
         1.0
        ],
        [
         "@Tatiana_K nope they didn't have it ",
         "2009-04-07T05:20:05.000+0000",
         0.0,
         " nope they didn't have it ",
         [
          "nope",
          "they",
          "didn",
          "t",
          "have",
          "it"
         ],
         [
          "nope",
          "didn"
         ],
         {
          "indices": [
           69,
           691
          ],
          "length": 22150,
          "values": [
           1.0,
           1.0
          ],
          "vectorType": "sparse"
         },
         {
          "length": 2,
          "values": [
           -14.79513117152748,
           -16.11864752311122
          ],
          "vectorType": "dense"
         },
         {
          "length": 2,
          "values": [
           0.7897661408990221,
           0.21023385910097786
          ],
          "vectorType": "dense"
         },
         0.0
        ],
        [
         "@twittera que me muera ? ",
         "2009-04-07T05:20:09.000+0000",
         0.0,
         " que me muera ? ",
         [
          "que",
          "me",
          "muera"
         ],
         [
          "que",
          "muera"
         ],
         {
          "indices": [
           2372
          ],
          "length": 22150,
          "values": [
           1.0
          ],
          "vectorType": "sparse"
         },
         {
          "length": 2,
          "values": [
           -10.504218124777754,
           -10.58930814153326
          ],
          "vectorType": "dense"
         },
         {
          "length": 2,
          "values": [
           0.5212596785128979,
           0.4787403214871022
          ],
          "vectorType": "dense"
         },
         0.0
        ],
        [
         "spring break in plain city... it's snowing ",
         "2009-04-07T05:20:16.000+0000",
         0.0,
         "spring break in plain city... it's snowing ",
         [
          "spring",
          "break",
          "in",
          "plain",
          "city",
          "it",
          "s",
          "snowing"
         ],
         [
          "spring",
          "break",
          "plain",
          "city",
          "snowing"
         ],
         {
          "indices": [
           419,
           506,
           1522,
           3030,
           6471
          ],
          "length": 22150,
          "values": [
           1.0,
           1.0,
           1.0,
           1.0,
           1.0
          ],
          "vectorType": "sparse"
         },
         {
          "length": 2,
          "values": [
           -46.7880004887926,
           -47.98272597420815
          ],
          "vectorType": "dense"
         },
         {
          "length": 2,
          "values": [
           0.7675851480144241,
           0.23241485198557588
          ],
          "vectorType": "dense"
         },
         0.0
        ],
        [
         "I just re-pierced my ears ",
         "2009-04-07T05:20:17.000+0000",
         0.0,
         "i just re-pierced my ears ",
         [
          "i",
          "just",
          "re",
          "pierced",
          "my",
          "ears"
         ],
         [
          "re",
          "pierced",
          "ears"
         ],
         {
          "indices": [
           37,
           1774,
           6085
          ],
          "length": 22150,
          "values": [
           1.0,
           1.0,
           1.0
          ],
          "vectorType": "sparse"
         },
         {
          "length": 2,
          "values": [
           -27.4042325196962,
           -26.87731566017431
          ],
          "vectorType": "dense"
         },
         {
          "length": 2,
          "values": [
           0.37123626821754374,
           0.6287637317824564
          ],
          "vectorType": "dense"
         },
         1.0
        ],
        [
         "@caregiving I couldn't bear to watch it.  And I thought the UA loss was embarrassing . . . . .",
         "2009-04-07T05:20:19.000+0000",
         0.0,
         " i couldn't bear to watch it.  and i thought the ua loss was embarrassing . . . . .",
         [
          "i",
          "couldn",
          "t",
          "bear",
          "to",
          "watch",
          "it",
          "and",
          "i",
          "thought",
          "the",
          "ua",
          "loss",
          "was",
          "embarrassing"
         ],
         [
          "couldn",
          "bear",
          "watch",
          "thought",
          "ua",
          "loss",
          "embarrassing"
         ],
         {
          "indices": [
           103,
           159,
           384,
           1501,
           1716,
           5172,
           17375
          ],
          "length": 22150,
          "values": [
           1.0,
           1.0,
           1.0,
           1.0,
           1.0,
           1.0,
           1.0
          ],
          "vectorType": "sparse"
         },
         {
          "length": 2,
          "values": [
           -63.08636095156594,
           -66.34672359556868
          ],
          "vectorType": "dense"
         },
         {
          "length": 2,
          "values": [
           0.9630436995639282,
           0.036956300436071836
          ],
          "vectorType": "dense"
         },
         0.0
        ],
        [
         "@octolinz16 It it counts, idk why I did either. you never talk to me anymore ",
         "2009-04-07T05:20:19.000+0000",
         0.0,
         " it it counts, idk why i did either. you never talk to me anymore ",
         [
          "it",
          "it",
          "counts",
          "idk",
          "why",
          "i",
          "did",
          "either",
          "you",
          "never",
          "talk",
          "to",
          "me",
          "anymore"
         ],
         [
          "counts",
          "idk",
          "either",
          "never",
          "talk",
          "anymore"
         ],
         {
          "indices": [
           85,
           239,
           302,
           366,
           718,
           4587
          ],
          "length": 22150,
          "values": [
           1.0,
           1.0,
           1.0,
           1.0,
           1.0,
           1.0
          ],
          "vectorType": "sparse"
         },
         {
          "length": 2,
          "values": [
           -47.68318207365223,
           -50.52660845186502
          ],
          "vectorType": "dense"
         },
         {
          "length": 2,
          "values": [
           0.9449778875183082,
           0.055022112481691796
          ],
          "vectorType": "dense"
         },
         0.0
        ],
        [
         "@smarrison i would've been the first, but i didn't have a gun.    not really though, zac snyder's just a doucheclown.",
         "2009-04-07T05:20:20.000+0000",
         0.0,
         " i would've been the first, but i didn't have a gun.    not really though, zac snyder's just a doucheclown.",
         [
          "i",
          "would",
          "ve",
          "been",
          "the",
          "first",
          "but",
          "i",
          "didn",
          "t",
          "have",
          "a",
          "gun",
          "not",
          "really",
          "though",
          "zac",
          "snyder",
          "s",
          "just",
          "a",
          "doucheclown"
         ],
         [
          "ve",
          "first",
          "didn",
          "gun",
          "really",
          "though",
          "zac",
          "snyder",
          "doucheclown"
         ],
         {
          "indices": [
           19,
           53,
           60,
           69,
           92,
           3722,
           3933
          ],
          "length": 22150,
          "values": [
           1.0,
           1.0,
           1.0,
           1.0,
           1.0,
           1.0,
           1.0
          ],
          "vectorType": "sparse"
         },
         {
          "length": 2,
          "values": [
           -52.12640171724252,
           -52.651449569644264
          ],
          "vectorType": "dense"
         },
         {
          "length": 2,
          "values": [
           0.6283273634352726,
           0.37167263656472743
          ],
          "vectorType": "dense"
         },
         0.0
        ],
        [
         "@iamjazzyfizzle I wish I got to watch it with you!! I miss you and @iamlilnicki  how was the premiere?!",
         "2009-04-07T05:20:20.000+0000",
         0.0,
         " i wish i got to watch it with you!! i miss you and   how was the premiere?!",
         [
          "i",
          "wish",
          "i",
          "got",
          "to",
          "watch",
          "it",
          "with",
          "you",
          "i",
          "miss",
          "you",
          "and",
          "how",
          "was",
          "the",
          "premiere"
         ],
         [
          "wish",
          "got",
          "watch",
          "miss",
          "premiere"
         ],
         {
          "indices": [
           11,
           34,
           48,
           103,
           3274
          ],
          "length": 22150,
          "values": [
           1.0,
           1.0,
           1.0,
           1.0,
           1.0
          ],
          "vectorType": "sparse"
         },
         {
          "length": 2,
          "values": [
           -33.58623171675259,
           -36.44301573679873
          ],
          "vectorType": "dense"
         },
         {
          "length": 2,
          "values": [
           0.9456682998493235,
           0.054331700150676426
          ],
          "vectorType": "dense"
         },
         0.0
        ],
        [
         "Hollis' death scene will hurt me severely to watch on film  wry is directors cut not out now?",
         "2009-04-07T05:20:22.000+0000",
         0.0,
         "hollis' death scene will hurt me severely to watch on film  wry is directors cut not out now?",
         [
          "hollis",
          "death",
          "scene",
          "will",
          "hurt",
          "me",
          "severely",
          "to",
          "watch",
          "on",
          "film",
          "wry",
          "is",
          "directors",
          "cut",
          "not",
          "out",
          "now"
         ],
         [
          "hollis",
          "death",
          "scene",
          "hurt",
          "severely",
          "watch",
          "film",
          "wry",
          "directors",
          "cut"
         ],
         {
          "indices": [
           103,
           382,
           537,
           893,
           958,
           2025,
           10382,
           15296
          ],
          "length": 22150,
          "values": [
           1.0,
           1.0,
           1.0,
           1.0,
           1.0,
           1.0,
           1.0,
           1.0
          ],
          "vectorType": "sparse"
         },
         {
          "length": 2,
          "values": [
           -73.83947553776821,
           -77.144084392845
          ],
          "vectorType": "dense"
         },
         {
          "length": 2,
          "values": [
           0.9645865835658037,
           0.03541341643419628
          ],
          "vectorType": "dense"
         },
         0.0
        ],
        [
         "about to file taxes ",
         "2009-04-07T05:20:25.000+0000",
         0.0,
         "about to file taxes ",
         [
          "about",
          "to",
          "file",
          "taxes"
         ],
         [
          "file",
          "taxes"
         ],
         {
          "indices": [
           2537,
           6799
          ],
          "length": 22150,
          "values": [
           1.0,
           1.0
          ],
          "vectorType": "sparse"
         },
         {
          "length": 2,
          "values": [
           -21.347550420986927,
           -22.85677499878239
          ],
          "vectorType": "dense"
         },
         {
          "length": 2,
          "values": [
           0.8189462608861052,
           0.18105373911389483
          ],
          "vectorType": "dense"
         },
         0.0
        ],
        [
         "@LettyA ahh ive always wanted to see rent  love the soundtrack!!",
         "2009-04-07T05:20:31.000+0000",
         0.0,
         " ahh ive always wanted to see rent  love the soundtrack!!",
         [
          "ahh",
          "ive",
          "always",
          "wanted",
          "to",
          "see",
          "rent",
          "love",
          "the",
          "soundtrack"
         ],
         [
          "ahh",
          "ive",
          "always",
          "wanted",
          "see",
          "rent",
          "love",
          "soundtrack"
         ],
         {
          "indices": [
           9,
           21,
           108,
           269,
           556,
           593,
           2449,
           3724
          ],
          "length": 22150,
          "values": [
           1.0,
           1.0,
           1.0,
           1.0,
           1.0,
           1.0,
           1.0,
           1.0
          ],
          "vectorType": "sparse"
         },
         {
          "length": 2,
          "values": [
           -62.84724245931416,
           -61.61108456789215
          ],
          "vectorType": "dense"
         },
         {
          "length": 2,
          "values": [
           0.2251054683287952,
           0.7748945316712049
          ],
          "vectorType": "dense"
         },
         1.0
        ],
        [
         "@FakerPattyPattz Oh dear. Were you drinking out of the forgotten table drinks? ",
         "2009-04-07T05:20:34.000+0000",
         0.0,
         " oh dear. were you drinking out of the forgotten table drinks? ",
         [
          "oh",
          "dear",
          "were",
          "you",
          "drinking",
          "out",
          "of",
          "the",
          "forgotten",
          "table",
          "drinks"
         ],
         [
          "oh",
          "dear",
          "drinking",
          "forgotten",
          "table",
          "drinks"
         ],
         {
          "indices": [
           32,
           516,
           649,
           1371,
           1740,
           2583
          ],
          "length": 22150,
          "values": [
           1.0,
           1.0,
           1.0,
           1.0,
           1.0,
           1.0
          ],
          "vectorType": "sparse"
         },
         {
          "length": 2,
          "values": [
           -51.473522181498616,
           -51.10665169349559
          ],
          "vectorType": "dense"
         },
         {
          "length": 2,
          "values": [
           0.4092974378830776,
           0.5907025621169225
          ],
          "vectorType": "dense"
         },
         1.0
        ],
        [
         "@alydesigns i was out most of the day so didn't get much done ",
         "2009-04-07T05:20:37.000+0000",
         0.0,
         " i was out most of the day so didn't get much done ",
         [
          "i",
          "was",
          "out",
          "most",
          "of",
          "the",
          "day",
          "so",
          "didn",
          "t",
          "get",
          "much",
          "done"
         ],
         [
          "day",
          "didn",
          "get",
          "much",
          "done"
         ],
         {
          "indices": [
           2,
           3,
           33,
           69,
           104
          ],
          "length": 22150,
          "values": [
           1.0,
           1.0,
           1.0,
           1.0,
           1.0
          ],
          "vectorType": "sparse"
         },
         {
          "length": 2,
          "values": [
           -28.8318508741337,
           -29.56262781347955
          ],
          "vectorType": "dense"
         },
         {
          "length": 2,
          "values": [
           0.6749757434130903,
           0.3250242565869097
          ],
          "vectorType": "dense"
         },
         0.0
        ],
        [
         "one of my friend called me, and asked to meet with her at Mid Valley today...but i've no time *sigh* ",
         "2009-04-07T05:20:38.000+0000",
         0.0,
         "one of my friend called me, and asked to meet with her at mid valley today...but i've no time *sigh* ",
         [
          "one",
          "of",
          "my",
          "friend",
          "called",
          "me",
          "and",
          "asked",
          "to",
          "meet",
          "with",
          "her",
          "at",
          "mid",
          "valley",
          "today",
          "but",
          "i",
          "ve",
          "no",
          "time",
          "sigh"
         ],
         [
          "one",
          "friend",
          "called",
          "asked",
          "meet",
          "mid",
          "valley",
          "today",
          "ve",
          "time",
          "sigh"
         ],
         {
          "indices": [
           7,
           13,
           16,
           53,
           156,
           363,
           449,
           529,
           926,
           2392,
           3515
          ],
          "length": 22150,
          "values": [
           1.0,
           1.0,
           1.0,
           1.0,
           1.0,
           1.0,
           1.0,
           1.0,
           1.0,
           1.0,
           1.0
          ],
          "vectorType": "sparse"
         },
         {
          "length": 2,
          "values": [
           -81.82096687820665,
           -82.50951781991387
          ],
          "vectorType": "dense"
         },
         {
          "length": 2,
          "values": [
           0.6656444990333269,
           0.33435550096667316
          ],
          "vectorType": "dense"
         },
         0.0
        ],
        [
         "@angry_barista I baked you a cake but I ated it ",
         "2009-04-07T05:20:40.000+0000",
         0.0,
         " i baked you a cake but i ated it ",
         [
          "i",
          "baked",
          "you",
          "a",
          "cake",
          "but",
          "i",
          "ated",
          "it"
         ],
         [
          "baked",
          "cake",
          "ated"
         ],
         {
          "indices": [
           739,
           3218
          ],
          "length": 22150,
          "values": [
           1.0,
           1.0
          ],
          "vectorType": "sparse"
         },
         {
          "length": 2,
          "values": [
           -19.970536770013737,
           -18.91558527436129
          ],
          "vectorType": "dense"
         },
         {
          "length": 2,
          "values": [
           0.25827541189982073,
           0.7417245881001794
          ],
          "vectorType": "dense"
         },
         1.0
        ],
        [
         "this week is not going as i had hoped ",
         "2009-04-07T05:20:40.000+0000",
         0.0,
         "this week is not going as i had hoped ",
         [
          "this",
          "week",
          "is",
          "not",
          "going",
          "as",
          "i",
          "had",
          "hoped"
         ],
         [
          "week",
          "going",
          "hoped"
         ],
         {
          "indices": [
           10,
           68,
           4014
          ],
          "length": 22150,
          "values": [
           1.0,
           1.0,
           1.0
          ],
          "vectorType": "sparse"
         },
         {
          "length": 2,
          "values": [
           -22.198384599963042,
           -23.41338818725584
          ],
          "vectorType": "dense"
         },
         {
          "length": 2,
          "values": [
           0.7711830785691796,
           0.22881692143082039
          ],
          "vectorType": "dense"
         },
         0.0
        ],
        [
         "blagh class at 8 tomorrow ",
         "2009-04-07T05:20:41.000+0000",
         0.0,
         "blagh class at 8 tomorrow ",
         [
          "blagh",
          "class",
          "at",
          "8",
          "tomorrow"
         ],
         [
          "blagh",
          "class",
          "8",
          "tomorrow"
         ],
         {
          "indices": [
           39,
           327,
           328
          ],
          "length": 22150,
          "values": [
           1.0,
           1.0,
           1.0
          ],
          "vectorType": "sparse"
         },
         {
          "length": 2,
          "values": [
           -21.093709383721325,
           -22.103438270668583
          ],
          "vectorType": "dense"
         },
         {
          "length": 2,
          "values": [
           0.7329670886261619,
           0.26703291137383806
          ],
          "vectorType": "dense"
         },
         0.0
        ],
        [
         "I hate when I have to call and wake people up ",
         "2009-04-07T05:20:44.000+0000",
         0.0,
         "i hate when i have to call and wake people up ",
         [
          "i",
          "hate",
          "when",
          "i",
          "have",
          "to",
          "call",
          "and",
          "wake",
          "people",
          "up"
         ],
         [
          "hate",
          "call",
          "wake",
          "people"
         ],
         {
          "indices": [
           71,
           73,
           231,
           436
          ],
          "length": 22150,
          "values": [
           1.0,
           1.0,
           1.0,
           1.0
          ],
          "vectorType": "sparse"
         },
         {
          "length": 2,
          "values": [
           -27.66705346002322,
           -29.848556230606903
          ],
          "vectorType": "dense"
         },
         {
          "length": 2,
          "values": [
           0.8985761122863074,
           0.1014238877136927
          ],
          "vectorType": "dense"
         },
         0.0
        ],
        [
         "Just going to cry myself to sleep after watching Marley and Me.  ",
         "2009-04-07T05:20:50.000+0000",
         0.0,
         "just going to cry myself to sleep after watching marley and me.  ",
         [
          "just",
          "going",
          "to",
          "cry",
          "myself",
          "to",
          "sleep",
          "after",
          "watching",
          "marley",
          "and",
          "me"
         ],
         [
          "going",
          "cry",
          "sleep",
          "watching",
          "marley"
         ],
         {
          "indices": [
           10,
           49,
           64,
           425,
           3233
          ],
          "length": 22150,
          "values": [
           1.0,
           1.0,
           1.0,
           1.0,
           1.0
          ],
          "vectorType": "sparse"
         },
         {
          "length": 2,
          "values": [
           -35.396766285017236,
           -37.889976636999265
          ],
          "vectorType": "dense"
         },
         {
          "length": 2,
          "values": [
           0.9236644675856119,
           0.07633553241438795
          ],
          "vectorType": "dense"
         },
         0.0
        ],
        [
         "im sad now  Miss.Lilly",
         "2009-04-07T05:20:52.000+0000",
         0.0,
         "im sad now  miss.lilly",
         [
          "im",
          "sad",
          "now",
          "miss",
          "lilly"
         ],
         [
          "im",
          "sad",
          "miss",
          "lilly"
         ],
         {
          "indices": [
           18,
           34,
           46,
           8809
          ],
          "length": 22150,
          "values": [
           1.0,
           1.0,
           1.0,
           1.0
          ],
          "vectorType": "sparse"
         },
         {
          "length": 2,
          "values": [
           -28.263085405617076,
           -32.95279876117721
          ],
          "vectorType": "dense"
         },
         {
          "length": 2,
          "values": [
           0.9908943548395848,
           0.009105645160415317
          ],
          "vectorType": "dense"
         },
         0.0
        ],
        [
         "ooooh.... LOL  that leslie.... and ok I won't do it again so leslie won't  get mad again ",
         "2009-04-07T05:20:56.000+0000",
         0.0,
         "ooooh.... lol  that leslie.... and ok i won't do it again so leslie won't  get mad again ",
         [
          "ooooh",
          "lol",
          "that",
          "leslie",
          "and",
          "ok",
          "i",
          "won",
          "t",
          "do",
          "it",
          "again",
          "so",
          "leslie",
          "won",
          "t",
          "get",
          "mad",
          "again"
         ],
         [
          "ooooh",
          "lol",
          "leslie",
          "ok",
          "won",
          "leslie",
          "won",
          "get",
          "mad"
         ],
         {
          "indices": [
           3,
           12,
           100,
           119,
           493,
           3073,
           8828
          ],
          "length": 22150,
          "values": [
           1.0,
           1.0,
           1.0,
           2.0,
           1.0,
           1.0,
           2.0
          ],
          "vectorType": "sparse"
         },
         {
          "length": 2,
          "values": [
           -72.45250054581369,
           -72.87898277514248
          ],
          "vectorType": "dense"
         },
         {
          "length": 2,
          "values": [
           0.605033345174567,
           0.3949666548254329
          ],
          "vectorType": "dense"
         },
         0.0
        ],
        [
         "Meh... Almost Lover is the exception... this track gets me depressed every time. ",
         "2009-04-07T05:21:04.000+0000",
         0.0,
         "meh... almost lover is the exception... this track gets me depressed every time. ",
         [
          "meh",
          "almost",
          "lover",
          "is",
          "the",
          "exception",
          "this",
          "track",
          "gets",
          "me",
          "depressed",
          "every",
          "time"
         ],
         [
          "meh",
          "almost",
          "lover",
          "exception",
          "track",
          "gets",
          "depressed",
          "every",
          "time"
         ],
         {
          "indices": [
           13,
           251,
           304,
           448,
           1183,
           1224,
           1853,
           3195,
           7188
          ],
          "length": 22150,
          "values": [
           1.0,
           1.0,
           1.0,
           1.0,
           1.0,
           1.0,
           1.0,
           1.0,
           1.0
          ],
          "vectorType": "sparse"
         },
         {
          "length": 2,
          "values": [
           -77.61298334079373,
           -79.60753670420988
          ],
          "vectorType": "dense"
         },
         {
          "length": 2,
          "values": [
           0.8802240289512655,
           0.11977597104873444
          ],
          "vectorType": "dense"
         },
         0.0
        ],
        [
         "some1 hacked my account on aim  now i have to make a new one",
         "2009-04-07T05:21:07.000+0000",
         0.0,
         "some1 hacked my account on aim  now i have to make a new one",
         [
          "some1",
          "hacked",
          "my",
          "account",
          "on",
          "aim",
          "now",
          "i",
          "have",
          "to",
          "make",
          "a",
          "new",
          "one"
         ],
         [
          "some1",
          "hacked",
          "account",
          "aim",
          "make",
          "new",
          "one"
         ],
         {
          "indices": [
           16,
           26,
           57,
           653,
           1933,
           3395,
           4171
          ],
          "length": 22150,
          "values": [
           1.0,
           1.0,
           1.0,
           1.0,
           1.0,
           1.0,
           1.0
          ],
          "vectorType": "sparse"
         },
         {
          "length": 2,
          "values": [
           -56.266211149576975,
           -57.32776066159434
          ],
          "vectorType": "dense"
         },
         {
          "length": 2,
          "values": [
           0.742986547690872,
           0.2570134523091279
          ],
          "vectorType": "dense"
         },
         0.0
        ],
        [
         "@alielayus I want to go to promote GEAR AND GROOVE but unfornately no ride there  I may b going to the one in Anaheim in May though",
         "2009-04-07T05:21:07.000+0000",
         0.0,
         " i want to go to promote gear and groove but unfornately no ride there  i may b going to the one in anaheim in may though",
         [
          "i",
          "want",
          "to",
          "go",
          "to",
          "promote",
          "gear",
          "and",
          "groove",
          "but",
          "unfornately",
          "no",
          "ride",
          "there",
          "i",
          "may",
          "b",
          "going",
          "to",
          "the",
          "one",
          "in",
          "anaheim",
          "in",
          "may",
          "though"
         ],
         [
          "want",
          "go",
          "promote",
          "gear",
          "groove",
          "unfornately",
          "ride",
          "may",
          "b",
          "going",
          "one",
          "anaheim",
          "may",
          "though"
         ],
         {
          "indices": [
           5,
           10,
           16,
           27,
           60,
           219,
           238,
           607,
           2598,
           4834,
           7688,
           10669
          ],
          "length": 22150,
          "values": [
           1.0,
           1.0,
           1.0,
           1.0,
           1.0,
           1.0,
           2.0,
           1.0,
           1.0,
           1.0,
           1.0,
           1.0
          ],
          "vectorType": "sparse"
         },
         {
          "length": 2,
          "values": [
           -102.83929914413474,
           -101.89199182640797
          ],
          "vectorType": "dense"
         },
         {
          "length": 2,
          "values": [
           0.2794266644156647,
           0.7205733355843353
          ],
          "vectorType": "dense"
         },
         1.0
        ],
        [
         "thought sleeping in was an option tomorrow but realizing that it now is not. evaluations in the morning and work in the afternoon! ",
         "2009-04-07T05:21:09.000+0000",
         0.0,
         "thought sleeping in was an option tomorrow but realizing that it now is not. evaluations in the morning and work in the afternoon! ",
         [
          "thought",
          "sleeping",
          "in",
          "was",
          "an",
          "option",
          "tomorrow",
          "but",
          "realizing",
          "that",
          "it",
          "now",
          "is",
          "not",
          "evaluations",
          "in",
          "the",
          "morning",
          "and",
          "work",
          "in",
          "the",
          "afternoon"
         ],
         [
          "thought",
          "sleeping",
          "option",
          "tomorrow",
          "realizing",
          "evaluations",
          "morning",
          "work",
          "afternoon"
         ],
         {
          "indices": [
           8,
           38,
           39,
           159,
           466,
           474,
           2086,
           4659
          ],
          "length": 22150,
          "values": [
           1.0,
           1.0,
           1.0,
           1.0,
           1.0,
           1.0,
           1.0,
           1.0
          ],
          "vectorType": "sparse"
         },
         {
          "length": 2,
          "values": [
           -60.033272851279385,
           -61.71564782465332
          ],
          "vectorType": "dense"
         },
         {
          "length": 2,
          "values": [
           0.8432187606820067,
           0.15678123931799323
          ],
          "vectorType": "dense"
         },
         0.0
        ],
        [
         "@julieebaby awe i love you too!!!! 1 am here  i miss you",
         "2009-04-07T05:21:11.000+0000",
         0.0,
         " awe i love you too!!!! 1 am here  i miss you",
         [
          "awe",
          "i",
          "love",
          "you",
          "too",
          "1",
          "am",
          "here",
          "i",
          "miss",
          "you"
         ],
         [
          "awe",
          "love",
          "1",
          "miss"
         ],
         {
          "indices": [
           9,
           34,
           105,
           1839
          ],
          "length": 22150,
          "values": [
           1.0,
           1.0,
           1.0,
           1.0
          ],
          "vectorType": "sparse"
         },
         {
          "length": 2,
          "values": [
           -27.71518089590701,
           -28.636343222362683
          ],
          "vectorType": "dense"
         },
         {
          "length": 2,
          "values": [
           0.7152788785201719,
           0.2847211214798281
          ],
          "vectorType": "dense"
         },
         0.0
        ],
        [
         "@HumpNinja I cry my asian eyes to sleep at night ",
         "2009-04-07T05:21:21.000+0000",
         0.0,
         " i cry my asian eyes to sleep at night ",
         [
          "i",
          "cry",
          "my",
          "asian",
          "eyes",
          "to",
          "sleep",
          "at",
          "night"
         ],
         [
          "cry",
          "asian",
          "eyes",
          "sleep",
          "night"
         ],
         {
          "indices": [
           22,
           49,
           425,
           541,
           2991
          ],
          "length": 22150,
          "values": [
           1.0,
           1.0,
           1.0,
           1.0,
           1.0
          ],
          "vectorType": "sparse"
         },
         {
          "length": 2,
          "values": [
           -37.548583611865425,
           -39.903396581377656
          ],
          "vectorType": "dense"
         },
         {
          "length": 2,
          "values": [
           0.9133160284560736,
           0.0866839715439264
          ],
          "vectorType": "dense"
         },
         0.0
        ],
        [
         "ok I'm sick and spent an hour sitting in the shower cause I was too sick to stand and held back the puke like a champ. BED now ",
         "2009-04-07T05:21:20.000+0000",
         0.0,
         "ok i'm sick and spent an hour sitting in the shower cause i was too sick to stand and held back the puke like a champ. bed now ",
         [
          "ok",
          "i",
          "m",
          "sick",
          "and",
          "spent",
          "an",
          "hour",
          "sitting",
          "in",
          "the",
          "shower",
          "cause",
          "i",
          "was",
          "too",
          "sick",
          "to",
          "stand",
          "and",
          "held",
          "back",
          "the",
          "puke",
          "like",
          "a",
          "champ",
          "bed",
          "now"
         ],
         [
          "ok",
          "m",
          "sick",
          "spent",
          "hour",
          "sitting",
          "shower",
          "cause",
          "sick",
          "stand",
          "held",
          "back",
          "puke",
          "like",
          "champ",
          "bed"
         ],
         {
          "indices": [
           0,
           4,
           14,
           67,
           100,
           102,
           273,
           290,
           373,
           472,
           696,
           1138,
           3638,
           5112,
           7715
          ],
          "length": 22150,
          "values": [
           1.0,
           1.0,
           1.0,
           1.0,
           1.0,
           2.0,
           1.0,
           1.0,
           1.0,
           1.0,
           1.0,
           1.0,
           1.0,
           1.0,
           1.0
          ],
          "vectorType": "sparse"
         },
         {
          "length": 2,
          "values": [
           -119.67446254770059,
           -126.66986046784245
          ],
          "vectorType": "dense"
         },
         {
          "length": 2,
          "values": [
           0.9990847502590302,
           9.152497409699238E-4
          ],
          "vectorType": "dense"
         },
         0.0
        ],
        [
         "@cocomix04 ill tell ya the story later  not a good day and ill be workin for like three more hours...",
         "2009-04-07T05:21:27.000+0000",
         0.0,
         " ill tell ya the story later  not a good day and ill be workin for like three more hours...",
         [
          "ill",
          "tell",
          "ya",
          "the",
          "story",
          "later",
          "not",
          "a",
          "good",
          "day",
          "and",
          "ill",
          "be",
          "workin",
          "for",
          "like",
          "three",
          "more",
          "hours"
         ],
         [
          "ill",
          "tell",
          "ya",
          "story",
          "later",
          "good",
          "day",
          "ill",
          "workin",
          "like",
          "three",
          "hours"
         ],
         {
          "indices": [
           1,
           2,
           4,
           130,
           167,
           177,
           185,
           300,
           590,
           618,
           1588
          ],
          "length": 22150,
          "values": [
           1.0,
           1.0,
           1.0,
           1.0,
           1.0,
           1.0,
           1.0,
           2.0,
           1.0,
           1.0,
           1.0
          ],
          "vectorType": "sparse"
         },
         {
          "length": 2,
          "values": [
           -84.44180483924471,
           -83.210584831163
          ],
          "vectorType": "dense"
         },
         {
          "length": 2,
          "values": [
           0.2259679671168761,
           0.7740320328831239
          ],
          "vectorType": "dense"
         },
         1.0
        ],
        [
         "@MissXu sorry! bed time came here (GMT+1)   http://is.gd/fNge",
         "2009-04-07T05:21:30.000+0000",
         0.0,
         " sorry! bed time came here (gmt+1)   ",
         [
          "sorry",
          "bed",
          "time",
          "came",
          "here",
          "gmt",
          "1"
         ],
         [
          "sorry",
          "bed",
          "time",
          "came",
          "gmt",
          "1"
         ],
         {
          "indices": [
           13,
           54,
           67,
           105,
           330,
           10445
          ],
          "length": 22150,
          "values": [
           1.0,
           1.0,
           1.0,
           1.0,
           1.0,
           1.0
          ],
          "vectorType": "sparse"
         },
         {
          "length": 2,
          "values": [
           -43.79721949386197,
           -45.30833407411092
          ],
          "vectorType": "dense"
         },
         {
          "length": 2,
          "values": [
           0.8192263288432168,
           0.1807736711567832
          ],
          "vectorType": "dense"
         },
         0.0
        ],
        [
         "@fleurylis I don't either. Its depressing. I don't think I even want to know about the kids in suitcases. ",
         "2009-04-07T05:21:32.000+0000",
         0.0,
         " i don't either. its depressing. i don't think i even want to know about the kids in suitcases. ",
         [
          "i",
          "don",
          "t",
          "either",
          "its",
          "depressing",
          "i",
          "don",
          "t",
          "think",
          "i",
          "even",
          "want",
          "to",
          "know",
          "about",
          "the",
          "kids",
          "in",
          "suitcases"
         ],
         [
          "either",
          "depressing",
          "think",
          "even",
          "want",
          "know",
          "kids",
          "suitcases"
         ],
         {
          "indices": [
           17,
           27,
           28,
           75,
           335,
           366,
           1274,
           18726
          ],
          "length": 22150,
          "values": [
           1.0,
           1.0,
           1.0,
           1.0,
           1.0,
           1.0,
           1.0,
           1.0
          ],
          "vectorType": "sparse"
         },
         {
          "length": 2,
          "values": [
           -59.32704560464952,
           -63.82573702820236
          ],
          "vectorType": "dense"
         },
         {
          "length": 2,
          "values": [
           0.9889988289742472,
           0.011001171025752874
          ],
          "vectorType": "dense"
         },
         0.0
        ],
        [
         "Bed. Class 8-12. Work 12-3. Gym 3-5 or 6. Then class 6-10. Another day that's gonna fly by. I miss my girlfriend ",
         "2009-04-07T05:21:39.000+0000",
         0.0,
         "bed. class 8-12. work 12-3. gym 3-5 or 6. then class 6-10. another day that's gonna fly by. i miss my girlfriend ",
         [
          "bed",
          "class",
          "8",
          "12",
          "work",
          "12",
          "3",
          "gym",
          "3",
          "5",
          "or",
          "6",
          "then",
          "class",
          "6",
          "10",
          "another",
          "day",
          "that",
          "s",
          "gonna",
          "fly",
          "by",
          "i",
          "miss",
          "my",
          "girlfriend"
         ],
         [
          "bed",
          "class",
          "8",
          "12",
          "work",
          "12",
          "3",
          "gym",
          "3",
          "5",
          "6",
          "class",
          "6",
          "10",
          "another",
          "day",
          "gonna",
          "fly",
          "miss",
          "girlfriend"
         ],
         {
          "indices": [
           2,
           8,
           34,
           43,
           61,
           67,
           114,
           145,
           271,
           288,
           327,
           328,
           514,
           564,
           908,
           1598
          ],
          "length": 22150,
          "values": [
           1.0,
           1.0,
           1.0,
           2.0,
           1.0,
           1.0,
           1.0,
           1.0,
           1.0,
           2.0,
           1.0,
           2.0,
           2.0,
           1.0,
           1.0,
           1.0
          ],
          "vectorType": "sparse"
         },
         {
          "length": 2,
          "values": [
           -138.74295790541274,
           -143.7154739365168
          ],
          "vectorType": "dense"
         },
         {
          "length": 2,
          "values": [
           0.993121934606703,
           0.006878065393297031
          ],
          "vectorType": "dense"
         },
         0.0
        ],
        [
         "really don't feel like getting up today... but got to study to for tomorrows practical exam... ",
         "2009-04-07T05:21:39.000+0000",
         0.0,
         "really don't feel like getting up today... but got to study to for tomorrows practical exam... ",
         [
          "really",
          "don",
          "t",
          "feel",
          "like",
          "getting",
          "up",
          "today",
          "but",
          "got",
          "to",
          "study",
          "to",
          "for",
          "tomorrows",
          "practical",
          "exam"
         ],
         [
          "really",
          "feel",
          "like",
          "getting",
          "today",
          "got",
          "study",
          "tomorrows",
          "practical",
          "exam"
         ],
         {
          "indices": [
           4,
           7,
           11,
           19,
           45,
           59,
           339,
           477,
           4983,
           7227
          ],
          "length": 22150,
          "values": [
           1.0,
           1.0,
           1.0,
           1.0,
           1.0,
           1.0,
           1.0,
           1.0,
           1.0,
           1.0
          ],
          "vectorType": "sparse"
         },
         {
          "length": 2,
          "values": [
           -69.64371146496919,
           -73.35452808118367
          ],
          "vectorType": "dense"
         },
         {
          "length": 2,
          "values": [
           0.9761263481701583,
           0.023873651829841764
          ],
          "vectorType": "dense"
         },
         0.0
        ],
        [
         "He's the reason for the teardrops on my guitar the only one who has enough of me to break my heart ",
         "2009-04-07T05:21:46.000+0000",
         0.0,
         "he's the reason for the teardrops on my guitar the only one who has enough of me to break my heart ",
         [
          "he",
          "s",
          "the",
          "reason",
          "for",
          "the",
          "teardrops",
          "on",
          "my",
          "guitar",
          "the",
          "only",
          "one",
          "who",
          "has",
          "enough",
          "of",
          "me",
          "to",
          "break",
          "my",
          "heart"
         ],
         [
          "reason",
          "teardrops",
          "guitar",
          "one",
          "enough",
          "break",
          "heart"
         ],
         {
          "indices": [
           16,
           297,
           398,
           419,
           554,
           896,
           16272
          ],
          "length": 22150,
          "values": [
           1.0,
           1.0,
           1.0,
           1.0,
           1.0,
           1.0,
           1.0
          ],
          "vectorType": "sparse"
         },
         {
          "length": 2,
          "values": [
           -58.046745866001274,
           -58.75672006889397
          ],
          "vectorType": "dense"
         },
         {
          "length": 2,
          "values": [
           0.6703954595661172,
           0.3296045404338828
          ],
          "vectorType": "dense"
         },
         0.0
        ],
        [
         "Sad, sad, sad. I don't know why but I hate this feeling  I wanna sleep and I still can't!",
         "2009-04-07T05:21:49.000+0000",
         0.0,
         "sad, sad, sad. i don't know why but i hate this feeling  i wanna sleep and i still can't!",
         [
          "sad",
          "sad",
          "sad",
          "i",
          "don",
          "t",
          "know",
          "why",
          "but",
          "i",
          "hate",
          "this",
          "feeling",
          "i",
          "wanna",
          "sleep",
          "and",
          "i",
          "still",
          "can",
          "t"
         ],
         [
          "sad",
          "sad",
          "sad",
          "know",
          "hate",
          "feeling",
          "wanna",
          "sleep",
          "still"
         ],
         {
          "indices": [
           17,
           23,
           46,
           49,
           73,
           93,
           106
          ],
          "length": 22150,
          "values": [
           1.0,
           1.0,
           3.0,
           1.0,
           1.0,
           1.0,
           1.0
          ],
          "vectorType": "sparse"
         },
         {
          "length": 2,
          "values": [
           -51.324968214328955,
           -64.7815770605479
          ],
          "vectorType": "dense"
         },
         {
          "length": 2,
          "values": [
           0.99999856824598,
           1.4317540199279008E-6
          ],
          "vectorType": "dense"
         },
         0.0
        ],
        [
         "@JonathanRKnight Awww I soo wish I was there to see you finally comfortable! Im sad that I missed it ",
         "2009-04-07T05:21:53.000+0000",
         0.0,
         " awww i soo wish i was there to see you finally comfortable! im sad that i missed it ",
         [
          "awww",
          "i",
          "soo",
          "wish",
          "i",
          "was",
          "there",
          "to",
          "see",
          "you",
          "finally",
          "comfortable",
          "im",
          "sad",
          "that",
          "i",
          "missed",
          "it"
         ],
         [
          "awww",
          "soo",
          "wish",
          "see",
          "finally",
          "comfortable",
          "im",
          "sad",
          "missed"
         ],
         {
          "indices": [
           18,
           21,
           46,
           48,
           144,
           165,
           349,
           380,
           3876
          ],
          "length": 22150,
          "values": [
           1.0,
           1.0,
           1.0,
           1.0,
           1.0,
           1.0,
           1.0,
           1.0,
           1.0
          ],
          "vectorType": "sparse"
         },
         {
          "length": 2,
          "values": [
           -61.787676332786134,
           -66.9900287974011
          ],
          "vectorType": "dense"
         },
         {
          "length": 2,
          "values": [
           0.9945265216961819,
           0.005473478303818209
          ],
          "vectorType": "dense"
         },
         0.0
        ],
        [
         "Falling asleep. Just heard about that Tracy girl's body being found. How sad  My heart breaks for that family.",
         "2009-04-07T05:21:56.000+0000",
         0.0,
         "falling asleep. just heard about that tracy girl's body being found. how sad  my heart breaks for that family.",
         [
          "falling",
          "asleep",
          "just",
          "heard",
          "about",
          "that",
          "tracy",
          "girl",
          "s",
          "body",
          "being",
          "found",
          "how",
          "sad",
          "my",
          "heart",
          "breaks",
          "for",
          "that",
          "family"
         ],
         [
          "falling",
          "asleep",
          "heard",
          "tracy",
          "girl",
          "body",
          "found",
          "sad",
          "heart",
          "breaks",
          "family"
         ],
         {
          "indices": [
           46,
           173,
           225,
           260,
           398,
           402,
           454,
           705,
           1176,
           2495,
           8107
          ],
          "length": 22150,
          "values": [
           1.0,
           1.0,
           1.0,
           1.0,
           1.0,
           1.0,
           1.0,
           1.0,
           1.0,
           1.0,
           1.0
          ],
          "vectorType": "sparse"
         },
         {
          "length": 2,
          "values": [
           -88.69683345501063,
           -94.06839915760288
          ],
          "vectorType": "dense"
         },
         {
          "length": 2,
          "values": [
           0.9953746433123704,
           0.004625356687629645
          ],
          "vectorType": "dense"
         },
         0.0
        ],
        [
         "@Viennah Yay! I'm happy for you with your job! But that also means less time for me and you... ",
         "2009-04-07T05:22:05.000+0000",
         0.0,
         " yay! i'm happy for you with your job! but that also means less time for me and you... ",
         [
          "yay",
          "i",
          "m",
          "happy",
          "for",
          "you",
          "with",
          "your",
          "job",
          "but",
          "that",
          "also",
          "means",
          "less",
          "time",
          "for",
          "me",
          "and",
          "you"
         ],
         [
          "yay",
          "m",
          "happy",
          "job",
          "also",
          "means",
          "less",
          "time"
         ],
         {
          "indices": [
           0,
           13,
           52,
           124,
           174,
           228,
           518,
           547
          ],
          "length": 22150,
          "values": [
           1.0,
           1.0,
           1.0,
           1.0,
           1.0,
           1.0,
           1.0,
           1.0
          ],
          "vectorType": "sparse"
         },
         {
          "length": 2,
          "values": [
           -54.837946412683195,
           -52.46884228580106
          ],
          "vectorType": "dense"
         },
         {
          "length": 2,
          "values": [
           0.08555920547818534,
           0.9144407945218147
          ],
          "vectorType": "dense"
         },
         1.0
        ],
        [
         "Just checked my user timeline on my blackberry, it looks like the twanking is still happening  Are ppl still having probs w/ BGs and UIDs?",
         "2009-04-07T05:22:06.000+0000",
         0.0,
         "just checked my user timeline on my blackberry, it looks like the twanking is still happening  are ppl still having probs w/ bgs and uids?",
         [
          "just",
          "checked",
          "my",
          "user",
          "timeline",
          "on",
          "my",
          "blackberry",
          "it",
          "looks",
          "like",
          "the",
          "twanking",
          "is",
          "still",
          "happening",
          "are",
          "ppl",
          "still",
          "having",
          "probs",
          "w",
          "bgs",
          "and",
          "uids"
         ],
         [
          "checked",
          "user",
          "timeline",
          "blackberry",
          "looks",
          "like",
          "twanking",
          "still",
          "happening",
          "ppl",
          "still",
          "probs",
          "w",
          "bgs",
          "uids"
         ],
         {
          "indices": [
           4,
           23,
           175,
           186,
           544,
           1071,
           1262,
           1268,
           2234,
           2472,
           5894
          ],
          "length": 22150,
          "values": [
           1.0,
           2.0,
           1.0,
           1.0,
           1.0,
           1.0,
           1.0,
           1.0,
           1.0,
           1.0,
           1.0
          ],
          "vectorType": "sparse"
         },
         {
          "length": 2,
          "values": [
           -95.5945278945605,
           -98.20312853825271
          ],
          "vectorType": "dense"
         },
         {
          "length": 2,
          "values": [
           0.9314130554603904,
           0.06858694453960959
          ],
          "vectorType": "dense"
         },
         0.0
        ],
        [
         "Oh man...was ironing @jeancjumbe's fave top to wear to a meeting. Burnt it ",
         "2009-04-07T05:22:07.000+0000",
         0.0,
         "oh man...was ironing 's fave top to wear to a meeting. burnt it ",
         [
          "oh",
          "man",
          "was",
          "ironing",
          "s",
          "fave",
          "top",
          "to",
          "wear",
          "to",
          "a",
          "meeting",
          "burnt",
          "it"
         ],
         [
          "oh",
          "man",
          "ironing",
          "fave",
          "top",
          "wear",
          "meeting",
          "burnt"
         ],
         {
          "indices": [
           32,
           121,
           536,
           567,
           728,
           1128,
           1367,
           3869
          ],
          "length": 22150,
          "values": [
           1.0,
           1.0,
           1.0,
           1.0,
           1.0,
           1.0,
           1.0,
           1.0
          ],
          "vectorType": "sparse"
         },
         {
          "length": 2,
          "values": [
           -65.9862832719562,
           -67.33187834849096
          ],
          "vectorType": "dense"
         },
         {
          "length": 2,
          "values": [
           0.7934085440367248,
           0.20659145596327516
          ],
          "vectorType": "dense"
         },
         0.0
        ],
        [
         "is strangely sad about LiLo and SamRo breaking up. ",
         "2009-04-07T05:22:13.000+0000",
         0.0,
         "is strangely sad about lilo and samro breaking up. ",
         [
          "is",
          "strangely",
          "sad",
          "about",
          "lilo",
          "and",
          "samro",
          "breaking",
          "up"
         ],
         [
          "strangely",
          "sad",
          "lilo",
          "samro",
          "breaking"
         ],
         {
          "indices": [
           46,
           1477,
           7628,
           19722
          ],
          "length": 22150,
          "values": [
           1.0,
           1.0,
           1.0,
           1.0
          ],
          "vectorType": "sparse"
         },
         {
          "length": 2,
          "values": [
           -39.69900351769784,
           -42.806512870546655
          ],
          "vectorType": "dense"
         },
         {
          "length": 2,
          "values": [
           0.957201437934856,
           0.04279856206514403
          ],
          "vectorType": "dense"
         },
         0.0
        ],
        [
         "@tea oh! i'm so sorry  i didn't think about that before retweeting.",
         "2009-04-07T05:22:25.000+0000",
         0.0,
         " oh! i'm so sorry  i didn't think about that before retweeting.",
         [
          "oh",
          "i",
          "m",
          "so",
          "sorry",
          "i",
          "didn",
          "t",
          "think",
          "about",
          "that",
          "before",
          "retweeting"
         ],
         [
          "oh",
          "m",
          "sorry",
          "didn",
          "think",
          "retweeting"
         ],
         {
          "indices": [
           0,
           28,
           32,
           54,
           69,
           5889
          ],
          "length": 22150,
          "values": [
           1.0,
           1.0,
           1.0,
           1.0,
           1.0,
           1.0
          ],
          "vectorType": "sparse"
         },
         {
          "length": 2,
          "values": [
           -39.330059906042095,
           -41.100459403926244
          ],
          "vectorType": "dense"
         },
         {
          "length": 2,
          "values": [
           0.8545073454889859,
           0.145492654511014
          ],
          "vectorType": "dense"
         },
         0.0
        ],
        [
         "Broadband plan 'a massive broken promise' http://tinyurl.com/dcuc33 via www.diigo.com/~tautao Still waiting for broadband we are ",
         "2009-04-07T05:22:23.000+0000",
         0.0,
         "broadband plan 'a massive broken promise'  via www.diigo.com/~tautao still waiting for broadband we are ",
         [
          "broadband",
          "plan",
          "a",
          "massive",
          "broken",
          "promise",
          "via",
          "www",
          "diigo",
          "com",
          "tautao",
          "still",
          "waiting",
          "for",
          "broadband",
          "we",
          "are"
         ],
         [
          "broadband",
          "plan",
          "massive",
          "broken",
          "promise",
          "via",
          "www",
          "diigo",
          "com",
          "tautao",
          "still",
          "waiting",
          "broadband"
         ],
         {
          "indices": [
           23,
           196,
           220,
           408,
           605,
           619,
           654,
           1247,
           1760,
           4902
          ],
          "length": 22150,
          "values": [
           1.0,
           1.0,
           1.0,
           1.0,
           1.0,
           1.0,
           1.0,
           1.0,
           1.0,
           2.0
          ],
          "vectorType": "sparse"
         },
         {
          "length": 2,
          "values": [
           -94.68715112832625,
           -94.46002089014645
          ],
          "vectorType": "dense"
         },
         {
          "length": 2,
          "values": [
           0.4434602965922443,
           0.5565397034077556
          ],
          "vectorType": "dense"
         },
         1.0
        ],
        [
         "@localtweeps Wow, tons of replies from you, may have to unfollow so I can see my friends' tweets, you're scrolling the feed a lot. ",
         "2009-04-07T05:22:24.000+0000",
         0.0,
         " wow, tons of replies from you, may have to unfollow so i can see my friends' tweets, you're scrolling the feed a lot. ",
         [
          "wow",
          "tons",
          "of",
          "replies",
          "from",
          "you",
          "may",
          "have",
          "to",
          "unfollow",
          "so",
          "i",
          "can",
          "see",
          "my",
          "friends",
          "tweets",
          "you",
          "re",
          "scrolling",
          "the",
          "feed",
          "a",
          "lot"
         ],
         [
          "wow",
          "tons",
          "replies",
          "may",
          "unfollow",
          "see",
          "friends",
          "tweets",
          "re",
          "scrolling",
          "feed",
          "lot"
         ],
         {
          "indices": [
           21,
           37,
           113,
           160,
           210,
           238,
           312,
           1516,
           1810,
           2006,
           3221,
           12049
          ],
          "length": 22150,
          "values": [
           1.0,
           1.0,
           1.0,
           1.0,
           1.0,
           1.0,
           1.0,
           1.0,
           1.0,
           1.0,
           1.0,
           1.0
          ],
          "vectorType": "sparse"
         },
         {
          "length": 2,
          "values": [
           -99.01728446807668,
           -97.69027105433028
          ],
          "vectorType": "dense"
         },
         {
          "length": 2,
          "values": [
           0.2096538107156452,
           0.7903461892843548
          ],
          "vectorType": "dense"
         },
         1.0
        ],
        [
         "our duck and chicken are taking wayyy too long to hatch ",
         "2009-04-07T05:22:26.000+0000",
         0.0,
         "our duck and chicken are taking wayyy too long to hatch ",
         [
          "our",
          "duck",
          "and",
          "chicken",
          "are",
          "taking",
          "wayyy",
          "too",
          "long",
          "to",
          "hatch"
         ],
         [
          "duck",
          "chicken",
          "taking",
          "wayyy",
          "long",
          "hatch"
         ],
         {
          "indices": [
           88,
           334,
           807,
           3617,
           5171,
           15785
          ],
          "length": 22150,
          "values": [
           1.0,
           1.0,
           1.0,
           1.0,
           1.0,
           1.0
          ],
          "vectorType": "sparse"
         },
         {
          "length": 2,
          "values": [
           -57.06153750552849,
           -57.40397318416473
          ],
          "vectorType": "dense"
         },
         {
          "length": 2,
          "values": [
           0.5847820568037502,
           0.4152179431962499
          ],
          "vectorType": "dense"
         },
         0.0
        ],
        [
         "Put vacation photos online a few yrs ago. PC crashed, and now I forget the name of the site. ",
         "2009-04-07T05:22:30.000+0000",
         0.0,
         "put vacation photos online a few yrs ago. pc crashed, and now i forget the name of the site. ",
         [
          "put",
          "vacation",
          "photos",
          "online",
          "a",
          "few",
          "yrs",
          "ago",
          "pc",
          "crashed",
          "and",
          "now",
          "i",
          "forget",
          "the",
          "name",
          "of",
          "the",
          "site"
         ],
         [
          "put",
          "vacation",
          "photos",
          "online",
          "yrs",
          "ago",
          "pc",
          "crashed",
          "forget",
          "name",
          "site"
         ],
         {
          "indices": [
           242,
           344,
           361,
           415,
           462,
           631,
           712,
           779,
           985,
           1801,
           1974
          ],
          "length": 22150,
          "values": [
           1.0,
           1.0,
           1.0,
           1.0,
           1.0,
           1.0,
           1.0,
           1.0,
           1.0,
           1.0,
           1.0
          ],
          "vectorType": "sparse"
         },
         {
          "length": 2,
          "values": [
           -91.8024039616064,
           -92.80765103824079
          ],
          "vectorType": "dense"
         },
         {
          "length": 2,
          "values": [
           0.7320889649250577,
           0.26791103507494235
          ],
          "vectorType": "dense"
         },
         0.0
        ],
        [
         "I need a hug ",
         "2009-04-07T05:22:32.000+0000",
         0.0,
         "i need a hug ",
         [
          "i",
          "need",
          "a",
          "hug"
         ],
         [
          "need",
          "hug"
         ],
         {
          "indices": [
           35,
           815
          ],
          "length": 22150,
          "values": [
           1.0,
           1.0
          ],
          "vectorType": "sparse"
         },
         {
          "length": 2,
          "values": [
           -14.601759941781173,
           -15.43562112134421
          ],
          "vectorType": "dense"
         },
         {
          "length": 2,
          "values": [
           0.6971707364117425,
           0.30282926358825757
          ],
          "vectorType": "dense"
         },
         0.0
        ],
        [
         "@andywana Not sure what they are, only that they are PoS! As much as I want to, I dont think can trade away company assets sorry andy! ",
         "2009-04-07T05:22:37.000+0000",
         0.0,
         " not sure what they are, only that they are pos! as much as i want to, i dont think can trade away company assets sorry andy! ",
         [
          "not",
          "sure",
          "what",
          "they",
          "are",
          "only",
          "that",
          "they",
          "are",
          "pos",
          "as",
          "much",
          "as",
          "i",
          "want",
          "to",
          "i",
          "dont",
          "think",
          "can",
          "trade",
          "away",
          "company",
          "assets",
          "sorry",
          "andy"
         ],
         [
          "sure",
          "pos",
          "much",
          "want",
          "dont",
          "think",
          "trade",
          "away",
          "company",
          "assets",
          "sorry",
          "andy"
         ],
         {
          "indices": [
           27,
           28,
           33,
           54,
           83,
           109,
           139,
           897,
           1705,
           3070,
           11465,
           17287
          ],
          "length": 22150,
          "values": [
           1.0,
           1.0,
           1.0,
           1.0,
           1.0,
           1.0,
           1.0,
           1.0,
           1.0,
           1.0,
           1.0,
           1.0
          ],
          "vectorType": "sparse"
         },
         {
          "length": 2,
          "values": [
           -95.69081835080424,
           -98.92576802770944
          ],
          "vectorType": "dense"
         },
         {
          "length": 2,
          "values": [
           0.9621285185682356,
           0.03787148143176436
          ],
          "vectorType": "dense"
         },
         0.0
        ],
        [
         "@oanhLove I hate when that happens... ",
         "2009-04-07T05:22:47.000+0000",
         0.0,
         " i hate when that happens... ",
         [
          "i",
          "hate",
          "when",
          "that",
          "happens"
         ],
         [
          "hate",
          "happens"
         ],
         {
          "indices": [
           73,
           855
          ],
          "length": 22150,
          "values": [
           1.0,
           1.0
          ],
          "vectorType": "sparse"
         },
         {
          "length": 2,
          "values": [
           -14.995789425682137,
           -17.060896365091757
          ],
          "vectorType": "dense"
         },
         {
          "length": 2,
          "values": [
           0.887465213706312,
           0.11253478629368799
          ],
          "vectorType": "dense"
         },
         0.0
        ],
        [
         "I have a sad feeling that Dallas is not going to show up  I gotta say though, you'd think more shows would use music from the game. mmm",
         "2009-04-07T05:22:47.000+0000",
         0.0,
         "i have a sad feeling that dallas is not going to show up  i gotta say though, you'd think more shows would use music from the game. mmm",
         [
          "i",
          "have",
          "a",
          "sad",
          "feeling",
          "that",
          "dallas",
          "is",
          "not",
          "going",
          "to",
          "show",
          "up",
          "i",
          "gotta",
          "say",
          "though",
          "you",
          "d",
          "think",
          "more",
          "shows",
          "would",
          "use",
          "music",
          "from",
          "the",
          "game",
          "mmm"
         ],
         [
          "sad",
          "feeling",
          "dallas",
          "going",
          "show",
          "gotta",
          "say",
          "though",
          "d",
          "think",
          "shows",
          "use",
          "music",
          "game",
          "mmm"
         ],
         {
          "indices": [
           10,
           28,
           46,
           60,
           72,
           95,
           99,
           106,
           200,
           208,
           215,
           253,
           726,
           1050,
           2013
          ],
          "length": 22150,
          "values": [
           1.0,
           1.0,
           1.0,
           1.0,
           1.0,
           1.0,
           1.0,
           1.0,
           1.0,
           1.0,
           1.0,
           1.0,
           1.0,
           1.0,
           1.0
          ],
          "vectorType": "sparse"
         },
         {
          "length": 2,
          "values": [
           -104.82621847968404,
           -107.46551148006617
          ],
          "vectorType": "dense"
         },
         {
          "length": 2,
          "values": [
           0.9333479957947036,
           0.06665200420529649
          ],
          "vectorType": "dense"
         },
         0.0
        ],
        [
         "Ugh....92 degrees tomorrow ",
         "2009-04-07T05:22:49.000+0000",
         0.0,
         "ugh....92 degrees tomorrow ",
         [
          "ugh",
          "92",
          "degrees",
          "tomorrow"
         ],
         [
          "ugh",
          "92",
          "degrees",
          "tomorrow"
         ],
         {
          "indices": [
           39,
           188,
           1612,
           7886
          ],
          "length": 22150,
          "values": [
           1.0,
           1.0,
           1.0,
           1.0
          ],
          "vectorType": "sparse"
         },
         {
          "length": 2,
          "values": [
           -33.58755268013489,
           -36.33678213623261
          ],
          "vectorType": "dense"
         },
         {
          "length": 2,
          "values": [
           0.9398698176459972,
           0.06013018235400278
          ],
          "vectorType": "dense"
         },
         0.0
        ],
        [
         "Where did u move to?  I thought u were already in sd. ?? Hmmm. Random u found me. Glad to hear yer doing well.",
         "2009-04-07T05:22:49.000+0000",
         0.0,
         "where did u move to?  i thought u were already in sd. ?? hmmm. random u found me. glad to hear yer doing well.",
         [
          "where",
          "did",
          "u",
          "move",
          "to",
          "i",
          "thought",
          "u",
          "were",
          "already",
          "in",
          "sd",
          "hmmm",
          "random",
          "u",
          "found",
          "me",
          "glad",
          "to",
          "hear",
          "yer",
          "doing",
          "well"
         ],
         [
          "u",
          "move",
          "thought",
          "u",
          "already",
          "sd",
          "hmmm",
          "random",
          "u",
          "found",
          "glad",
          "hear",
          "yer",
          "well"
         ],
         {
          "indices": [
           15,
           25,
           111,
           159,
           170,
           189,
           225,
           498,
           829,
           903,
           2966,
           3715
          ],
          "length": 22150,
          "values": [
           3.0,
           1.0,
           1.0,
           1.0,
           1.0,
           1.0,
           1.0,
           1.0,
           1.0,
           1.0,
           1.0,
           1.0
          ],
          "vectorType": "sparse"
         },
         {
          "length": 2,
          "values": [
           -104.42415553218427,
           -101.73942351981599
          ],
          "vectorType": "dense"
         },
         {
          "length": 2,
          "values": [
           0.06388031919010288,
           0.9361196808098972
          ],
          "vectorType": "dense"
         },
         1.0
        ],
        [
         "@BatManYNG I miss my ps3, it's out of commission  Wutcha playing? Have you copped 'Blood On The Sand'?",
         "2009-04-07T05:22:52.000+0000",
         0.0,
         " i miss my ps3, it's out of commission  wutcha playing? have you copped 'blood on the sand'?",
         [
          "i",
          "miss",
          "my",
          "ps3",
          "it",
          "s",
          "out",
          "of",
          "commission",
          "wutcha",
          "playing",
          "have",
          "you",
          "copped",
          "blood",
          "on",
          "the",
          "sand"
         ],
         [
          "miss",
          "ps3",
          "commission",
          "wutcha",
          "playing",
          "copped",
          "blood",
          "sand"
         ],
         {
          "indices": [
           34,
           281,
           986,
           2551,
           3704,
           8336,
           19779
          ],
          "length": 22150,
          "values": [
           1.0,
           1.0,
           1.0,
           1.0,
           1.0,
           1.0,
           1.0
          ],
          "vectorType": "sparse"
         },
         {
          "length": 2,
          "values": [
           -66.74176521275076,
           -69.06430476380513
          ],
          "vectorType": "dense"
         },
         {
          "length": 2,
          "values": [
           0.9107266308770997,
           0.08927336912290024
          ],
          "vectorType": "dense"
         },
         0.0
        ],
        [
         "just leaving the parking lot of work! ",
         "2009-04-07T05:22:55.000+0000",
         0.0,
         "just leaving the parking lot of work! ",
         [
          "just",
          "leaving",
          "the",
          "parking",
          "lot",
          "of",
          "work"
         ],
         [
          "leaving",
          "parking",
          "lot",
          "work"
         ],
         {
          "indices": [
           8,
           210,
           371,
           2435
          ],
          "length": 22150,
          "values": [
           1.0,
           1.0,
           1.0,
           1.0
          ],
          "vectorType": "sparse"
         },
         {
          "length": 2,
          "values": [
           -29.621550227959375,
           -31.90812977139354
          ],
          "vectorType": "dense"
         },
         {
          "length": 2,
          "values": [
           0.9077594467752744,
           0.09224055322472552
          ],
          "vectorType": "dense"
         },
         0.0
        ],
        [
         "The Life is cool. But not for Me. ",
         "2009-04-07T05:23:03.000+0000",
         0.0,
         "the life is cool. but not for me. ",
         [
          "the",
          "life",
          "is",
          "cool",
          "but",
          "not",
          "for",
          "me"
         ],
         [
          "life",
          "cool"
         ],
         {
          "indices": [
           101,
           115
          ],
          "length": 22150,
          "values": [
           1.0,
           1.0
          ],
          "vectorType": "sparse"
         },
         {
          "length": 2,
          "values": [
           -14.587329572859055,
           -13.406206856654881
          ],
          "vectorType": "dense"
         },
         {
          "length": 2,
          "values": [
           0.23485038892590307,
           0.7651496110740968
          ],
          "vectorType": "dense"
         },
         1.0
        ],
        [
         "Sadly though, I've never gotten to experience the post coitus cigarette before, and now I never will. ",
         "2009-04-07T05:23:08.000+0000",
         0.0,
         "sadly though, i've never gotten to experience the post coitus cigarette before, and now i never will. ",
         [
          "sadly",
          "though",
          "i",
          "ve",
          "never",
          "gotten",
          "to",
          "experience",
          "the",
          "post",
          "coitus",
          "cigarette",
          "before",
          "and",
          "now",
          "i",
          "never",
          "will"
         ],
         [
          "sadly",
          "though",
          "ve",
          "never",
          "gotten",
          "experience",
          "post",
          "coitus",
          "cigarette",
          "never"
         ],
         {
          "indices": [
           53,
           60,
           85,
           351,
           735,
           1271,
           1281,
           6355
          ],
          "length": 22150,
          "values": [
           1.0,
           1.0,
           2.0,
           1.0,
           1.0,
           1.0,
           1.0,
           1.0
          ],
          "vectorType": "sparse"
         },
         {
          "length": 2,
          "values": [
           -70.01879934702797,
           -73.91973084001808
          ],
          "vectorType": "dense"
         },
         {
          "length": 2,
          "values": [
           0.9801778006012015,
           0.01982219939879851
          ],
          "vectorType": "dense"
         },
         0.0
        ],
        [
         "I had such a nice day. Too bad the rain comes in tomorrow at 5am ",
         "2009-04-07T05:23:09.000+0000",
         0.0,
         "i had such a nice day. too bad the rain comes in tomorrow at 5am ",
         [
          "i",
          "had",
          "such",
          "a",
          "nice",
          "day",
          "too",
          "bad",
          "the",
          "rain",
          "comes",
          "in",
          "tomorrow",
          "at",
          "5am"
         ],
         [
          "nice",
          "day",
          "bad",
          "rain",
          "comes",
          "tomorrow",
          "5am"
         ],
         {
          "indices": [
           2,
           39,
           51,
           62,
           166,
           542,
           2105
          ],
          "length": 22150,
          "values": [
           1.0,
           1.0,
           1.0,
           1.0,
           1.0,
           1.0,
           1.0
          ],
          "vectorType": "sparse"
         },
         {
          "length": 2,
          "values": [
           -47.75981050923782,
           -49.844712877586424
          ],
          "vectorType": "dense"
         },
         {
          "length": 2,
          "values": [
           0.889427085513147,
           0.11057291448685304
          ],
          "vectorType": "dense"
         },
         0.0
        ],
        [
         "@Starrbby too bad I won't be around I lost my job and can't even pay my phone bill lmao aw shucks ",
         "2009-04-07T05:23:15.000+0000",
         0.0,
         " too bad i won't be around i lost my job and can't even pay my phone bill lmao aw shucks ",
         [
          "too",
          "bad",
          "i",
          "won",
          "t",
          "be",
          "around",
          "i",
          "lost",
          "my",
          "job",
          "and",
          "can",
          "t",
          "even",
          "pay",
          "my",
          "phone",
          "bill",
          "lmao",
          "aw",
          "shucks"
         ],
         [
          "bad",
          "won",
          "around",
          "lost",
          "job",
          "even",
          "pay",
          "phone",
          "bill",
          "lmao",
          "aw",
          "shucks"
         ],
         {
          "indices": [
           51,
           75,
           119,
           126,
           155,
           212,
           228,
           438,
           458,
           459,
           1464,
           4986
          ],
          "length": 22150,
          "values": [
           1.0,
           1.0,
           1.0,
           1.0,
           1.0,
           1.0,
           1.0,
           1.0,
           1.0,
           1.0,
           1.0,
           1.0
          ],
          "vectorType": "sparse"
         },
         {
          "length": 2,
          "values": [
           -89.8151209070522,
           -94.5624963314274
          ],
          "vectorType": "dense"
         },
         {
          "length": 2,
          "values": [
           0.9914001666146844,
           0.008599833385315525
          ],
          "vectorType": "dense"
         },
         0.0
        ],
        [
         "Damm back to school tomorrow ",
         "2009-04-07T05:23:23.000+0000",
         0.0,
         "damm back to school tomorrow ",
         [
          "damm",
          "back",
          "to",
          "school",
          "tomorrow"
         ],
         [
          "damm",
          "back",
          "school",
          "tomorrow"
         ],
         {
          "indices": [
           14,
           39,
           70,
           7604
          ],
          "length": 22150,
          "values": [
           1.0,
           1.0,
           1.0,
           1.0
          ],
          "vectorType": "sparse"
         },
         {
          "length": 2,
          "values": [
           -28.607313077935537,
           -31.257384545400832
          ],
          "vectorType": "dense"
         },
         {
          "length": 2,
          "values": [
           0.9340153952307946,
           0.0659846047692054
          ],
          "vectorType": "dense"
         },
         0.0
        ],
        [
         "Mo jobs, no money.  how in the hell is min wage here 4 f'n clams an hour?",
         "2009-04-07T05:23:28.000+0000",
         0.0,
         "mo jobs, no money.  how in the hell is min wage here 4 f'n clams an hour?",
         [
          "mo",
          "jobs",
          "no",
          "money",
          "how",
          "in",
          "the",
          "hell",
          "is",
          "min",
          "wage",
          "here",
          "4",
          "f",
          "n",
          "clams",
          "an",
          "hour"
         ],
         [
          "mo",
          "jobs",
          "money",
          "hell",
          "min",
          "wage",
          "4",
          "f",
          "n",
          "clams",
          "hour"
         ],
         {
          "indices": [
           77,
           138,
           273,
           314,
           355,
           786,
           1102,
           1511,
           1850,
           14202
          ],
          "length": 22150,
          "values": [
           1.0,
           1.0,
           1.0,
           1.0,
           1.0,
           1.0,
           1.0,
           1.0,
           1.0,
           1.0
          ],
          "vectorType": "sparse"
         },
         {
          "length": 2,
          "values": [
           -83.55727390105132,
           -86.85039593660188
          ],
          "vectorType": "dense"
         },
         {
          "length": 2,
          "values": [
           0.9641921009110325,
           0.035807899088967574
          ],
          "vectorType": "dense"
         },
         0.0
        ],
        [
         "@katortiz  Not forever... See you soon!",
         "2009-04-07T05:23:28.000+0000",
         0.0,
         "  not forever... see you soon!",
         [
          "not",
          "forever",
          "see",
          "you",
          "soon"
         ],
         [
          "forever",
          "see",
          "soon"
         ],
         {
          "indices": [
           21,
           86,
           714
          ],
          "length": 22150,
          "values": [
           1.0,
           1.0,
           1.0
          ],
          "vectorType": "sparse"
         },
         {
          "length": 2,
          "values": [
           -21.068480539441936,
           -20.96657925654916
          ],
          "vectorType": "dense"
         },
         {
          "length": 2,
          "values": [
           0.4745467007815471,
           0.525453299218453
          ],
          "vectorType": "dense"
         },
         1.0
        ],
        [
         "@Lt_Algonquin agreed, I saw the failwhale allllll day today. ",
         "2009-04-07T05:23:30.000+0000",
         0.0,
         " agreed, i saw the failwhale allllll day today. ",
         [
          "agreed",
          "i",
          "saw",
          "the",
          "failwhale",
          "allllll",
          "day",
          "today"
         ],
         [
          "agreed",
          "saw",
          "failwhale",
          "allllll",
          "day",
          "today"
         ],
         {
          "indices": [
           2,
           7,
           193,
           1986,
           8873,
           21941
          ],
          "length": 22150,
          "values": [
           1.0,
           1.0,
           1.0,
           1.0,
           1.0,
           1.0
          ],
          "vectorType": "sparse"
         },
         {
          "length": 2,
          "values": [
           -52.38369118723639,
           -52.05538758611915
          ],
          "vectorType": "dense"
         },
         {
          "length": 2,
          "values": [
           0.41865344029547447,
           0.5813465597045255
          ],
          "vectorType": "dense"
         },
         1.0
        ]
       ],
       "datasetInfos": [],
       "dbfsResultPath": null,
       "isJsonSchema": true,
       "metadata": {},
       "overflow": false,
       "plotOptions": {
        "customPlotOptions": {},
        "displayType": "table",
        "pivotAggregation": null,
        "pivotColumns": null,
        "xColumns": null,
        "yColumns": null
       },
       "removedWidgets": [],
       "schema": [
        {
         "metadata": "{}",
         "name": "text",
         "type": "\"string\""
        },
        {
         "metadata": "{}",
         "name": "time",
         "type": "\"timestamp\""
        },
        {
         "metadata": "{\"ml_attr\":{\"type\":\"binary\"}}",
         "name": "label",
         "type": "\"double\""
        },
        {
         "metadata": "{}",
         "name": "text_cleaned",
         "type": "\"string\""
        },
        {
         "metadata": "{}",
         "name": "words",
         "type": "{\"type\":\"array\",\"elementType\":\"string\",\"containsNull\":true}"
        },
        {
         "metadata": "{}",
         "name": "words_filtered",
         "type": "{\"type\":\"array\",\"elementType\":\"string\",\"containsNull\":true}"
        },
        {
         "metadata": "{\"ml_attr\":{\"attrs\":{},\"num_attrs\":22150}}",
         "name": "features",
         "type": "{\"type\":\"udt\",\"class\":\"org.apache.spark.ml.linalg.VectorUDT\",\"pyClass\":\"pyspark.ml.linalg.VectorUDT\",\"sqlType\":{\"type\":\"struct\",\"fields\":[{\"name\":\"type\",\"type\":\"byte\",\"nullable\":false,\"metadata\":{}},{\"name\":\"size\",\"type\":\"integer\",\"nullable\":true,\"metadata\":{}},{\"name\":\"indices\",\"type\":{\"type\":\"array\",\"elementType\":\"integer\",\"containsNull\":false},\"nullable\":true,\"metadata\":{}},{\"name\":\"values\",\"type\":{\"type\":\"array\",\"elementType\":\"double\",\"containsNull\":false},\"nullable\":true,\"metadata\":{}}]}}"
        },
        {
         "metadata": "{\"ml_attr\":{\"num_attrs\":2}}",
         "name": "rawPrediction",
         "type": "{\"type\":\"udt\",\"class\":\"org.apache.spark.ml.linalg.VectorUDT\",\"pyClass\":\"pyspark.ml.linalg.VectorUDT\",\"sqlType\":{\"type\":\"struct\",\"fields\":[{\"name\":\"type\",\"type\":\"byte\",\"nullable\":false,\"metadata\":{}},{\"name\":\"size\",\"type\":\"integer\",\"nullable\":true,\"metadata\":{}},{\"name\":\"indices\",\"type\":{\"type\":\"array\",\"elementType\":\"integer\",\"containsNull\":false},\"nullable\":true,\"metadata\":{}},{\"name\":\"values\",\"type\":{\"type\":\"array\",\"elementType\":\"double\",\"containsNull\":false},\"nullable\":true,\"metadata\":{}}]}}"
        },
        {
         "metadata": "{\"ml_attr\":{\"num_attrs\":2}}",
         "name": "probability",
         "type": "{\"type\":\"udt\",\"class\":\"org.apache.spark.ml.linalg.VectorUDT\",\"pyClass\":\"pyspark.ml.linalg.VectorUDT\",\"sqlType\":{\"type\":\"struct\",\"fields\":[{\"name\":\"type\",\"type\":\"byte\",\"nullable\":false,\"metadata\":{}},{\"name\":\"size\",\"type\":\"integer\",\"nullable\":true,\"metadata\":{}},{\"name\":\"indices\",\"type\":{\"type\":\"array\",\"elementType\":\"integer\",\"containsNull\":false},\"nullable\":true,\"metadata\":{}},{\"name\":\"values\",\"type\":{\"type\":\"array\",\"elementType\":\"double\",\"containsNull\":false},\"nullable\":true,\"metadata\":{}}]}}"
        },
        {
         "metadata": "{\"ml_attr\":{\"type\":\"nominal\",\"num_vals\":2}}",
         "name": "prediction",
         "type": "\"double\""
        }
       ],
       "type": "table"
      }
     },
     "output_type": "display_data"
    }
   ],
   "source": [
    "%sql\n",
    "select * from scored_tweets;"
   ]
  },
  {
   "cell_type": "code",
   "execution_count": 0,
   "metadata": {
    "application/vnd.databricks.v1+cell": {
     "cellMetadata": {
      "byteLimit": 2048000,
      "implicitDf": true,
      "rowLimit": 10000
     },
     "inputWidgets": {},
     "nuid": "a1673428-2f21-4a76-9f59-ea5fb58d31b5",
     "showTitle": false,
     "title": ""
    }
   },
   "outputs": [
    {
     "output_type": "display_data",
     "data": {
      "text/html": [
       "<style scoped>\n",
       "  .table-result-container {\n",
       "    max-height: 300px;\n",
       "    overflow: auto;\n",
       "  }\n",
       "  table, th, td {\n",
       "    border: 1px solid black;\n",
       "    border-collapse: collapse;\n",
       "  }\n",
       "  th, td {\n",
       "    padding: 5px;\n",
       "  }\n",
       "  th {\n",
       "    text-align: left;\n",
       "  }\n",
       "</style><div class='table-result-container'><table class='table-result'><thead style='background-color: white'><tr><th>window</th><th>positive</th><th>negative</th></tr></thead><tbody><tr><td>List(2009-04-07T05:22:30.000+0000, 2009-04-07T05:23:00.000+0000)</td><td>1</td><td>7</td></tr><tr><td>List(2009-04-07T05:23:00.000+0000, 2009-04-07T05:23:30.000+0000)</td><td>2</td><td>5</td></tr><tr><td>List(2009-04-07T05:23:30.000+0000, 2009-04-07T05:24:00.000+0000)</td><td>1</td><td>0</td></tr></tbody></table></div>"
      ]
     },
     "metadata": {
      "application/vnd.databricks.v1+output": {
       "addedWidgets": {},
       "aggData": [],
       "aggError": "",
       "aggOverflow": false,
       "aggSchema": [],
       "aggSeriesLimitReached": false,
       "aggType": "",
       "arguments": {},
       "columnCustomDisplayInfos": {},
       "data": [
        [
         [
          "2009-04-07T05:22:30.000+0000",
          "2009-04-07T05:23:00.000+0000"
         ],
         1,
         7
        ],
        [
         [
          "2009-04-07T05:23:00.000+0000",
          "2009-04-07T05:23:30.000+0000"
         ],
         2,
         5
        ],
        [
         [
          "2009-04-07T05:23:30.000+0000",
          "2009-04-07T05:24:00.000+0000"
         ],
         1,
         0
        ]
       ],
       "datasetInfos": [],
       "dbfsResultPath": null,
       "isJsonSchema": true,
       "metadata": {},
       "overflow": false,
       "plotOptions": {
        "customPlotOptions": {},
        "displayType": "table",
        "pivotAggregation": null,
        "pivotColumns": null,
        "xColumns": null,
        "yColumns": null
       },
       "removedWidgets": [],
       "schema": [
        {
         "metadata": "{\"spark.timeWindow\":true}",
         "name": "window",
         "type": "{\"type\":\"struct\",\"fields\":[{\"name\":\"start\",\"type\":\"timestamp\",\"nullable\":true,\"metadata\":{}},{\"name\":\"end\",\"type\":\"timestamp\",\"nullable\":true,\"metadata\":{}}]}"
        },
        {
         "metadata": "{}",
         "name": "positive",
         "type": "\"long\""
        },
        {
         "metadata": "{}",
         "name": "negative",
         "type": "\"long\""
        }
       ],
       "type": "table"
      }
     },
     "output_type": "display_data"
    }
   ],
   "source": [
    "%sql\n",
    "\n",
    "select window(time,\"30 seconds\"), sum(if(prediction=1,1,0)) as positive, sum(if(prediction=0,1,0)) as negative from scored_tweets\n",
    "where time > (select max(time) from scored_tweets) - INTERVAL 1 minutes\n",
    "group by window(time,\"30 seconds\")"
   ]
  },
  {
   "cell_type": "code",
   "execution_count": 0,
   "metadata": {
    "application/vnd.databricks.v1+cell": {
     "cellMetadata": {},
     "inputWidgets": {},
     "nuid": "91b8e883-214f-4d99-a5dc-8b12d841b3dc",
     "showTitle": false,
     "title": ""
    }
   },
   "outputs": [],
   "source": []
  }
 ],
 "metadata": {
  "application/vnd.databricks.v1+notebook": {
   "dashboards": [],
   "language": "python",
   "notebookMetadata": {
    "mostRecentlyExecutedCommandWithImplicitDF": {
     "commandId": 3328030831838473,
     "dataframes": [
      "_sqldf"
     ]
    },
    "pythonIndentUnit": 2
   },
   "notebookName": "twitter_sentiment_nb_train",
   "widgets": {}
  },
  "kernelspec": {
   "display_name": "Python 3",
   "language": "python",
   "name": "python3"
  },
  "language_info": {
   "codemirror_mode": {
    "name": "ipython",
    "version": 3
   },
   "file_extension": ".py",
   "mimetype": "text/x-python",
   "name": "python",
   "nbconvert_exporter": "python",
   "pygments_lexer": "ipython3",
   "version": "3.7.3"
  },
  "name": "homework6-partC-solution (1)",
  "notebookId": 3677345694458125
 },
 "nbformat": 4,
 "nbformat_minor": 0
}
