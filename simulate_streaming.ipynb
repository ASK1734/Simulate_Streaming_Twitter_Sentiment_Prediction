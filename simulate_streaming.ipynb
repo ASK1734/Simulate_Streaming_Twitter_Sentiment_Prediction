{
 "cells": [
  {
   "cell_type": "markdown",
   "metadata": {
    "application/vnd.databricks.v1+cell": {
     "cellMetadata": {},
     "inputWidgets": {},
     "nuid": "67729a06-49ce-47c2-80f3-ff510bca6a3b",
     "showTitle": false,
     "title": ""
    }
   },
   "source": [
    "#  Simulate streaming data by writing individual lines to text files"
   ]
  },
  {
   "cell_type": "markdown",
   "metadata": {
    "application/vnd.databricks.v1+cell": {
     "cellMetadata": {},
     "inputWidgets": {},
     "nuid": "4606f144-2ece-4288-b4c6-a0a2186dc53b",
     "showTitle": false,
     "title": ""
    }
   },
   "source": [
    "Remove the existing `tmp` directory from `/databricks/driver`, and recreate one"
   ]
  },
  {
   "cell_type": "code",
   "execution_count": 0,
   "metadata": {
    "application/vnd.databricks.v1+cell": {
     "cellMetadata": {
      "byteLimit": 2048000,
      "rowLimit": 10000
     },
     "inputWidgets": {},
     "nuid": "439d0129-3a66-45e5-8f8b-7950bd8926df",
     "showTitle": false,
     "title": ""
    }
   },
   "outputs": [],
   "source": [
    "%%bash\n",
    "rm -rf tmp\n",
    "mkdir tmp"
   ]
  },
  {
   "cell_type": "markdown",
   "metadata": {
    "application/vnd.databricks.v1+cell": {
     "cellMetadata": {
      "byteLimit": 2048000,
      "rowLimit": 10000
     },
     "inputWidgets": {},
     "nuid": "3f2a4d6b-b59b-4a4b-958d-de8c3259151f",
     "showTitle": false,
     "title": ""
    }
   },
   "source": [
    "The following Python script reads from `training.1600000.processed.noemoticon.csv` and write one line per file, to the `/databricks/driver/tmp/` directory, at a given rate"
   ]
  },
  {
   "cell_type": "code",
   "execution_count": 0,
   "metadata": {
    "application/vnd.databricks.v1+cell": {
     "cellMetadata": {
      "byteLimit": 2048000,
      "rowLimit": 10000
     },
     "inputWidgets": {},
     "nuid": "f92a67fb-83e5-48b2-bd94-512290a893d3",
     "showTitle": false,
     "title": ""
    }
   },
   "outputs": [
    {
     "output_type": "display_data",
     "data": {
      "text/html": [
       "<style scoped>\n",
       "  .ansiout {\n",
       "    display: block;\n",
       "    unicode-bidi: embed;\n",
       "    white-space: pre-wrap;\n",
       "    word-wrap: break-word;\n",
       "    word-break: break-all;\n",
       "    font-family: \"Menlo\", \"Monaco\", \"Consolas\", \"Ubuntu Mono\", \"Source Code Pro\", monospace;\n",
       "    font-size: 13px;\n",
       "    color: #555;\n",
       "    margin-left: 4px;\n",
       "    line-height: 19px;\n",
       "  }\n",
       "</style>"
      ]
     },
     "metadata": {
      "application/vnd.databricks.v1+output": {
       "arguments": {},
       "data": "",
       "errorSummary": "Cancelled",
       "errorTraceType": "html",
       "metadata": {},
       "type": "ipynbError"
      }
     },
     "output_type": "display_data"
    }
   ],
   "source": [
    "from pyspark.ml import PipelineModel\n",
    "\n",
    "#modelPath = \"/FileStore/twitter_nbpipeline\"\n",
    "#pipelineModel = PipelineModel.load(modelPath)\n",
    "\n",
    "# inputPath = \"file:/databricks/driver/tweets\"\n",
    "import time\n",
    "\n",
    "with open('/databricks/driver/training.1600000.processed.noemoticon.csv', 'r') as f1:\n",
    "  \n",
    "  count = 0\n",
    "  while True:\n",
    "      count += 1\n",
    "\n",
    "      # Get next line from file\n",
    "      line = f1.readline()\n",
    "      #print(line)\n",
    "\n",
    "      if not line or count>5000:\n",
    "          # if end of the file or exceeding 5000 lines, we will stop\n",
    "          break\n",
    "      \n",
    "      # write to a file, sequentially numbered.\n",
    "      with open(\"/databricks/driver/tmp/review{}.txt\".format(count), 'w') as f2:\n",
    "          f2.write(line)\n",
    "          f2.close()\n",
    "      # wait for half a second before the next line.\n",
    "      time.sleep(0.5)\n",
    "\n",
    "\n"
   ]
  },
  {
   "cell_type": "code",
   "execution_count": 0,
   "metadata": {
    "application/vnd.databricks.v1+cell": {
     "cellMetadata": {},
     "inputWidgets": {},
     "nuid": "e1d1a75b-83f4-414c-8e8c-b003ac0ee05f",
     "showTitle": false,
     "title": ""
    }
   },
   "outputs": [],
   "source": []
  }
 ],
 "metadata": {
  "application/vnd.databricks.v1+notebook": {
   "dashboards": [],
   "language": "python",
   "notebookMetadata": {
    "pythonIndentUnit": 4
   },
   "notebookName": "simulate_streaming",
   "widgets": {}
  }
 },
 "nbformat": 4,
 "nbformat_minor": 0
}
